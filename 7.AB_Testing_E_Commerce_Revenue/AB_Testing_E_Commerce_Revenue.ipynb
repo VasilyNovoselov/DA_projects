{
 "cells": [
  {
   "cell_type": "markdown",
   "id": "996ca730",
   "metadata": {
    "toc": true
   },
   "source": [
    "<h1>Содержание<span class=\"tocSkip\"></span></h1>\n",
    "<div class=\"toc\"><ul class=\"toc-item\"><li><span><a href=\"#Обзор-данных\" data-toc-modified-id=\"Обзор-данных-1\"><span class=\"toc-item-num\">1&nbsp;&nbsp;</span>Обзор данных</a></span><ul class=\"toc-item\"><li><span><a href=\"#Таблица-hypothesis\" data-toc-modified-id=\"Таблица-hypothesis-1.1\"><span class=\"toc-item-num\">1.1&nbsp;&nbsp;</span>Таблица <code>hypothesis</code></a></span></li><li><span><a href=\"#Таблица-orders\" data-toc-modified-id=\"Таблица-orders-1.2\"><span class=\"toc-item-num\">1.2&nbsp;&nbsp;</span>Таблица <code>orders</code></a></span></li><li><span><a href=\"#Таблица-visitors\" data-toc-modified-id=\"Таблица-visitors-1.3\"><span class=\"toc-item-num\">1.3&nbsp;&nbsp;</span>Таблица <code>visitors</code></a></span></li><li><span><a href=\"#Вывод\" data-toc-modified-id=\"Вывод-1.4\"><span class=\"toc-item-num\">1.4&nbsp;&nbsp;</span>Вывод</a></span></li></ul></li><li><span><a href=\"#Предобработка-данных\" data-toc-modified-id=\"Предобработка-данных-2\"><span class=\"toc-item-num\">2&nbsp;&nbsp;</span>Предобработка данных</a></span><ul class=\"toc-item\"><li><span><a href=\"#Переименование-столбцов\" data-toc-modified-id=\"Переименование-столбцов-2.1\"><span class=\"toc-item-num\">2.1&nbsp;&nbsp;</span>Переименование столбцов</a></span></li><li><span><a href=\"#Преобразование-типов-данных\" data-toc-modified-id=\"Преобразование-типов-данных-2.2\"><span class=\"toc-item-num\">2.2&nbsp;&nbsp;</span>Преобразование типов данных</a></span></li><li><span><a href=\"#Поиск-дубликатов\" data-toc-modified-id=\"Поиск-дубликатов-2.3\"><span class=\"toc-item-num\">2.3&nbsp;&nbsp;</span>Поиск дубликатов</a></span></li></ul></li><li><span><a href=\"#Приоритизация-гипотез\" data-toc-modified-id=\"Приоритизация-гипотез-3\"><span class=\"toc-item-num\">3&nbsp;&nbsp;</span>Приоритизация гипотез</a></span><ul class=\"toc-item\"><li><span><a href=\"#Вывод\" data-toc-modified-id=\"Вывод-3.1\"><span class=\"toc-item-num\">3.1&nbsp;&nbsp;</span>Вывод</a></span></li></ul></li><li><span><a href=\"#Анализ-A/B-теста\" data-toc-modified-id=\"Анализ-A/B-теста-4\"><span class=\"toc-item-num\">4&nbsp;&nbsp;</span>Анализ A/B-теста</a></span><ul class=\"toc-item\"><li><span><a href=\"#Кумулятивная-выручка-по-группам\" data-toc-modified-id=\"Кумулятивная-выручка-по-группам-4.1\"><span class=\"toc-item-num\">4.1&nbsp;&nbsp;</span>Кумулятивная выручка по группам</a></span></li><li><span><a href=\"#Кумулятивный-средний-чек\" data-toc-modified-id=\"Кумулятивный-средний-чек-4.2\"><span class=\"toc-item-num\">4.2&nbsp;&nbsp;</span>Кумулятивный средний чек</a></span></li><li><span><a href=\"#Конверсия\" data-toc-modified-id=\"Конверсия-4.3\"><span class=\"toc-item-num\">4.3&nbsp;&nbsp;</span>Конверсия</a></span></li><li><span><a href=\"#Количество-заказов\" data-toc-modified-id=\"Количество-заказов-4.4\"><span class=\"toc-item-num\">4.4&nbsp;&nbsp;</span>Количество заказов</a></span></li><li><span><a href=\"#Стоимость-заказов\" data-toc-modified-id=\"Стоимость-заказов-4.5\"><span class=\"toc-item-num\">4.5&nbsp;&nbsp;</span>Стоимость заказов</a></span></li><li><span><a href=\"#Вывод\" data-toc-modified-id=\"Вывод-4.6\"><span class=\"toc-item-num\">4.6&nbsp;&nbsp;</span>Вывод</a></span></li></ul></li><li><span><a href=\"#Проверка-гипотез\" data-toc-modified-id=\"Проверка-гипотез-5\"><span class=\"toc-item-num\">5&nbsp;&nbsp;</span>Проверка гипотез</a></span><ul class=\"toc-item\"><li><span><a href=\"#Сырые-данные\" data-toc-modified-id=\"Сырые-данные-5.1\"><span class=\"toc-item-num\">5.1&nbsp;&nbsp;</span>Сырые данные</a></span><ul class=\"toc-item\"><li><span><a href=\"#Конверсия\" data-toc-modified-id=\"Конверсия-5.1.1\"><span class=\"toc-item-num\">5.1.1&nbsp;&nbsp;</span>Конверсия</a></span></li><li><span><a href=\"#Средний-чек\" data-toc-modified-id=\"Средний-чек-5.1.2\"><span class=\"toc-item-num\">5.1.2&nbsp;&nbsp;</span>Средний чек</a></span></li></ul></li><li><span><a href=\"#Очищенные-данные\" data-toc-modified-id=\"Очищенные-данные-5.2\"><span class=\"toc-item-num\">5.2&nbsp;&nbsp;</span>Очищенные данные</a></span><ul class=\"toc-item\"><li><span><a href=\"#Конверсия\" data-toc-modified-id=\"Конверсия-5.2.1\"><span class=\"toc-item-num\">5.2.1&nbsp;&nbsp;</span>Конверсия</a></span></li><li><span><a href=\"#Средний-чек\" data-toc-modified-id=\"Средний-чек-5.2.2\"><span class=\"toc-item-num\">5.2.2&nbsp;&nbsp;</span>Средний чек</a></span></li></ul></li></ul></li><li><span><a href=\"#Вывод\" data-toc-modified-id=\"Вывод-6\"><span class=\"toc-item-num\">6&nbsp;&nbsp;</span>Вывод</a></span></li></ul></div>"
   ]
  },
  {
   "cell_type": "markdown",
   "id": "d8db64c5",
   "metadata": {},
   "source": [
    "# Проверка гипотез по увеличению выручки интернет-магазина - A/B тестирование\n"
   ]
  },
  {
   "cell_type": "markdown",
   "id": "3cf7db12",
   "metadata": {},
   "source": [
    "**Задача**\n",
    "\n",
    "Вы — аналитик крупного интернет-магазина. Вместе с отделом маркетинга вы подготовили список гипотез для увеличения выручки.\n",
    "Вам предоставлена таблица с гипотезами и их параметрами, а так же данные для анализ результатов A/B-теста: таблицы с данными о заказах в интернет-магазине и посетителях в период проведения теста.\n",
    "\n",
    "В проекте предстоит:\n",
    "* Рассмотреть и приоритизировать гипотезы\n",
    "* Проанализировать результаты A/B-теста:\n",
    "    - расчитать пользовательские метрики\n",
    "    - определить аномальные значения\n",
    "* Проверить гипотезы:\n",
    "    - гипотеза о равенстве конверсий\n",
    "    - гипотеза о равенстве средних чеков"
   ]
  },
  {
   "cell_type": "markdown",
   "id": "8d0e8355",
   "metadata": {},
   "source": [
    "## Обзор данных\n"
   ]
  },
  {
   "cell_type": "code",
   "execution_count": 1,
   "id": "5bb23ddb",
   "metadata": {},
   "outputs": [],
   "source": [
    "import pandas as pd\n",
    "import seaborn as sns\n",
    "import matplotlib.pyplot as plt\n",
    "from scipy import stats as st\n",
    "import numpy as np\n",
    "import math\n",
    "import warnings\n",
    "warnings.filterwarnings(\"ignore\")"
   ]
  },
  {
   "cell_type": "code",
   "execution_count": 2,
   "id": "f5f876cb",
   "metadata": {},
   "outputs": [],
   "source": [
    "try:\n",
    "    hypothesis = pd.read_csv(\"/datasets/hypothesis.csv\")\n",
    "    orders = pd.read_csv(\"/datasets/orders.csv\")\n",
    "    visitors = pd.read_csv(\"/datasets/visitors.csv\")\n",
    "except:\n",
    "    hypothesis = pd.read_csv(\"D:/Учеба/Аналитика Данных/Notebooks/Проект 6/hypothesis.csv\")\n",
    "    orders = pd.read_csv(\"D:/Учеба/Аналитика Данных/Notebooks/Проект 6/orders.csv\")\n",
    "    visitors = pd.read_csv(\"D:/Учеба/Аналитика Данных/Notebooks/Проект 6/visitors.csv\")"
   ]
  },
  {
   "cell_type": "markdown",
   "id": "6a11d76a",
   "metadata": {},
   "source": [
    "### Таблица `hypothesis`"
   ]
  },
  {
   "cell_type": "markdown",
   "id": "d9c5a38c",
   "metadata": {},
   "source": [
    "* `Hypothesis` — краткое описание гипотезы;\n",
    "* `Reach` — охват пользователей по 10-балльной шкале;\n",
    "* `Impact` — влияние на пользователей по 10-балльной шкале;\n",
    "* `Confidence` — уверенность в гипотезе по 10-балльной шкале;\n",
    "* `Efforts` — затраты ресурсов на проверку гипотезы по 10-балльной шкале. Чем больше значение `Efforts`, тем дороже проверка гипотезы."
   ]
  },
  {
   "cell_type": "code",
   "execution_count": 3,
   "id": "839f459d",
   "metadata": {},
   "outputs": [
    {
     "data": {
      "text/html": [
       "<div>\n",
       "<style scoped>\n",
       "    .dataframe tbody tr th:only-of-type {\n",
       "        vertical-align: middle;\n",
       "    }\n",
       "\n",
       "    .dataframe tbody tr th {\n",
       "        vertical-align: top;\n",
       "    }\n",
       "\n",
       "    .dataframe thead th {\n",
       "        text-align: right;\n",
       "    }\n",
       "</style>\n",
       "<table border=\"1\" class=\"dataframe\">\n",
       "  <thead>\n",
       "    <tr style=\"text-align: right;\">\n",
       "      <th></th>\n",
       "      <th>Hypothesis</th>\n",
       "      <th>Reach</th>\n",
       "      <th>Impact</th>\n",
       "      <th>Confidence</th>\n",
       "      <th>Efforts</th>\n",
       "    </tr>\n",
       "  </thead>\n",
       "  <tbody>\n",
       "    <tr>\n",
       "      <th>0</th>\n",
       "      <td>Добавить два новых канала привлечения трафика,...</td>\n",
       "      <td>3</td>\n",
       "      <td>10</td>\n",
       "      <td>8</td>\n",
       "      <td>6</td>\n",
       "    </tr>\n",
       "    <tr>\n",
       "      <th>1</th>\n",
       "      <td>Запустить собственную службу доставки, что сок...</td>\n",
       "      <td>2</td>\n",
       "      <td>5</td>\n",
       "      <td>4</td>\n",
       "      <td>10</td>\n",
       "    </tr>\n",
       "    <tr>\n",
       "      <th>2</th>\n",
       "      <td>Добавить блоки рекомендаций товаров на сайт ин...</td>\n",
       "      <td>8</td>\n",
       "      <td>3</td>\n",
       "      <td>7</td>\n",
       "      <td>3</td>\n",
       "    </tr>\n",
       "    <tr>\n",
       "      <th>3</th>\n",
       "      <td>Изменить структура категорий, что увеличит кон...</td>\n",
       "      <td>8</td>\n",
       "      <td>3</td>\n",
       "      <td>3</td>\n",
       "      <td>8</td>\n",
       "    </tr>\n",
       "    <tr>\n",
       "      <th>4</th>\n",
       "      <td>Изменить цвет фона главной страницы, чтобы уве...</td>\n",
       "      <td>3</td>\n",
       "      <td>1</td>\n",
       "      <td>1</td>\n",
       "      <td>1</td>\n",
       "    </tr>\n",
       "    <tr>\n",
       "      <th>5</th>\n",
       "      <td>Добавить страницу отзывов клиентов о магазине,...</td>\n",
       "      <td>3</td>\n",
       "      <td>2</td>\n",
       "      <td>2</td>\n",
       "      <td>3</td>\n",
       "    </tr>\n",
       "    <tr>\n",
       "      <th>6</th>\n",
       "      <td>Показать на главной странице баннеры с актуаль...</td>\n",
       "      <td>5</td>\n",
       "      <td>3</td>\n",
       "      <td>8</td>\n",
       "      <td>3</td>\n",
       "    </tr>\n",
       "    <tr>\n",
       "      <th>7</th>\n",
       "      <td>Добавить форму подписки на все основные страни...</td>\n",
       "      <td>10</td>\n",
       "      <td>7</td>\n",
       "      <td>8</td>\n",
       "      <td>5</td>\n",
       "    </tr>\n",
       "    <tr>\n",
       "      <th>8</th>\n",
       "      <td>Запустить акцию, дающую скидку на товар в день...</td>\n",
       "      <td>1</td>\n",
       "      <td>9</td>\n",
       "      <td>9</td>\n",
       "      <td>5</td>\n",
       "    </tr>\n",
       "  </tbody>\n",
       "</table>\n",
       "</div>"
      ],
      "text/plain": [
       "                                          Hypothesis  Reach  Impact  \\\n",
       "0  Добавить два новых канала привлечения трафика,...      3      10   \n",
       "1  Запустить собственную службу доставки, что сок...      2       5   \n",
       "2  Добавить блоки рекомендаций товаров на сайт ин...      8       3   \n",
       "3  Изменить структура категорий, что увеличит кон...      8       3   \n",
       "4  Изменить цвет фона главной страницы, чтобы уве...      3       1   \n",
       "5  Добавить страницу отзывов клиентов о магазине,...      3       2   \n",
       "6  Показать на главной странице баннеры с актуаль...      5       3   \n",
       "7  Добавить форму подписки на все основные страни...     10       7   \n",
       "8  Запустить акцию, дающую скидку на товар в день...      1       9   \n",
       "\n",
       "   Confidence  Efforts  \n",
       "0           8        6  \n",
       "1           4       10  \n",
       "2           7        3  \n",
       "3           3        8  \n",
       "4           1        1  \n",
       "5           2        3  \n",
       "6           8        3  \n",
       "7           8        5  \n",
       "8           9        5  "
      ]
     },
     "execution_count": 3,
     "metadata": {},
     "output_type": "execute_result"
    }
   ],
   "source": [
    "hypothesis"
   ]
  },
  {
   "cell_type": "code",
   "execution_count": 4,
   "id": "fd99f793",
   "metadata": {
    "scrolled": true
   },
   "outputs": [
    {
     "name": "stdout",
     "output_type": "stream",
     "text": [
      "<class 'pandas.core.frame.DataFrame'>\n",
      "RangeIndex: 9 entries, 0 to 8\n",
      "Data columns (total 5 columns):\n",
      " #   Column      Non-Null Count  Dtype \n",
      "---  ------      --------------  ----- \n",
      " 0   Hypothesis  9 non-null      object\n",
      " 1   Reach       9 non-null      int64 \n",
      " 2   Impact      9 non-null      int64 \n",
      " 3   Confidence  9 non-null      int64 \n",
      " 4   Efforts     9 non-null      int64 \n",
      "dtypes: int64(4), object(1)\n",
      "memory usage: 488.0+ bytes\n"
     ]
    }
   ],
   "source": [
    "hypothesis.info()"
   ]
  },
  {
   "cell_type": "markdown",
   "id": "7bd99c77",
   "metadata": {},
   "source": [
    "* В таблице `hypothesis` представлены данные о проверяемых гипотезах\n",
    "* Таблица содержит 5 столбцов и 9 строк. Пропуски отсутствуют\n",
    "---"
   ]
  },
  {
   "cell_type": "markdown",
   "id": "c8f5d83d",
   "metadata": {},
   "source": [
    "### Таблица `orders`"
   ]
  },
  {
   "cell_type": "markdown",
   "id": "a7905208",
   "metadata": {},
   "source": [
    "* `transactionId` — идентификатор заказа;\n",
    "* `visitorId` — идентификатор пользователя, совершившего заказ;\n",
    "* `date` — дата, когда был совершён заказ;\n",
    "* `revenue` — выручка заказа;\n",
    "* `group` — группа A/B-теста, в которую попал заказ."
   ]
  },
  {
   "cell_type": "code",
   "execution_count": 5,
   "id": "b3997a14",
   "metadata": {},
   "outputs": [
    {
     "data": {
      "text/html": [
       "<div>\n",
       "<style scoped>\n",
       "    .dataframe tbody tr th:only-of-type {\n",
       "        vertical-align: middle;\n",
       "    }\n",
       "\n",
       "    .dataframe tbody tr th {\n",
       "        vertical-align: top;\n",
       "    }\n",
       "\n",
       "    .dataframe thead th {\n",
       "        text-align: right;\n",
       "    }\n",
       "</style>\n",
       "<table border=\"1\" class=\"dataframe\">\n",
       "  <thead>\n",
       "    <tr style=\"text-align: right;\">\n",
       "      <th></th>\n",
       "      <th>transactionId</th>\n",
       "      <th>visitorId</th>\n",
       "      <th>date</th>\n",
       "      <th>revenue</th>\n",
       "      <th>group</th>\n",
       "    </tr>\n",
       "  </thead>\n",
       "  <tbody>\n",
       "    <tr>\n",
       "      <th>0</th>\n",
       "      <td>3667963787</td>\n",
       "      <td>3312258926</td>\n",
       "      <td>2019-08-15</td>\n",
       "      <td>1650</td>\n",
       "      <td>B</td>\n",
       "    </tr>\n",
       "    <tr>\n",
       "      <th>1</th>\n",
       "      <td>2804400009</td>\n",
       "      <td>3642806036</td>\n",
       "      <td>2019-08-15</td>\n",
       "      <td>730</td>\n",
       "      <td>B</td>\n",
       "    </tr>\n",
       "    <tr>\n",
       "      <th>2</th>\n",
       "      <td>2961555356</td>\n",
       "      <td>4069496402</td>\n",
       "      <td>2019-08-15</td>\n",
       "      <td>400</td>\n",
       "      <td>A</td>\n",
       "    </tr>\n",
       "    <tr>\n",
       "      <th>3</th>\n",
       "      <td>3797467345</td>\n",
       "      <td>1196621759</td>\n",
       "      <td>2019-08-15</td>\n",
       "      <td>9759</td>\n",
       "      <td>B</td>\n",
       "    </tr>\n",
       "    <tr>\n",
       "      <th>4</th>\n",
       "      <td>2282983706</td>\n",
       "      <td>2322279887</td>\n",
       "      <td>2019-08-15</td>\n",
       "      <td>2308</td>\n",
       "      <td>B</td>\n",
       "    </tr>\n",
       "  </tbody>\n",
       "</table>\n",
       "</div>"
      ],
      "text/plain": [
       "   transactionId   visitorId        date  revenue group\n",
       "0     3667963787  3312258926  2019-08-15     1650     B\n",
       "1     2804400009  3642806036  2019-08-15      730     B\n",
       "2     2961555356  4069496402  2019-08-15      400     A\n",
       "3     3797467345  1196621759  2019-08-15     9759     B\n",
       "4     2282983706  2322279887  2019-08-15     2308     B"
      ]
     },
     "execution_count": 5,
     "metadata": {},
     "output_type": "execute_result"
    }
   ],
   "source": [
    "orders.head()"
   ]
  },
  {
   "cell_type": "code",
   "execution_count": 6,
   "id": "b5c0ba08",
   "metadata": {
    "scrolled": true
   },
   "outputs": [
    {
     "name": "stdout",
     "output_type": "stream",
     "text": [
      "<class 'pandas.core.frame.DataFrame'>\n",
      "RangeIndex: 1197 entries, 0 to 1196\n",
      "Data columns (total 5 columns):\n",
      " #   Column         Non-Null Count  Dtype \n",
      "---  ------         --------------  ----- \n",
      " 0   transactionId  1197 non-null   int64 \n",
      " 1   visitorId      1197 non-null   int64 \n",
      " 2   date           1197 non-null   object\n",
      " 3   revenue        1197 non-null   int64 \n",
      " 4   group          1197 non-null   object\n",
      "dtypes: int64(3), object(2)\n",
      "memory usage: 46.9+ KB\n"
     ]
    }
   ],
   "source": [
    "orders.info()"
   ]
  },
  {
   "cell_type": "markdown",
   "id": "79bc7333",
   "metadata": {},
   "source": [
    "* В таблице `orders` представлены данные о заказах в интернет-магазине\n",
    "* Таблица содержит 5 столбцов и 1197 строк. Пропуски в таблице отсутствуют\n",
    "---"
   ]
  },
  {
   "cell_type": "markdown",
   "id": "57484ea1",
   "metadata": {},
   "source": [
    "### Таблица `visitors`"
   ]
  },
  {
   "cell_type": "markdown",
   "id": "39a57868",
   "metadata": {},
   "source": [
    "* `date` — дата;\n",
    "* `group` — группа A/B-теста;\n",
    "* `visitors` — количество пользователей в указанную дату в указанной группе A/B-теста"
   ]
  },
  {
   "cell_type": "code",
   "execution_count": 7,
   "id": "90a98eaa",
   "metadata": {},
   "outputs": [
    {
     "data": {
      "text/html": [
       "<div>\n",
       "<style scoped>\n",
       "    .dataframe tbody tr th:only-of-type {\n",
       "        vertical-align: middle;\n",
       "    }\n",
       "\n",
       "    .dataframe tbody tr th {\n",
       "        vertical-align: top;\n",
       "    }\n",
       "\n",
       "    .dataframe thead th {\n",
       "        text-align: right;\n",
       "    }\n",
       "</style>\n",
       "<table border=\"1\" class=\"dataframe\">\n",
       "  <thead>\n",
       "    <tr style=\"text-align: right;\">\n",
       "      <th></th>\n",
       "      <th>date</th>\n",
       "      <th>group</th>\n",
       "      <th>visitors</th>\n",
       "    </tr>\n",
       "  </thead>\n",
       "  <tbody>\n",
       "    <tr>\n",
       "      <th>0</th>\n",
       "      <td>2019-08-01</td>\n",
       "      <td>A</td>\n",
       "      <td>719</td>\n",
       "    </tr>\n",
       "    <tr>\n",
       "      <th>1</th>\n",
       "      <td>2019-08-02</td>\n",
       "      <td>A</td>\n",
       "      <td>619</td>\n",
       "    </tr>\n",
       "    <tr>\n",
       "      <th>2</th>\n",
       "      <td>2019-08-03</td>\n",
       "      <td>A</td>\n",
       "      <td>507</td>\n",
       "    </tr>\n",
       "    <tr>\n",
       "      <th>3</th>\n",
       "      <td>2019-08-04</td>\n",
       "      <td>A</td>\n",
       "      <td>717</td>\n",
       "    </tr>\n",
       "    <tr>\n",
       "      <th>4</th>\n",
       "      <td>2019-08-05</td>\n",
       "      <td>A</td>\n",
       "      <td>756</td>\n",
       "    </tr>\n",
       "  </tbody>\n",
       "</table>\n",
       "</div>"
      ],
      "text/plain": [
       "         date group  visitors\n",
       "0  2019-08-01     A       719\n",
       "1  2019-08-02     A       619\n",
       "2  2019-08-03     A       507\n",
       "3  2019-08-04     A       717\n",
       "4  2019-08-05     A       756"
      ]
     },
     "execution_count": 7,
     "metadata": {},
     "output_type": "execute_result"
    }
   ],
   "source": [
    "visitors.head()"
   ]
  },
  {
   "cell_type": "code",
   "execution_count": 8,
   "id": "ae8dbfde",
   "metadata": {},
   "outputs": [
    {
     "name": "stdout",
     "output_type": "stream",
     "text": [
      "<class 'pandas.core.frame.DataFrame'>\n",
      "RangeIndex: 62 entries, 0 to 61\n",
      "Data columns (total 3 columns):\n",
      " #   Column    Non-Null Count  Dtype \n",
      "---  ------    --------------  ----- \n",
      " 0   date      62 non-null     object\n",
      " 1   group     62 non-null     object\n",
      " 2   visitors  62 non-null     int64 \n",
      "dtypes: int64(1), object(2)\n",
      "memory usage: 1.6+ KB\n"
     ]
    }
   ],
   "source": [
    "visitors.info()"
   ]
  },
  {
   "cell_type": "markdown",
   "id": "ad04cca7",
   "metadata": {},
   "source": [
    "* В таблице `visitors` представлены данные о посетителях интернет-магазина в период проведения теста\n",
    "* Таблица содержит 3 столбцов и 62 строки. Пропуски в таблице отсутствуют\n",
    "---"
   ]
  },
  {
   "cell_type": "markdown",
   "id": "20480209",
   "metadata": {},
   "source": [
    "### Вывод"
   ]
  },
  {
   "cell_type": "markdown",
   "id": "34bf0157",
   "metadata": {},
   "source": [
    "* Для анализа предоставлено 3 таблицы: `hypothesis`, `orders`, `visitors`. Пропуски в таблицах отсутствуют.\n",
    "* В таблицах `hypothesis` и `orders` следует привести названия столбцов к общепринятому виду.\n",
    "* Также в таблицах стоит провести преобразование типов для облегчения работы с датой и временем."
   ]
  },
  {
   "cell_type": "markdown",
   "id": "bfa7bb43",
   "metadata": {},
   "source": [
    "## Предобработка данных"
   ]
  },
  {
   "cell_type": "markdown",
   "id": "3e15c199",
   "metadata": {},
   "source": [
    "### Переименование столбцов"
   ]
  },
  {
   "cell_type": "markdown",
   "id": "a0827117",
   "metadata": {},
   "source": [
    "Переименуем столбцы в таблицах в соответствии с змеиным_регистром, а также приведем названия к нижнему регистру"
   ]
  },
  {
   "cell_type": "code",
   "execution_count": 9,
   "id": "44671ec9",
   "metadata": {},
   "outputs": [],
   "source": [
    "hypothesis.columns = hypothesis.columns.str.lower()"
   ]
  },
  {
   "cell_type": "code",
   "execution_count": 10,
   "id": "a9f56b71",
   "metadata": {},
   "outputs": [
    {
     "data": {
      "text/html": [
       "<div>\n",
       "<style scoped>\n",
       "    .dataframe tbody tr th:only-of-type {\n",
       "        vertical-align: middle;\n",
       "    }\n",
       "\n",
       "    .dataframe tbody tr th {\n",
       "        vertical-align: top;\n",
       "    }\n",
       "\n",
       "    .dataframe thead th {\n",
       "        text-align: right;\n",
       "    }\n",
       "</style>\n",
       "<table border=\"1\" class=\"dataframe\">\n",
       "  <thead>\n",
       "    <tr style=\"text-align: right;\">\n",
       "      <th></th>\n",
       "      <th>hypothesis</th>\n",
       "      <th>reach</th>\n",
       "      <th>impact</th>\n",
       "      <th>confidence</th>\n",
       "      <th>efforts</th>\n",
       "    </tr>\n",
       "  </thead>\n",
       "  <tbody>\n",
       "    <tr>\n",
       "      <th>0</th>\n",
       "      <td>Добавить два новых канала привлечения трафика,...</td>\n",
       "      <td>3</td>\n",
       "      <td>10</td>\n",
       "      <td>8</td>\n",
       "      <td>6</td>\n",
       "    </tr>\n",
       "  </tbody>\n",
       "</table>\n",
       "</div>"
      ],
      "text/plain": [
       "                                          hypothesis  reach  impact  \\\n",
       "0  Добавить два новых канала привлечения трафика,...      3      10   \n",
       "\n",
       "   confidence  efforts  \n",
       "0           8        6  "
      ]
     },
     "execution_count": 10,
     "metadata": {},
     "output_type": "execute_result"
    }
   ],
   "source": [
    "hypothesis.head(1)"
   ]
  },
  {
   "cell_type": "code",
   "execution_count": 11,
   "id": "43117560",
   "metadata": {},
   "outputs": [],
   "source": [
    "orders = orders.rename(columns={'transactionId':'transaction_id',\n",
    "                                'visitorId':'visitor_id'})"
   ]
  },
  {
   "cell_type": "code",
   "execution_count": 12,
   "id": "5a40e328",
   "metadata": {},
   "outputs": [
    {
     "data": {
      "text/html": [
       "<div>\n",
       "<style scoped>\n",
       "    .dataframe tbody tr th:only-of-type {\n",
       "        vertical-align: middle;\n",
       "    }\n",
       "\n",
       "    .dataframe tbody tr th {\n",
       "        vertical-align: top;\n",
       "    }\n",
       "\n",
       "    .dataframe thead th {\n",
       "        text-align: right;\n",
       "    }\n",
       "</style>\n",
       "<table border=\"1\" class=\"dataframe\">\n",
       "  <thead>\n",
       "    <tr style=\"text-align: right;\">\n",
       "      <th></th>\n",
       "      <th>transaction_id</th>\n",
       "      <th>visitor_id</th>\n",
       "      <th>date</th>\n",
       "      <th>revenue</th>\n",
       "      <th>group</th>\n",
       "    </tr>\n",
       "  </thead>\n",
       "  <tbody>\n",
       "    <tr>\n",
       "      <th>0</th>\n",
       "      <td>3667963787</td>\n",
       "      <td>3312258926</td>\n",
       "      <td>2019-08-15</td>\n",
       "      <td>1650</td>\n",
       "      <td>B</td>\n",
       "    </tr>\n",
       "  </tbody>\n",
       "</table>\n",
       "</div>"
      ],
      "text/plain": [
       "   transaction_id  visitor_id        date  revenue group\n",
       "0      3667963787  3312258926  2019-08-15     1650     B"
      ]
     },
     "execution_count": 12,
     "metadata": {},
     "output_type": "execute_result"
    }
   ],
   "source": [
    "orders.head(1)"
   ]
  },
  {
   "cell_type": "markdown",
   "id": "a3b45855",
   "metadata": {},
   "source": [
    "### Преобразование типов данных"
   ]
  },
  {
   "cell_type": "markdown",
   "id": "3b8079b1",
   "metadata": {},
   "source": [
    "Также преобразуем столбцы с датой к формату `datetime` для удобства работы"
   ]
  },
  {
   "cell_type": "code",
   "execution_count": 13,
   "id": "8a960b89",
   "metadata": {
    "scrolled": false
   },
   "outputs": [
    {
     "name": "stdout",
     "output_type": "stream",
     "text": [
      "<class 'pandas.core.frame.DataFrame'>\n",
      "RangeIndex: 62 entries, 0 to 61\n",
      "Data columns (total 3 columns):\n",
      " #   Column    Non-Null Count  Dtype         \n",
      "---  ------    --------------  -----         \n",
      " 0   date      62 non-null     datetime64[ns]\n",
      " 1   group     62 non-null     object        \n",
      " 2   visitors  62 non-null     int64         \n",
      "dtypes: datetime64[ns](1), int64(1), object(1)\n",
      "memory usage: 1.6+ KB\n",
      "<class 'pandas.core.frame.DataFrame'>\n",
      "RangeIndex: 1197 entries, 0 to 1196\n",
      "Data columns (total 5 columns):\n",
      " #   Column          Non-Null Count  Dtype         \n",
      "---  ------          --------------  -----         \n",
      " 0   transaction_id  1197 non-null   int64         \n",
      " 1   visitor_id      1197 non-null   int64         \n",
      " 2   date            1197 non-null   datetime64[ns]\n",
      " 3   revenue         1197 non-null   int64         \n",
      " 4   group           1197 non-null   object        \n",
      "dtypes: datetime64[ns](1), int64(3), object(1)\n",
      "memory usage: 46.9+ KB\n"
     ]
    }
   ],
   "source": [
    "visitors['date'] = pd.to_datetime(visitors['date'], format='%Y-%m-%d')\n",
    "orders['date'] = pd.to_datetime(orders['date'], format='%Y-%m-%d')\n",
    "\n",
    "visitors.info()\n",
    "orders.info()\n"
   ]
  },
  {
   "cell_type": "markdown",
   "id": "68cf527d",
   "metadata": {},
   "source": [
    "### Поиск дубликатов"
   ]
  },
  {
   "cell_type": "code",
   "execution_count": 14,
   "id": "2abc0dfb",
   "metadata": {},
   "outputs": [
    {
     "data": {
      "text/plain": [
       "0"
      ]
     },
     "execution_count": 14,
     "metadata": {},
     "output_type": "execute_result"
    }
   ],
   "source": [
    "orders.duplicated().sum()"
   ]
  },
  {
   "cell_type": "code",
   "execution_count": 15,
   "id": "5851b621",
   "metadata": {},
   "outputs": [
    {
     "data": {
      "text/plain": [
       "0"
      ]
     },
     "execution_count": 15,
     "metadata": {},
     "output_type": "execute_result"
    }
   ],
   "source": [
    "visitors.duplicated().sum()"
   ]
  },
  {
   "cell_type": "markdown",
   "id": "7890b6e2",
   "metadata": {},
   "source": [
    "Дубликаты отсутствуют"
   ]
  },
  {
   "cell_type": "markdown",
   "id": "29341827",
   "metadata": {},
   "source": [
    "## Приоритизация гипотез\n"
   ]
  },
  {
   "cell_type": "code",
   "execution_count": 16,
   "id": "af0cbf60",
   "metadata": {},
   "outputs": [
    {
     "data": {
      "text/html": [
       "<div>\n",
       "<style scoped>\n",
       "    .dataframe tbody tr th:only-of-type {\n",
       "        vertical-align: middle;\n",
       "    }\n",
       "\n",
       "    .dataframe tbody tr th {\n",
       "        vertical-align: top;\n",
       "    }\n",
       "\n",
       "    .dataframe thead th {\n",
       "        text-align: right;\n",
       "    }\n",
       "</style>\n",
       "<table border=\"1\" class=\"dataframe\">\n",
       "  <thead>\n",
       "    <tr style=\"text-align: right;\">\n",
       "      <th></th>\n",
       "      <th>hypothesis</th>\n",
       "      <th>reach</th>\n",
       "      <th>impact</th>\n",
       "      <th>confidence</th>\n",
       "      <th>efforts</th>\n",
       "    </tr>\n",
       "  </thead>\n",
       "  <tbody>\n",
       "    <tr>\n",
       "      <th>0</th>\n",
       "      <td>Добавить два новых канала привлечения трафика,...</td>\n",
       "      <td>3</td>\n",
       "      <td>10</td>\n",
       "      <td>8</td>\n",
       "      <td>6</td>\n",
       "    </tr>\n",
       "    <tr>\n",
       "      <th>1</th>\n",
       "      <td>Запустить собственную службу доставки, что сок...</td>\n",
       "      <td>2</td>\n",
       "      <td>5</td>\n",
       "      <td>4</td>\n",
       "      <td>10</td>\n",
       "    </tr>\n",
       "    <tr>\n",
       "      <th>2</th>\n",
       "      <td>Добавить блоки рекомендаций товаров на сайт ин...</td>\n",
       "      <td>8</td>\n",
       "      <td>3</td>\n",
       "      <td>7</td>\n",
       "      <td>3</td>\n",
       "    </tr>\n",
       "    <tr>\n",
       "      <th>3</th>\n",
       "      <td>Изменить структура категорий, что увеличит кон...</td>\n",
       "      <td>8</td>\n",
       "      <td>3</td>\n",
       "      <td>3</td>\n",
       "      <td>8</td>\n",
       "    </tr>\n",
       "    <tr>\n",
       "      <th>4</th>\n",
       "      <td>Изменить цвет фона главной страницы, чтобы уве...</td>\n",
       "      <td>3</td>\n",
       "      <td>1</td>\n",
       "      <td>1</td>\n",
       "      <td>1</td>\n",
       "    </tr>\n",
       "    <tr>\n",
       "      <th>5</th>\n",
       "      <td>Добавить страницу отзывов клиентов о магазине,...</td>\n",
       "      <td>3</td>\n",
       "      <td>2</td>\n",
       "      <td>2</td>\n",
       "      <td>3</td>\n",
       "    </tr>\n",
       "    <tr>\n",
       "      <th>6</th>\n",
       "      <td>Показать на главной странице баннеры с актуаль...</td>\n",
       "      <td>5</td>\n",
       "      <td>3</td>\n",
       "      <td>8</td>\n",
       "      <td>3</td>\n",
       "    </tr>\n",
       "    <tr>\n",
       "      <th>7</th>\n",
       "      <td>Добавить форму подписки на все основные страни...</td>\n",
       "      <td>10</td>\n",
       "      <td>7</td>\n",
       "      <td>8</td>\n",
       "      <td>5</td>\n",
       "    </tr>\n",
       "    <tr>\n",
       "      <th>8</th>\n",
       "      <td>Запустить акцию, дающую скидку на товар в день...</td>\n",
       "      <td>1</td>\n",
       "      <td>9</td>\n",
       "      <td>9</td>\n",
       "      <td>5</td>\n",
       "    </tr>\n",
       "  </tbody>\n",
       "</table>\n",
       "</div>"
      ],
      "text/plain": [
       "                                          hypothesis  reach  impact  \\\n",
       "0  Добавить два новых канала привлечения трафика,...      3      10   \n",
       "1  Запустить собственную службу доставки, что сок...      2       5   \n",
       "2  Добавить блоки рекомендаций товаров на сайт ин...      8       3   \n",
       "3  Изменить структура категорий, что увеличит кон...      8       3   \n",
       "4  Изменить цвет фона главной страницы, чтобы уве...      3       1   \n",
       "5  Добавить страницу отзывов клиентов о магазине,...      3       2   \n",
       "6  Показать на главной странице баннеры с актуаль...      5       3   \n",
       "7  Добавить форму подписки на все основные страни...     10       7   \n",
       "8  Запустить акцию, дающую скидку на товар в день...      1       9   \n",
       "\n",
       "   confidence  efforts  \n",
       "0           8        6  \n",
       "1           4       10  \n",
       "2           7        3  \n",
       "3           3        8  \n",
       "4           1        1  \n",
       "5           2        3  \n",
       "6           8        3  \n",
       "7           8        5  \n",
       "8           9        5  "
      ]
     },
     "execution_count": 16,
     "metadata": {},
     "output_type": "execute_result"
    }
   ],
   "source": [
    "hypothesis"
   ]
  },
  {
   "cell_type": "markdown",
   "id": "65da7f23",
   "metadata": {},
   "source": [
    "Напишем функцию для применения фреймворков ICE и RICE "
   ]
  },
  {
   "cell_type": "code",
   "execution_count": 17,
   "id": "a2508d0c",
   "metadata": {},
   "outputs": [],
   "source": [
    "def rice(df, ignore_reach=False):\n",
    "    \n",
    "    # Подсчет \"рейтинга\" гипотез ICE\n",
    "    df['ice_score'] = (df['impact'] * df['confidence'] / df['efforts']).round(2)\n",
    "    # Подсчет \"рейтинга\" гипотез RICE\n",
    "    df['rice_score'] = (df['reach'] * df['impact'] * df['confidence'] / df['efforts']).round(2)\n",
    "    \n",
    "    # Выбор метода сортировки: по ICE или RICE\n",
    "    if ignore_reach:\n",
    "        df = df.sort_values(by='ice_score', ascending=False)\n",
    "    else:\n",
    "        df = df.sort_values(by='rice_score', ascending=False)\n",
    "        \n",
    "    return df\n"
   ]
  },
  {
   "cell_type": "code",
   "execution_count": 18,
   "id": "4310d66a",
   "metadata": {},
   "outputs": [
    {
     "data": {
      "text/html": [
       "<div>\n",
       "<style scoped>\n",
       "    .dataframe tbody tr th:only-of-type {\n",
       "        vertical-align: middle;\n",
       "    }\n",
       "\n",
       "    .dataframe tbody tr th {\n",
       "        vertical-align: top;\n",
       "    }\n",
       "\n",
       "    .dataframe thead th {\n",
       "        text-align: right;\n",
       "    }\n",
       "</style>\n",
       "<table border=\"1\" class=\"dataframe\">\n",
       "  <thead>\n",
       "    <tr style=\"text-align: right;\">\n",
       "      <th></th>\n",
       "      <th>hypothesis</th>\n",
       "      <th>reach</th>\n",
       "      <th>impact</th>\n",
       "      <th>confidence</th>\n",
       "      <th>efforts</th>\n",
       "      <th>ice_score</th>\n",
       "      <th>rice_score</th>\n",
       "    </tr>\n",
       "  </thead>\n",
       "  <tbody>\n",
       "    <tr>\n",
       "      <th>8</th>\n",
       "      <td>Запустить акцию, дающую скидку на товар в день...</td>\n",
       "      <td>1</td>\n",
       "      <td>9</td>\n",
       "      <td>9</td>\n",
       "      <td>5</td>\n",
       "      <td>16.20</td>\n",
       "      <td>16.2</td>\n",
       "    </tr>\n",
       "    <tr>\n",
       "      <th>0</th>\n",
       "      <td>Добавить два новых канала привлечения трафика,...</td>\n",
       "      <td>3</td>\n",
       "      <td>10</td>\n",
       "      <td>8</td>\n",
       "      <td>6</td>\n",
       "      <td>13.33</td>\n",
       "      <td>40.0</td>\n",
       "    </tr>\n",
       "    <tr>\n",
       "      <th>7</th>\n",
       "      <td>Добавить форму подписки на все основные страни...</td>\n",
       "      <td>10</td>\n",
       "      <td>7</td>\n",
       "      <td>8</td>\n",
       "      <td>5</td>\n",
       "      <td>11.20</td>\n",
       "      <td>112.0</td>\n",
       "    </tr>\n",
       "    <tr>\n",
       "      <th>6</th>\n",
       "      <td>Показать на главной странице баннеры с актуаль...</td>\n",
       "      <td>5</td>\n",
       "      <td>3</td>\n",
       "      <td>8</td>\n",
       "      <td>3</td>\n",
       "      <td>8.00</td>\n",
       "      <td>40.0</td>\n",
       "    </tr>\n",
       "    <tr>\n",
       "      <th>2</th>\n",
       "      <td>Добавить блоки рекомендаций товаров на сайт ин...</td>\n",
       "      <td>8</td>\n",
       "      <td>3</td>\n",
       "      <td>7</td>\n",
       "      <td>3</td>\n",
       "      <td>7.00</td>\n",
       "      <td>56.0</td>\n",
       "    </tr>\n",
       "    <tr>\n",
       "      <th>1</th>\n",
       "      <td>Запустить собственную службу доставки, что сок...</td>\n",
       "      <td>2</td>\n",
       "      <td>5</td>\n",
       "      <td>4</td>\n",
       "      <td>10</td>\n",
       "      <td>2.00</td>\n",
       "      <td>4.0</td>\n",
       "    </tr>\n",
       "    <tr>\n",
       "      <th>5</th>\n",
       "      <td>Добавить страницу отзывов клиентов о магазине,...</td>\n",
       "      <td>3</td>\n",
       "      <td>2</td>\n",
       "      <td>2</td>\n",
       "      <td>3</td>\n",
       "      <td>1.33</td>\n",
       "      <td>4.0</td>\n",
       "    </tr>\n",
       "    <tr>\n",
       "      <th>3</th>\n",
       "      <td>Изменить структура категорий, что увеличит кон...</td>\n",
       "      <td>8</td>\n",
       "      <td>3</td>\n",
       "      <td>3</td>\n",
       "      <td>8</td>\n",
       "      <td>1.12</td>\n",
       "      <td>9.0</td>\n",
       "    </tr>\n",
       "    <tr>\n",
       "      <th>4</th>\n",
       "      <td>Изменить цвет фона главной страницы, чтобы уве...</td>\n",
       "      <td>3</td>\n",
       "      <td>1</td>\n",
       "      <td>1</td>\n",
       "      <td>1</td>\n",
       "      <td>1.00</td>\n",
       "      <td>3.0</td>\n",
       "    </tr>\n",
       "  </tbody>\n",
       "</table>\n",
       "</div>"
      ],
      "text/plain": [
       "                                          hypothesis  reach  impact  \\\n",
       "8  Запустить акцию, дающую скидку на товар в день...      1       9   \n",
       "0  Добавить два новых канала привлечения трафика,...      3      10   \n",
       "7  Добавить форму подписки на все основные страни...     10       7   \n",
       "6  Показать на главной странице баннеры с актуаль...      5       3   \n",
       "2  Добавить блоки рекомендаций товаров на сайт ин...      8       3   \n",
       "1  Запустить собственную службу доставки, что сок...      2       5   \n",
       "5  Добавить страницу отзывов клиентов о магазине,...      3       2   \n",
       "3  Изменить структура категорий, что увеличит кон...      8       3   \n",
       "4  Изменить цвет фона главной страницы, чтобы уве...      3       1   \n",
       "\n",
       "   confidence  efforts  ice_score  rice_score  \n",
       "8           9        5      16.20        16.2  \n",
       "0           8        6      13.33        40.0  \n",
       "7           8        5      11.20       112.0  \n",
       "6           8        3       8.00        40.0  \n",
       "2           7        3       7.00        56.0  \n",
       "1           4       10       2.00         4.0  \n",
       "5           2        3       1.33         4.0  \n",
       "3           3        8       1.12         9.0  \n",
       "4           1        1       1.00         3.0  "
      ]
     },
     "execution_count": 18,
     "metadata": {},
     "output_type": "execute_result"
    }
   ],
   "source": [
    "rice(hypothesis, ignore_reach=True)"
   ]
  },
  {
   "cell_type": "markdown",
   "id": "cdf25af3",
   "metadata": {},
   "source": [
    "* При расчете рейтинга по ICE на первое место по приоритету вышла гипотеза №9. Это связано с очень высокими параметрами impact и confidence, при не самом высоком коэффициенте затрат efforts.1"
   ]
  },
  {
   "cell_type": "code",
   "execution_count": 19,
   "id": "91fc2045",
   "metadata": {},
   "outputs": [
    {
     "data": {
      "text/html": [
       "<div>\n",
       "<style scoped>\n",
       "    .dataframe tbody tr th:only-of-type {\n",
       "        vertical-align: middle;\n",
       "    }\n",
       "\n",
       "    .dataframe tbody tr th {\n",
       "        vertical-align: top;\n",
       "    }\n",
       "\n",
       "    .dataframe thead th {\n",
       "        text-align: right;\n",
       "    }\n",
       "</style>\n",
       "<table border=\"1\" class=\"dataframe\">\n",
       "  <thead>\n",
       "    <tr style=\"text-align: right;\">\n",
       "      <th></th>\n",
       "      <th>hypothesis</th>\n",
       "      <th>reach</th>\n",
       "      <th>impact</th>\n",
       "      <th>confidence</th>\n",
       "      <th>efforts</th>\n",
       "      <th>ice_score</th>\n",
       "      <th>rice_score</th>\n",
       "    </tr>\n",
       "  </thead>\n",
       "  <tbody>\n",
       "    <tr>\n",
       "      <th>7</th>\n",
       "      <td>Добавить форму подписки на все основные страни...</td>\n",
       "      <td>10</td>\n",
       "      <td>7</td>\n",
       "      <td>8</td>\n",
       "      <td>5</td>\n",
       "      <td>11.20</td>\n",
       "      <td>112.0</td>\n",
       "    </tr>\n",
       "    <tr>\n",
       "      <th>2</th>\n",
       "      <td>Добавить блоки рекомендаций товаров на сайт ин...</td>\n",
       "      <td>8</td>\n",
       "      <td>3</td>\n",
       "      <td>7</td>\n",
       "      <td>3</td>\n",
       "      <td>7.00</td>\n",
       "      <td>56.0</td>\n",
       "    </tr>\n",
       "    <tr>\n",
       "      <th>0</th>\n",
       "      <td>Добавить два новых канала привлечения трафика,...</td>\n",
       "      <td>3</td>\n",
       "      <td>10</td>\n",
       "      <td>8</td>\n",
       "      <td>6</td>\n",
       "      <td>13.33</td>\n",
       "      <td>40.0</td>\n",
       "    </tr>\n",
       "    <tr>\n",
       "      <th>6</th>\n",
       "      <td>Показать на главной странице баннеры с актуаль...</td>\n",
       "      <td>5</td>\n",
       "      <td>3</td>\n",
       "      <td>8</td>\n",
       "      <td>3</td>\n",
       "      <td>8.00</td>\n",
       "      <td>40.0</td>\n",
       "    </tr>\n",
       "    <tr>\n",
       "      <th>8</th>\n",
       "      <td>Запустить акцию, дающую скидку на товар в день...</td>\n",
       "      <td>1</td>\n",
       "      <td>9</td>\n",
       "      <td>9</td>\n",
       "      <td>5</td>\n",
       "      <td>16.20</td>\n",
       "      <td>16.2</td>\n",
       "    </tr>\n",
       "    <tr>\n",
       "      <th>3</th>\n",
       "      <td>Изменить структура категорий, что увеличит кон...</td>\n",
       "      <td>8</td>\n",
       "      <td>3</td>\n",
       "      <td>3</td>\n",
       "      <td>8</td>\n",
       "      <td>1.12</td>\n",
       "      <td>9.0</td>\n",
       "    </tr>\n",
       "    <tr>\n",
       "      <th>1</th>\n",
       "      <td>Запустить собственную службу доставки, что сок...</td>\n",
       "      <td>2</td>\n",
       "      <td>5</td>\n",
       "      <td>4</td>\n",
       "      <td>10</td>\n",
       "      <td>2.00</td>\n",
       "      <td>4.0</td>\n",
       "    </tr>\n",
       "    <tr>\n",
       "      <th>5</th>\n",
       "      <td>Добавить страницу отзывов клиентов о магазине,...</td>\n",
       "      <td>3</td>\n",
       "      <td>2</td>\n",
       "      <td>2</td>\n",
       "      <td>3</td>\n",
       "      <td>1.33</td>\n",
       "      <td>4.0</td>\n",
       "    </tr>\n",
       "    <tr>\n",
       "      <th>4</th>\n",
       "      <td>Изменить цвет фона главной страницы, чтобы уве...</td>\n",
       "      <td>3</td>\n",
       "      <td>1</td>\n",
       "      <td>1</td>\n",
       "      <td>1</td>\n",
       "      <td>1.00</td>\n",
       "      <td>3.0</td>\n",
       "    </tr>\n",
       "  </tbody>\n",
       "</table>\n",
       "</div>"
      ],
      "text/plain": [
       "                                          hypothesis  reach  impact  \\\n",
       "7  Добавить форму подписки на все основные страни...     10       7   \n",
       "2  Добавить блоки рекомендаций товаров на сайт ин...      8       3   \n",
       "0  Добавить два новых канала привлечения трафика,...      3      10   \n",
       "6  Показать на главной странице баннеры с актуаль...      5       3   \n",
       "8  Запустить акцию, дающую скидку на товар в день...      1       9   \n",
       "3  Изменить структура категорий, что увеличит кон...      8       3   \n",
       "1  Запустить собственную службу доставки, что сок...      2       5   \n",
       "5  Добавить страницу отзывов клиентов о магазине,...      3       2   \n",
       "4  Изменить цвет фона главной страницы, чтобы уве...      3       1   \n",
       "\n",
       "   confidence  efforts  ice_score  rice_score  \n",
       "7           8        5      11.20       112.0  \n",
       "2           7        3       7.00        56.0  \n",
       "0           8        6      13.33        40.0  \n",
       "6           8        3       8.00        40.0  \n",
       "8           9        5      16.20        16.2  \n",
       "3           3        8       1.12         9.0  \n",
       "1           4       10       2.00         4.0  \n",
       "5           2        3       1.33         4.0  \n",
       "4           1        1       1.00         3.0  "
      ]
     },
     "execution_count": 19,
     "metadata": {},
     "output_type": "execute_result"
    }
   ],
   "source": [
    "rice(hypothesis)\n"
   ]
  },
  {
   "cell_type": "markdown",
   "id": "12a3cb13",
   "metadata": {},
   "source": [
    "\n",
    "* При расчете рейтинга по ICE на первое место по приоритету вышла гипотеза №8. Несмотря на более низкие показатели impact и confidence, чем у гипотезы №9, показатель охвата reach равен 10. Это позволяет опередить в важности другие гипотезы."
   ]
  },
  {
   "cell_type": "markdown",
   "id": "3c7b4ef2",
   "metadata": {},
   "source": [
    "### Вывод\n",
    "- При использовании фреймворка ICE для расчета приоритета гипотез используются лишь 3 параметра (Влияние, Уверенность и Затраты), в то время как при использованиии RICE добавляется 4 параметр - Охват. Поскольку количество параметров в целом небольшое, каждый параметр важен. Соответственно даже небольшое изменение одного параметра может разительно сказаться на итоговом рейтинге. Так, при использовании RICE на первое место вышла гипотеза, до этого занимавшая лишь третье место в рейтинге ICE.\n",
    "\n",
    "- При осуществлении любого выбора лучше руководствоваться как можно бóльшим набором параметров, использовать как можно больше информации. Тогда влияние одиночных факторов будет не так сильно влиять на итоговый результат и вероятность принять ошибочное решение снизится. Поэтому при выборе приоритетной гипотезы лучше испольовать фреймворк RICE."
   ]
  },
  {
   "cell_type": "markdown",
   "id": "809f04b3",
   "metadata": {},
   "source": [
    "## Анализ A/B-теста"
   ]
  },
  {
   "cell_type": "markdown",
   "id": "0e3515ca",
   "metadata": {},
   "source": [
    "Для анализа A/B-теста предоставлены 2 таблицы:`orders` и `visitors`\n",
    "\n",
    "Начнем с объединения таблиц. Это позволит нам расчитать большее количество параметров для анализа. Объединим их по столбцам с датой и группой."
   ]
  },
  {
   "cell_type": "code",
   "execution_count": 20,
   "id": "49a85c86",
   "metadata": {
    "scrolled": false
   },
   "outputs": [
    {
     "data": {
      "text/html": [
       "<div>\n",
       "<style scoped>\n",
       "    .dataframe tbody tr th:only-of-type {\n",
       "        vertical-align: middle;\n",
       "    }\n",
       "\n",
       "    .dataframe tbody tr th {\n",
       "        vertical-align: top;\n",
       "    }\n",
       "\n",
       "    .dataframe thead th {\n",
       "        text-align: right;\n",
       "    }\n",
       "</style>\n",
       "<table border=\"1\" class=\"dataframe\">\n",
       "  <thead>\n",
       "    <tr style=\"text-align: right;\">\n",
       "      <th></th>\n",
       "      <th>transaction_id</th>\n",
       "      <th>visitor_id</th>\n",
       "      <th>date</th>\n",
       "      <th>revenue</th>\n",
       "      <th>group</th>\n",
       "      <th>visitors</th>\n",
       "    </tr>\n",
       "  </thead>\n",
       "  <tbody>\n",
       "    <tr>\n",
       "      <th>0</th>\n",
       "      <td>3667963787</td>\n",
       "      <td>3312258926</td>\n",
       "      <td>2019-08-15</td>\n",
       "      <td>1650</td>\n",
       "      <td>B</td>\n",
       "      <td>544</td>\n",
       "    </tr>\n",
       "    <tr>\n",
       "      <th>1</th>\n",
       "      <td>2804400009</td>\n",
       "      <td>3642806036</td>\n",
       "      <td>2019-08-15</td>\n",
       "      <td>730</td>\n",
       "      <td>B</td>\n",
       "      <td>544</td>\n",
       "    </tr>\n",
       "    <tr>\n",
       "      <th>2</th>\n",
       "      <td>3797467345</td>\n",
       "      <td>1196621759</td>\n",
       "      <td>2019-08-15</td>\n",
       "      <td>9759</td>\n",
       "      <td>B</td>\n",
       "      <td>544</td>\n",
       "    </tr>\n",
       "    <tr>\n",
       "      <th>3</th>\n",
       "      <td>2282983706</td>\n",
       "      <td>2322279887</td>\n",
       "      <td>2019-08-15</td>\n",
       "      <td>2308</td>\n",
       "      <td>B</td>\n",
       "      <td>544</td>\n",
       "    </tr>\n",
       "    <tr>\n",
       "      <th>4</th>\n",
       "      <td>182168103</td>\n",
       "      <td>935554773</td>\n",
       "      <td>2019-08-15</td>\n",
       "      <td>2210</td>\n",
       "      <td>B</td>\n",
       "      <td>544</td>\n",
       "    </tr>\n",
       "    <tr>\n",
       "      <th>...</th>\n",
       "      <td>...</td>\n",
       "      <td>...</td>\n",
       "      <td>...</td>\n",
       "      <td>...</td>\n",
       "      <td>...</td>\n",
       "      <td>...</td>\n",
       "    </tr>\n",
       "    <tr>\n",
       "      <th>1192</th>\n",
       "      <td>2274188238</td>\n",
       "      <td>132143192</td>\n",
       "      <td>2019-08-14</td>\n",
       "      <td>750</td>\n",
       "      <td>A</td>\n",
       "      <td>735</td>\n",
       "    </tr>\n",
       "    <tr>\n",
       "      <th>1193</th>\n",
       "      <td>1692103379</td>\n",
       "      <td>1022829655</td>\n",
       "      <td>2019-08-14</td>\n",
       "      <td>112</td>\n",
       "      <td>A</td>\n",
       "      <td>735</td>\n",
       "    </tr>\n",
       "    <tr>\n",
       "      <th>1194</th>\n",
       "      <td>2203539145</td>\n",
       "      <td>370388673</td>\n",
       "      <td>2019-08-14</td>\n",
       "      <td>3190</td>\n",
       "      <td>A</td>\n",
       "      <td>735</td>\n",
       "    </tr>\n",
       "    <tr>\n",
       "      <th>1195</th>\n",
       "      <td>1807773912</td>\n",
       "      <td>573423106</td>\n",
       "      <td>2019-08-14</td>\n",
       "      <td>10550</td>\n",
       "      <td>A</td>\n",
       "      <td>735</td>\n",
       "    </tr>\n",
       "    <tr>\n",
       "      <th>1196</th>\n",
       "      <td>1947021204</td>\n",
       "      <td>1614305549</td>\n",
       "      <td>2019-08-14</td>\n",
       "      <td>100</td>\n",
       "      <td>A</td>\n",
       "      <td>735</td>\n",
       "    </tr>\n",
       "  </tbody>\n",
       "</table>\n",
       "<p>1197 rows × 6 columns</p>\n",
       "</div>"
      ],
      "text/plain": [
       "      transaction_id  visitor_id       date  revenue group  visitors\n",
       "0         3667963787  3312258926 2019-08-15     1650     B       544\n",
       "1         2804400009  3642806036 2019-08-15      730     B       544\n",
       "2         3797467345  1196621759 2019-08-15     9759     B       544\n",
       "3         2282983706  2322279887 2019-08-15     2308     B       544\n",
       "4          182168103   935554773 2019-08-15     2210     B       544\n",
       "...              ...         ...        ...      ...   ...       ...\n",
       "1192      2274188238   132143192 2019-08-14      750     A       735\n",
       "1193      1692103379  1022829655 2019-08-14      112     A       735\n",
       "1194      2203539145   370388673 2019-08-14     3190     A       735\n",
       "1195      1807773912   573423106 2019-08-14    10550     A       735\n",
       "1196      1947021204  1614305549 2019-08-14      100     A       735\n",
       "\n",
       "[1197 rows x 6 columns]"
      ]
     },
     "execution_count": 20,
     "metadata": {},
     "output_type": "execute_result"
    }
   ],
   "source": [
    "test_res = orders.merge(visitors, on=['date','group'])\n",
    "test_res"
   ]
  },
  {
   "cell_type": "markdown",
   "id": "9930d623",
   "metadata": {},
   "source": [
    "Найдем количество пользователей, которые попали одновременно в обе группы."
   ]
  },
  {
   "cell_type": "code",
   "execution_count": 21,
   "id": "5fd6e899",
   "metadata": {},
   "outputs": [
    {
     "data": {
      "text/plain": [
       "58"
      ]
     },
     "execution_count": 21,
     "metadata": {},
     "output_type": "execute_result"
    }
   ],
   "source": [
    "users_A = test_res.query('group == \"A\"')['visitor_id'].unique()\n",
    "users_B = test_res.query('group == \"B\"')['visitor_id'].unique()\n",
    "users_AB = list(set(users_A).intersection(users_B))\n",
    "len(users_AB)"
   ]
  },
  {
   "cell_type": "markdown",
   "id": "322080c9",
   "metadata": {},
   "source": [
    "* 58 пользователей попали в обе группы тестирования.\n",
    "\n",
    "Для того чтобы такие пользователи не испортили результаты тестирования, избавимся от них."
   ]
  },
  {
   "cell_type": "code",
   "execution_count": 22,
   "id": "95828728",
   "metadata": {},
   "outputs": [],
   "source": [
    "test_res = test_res[~test_res['visitor_id'].isin(users_AB)]"
   ]
  },
  {
   "cell_type": "markdown",
   "id": "7c060da7",
   "metadata": {},
   "source": [
    "Найдем кол-во уникальных пользователей в каждой группе."
   ]
  },
  {
   "cell_type": "code",
   "execution_count": 23,
   "id": "40c0b2eb",
   "metadata": {},
   "outputs": [
    {
     "data": {
      "text/plain": [
       "445"
      ]
     },
     "execution_count": 23,
     "metadata": {},
     "output_type": "execute_result"
    }
   ],
   "source": [
    "test_res.query('group == \"A\"')['visitor_id'].nunique()"
   ]
  },
  {
   "cell_type": "code",
   "execution_count": 24,
   "id": "fc0f413e",
   "metadata": {},
   "outputs": [
    {
     "data": {
      "text/plain": [
       "528"
      ]
     },
     "execution_count": 24,
     "metadata": {},
     "output_type": "execute_result"
    }
   ],
   "source": [
    "test_res.query('group == \"B\"')['visitor_id'].nunique()"
   ]
  },
  {
   "cell_type": "code",
   "execution_count": 25,
   "id": "51da0d7b",
   "metadata": {},
   "outputs": [
    {
     "data": {
      "text/plain": [
       "1.1865168539325843"
      ]
     },
     "execution_count": 25,
     "metadata": {},
     "output_type": "execute_result"
    }
   ],
   "source": [
    "AB_size_difference = test_res.query('group == \"B\"')['visitor_id'].nunique() / test_res.query('group == \"A\"')['visitor_id'].nunique()\n",
    "\n",
    "AB_size_difference"
   ]
  },
  {
   "cell_type": "markdown",
   "id": "e07f8d72",
   "metadata": {},
   "source": [
    "* В группе `A` - 445 пользователя.\n",
    "* В группе `B` - 528 пользователей.\n",
    "* **Распределение пользователей в группы не равномерное. В группе `B` на 18,6% больше пользователей, чем в группе `A`. Диcбаланс групп может привести к неверным выводам. Следует учесть это при анализе данных.**\n",
    "\n",
    "---"
   ]
  },
  {
   "cell_type": "markdown",
   "id": "d7d4dd21",
   "metadata": {},
   "source": [
    "Далее сгруппируем данные по дате и тестовой группе. Также рассчитаем ряд параметров для анализа: средний чек, конверсию и др.\n",
    "\n",
    "После этого разделим данные на две группы (Тестовые группы A и B) для удобства рассчетов остальных параметров и построения графиков."
   ]
  },
  {
   "cell_type": "code",
   "execution_count": 26,
   "id": "a89a1fe8",
   "metadata": {
    "scrolled": false
   },
   "outputs": [],
   "source": [
    "test_res_agg = (test_res.groupby(['group','date'], as_index=False)\n",
    "                        .agg({'visitor_id':'nunique',\n",
    "                              'transaction_id':'nunique',\n",
    "                              'revenue':'sum',\n",
    "                              'visitors':'max'})\n",
    "                      )\n",
    "test_res_agg = test_res_agg.rename(columns={'visitor_id':'payers','transaction_id':'orders'})\n",
    "test_res_agg['avg_check'] = (test_res_agg['revenue'] / test_res_agg['orders']).round(2)\n",
    "test_res_agg['conversion'] = test_res_agg['orders'] / test_res_agg['visitors']\n",
    "\n",
    "test_res_agg_A = test_res_agg.query('group ==\"A\"')\n",
    "test_res_agg_B = test_res_agg.query('group ==\"B\"').reset_index(drop=True)"
   ]
  },
  {
   "cell_type": "markdown",
   "id": "280ae089",
   "metadata": {},
   "source": [
    "Для каждой группы рассчитаем кумулятивные метрики\n"
   ]
  },
  {
   "cell_type": "code",
   "execution_count": 27,
   "id": "6e1af87c",
   "metadata": {},
   "outputs": [],
   "source": [
    "test_res_agg_A['cum_revenue'] = test_res_agg_A['revenue'].cumsum(axis=0)\n",
    "test_res_agg_A['cum_orders'] = test_res_agg_A['orders'].cumsum(axis=0)\n",
    "test_res_agg_A['cum_visitors'] = test_res_agg_A['visitors'].cumsum(axis=0)\n",
    "\n",
    "test_res_agg_B['cum_revenue'] = test_res_agg_B['revenue'].cumsum(axis=0)\n",
    "test_res_agg_B['cum_orders'] = test_res_agg_B['orders'].cumsum(axis=0)\n",
    "test_res_agg_B['cum_visitors'] = test_res_agg_B['visitors'].cumsum(axis=0)"
   ]
  },
  {
   "cell_type": "markdown",
   "id": "3eb520bc",
   "metadata": {},
   "source": [
    "### Кумулятивная выручка по группам"
   ]
  },
  {
   "cell_type": "markdown",
   "id": "0c5b0ddc",
   "metadata": {},
   "source": [
    "Для начала построим простой график выручки для каждой группы"
   ]
  },
  {
   "cell_type": "code",
   "execution_count": 28,
   "id": "8bd98ec2",
   "metadata": {},
   "outputs": [
    {
     "data": {
      "text/plain": [
       "Text(0.5, 1.0, 'Выручка по группам')"
      ]
     },
     "execution_count": 28,
     "metadata": {},
     "output_type": "execute_result"
    },
    {
     "data": {
      "image/png": "[encoded data removed]",
      "text/plain": [
       "<Figure size 864x432 with 1 Axes>"
      ]
     },
     "metadata": {
      "needs_background": "light"
     },
     "output_type": "display_data"
    }
   ],
   "source": [
    "plt.figure(figsize=(12,6))\n",
    "sns.lineplot(data=test_res_agg_A, x='date', y='revenue', label='A')\n",
    "sns.lineplot(data=test_res_agg_B, x='date', y='revenue', label='B')\n",
    "plt.xlabel('Дата', fontsize=14)\n",
    "plt.ylabel('Выручка, млн', fontsize=14)\n",
    "plt.title('Выручка по группам', fontsize=16)"
   ]
  },
  {
   "cell_type": "markdown",
   "id": "2b3a7b67",
   "metadata": {},
   "source": [
    "Из графика трудно определить, какая из групп показала себя лучше. \n",
    "Однако стоит отметить аномально высокое значение выручки для группы B в районе 19 апреля.\n",
    "Теперь рассмотрим график кумулятивной выручки по группам.\n",
    "\n",
    "Также стоит учесть, что в группе B больше пользователей. Увеличение числа пользователей будет влиять на сумму выручки. Поэтому разделим значения кумулятивной выручки группы B на разницу в размере выборок, чтобы сравнивать как будто одинаковые по размеру выборки."
   ]
  },
  {
   "cell_type": "code",
   "execution_count": 29,
   "id": "8afa8c0c",
   "metadata": {},
   "outputs": [
    {
     "data": {
      "text/plain": [
       "Text(0.5, 1.0, 'Кумулятивная выручка по группам')"
      ]
     },
     "execution_count": 29,
     "metadata": {},
     "output_type": "execute_result"
    },
    {
     "data": {
      "image/png": "[encoded data removed]",
      "text/plain": [
       "<Figure size 864x432 with 1 Axes>"
      ]
     },
     "metadata": {},
     "output_type": "display_data"
    }
   ],
   "source": [
    "sns.set_theme()\n",
    "plt.figure(figsize=(12,6))\n",
    "\n",
    "\n",
    "revenue_B_adjusted = test_res_agg_B['cum_revenue'] / AB_size_difference\n",
    "\n",
    "sns.lineplot(data=test_res_agg_A, x='date', y='cum_revenue', label='A')\n",
    "sns.lineplot(data=test_res_agg_B, x='date', y='cum_revenue', label='B')\n",
    "sns.lineplot(data=test_res_agg_B, x='date', y=revenue_B_adjusted, label='B с учетом разностей размеров выборок')\n",
    "\n",
    "plt.xlabel('Дата', fontsize=14)\n",
    "plt.ylabel('Кумулятивная выручка, млн', fontsize=14)\n",
    "plt.title('Кумулятивная выручка по группам', fontsize=16)"
   ]
  },
  {
   "cell_type": "markdown",
   "id": "3d288884",
   "metadata": {},
   "source": [
    "* В целом, выручка равномерно увеличивается в течение теста. \n",
    "* Выручка группы B почти всегда превышает выручку группы А. При этом, если ввести поправку за размер выборки, превышение выручки одной группы над другой снижается.\n",
    "* В группе B присутствует выброс, из-за которого кумулятивная выручка резко возрастает. Это может быть связано с появлением очень дорогого заказа, или с резким увеличением их числа. Из-за этого трудно напрямую сравнить две группы. \n",
    "\n",
    "Для более корректного сравнения групп рассчитаем средний чек по группам. Усреднение показателей может помочь нивелировать выбросы.\n",
    "\n",
    "\n"
   ]
  },
  {
   "cell_type": "markdown",
   "id": "2e1e0643",
   "metadata": {},
   "source": [
    "### Кумулятивный средний чек"
   ]
  },
  {
   "cell_type": "markdown",
   "id": "52180148",
   "metadata": {},
   "source": [
    "Рассчитаем средний чек для групп, разделив кумулятивную выручку на кумулятивное число заказов.\n",
    "\n",
    "Поскольку в дальнейшем мы расчитываем усредненные метрики на пользователя, вводить поправку за размер выборки нет необходимости."
   ]
  },
  {
   "cell_type": "code",
   "execution_count": 30,
   "id": "19d5431a",
   "metadata": {
    "scrolled": false
   },
   "outputs": [
    {
     "data": {
      "text/plain": [
       "Text(0.5, 1.0, 'Кумулятивный средний чек по группам')"
      ]
     },
     "execution_count": 30,
     "metadata": {},
     "output_type": "execute_result"
    },
    {
     "data": {
      "image/png": "[encoded data removed]",
      "text/plain": [
       "<Figure size 864x432 with 1 Axes>"
      ]
     },
     "metadata": {},
     "output_type": "display_data"
    }
   ],
   "source": [
    "test_res_agg_A['cum_avg_check'] = test_res_agg_A['cum_revenue'] / test_res_agg_A['cum_orders']\n",
    "test_res_agg_B['cum_avg_check'] = test_res_agg_B['cum_revenue'] / test_res_agg_B['cum_orders']\n",
    "\n",
    "\n",
    "plt.figure(figsize=(12,6))\n",
    "sns.lineplot(data=test_res_agg_A, x='date', y='cum_avg_check', label='A')\n",
    "sns.lineplot(data=test_res_agg_B, x='date', y='cum_avg_check', label='B')\n",
    "\n",
    "plt.xlabel('Дата', fontsize=14)\n",
    "plt.ylabel('Кумулятивный средний чек', fontsize=14)\n",
    "plt.title('Кумулятивный средний чек по группам', fontsize=16)"
   ]
  },
  {
   "cell_type": "markdown",
   "id": "3e313dad",
   "metadata": {},
   "source": [
    "* На графике среднего чека для группы B также присутствует выброс, из-за которого средний чек резко возрастает в середине теста.\n",
    "* Средний чек группы B практически всегда больше, чем у группы А.\n",
    "* При этом, после не очень удачного старта, средний чек группы А показывает тенденцию к росту. В то время как средний чек группы B после аномального дня планомерно уменьшается.\n",
    "\n",
    "Далее построим график относительного изменения среднего чека."
   ]
  },
  {
   "cell_type": "code",
   "execution_count": 31,
   "id": "8728c47e",
   "metadata": {
    "scrolled": false
   },
   "outputs": [
    {
     "data": {
      "text/plain": [
       "Text(0.5, 1.0, 'Относительное изменение кумулятивного среднего чека')"
      ]
     },
     "execution_count": 31,
     "metadata": {},
     "output_type": "execute_result"
    },
    {
     "data": {
      "image/png": "[encoded data removed]",
      "text/plain": [
       "<Figure size 864x432 with 1 Axes>"
      ]
     },
     "metadata": {},
     "output_type": "display_data"
    }
   ],
   "source": [
    "plt.figure(figsize=(12,6))\n",
    "\n",
    "plt.plot(test_res_agg_A['date'], test_res_agg_B['cum_avg_check']/test_res_agg_A['cum_avg_check']-1)\n",
    "plt.axhline(y=0, linestyle='--', color='red')\n",
    "\n",
    "plt.xlabel('Дата', fontsize=14)\n",
    "plt.ylabel('Относительное изменение', fontsize=14)\n",
    "plt.title('Относительное изменение кумулятивного среднего чека', fontsize=16)"
   ]
  },
  {
   "cell_type": "markdown",
   "id": "5c7bb192",
   "metadata": {},
   "source": [
    "На графике видно, что различия в среднем чеке между группами нестабильно и резко меняется несколько раз за период проведения теста.\n",
    "* Так, в самом начале и середине теста средний чек группы А превышал средний чек группы B.\n",
    "* При этом период, когда средний чек группы B был выше чем у A намного продолжительнее."
   ]
  },
  {
   "cell_type": "markdown",
   "id": "6d5929dd",
   "metadata": {},
   "source": [
    "### Конверсия"
   ]
  },
  {
   "cell_type": "markdown",
   "id": "6554a862",
   "metadata": {},
   "source": [
    "Для определения причины появления аномальных значений, рассчитаем для групп значение кумулятивной конверсии и построим графики."
   ]
  },
  {
   "cell_type": "code",
   "execution_count": 32,
   "id": "4e0f5234",
   "metadata": {},
   "outputs": [
    {
     "data": {
      "text/plain": [
       "Text(0.5, 1.0, 'Кумулятивная конверсия по группам')"
      ]
     },
     "execution_count": 32,
     "metadata": {},
     "output_type": "execute_result"
    },
    {
     "data": {
      "image/png": "[encoded data removed]",
      "text/plain": [
       "<Figure size 864x432 with 1 Axes>"
      ]
     },
     "metadata": {},
     "output_type": "display_data"
    }
   ],
   "source": [
    "test_res_agg_A['cum_conversion'] = test_res_agg_A['cum_orders'] / test_res_agg_A['cum_visitors']\n",
    "test_res_agg_B['cum_conversion'] = test_res_agg_B['cum_orders'] / test_res_agg_B['cum_visitors']\n",
    "\n",
    "plt.figure(figsize=(12,6))\n",
    "sns.lineplot(data=test_res_agg_A, x='date', y='cum_conversion', label='A')\n",
    "sns.lineplot(data=test_res_agg_B, x='date', y='cum_conversion', label='B')\n",
    "\n",
    "plt.xlabel('Дата', fontsize=14)\n",
    "plt.ylabel('Конверсия', fontsize=14)\n",
    "plt.title('Кумулятивная конверсия по группам', fontsize=16)"
   ]
  },
  {
   "cell_type": "markdown",
   "id": "cb385d8b",
   "metadata": {},
   "source": [
    "* В начале теста пользователи группы A конвертировались успешнее группы В\n",
    "* Спустя 5 дней, конверсия группы А начала резко снижаться, а группы В резко расти\n",
    "* Примерно на 10 день теста конверсии зафиксировались и до конца теста немного колебались около этой отметки.\n",
    "* График конверсии показывает, что на одного пользователя в группе B приходится больше заказов, чем в группе А. Это может быть одним из факторов лучших показателей по выручке. Однако это не единственный фактор, в дальнейшем следует рассмотреть выбивающиеся значения и подсчитать метрики для очищенных данных."
   ]
  },
  {
   "cell_type": "code",
   "execution_count": 33,
   "id": "2b7bc6bb",
   "metadata": {},
   "outputs": [
    {
     "data": {
      "text/plain": [
       "Text(0.5, 1.0, 'Относительное изменение кумулятивной конверсии')"
      ]
     },
     "execution_count": 33,
     "metadata": {},
     "output_type": "execute_result"
    },
    {
     "data": {
      "image/png": "[encoded data removed]",
      "text/plain": [
       "<Figure size 864x432 with 1 Axes>"
      ]
     },
     "metadata": {},
     "output_type": "display_data"
    }
   ],
   "source": [
    "plt.figure(figsize=(12,6))\n",
    "\n",
    "plt.plot(test_res_agg_A['date'], test_res_agg_A['cum_conversion']/test_res_agg_B['cum_conversion']-1)\n",
    "plt.axhline(y=0, linestyle='--', color='red')\n",
    "\n",
    "plt.xlabel('Дата', fontsize=14)\n",
    "plt.ylabel('Относительное изменение', fontsize=14)\n",
    "plt.title('Относительное изменение кумулятивной конверсии', fontsize=16)"
   ]
  },
  {
   "cell_type": "markdown",
   "id": "2d6e1a98",
   "metadata": {},
   "source": [
    "* В начале теста, группа В сильно проигрывала группе А, однако довольно быстро начала расти и вырвалась вперед. \n",
    "* После 6 дня конверсия группы В всегда превышала конверсию группы А \n",
    "* При этом к концу теста группа А немного отыграла свое отставание."
   ]
  },
  {
   "cell_type": "markdown",
   "id": "1cf5205c",
   "metadata": {},
   "source": [
    "### Количество заказов"
   ]
  },
  {
   "cell_type": "markdown",
   "id": "fc7bc376",
   "metadata": {},
   "source": [
    "Для корректного анализа результатов теста следует обработать аномальные значения. Для начала рассмотрим распределение количества заказов по пользователям."
   ]
  },
  {
   "cell_type": "code",
   "execution_count": 34,
   "id": "5993d2b3",
   "metadata": {},
   "outputs": [
    {
     "data": {
      "text/plain": [
       "Text(0.5, 1.0, 'Количество заказов по пользователям')"
      ]
     },
     "execution_count": 34,
     "metadata": {},
     "output_type": "execute_result"
    },
    {
     "data": {
      "image/png": "[encoded data removed]",
      "text/plain": [
       "<Figure size 720x504 with 1 Axes>"
      ]
     },
     "metadata": {},
     "output_type": "display_data"
    }
   ],
   "source": [
    "orders_by_users = test_res.groupby('visitor_id').agg({'transaction_id':'nunique'})\n",
    "orders_by_users = orders_by_users.rename(columns={'transaction_id':'orders'})\n",
    "orders_pct = np.percentile(orders_by_users, [95,99])\n",
    "\n",
    "plt.figure(figsize=(10,7))\n",
    "\n",
    "sns.scatterplot(data=orders_by_users, x=range(len(orders_by_users)), y='orders', label='Заказ')\n",
    "\n",
    "plt.axhline(y=orders_pct[0], linestyle ='--', color='orange', label=f'95-percentile = {orders_pct[0]}')\n",
    "plt.axhline(y=orders_pct[1], linestyle ='--', color='red', label=f'99-percentile = {orders_pct[1]}')\n",
    "plt.legend(fontsize=14)\n",
    "\n",
    "plt.xlabel('Номер пользователя', fontsize=14)\n",
    "plt.ylabel('Количество заказов', fontsize=14)\n",
    "plt.title('Количество заказов по пользователям', fontsize=16)\n"
   ]
  },
  {
   "cell_type": "markdown",
   "id": "c67450f3",
   "metadata": {},
   "source": [
    "* Как видно из графика, кол-во пользователей с 3 заказами и более крайне невелико. 99% пользователей совершили 2 заказа или меньше.\n",
    "* Будем считать, что все пользователи, совершившие 3 и более заказа - аномальные. \n",
    "* Выбранный **диапазон нормальных значений - от 1 до 2 заказов**"
   ]
  },
  {
   "cell_type": "code",
   "execution_count": 35,
   "id": "4a2a342c",
   "metadata": {},
   "outputs": [
    {
     "data": {
      "text/plain": [
       "Text(0.5, 1.0, 'Кумулятивное количество заказов по группам')"
      ]
     },
     "execution_count": 35,
     "metadata": {},
     "output_type": "execute_result"
    },
    {
     "data": {
      "image/png": "[encoded data removed]",
      "text/plain": [
       "<Figure size 864x432 with 1 Axes>"
      ]
     },
     "metadata": {},
     "output_type": "display_data"
    }
   ],
   "source": [
    "orders_B_adjusted = test_res_agg_B['cum_orders'] / AB_size_difference\n",
    "\n",
    "plt.figure(figsize=(12,6))\n",
    "sns.lineplot(data=test_res_agg_A, x='date', y='cum_orders', label='A')\n",
    "sns.lineplot(data=test_res_agg_B, x='date', y='cum_orders', label='B')\n",
    "sns.lineplot(data=test_res_agg_B, x='date', y=orders_B_adjusted, label='B с учетом разностей размеров выборок')\n",
    "\n",
    "plt.xlabel('Дата', fontsize=14)\n",
    "plt.ylabel('Конверсия', fontsize=14)\n",
    "plt.title('Кумулятивное количество заказов по группам', fontsize=16)"
   ]
  },
  {
   "cell_type": "markdown",
   "id": "b4eeb341",
   "metadata": {},
   "source": [
    "Ожидаемо, поскольку в группе В больше пользователей, они совершают больше заказов. Если учесть это и ввести поправку за размер выборки, распределение заказов между группами станет практически одинаковым."
   ]
  },
  {
   "cell_type": "markdown",
   "id": "f86a4a61",
   "metadata": {},
   "source": [
    "### Стоимость заказов"
   ]
  },
  {
   "cell_type": "markdown",
   "id": "ac85f3fc",
   "metadata": {},
   "source": [
    "Кроме количества заказов следует рассмотреть стоимость заказов и отбросить сильно выбивающиеся значения. Построим график стоимости заказов по пользователям."
   ]
  },
  {
   "cell_type": "code",
   "execution_count": 36,
   "id": "b2d8e7b0",
   "metadata": {
    "scrolled": true
   },
   "outputs": [
    {
     "data": {
      "text/plain": [
       "<AxesSubplot:ylabel='revenue'>"
      ]
     },
     "execution_count": 36,
     "metadata": {},
     "output_type": "execute_result"
    },
    {
     "data": {
      "image/png": "[encoded data removed]",
      "text/plain": [
       "<Figure size 432x288 with 1 Axes>"
      ]
     },
     "metadata": {},
     "output_type": "display_data"
    }
   ],
   "source": [
    "sns.scatterplot(data=test_res, x=test_res.index, y='revenue')"
   ]
  },
  {
   "cell_type": "markdown",
   "id": "19f1c30f",
   "metadata": {},
   "source": [
    "<div class=\"alert alert-success\"; style=\"border-left: 7px solid green\">\n",
    "<font size=\"4\"><b>Комментарий ревьюера 🚀</b></font>\n",
    "    <br />\n",
    "    <font size=\"3\", color = \"black\">\n",
    "    <br /> Действительно, по такому графику сразу можно заметить 2 выброса\n",
    "     <br />\n",
    "    </font>\n",
    "\n",
    "</div>"
   ]
  },
  {
   "cell_type": "markdown",
   "id": "01d424ef",
   "metadata": {},
   "source": [
    "Большинство значений расположено в диапазоне от 0 до 100тыс. Из-за двух выбросов график сильно сжался и это мешает анализу.\n",
    "Построим график заново, отбросив значения выше 200 тыс как явно выбивающиеся."
   ]
  },
  {
   "cell_type": "code",
   "execution_count": 37,
   "id": "171d325c",
   "metadata": {
    "scrolled": false
   },
   "outputs": [
    {
     "data": {
      "image/png": "[encoded data removed]",
      "text/plain": [
       "<Figure size 936x576 with 2 Axes>"
      ]
     },
     "metadata": {},
     "output_type": "display_data"
    }
   ],
   "source": [
    "fig, ax = plt.subplots(1, 2, figsize=(13,8), gridspec_kw={'width_ratios': [10, 1]})\n",
    "fig.suptitle('Стоимость заказов', fontsize=18)\n",
    "\n",
    "sns.scatterplot(data=test_res.query('revenue < 200000'),\n",
    "                x=test_res.query('revenue < 200000').index,\n",
    "                y='revenue',\n",
    "                ax=ax[0], \n",
    "                label='Заказ')\n",
    "\n",
    "revenue_pct = np.percentile(test_res['revenue'], [95,99])\n",
    "ax[0].axhline(y=revenue_pct[0], linestyle ='--', color='orange', label=f'95-percentile = {revenue_pct[0]:.0f}')\n",
    "ax[0].axhline(y=revenue_pct[1], linestyle ='--', color='red', label=f'99-percentile = {revenue_pct[1]:.0f}')\n",
    "\n",
    "ax[0].legend(fontsize=14)\n",
    "ax[0].set_xlabel('Номер заказа', fontsize=14)\n",
    "ax[0].set_ylabel('Стоимость', fontsize=14)\n",
    "\n",
    "sns.boxplot(data=test_res.query('revenue < 200000')['revenue'], ax=ax[1])\n",
    "\n",
    "plt.tight_layout()\n"
   ]
  },
  {
   "cell_type": "markdown",
   "id": "b198212e",
   "metadata": {},
   "source": [
    "На этом графике отдельные заказы гораздо лучше различимы, что позволяет нам определить выбивающиеся значения.\n",
    "* Как видно из графика, основная масса заказов расположилась в диапазоне от 0 до 20000. Заказы свыше 20000 все более редки.\n",
    "* При том, что на ящике с усами граница аномальных значений расположена в районе 19000, 95-персентиль равен 28000, примем за границу нормальных значений стоимость заказа в 28 тыс.\n",
    "* Выбранный **диапазон нормальных значений - от 0 до 28 тыс.**"
   ]
  },
  {
   "cell_type": "markdown",
   "id": "ebb6a974",
   "metadata": {},
   "source": [
    "### Вывод"
   ]
  },
  {
   "cell_type": "markdown",
   "id": "457b259f",
   "metadata": {},
   "source": [
    "* Кумулятивная выручка в группе B выше выручки в группе А. Однако отчасти это обусловленно аномальными данными. В дальнейшем следует от них избавится\n",
    "* Кумулятивный средний чек  и конверсия также выше в группе B. Хотя были периоды, когда они снижались.\n",
    "* Также были рассмотрены значения кол-ва и стоимости заказов для пользователей. Были определены границы нормальных значений. В дальнейшем они будут использованы для проверки гипотез.\n"
   ]
  },
  {
   "cell_type": "markdown",
   "id": "d60db08c",
   "metadata": {},
   "source": [
    "## Проверка гипотез\n"
   ]
  },
  {
   "cell_type": "markdown",
   "id": "1daa40ed",
   "metadata": {},
   "source": [
    "Критерий значимости примем равным: `α = 0.05`"
   ]
  },
  {
   "cell_type": "markdown",
   "id": "40623740",
   "metadata": {},
   "source": [
    "### Сырые данные\n"
   ]
  },
  {
   "cell_type": "markdown",
   "id": "0072a94e",
   "metadata": {},
   "source": [
    "#### Конверсия"
   ]
  },
  {
   "cell_type": "markdown",
   "id": "db516573",
   "metadata": {},
   "source": [
    "Сформулируем нулевую и альтернативную гипотезы:\n",
    "\n",
    "**H0:** Средняя конверсия пользователей группы А равна средней конверсии пользователей группы B.\n",
    "\n",
    "$$ MO (Conv A) = MO (Conv B), $$\n",
    "\n",
    "**H1:** Средняя конверсия пользователей группы A отличается от средней конверсии пользователей группы B.\n",
    "\n",
    "$$ MO(Conv A) \\neq MO(Conv B), $$\n",
    "\n",
    "где \\\\(MO (Conv A) \\\\) - Средняя конверсия пользователей группы А,\n",
    "\n",
    "\\\\(MO (Conv B) \\\\) - Средняя конверсия пользователей группы B."
   ]
  },
  {
   "cell_type": "code",
   "execution_count": 38,
   "id": "d5baa220",
   "metadata": {},
   "outputs": [],
   "source": [
    "ordersByUsersA = (test_res.query('group == \"A\"')\n",
    "                          .groupby('visitor_id', as_index=False)\n",
    "                          .agg({'transaction_id':'nunique'})\n",
    "                          .rename(columns={'transaction_id':'orders'}))\n",
    "\n",
    "ordersByUsersB = (test_res.query('group == \"B\"')\n",
    "                          .groupby('visitor_id', as_index=False)\n",
    "                          .agg({'transaction_id':'nunique'})\n",
    "                          .rename(columns={'transaction_id':'orders'}))\n"
   ]
  },
  {
   "cell_type": "code",
   "execution_count": 39,
   "id": "762c4736",
   "metadata": {},
   "outputs": [],
   "source": [
    "visitorsA = visitors.query('group == \"A\"')['visitors'].sum()\n",
    "visitorsB = visitors.query('group == \"B\"')['visitors'].sum()"
   ]
  },
  {
   "cell_type": "markdown",
   "id": "927ca4f4",
   "metadata": {},
   "source": [
    "Добавим пользователей без заказов."
   ]
  },
  {
   "cell_type": "code",
   "execution_count": 40,
   "id": "ffa670e8",
   "metadata": {},
   "outputs": [],
   "source": [
    "visitors_wo_orders_A = pd.Series(0,index=np.arange(visitorsA-len(ordersByUsersA)), name='orders')\n",
    "visitors_wo_orders_B = pd.Series(0,index=np.arange(visitorsB-len(ordersByUsersB)), name='orders')"
   ]
  },
  {
   "cell_type": "code",
   "execution_count": 41,
   "id": "13a7cd33",
   "metadata": {},
   "outputs": [],
   "source": [
    "ordersByUsersAllA = pd.concat([ordersByUsersA['orders'],visitors_wo_orders_A])\n",
    "ordersByUsersAllB = pd.concat([ordersByUsersB['orders'],visitors_wo_orders_B])"
   ]
  },
  {
   "cell_type": "code",
   "execution_count": 42,
   "id": "ae5f3251",
   "metadata": {},
   "outputs": [
    {
     "name": "stdout",
     "output_type": "stream",
     "text": [
      "P-value: 0.006\n",
      "Относительная Δ средних = 0.160\n"
     ]
    }
   ],
   "source": [
    "sampleA = ordersByUsersAllA\n",
    "sampleB = ordersByUsersAllB\n",
    "\n",
    "print(f'P-value: {(st.mannwhitneyu(sampleA,sampleB)[1]):.3f}')\n",
    "print(f'Относительная Δ средних = {(sampleB.mean()/sampleA.mean()-1):.3f}')"
   ]
  },
  {
   "cell_type": "markdown",
   "id": "8d4888a5",
   "metadata": {},
   "source": [
    "* P-value = 0.011, что ниже принятого нами уровня статистической значимости α = 0.05. Соответственно приходится отвергнуть нулевую гипотезу об отсутствии различий в конверсии между группами по сырым данным.\n",
    "* Это подтверждается и значением относительного преимущества группы В по конверсии - 16%.\n",
    "---\n",
    "\n",
    "**Отвергаем нулевую гипотезу о равенстве конверсий. Конверсия группы B выше конверсии группы A.**\n",
    "\n",
    "---"
   ]
  },
  {
   "cell_type": "markdown",
   "id": "e6e3bffe",
   "metadata": {},
   "source": [
    "#### Средний чек"
   ]
  },
  {
   "cell_type": "markdown",
   "id": "e6e54cfa",
   "metadata": {},
   "source": [
    "**H0:** Средний чек пользователей группы А равна среднему чеку пользователей группы B.\n",
    "\n",
    "$$ Avg Check(A) = Avg Check(B), $$\n",
    "\n",
    "**H1:** Средний чек пользователей группы A отличается от среднего чека пользователей группы B.\n",
    "\n",
    "$$ Avg Check(A) \\neq Avg Check(B), $$\n",
    "\n",
    "где \\\\(Avg Check(A) \\\\) - Средний чек пользователей группы A,\n",
    "\n",
    "\\\\(Avg Check(B) \\\\) - Средний чек пользователей группы B."
   ]
  },
  {
   "cell_type": "code",
   "execution_count": 43,
   "id": "e834eb1f",
   "metadata": {},
   "outputs": [
    {
     "name": "stdout",
     "output_type": "stream",
     "text": [
      "P-value: 0.415\n",
      "Относительная Δ средних = 0.287\n"
     ]
    }
   ],
   "source": [
    "sampleA = test_res.query('group == \"A\"')['revenue']\n",
    "sampleB = test_res.query('group == \"B\"')['revenue']\n",
    "\n",
    "print(f'P-value: {(st.mannwhitneyu(sampleA,sampleB)[1]):.3f}')\n",
    "print(f'Относительная Δ средних = {(sampleB.mean()/sampleA.mean()-1):.3f}')"
   ]
  },
  {
   "cell_type": "code",
   "execution_count": 44,
   "id": "9abbd995",
   "metadata": {},
   "outputs": [
    {
     "data": {
      "text/plain": [
       "count      468.00\n",
       "mean      7189.44\n",
       "std      11137.76\n",
       "min         50.00\n",
       "25%       1164.75\n",
       "50%       3090.00\n",
       "75%       8438.75\n",
       "max      92550.00\n",
       "Name: revenue, dtype: float64"
      ]
     },
     "execution_count": 44,
     "metadata": {},
     "output_type": "execute_result"
    }
   ],
   "source": [
    "test_res.query('group == \"A\"')['revenue'].describe().round(2)"
   ]
  },
  {
   "cell_type": "code",
   "execution_count": 45,
   "id": "7ca98d2d",
   "metadata": {},
   "outputs": [
    {
     "data": {
      "text/plain": [
       "count        548.00\n",
       "mean        9249.95\n",
       "std        56430.59\n",
       "min           50.00\n",
       "25%         1280.75\n",
       "50%         2898.50\n",
       "75%         7991.25\n",
       "max      1294500.00\n",
       "Name: revenue, dtype: float64"
      ]
     },
     "execution_count": 45,
     "metadata": {},
     "output_type": "execute_result"
    }
   ],
   "source": [
    "test_res.query('group == \"B\"')['revenue'].describe().round(2)"
   ]
  },
  {
   "cell_type": "markdown",
   "id": "fec94bfe",
   "metadata": {},
   "source": [
    "* P-value = 0.415 > 0.05. Это означает, что мы не можем отвергнуть нулевую гипотезу о равенстве средних чеков между группами тестирования.\n",
    "* Также, статистической значимости не удалось достигнуть, несмотря на большое относительное различие средних чеков между двумя группами - 29%. Такая большая разница связана с большим разбросом значений в выборках, стандартное отклонение в несколько раз превышает величину среднего. Из-за этого тяжело достигнуть статистическую значимость.\n",
    "* Если отчистить данные от выбросов, относительная разность средних должна сильно уменьшится.\n",
    "\n",
    "**Невозможно отвергнуть нулевую гипотезу. Статистически значимое различие между двумя группами отсутствует.**\n",
    "\n",
    "---"
   ]
  },
  {
   "cell_type": "code",
   "execution_count": 46,
   "id": "403e1c03",
   "metadata": {},
   "outputs": [
    {
     "data": {
      "text/plain": [
       "count      468.00\n",
       "mean      7189.44\n",
       "std      11137.76\n",
       "min         50.00\n",
       "25%       1164.75\n",
       "50%       3090.00\n",
       "75%       8438.75\n",
       "max      92550.00\n",
       "Name: revenue, dtype: float64"
      ]
     },
     "execution_count": 46,
     "metadata": {},
     "output_type": "execute_result"
    }
   ],
   "source": [
    "test_res.query('group == \"A\"')['revenue'].describe().round(2)"
   ]
  },
  {
   "cell_type": "code",
   "execution_count": 47,
   "id": "7779b306",
   "metadata": {},
   "outputs": [
    {
     "data": {
      "text/plain": [
       "count        548.00\n",
       "mean        9249.95\n",
       "std        56430.59\n",
       "min           50.00\n",
       "25%         1280.75\n",
       "50%         2898.50\n",
       "75%         7991.25\n",
       "max      1294500.00\n",
       "Name: revenue, dtype: float64"
      ]
     },
     "execution_count": 47,
     "metadata": {},
     "output_type": "execute_result"
    }
   ],
   "source": [
    "test_res.query('group == \"B\"')['revenue'].describe().round(2)"
   ]
  },
  {
   "cell_type": "markdown",
   "id": "c612afd8",
   "metadata": {},
   "source": [
    "### Очищенные данные"
   ]
  },
  {
   "cell_type": "markdown",
   "id": "99a3a996",
   "metadata": {},
   "source": [
    "Теперь, избавимся от выбросов и проверим гипотезы на очищенных данных.\n",
    "\n",
    "Отфильтруем пользователей, которые сделали более 2 заказов, и записи, в которых стоимость заказа выше 28000."
   ]
  },
  {
   "cell_type": "code",
   "execution_count": 48,
   "id": "20dd2102",
   "metadata": {},
   "outputs": [],
   "source": [
    "ordersByUsersA_filtered = (test_res.query('group == \"A\" and revenue <= 28000')\n",
    "                          .groupby('visitor_id', as_index=False)\n",
    "                          .agg({'transaction_id':'nunique'})\n",
    "                          .rename(columns={'transaction_id':'orders'}))\n",
    "\n",
    "ordersByUsersB_filtered = (test_res.query('group == \"B\" and revenue <= 28000')\n",
    "                          .groupby('visitor_id', as_index=False)\n",
    "                          .agg({'transaction_id':'nunique'})\n",
    "                          .rename(columns={'transaction_id':'orders'}))\n",
    "\n",
    "ordersByUsersA_filtered = ordersByUsersA_filtered.query('orders <= 2')\n",
    "ordersByUsersB_filtered = ordersByUsersB_filtered.query('orders <= 2')\n"
   ]
  },
  {
   "cell_type": "code",
   "execution_count": 49,
   "id": "d4ceb86f",
   "metadata": {},
   "outputs": [],
   "source": [
    "ordersByUsersAllA_filtered = pd.concat([ordersByUsersA_filtered['orders'],visitors_wo_orders_A])\n",
    "ordersByUsersAllB_filtered = pd.concat([ordersByUsersB_filtered['orders'],visitors_wo_orders_B])"
   ]
  },
  {
   "cell_type": "code",
   "execution_count": 50,
   "id": "7c77e1b6",
   "metadata": {},
   "outputs": [
    {
     "name": "stdout",
     "output_type": "stream",
     "text": [
      "Отфильтровано и отброшено 5.5% значений.\n",
      "Из них: 26 записей - группа А\n",
      "28 записей - группа B\n",
      "Всего осталось записей: 973\n"
     ]
    }
   ],
   "source": [
    "print(f'Отфильтровано и отброшено {(len(ordersByUsersA) - len(ordersByUsersA_filtered) + len(ordersByUsersB) - len(ordersByUsersB_filtered)) / (len(ordersByUsersA)+len(ordersByUsersB))*100:.1f}% значений.')\n",
    "print('Из них:',len(ordersByUsersA) - len(ordersByUsersA_filtered),'записей - группа А')\n",
    "print(len(ordersByUsersB) - len(ordersByUsersB_filtered),'записей - группа B')\n",
    "print('Всего осталось записей:',len(ordersByUsersA)+len(ordersByUsersB))"
   ]
  },
  {
   "cell_type": "markdown",
   "id": "ba5f6b2a",
   "metadata": {},
   "source": [
    "#### Конверсия"
   ]
  },
  {
   "cell_type": "markdown",
   "id": "de1767b9",
   "metadata": {},
   "source": [
    "**H0:** Средняя конверсия пользователей группы А равна средней конверсии пользователей группы B.\n",
    "\n",
    "$$ MO (Conv A) = MO (Conv B), $$\n",
    "\n",
    "**H1:** Средняя конверсия пользователей группы A отличается от средней конверсии пользователей группы B.\n",
    "\n",
    "$$ MO(Conv A) \\neq MO(Conv B), $$\n",
    "\n",
    "где \\\\(MO (Conv A) \\\\) - Средняя конверсия пользователей группы А,\n",
    "\n",
    "\\\\(MO (Conv B) \\\\) - Средняя конверсия пользователей группы B."
   ]
  },
  {
   "cell_type": "code",
   "execution_count": 51,
   "id": "907280a7",
   "metadata": {},
   "outputs": [
    {
     "name": "stdout",
     "output_type": "stream",
     "text": [
      "P-value: 0.005\n",
      "Относительная Δ средних = 0.186\n"
     ]
    }
   ],
   "source": [
    "sampleA = ordersByUsersAllA_filtered\n",
    "sampleB = ordersByUsersAllB_filtered\n",
    "\n",
    "print(f'P-value: {(st.mannwhitneyu(sampleA,sampleB)[1]):.3f}')\n",
    "print(f'Относительная Δ средних = {(sampleB.mean()/sampleA.mean()-1):.3f}')"
   ]
  },
  {
   "cell_type": "markdown",
   "id": "63712eaf",
   "metadata": {},
   "source": [
    "* P-value = 0.005, что ниже принятого уровня значимости α = 0.05. Следовательно, так же как и для сырых данных, отвергаем нулевую гипотезу о равенстве конверсий для двух групп.\n",
    "* По очищенным данным средняя конверсия группы B на 18% выше средней конверсии группы A.\n",
    "\n",
    "\n",
    "---\n",
    "\n",
    "**Отвергаем нулевую гипотезу. Средняя конверсия группы B выше средней конверсии группы А.**\n",
    "\n",
    "---"
   ]
  },
  {
   "cell_type": "markdown",
   "id": "27b5854d",
   "metadata": {},
   "source": [
    "#### Средний чек"
   ]
  },
  {
   "cell_type": "markdown",
   "id": "6c938bdf",
   "metadata": {},
   "source": [
    "**H0:** Средний чек пользователей группы А равна среднему чеку пользователей группы B.\n",
    "\n",
    "$$ Avg Check(A) = Avg Check(B), $$\n",
    "\n",
    "**H1:** Средний чек пользователей группы A отличается от среднего чека пользователей группы B.\n",
    "\n",
    "$$ Avg Check(A) \\neq Avg Check(B), $$\n",
    "\n",
    "где \\\\(Avg Check(A) \\\\) - Средний чек пользователей группы A,\n",
    "\n",
    "\\\\(Avg Check(B) \\\\) - Средний чек пользователей группы B."
   ]
  },
  {
   "cell_type": "code",
   "execution_count": 52,
   "id": "21447158",
   "metadata": {},
   "outputs": [
    {
     "name": "stdout",
     "output_type": "stream",
     "text": [
      "P-value: 0.337\n",
      "Относительная Δ средних = -0.049\n"
     ]
    }
   ],
   "source": [
    "sampleA = test_res[test_res['visitor_id'].isin(ordersByUsersA_filtered['visitor_id'])]['revenue']\n",
    "sampleB = test_res[test_res['visitor_id'].isin(ordersByUsersB_filtered['visitor_id'])]['revenue']\n",
    "\n",
    "print(f'P-value: {(st.mannwhitneyu(sampleA,sampleB)[1]):.3f}')\n",
    "print(f'Относительная Δ средних = {(sampleB.mean()/sampleA.mean()-1):.3f}')"
   ]
  },
  {
   "cell_type": "markdown",
   "id": "1e5c61d6",
   "metadata": {},
   "source": [
    "*  P-value = 0.337 > 0.05. Это означает, что мы не можем отвергнуть нулевую гипотезу о равенстве средних чеков между группами тестирования.\n",
    "* По отфильтрованным данным относительное различие средних чеков между группам составило всего 5%. Что дополнительно указывает на отстутствие статистически значимых различий между группами.\n",
    "* Как и сказано ранее, обработка аномальных значений позволила привести относительную разность средних к нормальным значениям.\n",
    "---\n",
    "\n",
    "**Невозможно отвергнуть нулевую гипотезу. Отсутствует статистически значимое различие между средними чеками групп А и В.**\n",
    "\n",
    "---"
   ]
  },
  {
   "cell_type": "markdown",
   "id": "aec8cd70",
   "metadata": {},
   "source": [
    "## Вывод"
   ]
  },
  {
   "cell_type": "markdown",
   "id": "3c715e20",
   "metadata": {},
   "source": [
    "* Обнаружено статистически значимое различие между конверсиями для групп A и B как по сырым, так и по очищенным данным. Средняя конверсия группы B на 18% выше средней конверсии группы A по вычислениям на очищенных данных. В совокупности с отсутствием изменений между средними чеками можно предположить, что на увеличение конверсии повлияло увеличение кол-ва заказов.  \n",
    "\n",
    "* Отсутствует статистически значимое различие между среднимим чеками групп A и B как по сырым, так и по очищенным данным. По результатам вычислений на очищенных данных разница средних чеков между группами составила 5%.\n",
    "\n",
    "* Поскольку в задании не сказано ничего об условиях проведения теста, а предоставлены только данные, из-за отсутствия контекста невозможно узнать, с чем может быть связано поведение метрик. Из данных о тесте мы можем выяснить только размер выборки. Задача и цель теста неизвестны.\n",
    "\n",
    "\n",
    "---\n",
    "**Решение по результатам теста:**\n",
    "\n",
    "Остановить тест.\n",
    "\n",
    "Конверсия\n",
    "\n",
    "* Обнаружено статистически значимое различие между конверсиями\n",
    "* Средняя конверсия группы B на 18% выше средней конверсии группы A\n",
    "\n",
    "Средний чек\n",
    "\n",
    "* Отсутствует статистически значимое различие между средними чеками групп A и B\n",
    "\n",
    "\n",
    "---"
   ]
  }
 ],
 "metadata": {
  "ExecuteTimeLog": [
   {
    "duration": 47,
    "start_time": "2022-04-19T10:34:26.504Z"
   },
   {
    "duration": 1347,
    "start_time": "2022-04-19T10:34:30.290Z"
   },
   {
    "duration": 89,
    "start_time": "2022-04-19T10:34:31.639Z"
   },
   {
    "duration": 3,
    "start_time": "2022-04-19T10:39:10.066Z"
   },
   {
    "duration": 82,
    "start_time": "2022-04-19T10:39:10.108Z"
   },
   {
    "duration": 12,
    "start_time": "2022-04-19T10:39:10.192Z"
   },
   {
    "duration": 13,
    "start_time": "2022-04-19T10:39:10.205Z"
   },
   {
    "duration": 10,
    "start_time": "2022-04-19T10:39:10.219Z"
   },
   {
    "duration": 18,
    "start_time": "2022-04-19T10:39:10.231Z"
   },
   {
    "duration": 12,
    "start_time": "2022-04-19T10:39:10.251Z"
   },
   {
    "duration": 29,
    "start_time": "2022-04-19T10:39:10.264Z"
   },
   {
    "duration": 13,
    "start_time": "2022-04-19T10:39:10.294Z"
   },
   {
    "duration": 10,
    "start_time": "2022-04-19T10:39:10.308Z"
   },
   {
    "duration": 6,
    "start_time": "2022-04-19T10:39:10.319Z"
   },
   {
    "duration": 11,
    "start_time": "2022-04-19T10:39:10.327Z"
   },
   {
    "duration": 23,
    "start_time": "2022-04-19T10:39:10.340Z"
   },
   {
    "duration": 8,
    "start_time": "2022-04-19T10:39:10.365Z"
   },
   {
    "duration": 4,
    "start_time": "2022-04-19T10:39:10.376Z"
   },
   {
    "duration": 20,
    "start_time": "2022-04-19T10:39:10.381Z"
   },
   {
    "duration": 7,
    "start_time": "2022-04-19T10:39:10.402Z"
   },
   {
    "duration": 18,
    "start_time": "2022-04-19T10:39:10.410Z"
   },
   {
    "duration": 10,
    "start_time": "2022-04-19T10:39:10.429Z"
   },
   {
    "duration": 17,
    "start_time": "2022-04-19T10:39:10.441Z"
   },
   {
    "duration": 7,
    "start_time": "2022-04-19T10:39:10.459Z"
   },
   {
    "duration": 9,
    "start_time": "2022-04-19T10:39:10.467Z"
   },
   {
    "duration": 29,
    "start_time": "2022-04-19T10:39:10.477Z"
   },
   {
    "duration": 16,
    "start_time": "2022-04-19T10:39:10.507Z"
   },
   {
    "duration": 8,
    "start_time": "2022-04-19T10:39:14.825Z"
   },
   {
    "duration": 14,
    "start_time": "2022-04-19T10:39:19.267Z"
   },
   {
    "duration": 4,
    "start_time": "2022-04-19T10:39:38.390Z"
   },
   {
    "duration": 14,
    "start_time": "2022-04-19T10:39:51.681Z"
   },
   {
    "duration": 15,
    "start_time": "2022-04-19T10:40:14.760Z"
   },
   {
    "duration": 2,
    "start_time": "2022-04-19T10:55:03.323Z"
   },
   {
    "duration": 102,
    "start_time": "2022-04-19T10:55:03.330Z"
   },
   {
    "duration": 8,
    "start_time": "2022-04-19T10:55:03.434Z"
   },
   {
    "duration": 12,
    "start_time": "2022-04-19T10:55:03.443Z"
   },
   {
    "duration": 20,
    "start_time": "2022-04-19T10:55:03.456Z"
   },
   {
    "duration": 16,
    "start_time": "2022-04-19T10:55:03.479Z"
   },
   {
    "duration": 11,
    "start_time": "2022-04-19T10:55:03.496Z"
   },
   {
    "duration": 12,
    "start_time": "2022-04-19T10:55:03.508Z"
   },
   {
    "duration": 8,
    "start_time": "2022-04-19T10:55:03.521Z"
   },
   {
    "duration": 11,
    "start_time": "2022-04-19T10:55:03.531Z"
   },
   {
    "duration": 8,
    "start_time": "2022-04-19T10:55:03.544Z"
   },
   {
    "duration": 9,
    "start_time": "2022-04-19T10:55:03.554Z"
   },
   {
    "duration": 21,
    "start_time": "2022-04-19T10:55:03.564Z"
   },
   {
    "duration": 18,
    "start_time": "2022-04-19T10:55:03.586Z"
   },
   {
    "duration": 5,
    "start_time": "2022-04-19T10:55:03.607Z"
   },
   {
    "duration": 8,
    "start_time": "2022-04-19T10:55:03.613Z"
   },
   {
    "duration": 12,
    "start_time": "2022-04-19T10:55:03.623Z"
   },
   {
    "duration": 22,
    "start_time": "2022-04-19T10:55:03.636Z"
   },
   {
    "duration": 20,
    "start_time": "2022-04-19T10:55:03.660Z"
   },
   {
    "duration": 28,
    "start_time": "2022-04-19T10:55:03.682Z"
   },
   {
    "duration": 10,
    "start_time": "2022-04-19T10:55:03.713Z"
   },
   {
    "duration": 14,
    "start_time": "2022-04-19T10:55:03.724Z"
   },
   {
    "duration": 11,
    "start_time": "2022-04-19T10:55:03.740Z"
   },
   {
    "duration": 16,
    "start_time": "2022-04-19T10:55:03.752Z"
   },
   {
    "duration": 7,
    "start_time": "2022-04-19T10:55:03.770Z"
   },
   {
    "duration": 300,
    "start_time": "2022-04-19T10:55:03.800Z"
   },
   {
    "duration": 307,
    "start_time": "2022-04-19T10:55:04.101Z"
   },
   {
    "duration": 269,
    "start_time": "2022-04-19T10:55:04.409Z"
   },
   {
    "duration": 420,
    "start_time": "2022-04-19T10:55:04.680Z"
   },
   {
    "duration": 299,
    "start_time": "2022-04-19T10:55:05.101Z"
   },
   {
    "duration": 350,
    "start_time": "2022-04-19T10:55:05.402Z"
   },
   {
    "duration": 438,
    "start_time": "2022-04-19T10:55:05.753Z"
   },
   {
    "duration": 295,
    "start_time": "2022-04-19T10:55:09.784Z"
   },
   {
    "duration": 388,
    "start_time": "2022-04-19T10:55:16.832Z"
   },
   {
    "duration": 58,
    "start_time": "2022-04-19T10:58:40.473Z"
   },
   {
    "duration": 4,
    "start_time": "2022-04-19T10:58:48.160Z"
   },
   {
    "duration": 85,
    "start_time": "2022-04-19T10:58:48.166Z"
   },
   {
    "duration": 7,
    "start_time": "2022-04-19T10:58:48.253Z"
   },
   {
    "duration": 12,
    "start_time": "2022-04-19T10:58:48.262Z"
   },
   {
    "duration": 11,
    "start_time": "2022-04-19T10:58:48.275Z"
   },
   {
    "duration": 11,
    "start_time": "2022-04-19T10:58:48.287Z"
   },
   {
    "duration": 7,
    "start_time": "2022-04-19T10:58:48.300Z"
   },
   {
    "duration": 10,
    "start_time": "2022-04-19T10:58:48.308Z"
   },
   {
    "duration": 3,
    "start_time": "2022-04-19T10:58:48.320Z"
   },
   {
    "duration": 20,
    "start_time": "2022-04-19T10:58:48.324Z"
   },
   {
    "duration": 5,
    "start_time": "2022-04-19T10:58:48.346Z"
   },
   {
    "duration": 8,
    "start_time": "2022-04-19T10:58:48.352Z"
   },
   {
    "duration": 20,
    "start_time": "2022-04-19T10:58:48.361Z"
   },
   {
    "duration": 19,
    "start_time": "2022-04-19T10:58:48.382Z"
   },
   {
    "duration": 4,
    "start_time": "2022-04-19T10:58:48.402Z"
   },
   {
    "duration": 11,
    "start_time": "2022-04-19T10:58:48.407Z"
   },
   {
    "duration": 11,
    "start_time": "2022-04-19T10:58:48.420Z"
   },
   {
    "duration": 14,
    "start_time": "2022-04-19T10:58:48.432Z"
   },
   {
    "duration": 11,
    "start_time": "2022-04-19T10:58:48.447Z"
   },
   {
    "duration": 16,
    "start_time": "2022-04-19T10:58:48.460Z"
   },
   {
    "duration": 22,
    "start_time": "2022-04-19T10:58:48.478Z"
   },
   {
    "duration": 6,
    "start_time": "2022-04-19T10:58:48.501Z"
   },
   {
    "duration": 11,
    "start_time": "2022-04-19T10:58:48.509Z"
   },
   {
    "duration": 15,
    "start_time": "2022-04-19T10:58:48.524Z"
   },
   {
    "duration": 8,
    "start_time": "2022-04-19T10:58:48.541Z"
   },
   {
    "duration": 287,
    "start_time": "2022-04-19T10:58:48.550Z"
   },
   {
    "duration": 300,
    "start_time": "2022-04-19T10:58:48.839Z"
   },
   {
    "duration": 282,
    "start_time": "2022-04-19T10:58:49.140Z"
   },
   {
    "duration": 335,
    "start_time": "2022-04-19T10:58:49.424Z"
   },
   {
    "duration": 289,
    "start_time": "2022-04-19T10:58:49.761Z"
   },
   {
    "duration": 329,
    "start_time": "2022-04-19T10:58:50.052Z"
   },
   {
    "duration": 317,
    "start_time": "2022-04-19T10:58:50.383Z"
   },
   {
    "duration": 301,
    "start_time": "2022-04-19T10:58:50.702Z"
   },
   {
    "duration": 152,
    "start_time": "2022-04-19T10:58:51.005Z"
   },
   {
    "duration": 522,
    "start_time": "2022-04-19T10:58:51.159Z"
   },
   {
    "duration": 490,
    "start_time": "2022-04-19T10:58:51.682Z"
   },
   {
    "duration": 366,
    "start_time": "2022-04-19T10:58:52.174Z"
   },
   {
    "duration": 5,
    "start_time": "2022-04-19T10:58:52.541Z"
   },
   {
    "duration": 11,
    "start_time": "2022-04-19T10:58:52.548Z"
   },
   {
    "duration": 419,
    "start_time": "2022-04-19T10:58:52.561Z"
   },
   {
    "duration": 4,
    "start_time": "2022-04-19T10:58:52.982Z"
   },
   {
    "duration": 15,
    "start_time": "2022-04-19T10:58:52.988Z"
   },
   {
    "duration": 16,
    "start_time": "2022-04-19T10:58:53.005Z"
   },
   {
    "duration": 15,
    "start_time": "2022-04-19T10:58:53.022Z"
   },
   {
    "duration": 6,
    "start_time": "2022-04-19T10:58:53.039Z"
   },
   {
    "duration": 428,
    "start_time": "2022-04-19T10:58:53.046Z"
   },
   {
    "duration": 275,
    "start_time": "2022-04-19T10:58:53.475Z"
   },
   {
    "duration": 350,
    "start_time": "2022-04-19T10:58:53.752Z"
   },
   {
    "duration": 5,
    "start_time": "2022-04-19T10:58:54.104Z"
   },
   {
    "duration": 412,
    "start_time": "2022-04-19T10:58:54.110Z"
   },
   {
    "duration": 275,
    "start_time": "2022-04-19T10:58:54.523Z"
   },
   {
    "duration": 367,
    "start_time": "2022-04-19T10:58:54.799Z"
   },
   {
    "duration": 5,
    "start_time": "2022-04-19T10:58:55.167Z"
   },
   {
    "duration": 21,
    "start_time": "2022-04-19T11:29:52.382Z"
   },
   {
    "duration": 16,
    "start_time": "2022-04-19T11:30:31.693Z"
   },
   {
    "duration": 14,
    "start_time": "2022-04-19T11:31:18.549Z"
   },
   {
    "duration": 3,
    "start_time": "2022-04-19T11:31:29.558Z"
   },
   {
    "duration": 64,
    "start_time": "2022-04-19T11:31:29.565Z"
   },
   {
    "duration": 8,
    "start_time": "2022-04-19T11:31:29.631Z"
   },
   {
    "duration": 11,
    "start_time": "2022-04-19T11:31:29.640Z"
   },
   {
    "duration": 9,
    "start_time": "2022-04-19T11:31:29.653Z"
   },
   {
    "duration": 10,
    "start_time": "2022-04-19T11:31:29.664Z"
   },
   {
    "duration": 8,
    "start_time": "2022-04-19T11:31:29.675Z"
   },
   {
    "duration": 18,
    "start_time": "2022-04-19T11:31:29.685Z"
   },
   {
    "duration": 5,
    "start_time": "2022-04-19T11:31:29.704Z"
   },
   {
    "duration": 10,
    "start_time": "2022-04-19T11:31:29.710Z"
   },
   {
    "duration": 4,
    "start_time": "2022-04-19T11:31:29.721Z"
   },
   {
    "duration": 9,
    "start_time": "2022-04-19T11:31:29.726Z"
   },
   {
    "duration": 16,
    "start_time": "2022-04-19T11:31:29.736Z"
   },
   {
    "duration": 5,
    "start_time": "2022-04-19T11:31:29.754Z"
   },
   {
    "duration": 4,
    "start_time": "2022-04-19T11:31:29.762Z"
   },
   {
    "duration": 37,
    "start_time": "2022-04-19T11:31:29.767Z"
   },
   {
    "duration": 4,
    "start_time": "2022-04-19T11:31:29.806Z"
   },
   {
    "duration": 16,
    "start_time": "2022-04-19T11:31:29.811Z"
   },
   {
    "duration": 14,
    "start_time": "2022-04-19T11:31:29.828Z"
   },
   {
    "duration": 18,
    "start_time": "2022-04-19T11:31:29.844Z"
   },
   {
    "duration": 6,
    "start_time": "2022-04-19T11:31:29.864Z"
   },
   {
    "duration": 6,
    "start_time": "2022-04-19T11:31:29.872Z"
   },
   {
    "duration": 30,
    "start_time": "2022-04-19T11:31:29.879Z"
   },
   {
    "duration": 17,
    "start_time": "2022-04-19T11:31:29.910Z"
   },
   {
    "duration": 8,
    "start_time": "2022-04-19T11:31:29.929Z"
   },
   {
    "duration": 289,
    "start_time": "2022-04-19T11:31:29.939Z"
   },
   {
    "duration": 311,
    "start_time": "2022-04-19T11:31:30.230Z"
   },
   {
    "duration": 280,
    "start_time": "2022-04-19T11:31:30.543Z"
   },
   {
    "duration": 335,
    "start_time": "2022-04-19T11:31:30.824Z"
   },
   {
    "duration": 291,
    "start_time": "2022-04-19T11:31:31.161Z"
   },
   {
    "duration": 431,
    "start_time": "2022-04-19T11:31:31.453Z"
   },
   {
    "duration": 323,
    "start_time": "2022-04-19T11:31:31.885Z"
   },
   {
    "duration": 293,
    "start_time": "2022-04-19T11:31:32.210Z"
   },
   {
    "duration": 146,
    "start_time": "2022-04-19T11:31:32.504Z"
   },
   {
    "duration": 510,
    "start_time": "2022-04-19T11:31:32.651Z"
   },
   {
    "duration": 412,
    "start_time": "2022-04-19T11:31:33.162Z"
   },
   {
    "duration": 360,
    "start_time": "2022-04-19T11:31:33.576Z"
   },
   {
    "duration": 5,
    "start_time": "2022-04-19T11:31:33.938Z"
   },
   {
    "duration": 9,
    "start_time": "2022-04-19T11:31:33.944Z"
   },
   {
    "duration": 12,
    "start_time": "2022-04-19T11:31:56.228Z"
   },
   {
    "duration": 72,
    "start_time": "2022-04-19T11:32:15.331Z"
   },
   {
    "duration": 125,
    "start_time": "2022-04-19T11:32:36.584Z"
   },
   {
    "duration": 17,
    "start_time": "2022-04-19T11:36:53.601Z"
   },
   {
    "duration": 7,
    "start_time": "2022-04-19T11:55:53.325Z"
   },
   {
    "duration": 5,
    "start_time": "2022-04-19T11:55:58.889Z"
   },
   {
    "duration": 95,
    "start_time": "2022-04-19T11:55:58.897Z"
   },
   {
    "duration": 9,
    "start_time": "2022-04-19T11:55:58.994Z"
   },
   {
    "duration": 22,
    "start_time": "2022-04-19T11:55:59.005Z"
   },
   {
    "duration": 10,
    "start_time": "2022-04-19T11:55:59.029Z"
   },
   {
    "duration": 10,
    "start_time": "2022-04-19T11:55:59.040Z"
   },
   {
    "duration": 9,
    "start_time": "2022-04-19T11:55:59.052Z"
   },
   {
    "duration": 11,
    "start_time": "2022-04-19T11:55:59.063Z"
   },
   {
    "duration": 5,
    "start_time": "2022-04-19T11:55:59.075Z"
   },
   {
    "duration": 29,
    "start_time": "2022-04-19T11:55:59.082Z"
   },
   {
    "duration": 13,
    "start_time": "2022-04-19T11:55:59.112Z"
   },
   {
    "duration": 8,
    "start_time": "2022-04-19T11:55:59.127Z"
   },
   {
    "duration": 19,
    "start_time": "2022-04-19T11:55:59.136Z"
   },
   {
    "duration": 5,
    "start_time": "2022-04-19T11:55:59.157Z"
   },
   {
    "duration": 7,
    "start_time": "2022-04-19T11:55:59.163Z"
   },
   {
    "duration": 30,
    "start_time": "2022-04-19T11:55:59.172Z"
   },
   {
    "duration": 16,
    "start_time": "2022-04-19T11:55:59.204Z"
   },
   {
    "duration": 15,
    "start_time": "2022-04-19T11:55:59.222Z"
   },
   {
    "duration": 12,
    "start_time": "2022-04-19T11:55:59.238Z"
   },
   {
    "duration": 17,
    "start_time": "2022-04-19T11:55:59.251Z"
   },
   {
    "duration": 7,
    "start_time": "2022-04-19T11:55:59.269Z"
   },
   {
    "duration": 31,
    "start_time": "2022-04-19T11:55:59.277Z"
   },
   {
    "duration": 15,
    "start_time": "2022-04-19T11:55:59.310Z"
   },
   {
    "duration": 17,
    "start_time": "2022-04-19T11:55:59.326Z"
   },
   {
    "duration": 7,
    "start_time": "2022-04-19T11:55:59.345Z"
   },
   {
    "duration": 294,
    "start_time": "2022-04-19T11:55:59.354Z"
   },
   {
    "duration": 323,
    "start_time": "2022-04-19T11:55:59.650Z"
   },
   {
    "duration": 294,
    "start_time": "2022-04-19T11:55:59.976Z"
   },
   {
    "duration": 390,
    "start_time": "2022-04-19T11:56:00.273Z"
   },
   {
    "duration": 315,
    "start_time": "2022-04-19T11:56:00.664Z"
   },
   {
    "duration": 379,
    "start_time": "2022-04-19T11:56:00.980Z"
   },
   {
    "duration": 355,
    "start_time": "2022-04-19T11:56:01.361Z"
   },
   {
    "duration": 334,
    "start_time": "2022-04-19T11:56:01.717Z"
   },
   {
    "duration": 175,
    "start_time": "2022-04-19T11:56:02.053Z"
   },
   {
    "duration": 565,
    "start_time": "2022-04-19T11:56:02.230Z"
   },
   {
    "duration": 696,
    "start_time": "2022-04-19T11:56:02.800Z"
   },
   {
    "duration": 368,
    "start_time": "2022-04-19T11:56:03.497Z"
   },
   {
    "duration": 7,
    "start_time": "2022-04-19T11:56:03.866Z"
   },
   {
    "duration": 29,
    "start_time": "2022-04-19T11:56:03.874Z"
   },
   {
    "duration": 754,
    "start_time": "2022-04-19T11:56:03.907Z"
   },
   {
    "duration": 5,
    "start_time": "2022-04-19T11:56:04.663Z"
   },
   {
    "duration": 5,
    "start_time": "2022-04-19T11:56:07.137Z"
   },
   {
    "duration": 12,
    "start_time": "2022-04-19T12:01:04.629Z"
   },
   {
    "duration": 7,
    "start_time": "2022-04-19T12:01:53.777Z"
   },
   {
    "duration": 5,
    "start_time": "2022-04-19T12:02:00.246Z"
   },
   {
    "duration": 4,
    "start_time": "2022-04-19T12:05:41.827Z"
   },
   {
    "duration": 17,
    "start_time": "2022-04-19T12:10:01.833Z"
   },
   {
    "duration": 12,
    "start_time": "2022-04-19T12:12:02.230Z"
   },
   {
    "duration": 7,
    "start_time": "2022-04-19T12:12:10.741Z"
   },
   {
    "duration": 12,
    "start_time": "2022-04-19T12:14:21.324Z"
   },
   {
    "duration": 1203,
    "start_time": "2022-04-21T11:41:24.062Z"
   },
   {
    "duration": 39,
    "start_time": "2022-04-21T11:41:25.267Z"
   },
   {
    "duration": 19,
    "start_time": "2022-04-21T11:41:25.308Z"
   },
   {
    "duration": 13,
    "start_time": "2022-04-21T11:41:25.331Z"
   },
   {
    "duration": 9,
    "start_time": "2022-04-21T11:41:25.345Z"
   },
   {
    "duration": 10,
    "start_time": "2022-04-21T11:41:25.356Z"
   },
   {
    "duration": 11,
    "start_time": "2022-04-21T11:41:25.368Z"
   },
   {
    "duration": 43,
    "start_time": "2022-04-21T11:41:25.381Z"
   },
   {
    "duration": 6,
    "start_time": "2022-04-21T11:41:25.426Z"
   },
   {
    "duration": 11,
    "start_time": "2022-04-21T11:41:25.437Z"
   },
   {
    "duration": 4,
    "start_time": "2022-04-21T11:41:25.450Z"
   },
   {
    "duration": 12,
    "start_time": "2022-04-21T11:41:25.456Z"
   },
   {
    "duration": 61,
    "start_time": "2022-04-21T11:41:25.470Z"
   },
   {
    "duration": 6,
    "start_time": "2022-04-21T11:41:25.533Z"
   },
   {
    "duration": 4,
    "start_time": "2022-04-21T11:41:25.541Z"
   },
   {
    "duration": 8,
    "start_time": "2022-04-21T11:41:25.547Z"
   },
   {
    "duration": 4,
    "start_time": "2022-04-21T11:41:25.557Z"
   },
   {
    "duration": 16,
    "start_time": "2022-04-21T11:41:25.563Z"
   },
   {
    "duration": 46,
    "start_time": "2022-04-21T11:41:25.580Z"
   },
   {
    "duration": 18,
    "start_time": "2022-04-21T11:41:25.628Z"
   },
   {
    "duration": 8,
    "start_time": "2022-04-21T11:41:25.648Z"
   },
   {
    "duration": 3,
    "start_time": "2022-04-21T11:41:25.658Z"
   },
   {
    "duration": 7,
    "start_time": "2022-04-21T11:41:25.662Z"
   },
   {
    "duration": 41,
    "start_time": "2022-04-21T11:41:25.670Z"
   },
   {
    "duration": 13,
    "start_time": "2022-04-21T11:41:25.714Z"
   },
   {
    "duration": 20,
    "start_time": "2022-04-21T11:41:25.730Z"
   },
   {
    "duration": 8,
    "start_time": "2022-04-21T11:41:25.751Z"
   },
   {
    "duration": 409,
    "start_time": "2022-04-21T11:41:25.763Z"
   },
   {
    "duration": 387,
    "start_time": "2022-04-21T11:41:26.173Z"
   },
   {
    "duration": 366,
    "start_time": "2022-04-21T11:41:26.561Z"
   },
   {
    "duration": 414,
    "start_time": "2022-04-21T11:41:26.930Z"
   },
   {
    "duration": 350,
    "start_time": "2022-04-21T11:41:27.345Z"
   },
   {
    "duration": 444,
    "start_time": "2022-04-21T11:41:27.697Z"
   },
   {
    "duration": 418,
    "start_time": "2022-04-21T11:41:28.143Z"
   },
   {
    "duration": 400,
    "start_time": "2022-04-21T11:41:28.562Z"
   },
   {
    "duration": 273,
    "start_time": "2022-04-21T11:41:28.963Z"
   },
   {
    "duration": 642,
    "start_time": "2022-04-21T11:41:29.238Z"
   },
   {
    "duration": 14,
    "start_time": "2022-04-21T11:41:31.631Z"
   },
   {
    "duration": 1247,
    "start_time": "2022-04-21T15:49:37.010Z"
   },
   {
    "duration": 34,
    "start_time": "2022-04-21T15:49:38.259Z"
   },
   {
    "duration": 11,
    "start_time": "2022-04-21T15:49:38.294Z"
   },
   {
    "duration": 10,
    "start_time": "2022-04-21T15:49:38.307Z"
   },
   {
    "duration": 8,
    "start_time": "2022-04-21T15:49:38.319Z"
   },
   {
    "duration": 11,
    "start_time": "2022-04-21T15:49:38.329Z"
   },
   {
    "duration": 6,
    "start_time": "2022-04-21T15:49:38.342Z"
   },
   {
    "duration": 9,
    "start_time": "2022-04-21T15:49:38.350Z"
   },
   {
    "duration": 4,
    "start_time": "2022-04-21T15:49:38.360Z"
   },
   {
    "duration": 42,
    "start_time": "2022-04-21T15:49:38.366Z"
   },
   {
    "duration": 4,
    "start_time": "2022-04-21T15:49:38.410Z"
   },
   {
    "duration": 8,
    "start_time": "2022-04-21T15:49:38.415Z"
   },
   {
    "duration": 18,
    "start_time": "2022-04-21T15:49:38.425Z"
   },
   {
    "duration": 4,
    "start_time": "2022-04-21T15:49:38.445Z"
   },
   {
    "duration": 4,
    "start_time": "2022-04-21T15:49:38.451Z"
   },
   {
    "duration": 9,
    "start_time": "2022-04-21T15:49:38.456Z"
   },
   {
    "duration": 4,
    "start_time": "2022-04-21T15:49:38.466Z"
   },
   {
    "duration": 43,
    "start_time": "2022-04-21T15:49:38.472Z"
   },
   {
    "duration": 13,
    "start_time": "2022-04-21T15:49:38.517Z"
   },
   {
    "duration": 17,
    "start_time": "2022-04-21T15:49:38.532Z"
   },
   {
    "duration": 9,
    "start_time": "2022-04-21T15:49:38.551Z"
   },
   {
    "duration": 5,
    "start_time": "2022-04-21T15:49:38.561Z"
   },
   {
    "duration": 8,
    "start_time": "2022-04-21T15:49:38.567Z"
   },
   {
    "duration": 34,
    "start_time": "2022-04-21T15:49:38.576Z"
   },
   {
    "duration": 9,
    "start_time": "2022-04-21T15:49:38.612Z"
   },
   {
    "duration": 17,
    "start_time": "2022-04-21T15:49:38.623Z"
   },
   {
    "duration": 8,
    "start_time": "2022-04-21T15:49:38.642Z"
   },
   {
    "duration": 339,
    "start_time": "2022-04-21T15:49:38.653Z"
   },
   {
    "duration": 339,
    "start_time": "2022-04-21T15:49:38.994Z"
   },
   {
    "duration": 319,
    "start_time": "2022-04-21T15:49:39.335Z"
   },
   {
    "duration": 426,
    "start_time": "2022-04-21T15:49:39.656Z"
   },
   {
    "duration": 308,
    "start_time": "2022-04-21T15:49:40.084Z"
   },
   {
    "duration": 399,
    "start_time": "2022-04-21T15:49:40.394Z"
   },
   {
    "duration": 371,
    "start_time": "2022-04-21T15:49:40.795Z"
   },
   {
    "duration": 332,
    "start_time": "2022-04-21T15:49:41.167Z"
   },
   {
    "duration": 237,
    "start_time": "2022-04-21T15:49:41.501Z"
   },
   {
    "duration": 580,
    "start_time": "2022-04-21T15:49:41.740Z"
   },
   {
    "duration": 98,
    "start_time": "2022-04-21T15:50:34.379Z"
   },
   {
    "duration": 4,
    "start_time": "2022-04-21T15:50:40.437Z"
   },
   {
    "duration": 38,
    "start_time": "2022-04-21T15:50:40.443Z"
   },
   {
    "duration": 7,
    "start_time": "2022-04-21T15:50:40.482Z"
   },
   {
    "duration": 10,
    "start_time": "2022-04-21T15:50:40.491Z"
   },
   {
    "duration": 7,
    "start_time": "2022-04-21T15:50:40.503Z"
   },
   {
    "duration": 10,
    "start_time": "2022-04-21T15:50:40.512Z"
   },
   {
    "duration": 9,
    "start_time": "2022-04-21T15:50:40.523Z"
   },
   {
    "duration": 10,
    "start_time": "2022-04-21T15:50:40.533Z"
   },
   {
    "duration": 4,
    "start_time": "2022-04-21T15:50:40.544Z"
   },
   {
    "duration": 9,
    "start_time": "2022-04-21T15:50:40.549Z"
   },
   {
    "duration": 4,
    "start_time": "2022-04-21T15:50:40.559Z"
   },
   {
    "duration": 8,
    "start_time": "2022-04-21T15:50:40.564Z"
   },
   {
    "duration": 52,
    "start_time": "2022-04-21T15:50:40.573Z"
   },
   {
    "duration": 5,
    "start_time": "2022-04-21T15:50:40.628Z"
   },
   {
    "duration": 5,
    "start_time": "2022-04-21T15:50:40.635Z"
   },
   {
    "duration": 8,
    "start_time": "2022-04-21T15:50:40.642Z"
   },
   {
    "duration": 6,
    "start_time": "2022-04-21T15:50:40.652Z"
   },
   {
    "duration": 53,
    "start_time": "2022-04-21T15:50:40.659Z"
   },
   {
    "duration": 12,
    "start_time": "2022-04-21T15:50:40.714Z"
   },
   {
    "duration": 16,
    "start_time": "2022-04-21T15:50:40.728Z"
   },
   {
    "duration": 11,
    "start_time": "2022-04-21T15:50:40.746Z"
   },
   {
    "duration": 5,
    "start_time": "2022-04-21T15:50:40.758Z"
   },
   {
    "duration": 9,
    "start_time": "2022-04-21T15:50:40.764Z"
   },
   {
    "duration": 9,
    "start_time": "2022-04-21T15:50:40.806Z"
   },
   {
    "duration": 10,
    "start_time": "2022-04-21T15:50:40.816Z"
   },
   {
    "duration": 19,
    "start_time": "2022-04-21T15:50:40.827Z"
   },
   {
    "duration": 8,
    "start_time": "2022-04-21T15:50:40.848Z"
   },
   {
    "duration": 358,
    "start_time": "2022-04-21T15:50:40.857Z"
   },
   {
    "duration": 356,
    "start_time": "2022-04-21T15:50:41.217Z"
   },
   {
    "duration": 320,
    "start_time": "2022-04-21T15:50:41.575Z"
   },
   {
    "duration": 379,
    "start_time": "2022-04-21T15:50:41.897Z"
   },
   {
    "duration": 306,
    "start_time": "2022-04-21T15:50:42.278Z"
   },
   {
    "duration": 397,
    "start_time": "2022-04-21T15:50:42.586Z"
   },
   {
    "duration": 392,
    "start_time": "2022-04-21T15:50:42.985Z"
   },
   {
    "duration": 345,
    "start_time": "2022-04-21T15:50:43.379Z"
   },
   {
    "duration": 172,
    "start_time": "2022-04-21T15:50:43.726Z"
   },
   {
    "duration": 551,
    "start_time": "2022-04-21T15:50:43.900Z"
   },
   {
    "duration": 14,
    "start_time": "2022-04-21T15:50:44.453Z"
   },
   {
    "duration": 10,
    "start_time": "2022-04-21T15:50:57.529Z"
   },
   {
    "duration": 7,
    "start_time": "2022-04-21T15:59:39.350Z"
   },
   {
    "duration": 7,
    "start_time": "2022-04-21T15:59:58.139Z"
   },
   {
    "duration": 8,
    "start_time": "2022-04-21T16:00:01.808Z"
   },
   {
    "duration": 4,
    "start_time": "2022-04-21T16:00:54.290Z"
   },
   {
    "duration": 43,
    "start_time": "2022-04-21T16:00:54.296Z"
   },
   {
    "duration": 8,
    "start_time": "2022-04-21T16:00:54.340Z"
   },
   {
    "duration": 14,
    "start_time": "2022-04-21T16:00:54.350Z"
   },
   {
    "duration": 10,
    "start_time": "2022-04-21T16:00:54.366Z"
   },
   {
    "duration": 10,
    "start_time": "2022-04-21T16:00:54.378Z"
   },
   {
    "duration": 7,
    "start_time": "2022-04-21T16:00:54.389Z"
   },
   {
    "duration": 112,
    "start_time": "2022-04-21T16:00:54.397Z"
   },
   {
    "duration": 4,
    "start_time": "2022-04-21T16:00:54.511Z"
   },
   {
    "duration": 11,
    "start_time": "2022-04-21T16:00:54.517Z"
   },
   {
    "duration": 4,
    "start_time": "2022-04-21T16:00:54.529Z"
   },
   {
    "duration": 9,
    "start_time": "2022-04-21T16:00:54.534Z"
   },
   {
    "duration": 19,
    "start_time": "2022-04-21T16:00:54.545Z"
   },
   {
    "duration": 40,
    "start_time": "2022-04-21T16:00:54.568Z"
   },
   {
    "duration": 8,
    "start_time": "2022-04-21T16:00:54.610Z"
   },
   {
    "duration": 16,
    "start_time": "2022-04-21T16:00:54.620Z"
   },
   {
    "duration": 6,
    "start_time": "2022-04-21T16:00:54.637Z"
   },
   {
    "duration": 15,
    "start_time": "2022-04-21T16:00:54.645Z"
   },
   {
    "duration": 12,
    "start_time": "2022-04-21T16:00:54.662Z"
   },
   {
    "duration": 52,
    "start_time": "2022-04-21T16:00:54.676Z"
   },
   {
    "duration": 9,
    "start_time": "2022-04-21T16:00:54.729Z"
   },
   {
    "duration": 4,
    "start_time": "2022-04-21T16:00:54.740Z"
   },
   {
    "duration": 11,
    "start_time": "2022-04-21T16:00:54.745Z"
   },
   {
    "duration": 6,
    "start_time": "2022-04-21T16:00:54.758Z"
   },
   {
    "duration": 8,
    "start_time": "2022-04-21T16:00:54.765Z"
   },
   {
    "duration": 54,
    "start_time": "2022-04-21T16:00:54.775Z"
   },
   {
    "duration": 9,
    "start_time": "2022-04-21T16:00:54.830Z"
   },
   {
    "duration": 356,
    "start_time": "2022-04-21T16:00:54.841Z"
   },
   {
    "duration": 391,
    "start_time": "2022-04-21T16:00:55.198Z"
   },
   {
    "duration": 358,
    "start_time": "2022-04-21T16:00:55.591Z"
   },
   {
    "duration": 363,
    "start_time": "2022-04-21T16:00:55.952Z"
   },
   {
    "duration": 352,
    "start_time": "2022-04-21T16:00:56.318Z"
   },
   {
    "duration": 367,
    "start_time": "2022-04-21T16:00:56.672Z"
   },
   {
    "duration": 386,
    "start_time": "2022-04-21T16:00:57.041Z"
   },
   {
    "duration": 362,
    "start_time": "2022-04-21T16:00:57.429Z"
   },
   {
    "duration": 183,
    "start_time": "2022-04-21T16:00:57.793Z"
   },
   {
    "duration": 565,
    "start_time": "2022-04-21T16:00:57.979Z"
   },
   {
    "duration": 13,
    "start_time": "2022-04-21T16:00:58.545Z"
   },
   {
    "duration": 7,
    "start_time": "2022-04-21T16:00:58.560Z"
   },
   {
    "duration": 8,
    "start_time": "2022-04-21T16:00:58.568Z"
   },
   {
    "duration": 38,
    "start_time": "2022-04-21T16:00:58.579Z"
   },
   {
    "duration": 3,
    "start_time": "2022-04-21T16:19:09.550Z"
   },
   {
    "duration": 42,
    "start_time": "2022-04-21T16:19:09.555Z"
   },
   {
    "duration": 8,
    "start_time": "2022-04-21T16:19:09.599Z"
   },
   {
    "duration": 12,
    "start_time": "2022-04-21T16:19:09.609Z"
   },
   {
    "duration": 8,
    "start_time": "2022-04-21T16:19:09.624Z"
   },
   {
    "duration": 10,
    "start_time": "2022-04-21T16:19:09.634Z"
   },
   {
    "duration": 8,
    "start_time": "2022-04-21T16:19:09.646Z"
   },
   {
    "duration": 10,
    "start_time": "2022-04-21T16:19:09.656Z"
   },
   {
    "duration": 3,
    "start_time": "2022-04-21T16:19:09.708Z"
   },
   {
    "duration": 12,
    "start_time": "2022-04-21T16:19:09.713Z"
   },
   {
    "duration": 4,
    "start_time": "2022-04-21T16:19:09.727Z"
   },
   {
    "duration": 9,
    "start_time": "2022-04-21T16:19:09.733Z"
   },
   {
    "duration": 20,
    "start_time": "2022-04-21T16:19:09.744Z"
   },
   {
    "duration": 7,
    "start_time": "2022-04-21T16:19:09.765Z"
   },
   {
    "duration": 38,
    "start_time": "2022-04-21T16:19:09.773Z"
   },
   {
    "duration": 16,
    "start_time": "2022-04-21T16:19:09.813Z"
   },
   {
    "duration": 7,
    "start_time": "2022-04-21T16:19:09.831Z"
   },
   {
    "duration": 16,
    "start_time": "2022-04-21T16:19:09.840Z"
   },
   {
    "duration": 12,
    "start_time": "2022-04-21T16:19:09.858Z"
   },
   {
    "duration": 40,
    "start_time": "2022-04-21T16:19:09.872Z"
   },
   {
    "duration": 12,
    "start_time": "2022-04-21T16:19:09.913Z"
   },
   {
    "duration": 4,
    "start_time": "2022-04-21T16:19:09.927Z"
   },
   {
    "duration": 9,
    "start_time": "2022-04-21T16:19:09.932Z"
   },
   {
    "duration": 8,
    "start_time": "2022-04-21T16:19:09.943Z"
   },
   {
    "duration": 9,
    "start_time": "2022-04-21T16:19:09.952Z"
   },
   {
    "duration": 51,
    "start_time": "2022-04-21T16:19:09.962Z"
   },
   {
    "duration": 8,
    "start_time": "2022-04-21T16:19:10.015Z"
   },
   {
    "duration": 337,
    "start_time": "2022-04-21T16:19:10.025Z"
   },
   {
    "duration": 350,
    "start_time": "2022-04-21T16:19:10.366Z"
   },
   {
    "duration": 321,
    "start_time": "2022-04-21T16:19:10.718Z"
   },
   {
    "duration": 476,
    "start_time": "2022-04-21T16:19:11.040Z"
   },
   {
    "duration": 340,
    "start_time": "2022-04-21T16:19:11.518Z"
   },
   {
    "duration": 365,
    "start_time": "2022-04-21T16:19:11.860Z"
   },
   {
    "duration": 367,
    "start_time": "2022-04-21T16:19:12.227Z"
   },
   {
    "duration": 355,
    "start_time": "2022-04-21T16:19:12.596Z"
   },
   {
    "duration": 188,
    "start_time": "2022-04-21T16:19:12.953Z"
   },
   {
    "duration": 578,
    "start_time": "2022-04-21T16:19:13.143Z"
   },
   {
    "duration": 15,
    "start_time": "2022-04-21T16:19:13.724Z"
   },
   {
    "duration": 7,
    "start_time": "2022-04-21T16:19:13.741Z"
   },
   {
    "duration": 11,
    "start_time": "2022-04-21T16:19:13.750Z"
   },
   {
    "duration": 51,
    "start_time": "2022-04-21T16:19:13.763Z"
   },
   {
    "duration": 5,
    "start_time": "2022-04-21T16:19:13.816Z"
   },
   {
    "duration": 7,
    "start_time": "2022-04-21T16:19:13.822Z"
   },
   {
    "duration": 7,
    "start_time": "2022-04-21T16:19:13.831Z"
   },
   {
    "duration": 14,
    "start_time": "2022-04-21T16:27:17.990Z"
   },
   {
    "duration": 7,
    "start_time": "2022-04-21T16:27:38.787Z"
   },
   {
    "duration": 11,
    "start_time": "2022-04-21T19:22:55.959Z"
   },
   {
    "duration": 4,
    "start_time": "2022-04-21T19:23:12.212Z"
   },
   {
    "duration": 4,
    "start_time": "2022-04-21T19:23:12.891Z"
   },
   {
    "duration": 23,
    "start_time": "2022-04-21T19:23:13.517Z"
   },
   {
    "duration": 10,
    "start_time": "2022-04-21T19:25:02.196Z"
   },
   {
    "duration": 11,
    "start_time": "2022-04-21T19:25:08.140Z"
   },
   {
    "duration": 11,
    "start_time": "2022-04-21T19:25:08.496Z"
   },
   {
    "duration": 10,
    "start_time": "2022-04-21T19:25:09.300Z"
   },
   {
    "duration": 11,
    "start_time": "2022-04-21T19:25:09.495Z"
   },
   {
    "duration": 18,
    "start_time": "2022-04-21T19:25:10.119Z"
   },
   {
    "duration": 4,
    "start_time": "2022-04-21T19:25:10.355Z"
   },
   {
    "duration": 4,
    "start_time": "2022-04-21T19:25:10.542Z"
   },
   {
    "duration": 22,
    "start_time": "2022-04-21T19:25:11.511Z"
   },
   {
    "duration": 3,
    "start_time": "2022-04-21T19:25:19.286Z"
   },
   {
    "duration": 38,
    "start_time": "2022-04-21T19:25:19.291Z"
   },
   {
    "duration": 8,
    "start_time": "2022-04-21T19:25:19.332Z"
   },
   {
    "duration": 14,
    "start_time": "2022-04-21T19:25:19.341Z"
   },
   {
    "duration": 10,
    "start_time": "2022-04-21T19:25:19.357Z"
   },
   {
    "duration": 12,
    "start_time": "2022-04-21T19:25:19.369Z"
   },
   {
    "duration": 7,
    "start_time": "2022-04-21T19:25:19.383Z"
   },
   {
    "duration": 11,
    "start_time": "2022-04-21T19:25:19.409Z"
   },
   {
    "duration": 4,
    "start_time": "2022-04-21T19:25:19.422Z"
   },
   {
    "duration": 8,
    "start_time": "2022-04-21T19:25:19.428Z"
   },
   {
    "duration": 3,
    "start_time": "2022-04-21T19:25:19.440Z"
   },
   {
    "duration": 11,
    "start_time": "2022-04-21T19:25:19.444Z"
   },
   {
    "duration": 64,
    "start_time": "2022-04-21T19:25:19.457Z"
   },
   {
    "duration": 5,
    "start_time": "2022-04-21T19:25:19.523Z"
   },
   {
    "duration": 5,
    "start_time": "2022-04-21T19:25:19.530Z"
   },
   {
    "duration": 8,
    "start_time": "2022-04-21T19:25:19.537Z"
   },
   {
    "duration": 6,
    "start_time": "2022-04-21T19:25:19.547Z"
   },
   {
    "duration": 15,
    "start_time": "2022-04-21T19:25:19.554Z"
   },
   {
    "duration": 49,
    "start_time": "2022-04-21T19:25:19.571Z"
   },
   {
    "duration": 17,
    "start_time": "2022-04-21T19:25:19.622Z"
   },
   {
    "duration": 11,
    "start_time": "2022-04-21T19:25:19.640Z"
   },
   {
    "duration": 6,
    "start_time": "2022-04-21T19:25:19.653Z"
   },
   {
    "duration": 9,
    "start_time": "2022-04-21T19:25:19.660Z"
   },
   {
    "duration": 39,
    "start_time": "2022-04-21T19:25:19.670Z"
   },
   {
    "duration": 11,
    "start_time": "2022-04-21T19:25:19.711Z"
   },
   {
    "duration": 19,
    "start_time": "2022-04-21T19:25:19.724Z"
   },
   {
    "duration": 10,
    "start_time": "2022-04-21T19:25:19.744Z"
   },
   {
    "duration": 379,
    "start_time": "2022-04-21T19:25:19.756Z"
   },
   {
    "duration": 377,
    "start_time": "2022-04-21T19:25:20.140Z"
   },
   {
    "duration": 350,
    "start_time": "2022-04-21T19:25:20.519Z"
   },
   {
    "duration": 410,
    "start_time": "2022-04-21T19:25:20.871Z"
   },
   {
    "duration": 345,
    "start_time": "2022-04-21T19:25:21.284Z"
   },
   {
    "duration": 379,
    "start_time": "2022-04-21T19:25:21.632Z"
   },
   {
    "duration": 385,
    "start_time": "2022-04-21T19:25:22.014Z"
   },
   {
    "duration": 372,
    "start_time": "2022-04-21T19:25:22.401Z"
   },
   {
    "duration": 185,
    "start_time": "2022-04-21T19:25:22.774Z"
   },
   {
    "duration": 579,
    "start_time": "2022-04-21T19:25:22.961Z"
   },
   {
    "duration": 14,
    "start_time": "2022-04-21T19:25:23.542Z"
   },
   {
    "duration": 6,
    "start_time": "2022-04-21T19:25:23.558Z"
   },
   {
    "duration": 5,
    "start_time": "2022-04-21T19:25:23.566Z"
   },
   {
    "duration": 6,
    "start_time": "2022-04-21T19:25:23.572Z"
   },
   {
    "duration": 50,
    "start_time": "2022-04-21T19:25:23.580Z"
   },
   {
    "duration": 12,
    "start_time": "2022-04-21T19:25:23.633Z"
   },
   {
    "duration": 12,
    "start_time": "2022-04-21T19:25:23.646Z"
   },
   {
    "duration": 12,
    "start_time": "2022-04-21T19:25:23.660Z"
   },
   {
    "duration": 40,
    "start_time": "2022-04-21T19:25:23.674Z"
   },
   {
    "duration": 10,
    "start_time": "2022-04-21T19:25:23.716Z"
   },
   {
    "duration": 18,
    "start_time": "2022-04-21T19:25:23.728Z"
   },
   {
    "duration": 4,
    "start_time": "2022-04-21T19:25:23.748Z"
   },
   {
    "duration": 16,
    "start_time": "2022-04-21T19:25:23.754Z"
   },
   {
    "duration": 51,
    "start_time": "2022-04-21T19:25:23.771Z"
   },
   {
    "duration": 8,
    "start_time": "2022-04-21T19:25:23.824Z"
   },
   {
    "duration": 4,
    "start_time": "2022-04-21T19:26:42.195Z"
   },
   {
    "duration": 4,
    "start_time": "2022-04-21T19:26:42.442Z"
   },
   {
    "duration": 23,
    "start_time": "2022-04-21T19:26:42.773Z"
   },
   {
    "duration": 11,
    "start_time": "2022-04-21T19:26:43.842Z"
   },
   {
    "duration": 10,
    "start_time": "2022-04-21T19:26:43.910Z"
   },
   {
    "duration": 10,
    "start_time": "2022-04-21T19:26:43.948Z"
   },
   {
    "duration": 10,
    "start_time": "2022-04-21T19:26:44.099Z"
   },
   {
    "duration": 11,
    "start_time": "2022-04-21T19:26:44.138Z"
   },
   {
    "duration": 19,
    "start_time": "2022-04-21T19:26:44.235Z"
   },
   {
    "duration": 4,
    "start_time": "2022-04-21T19:26:44.273Z"
   },
   {
    "duration": 5,
    "start_time": "2022-04-21T19:26:44.313Z"
   },
   {
    "duration": 22,
    "start_time": "2022-04-21T19:26:44.464Z"
   },
   {
    "duration": 9,
    "start_time": "2022-04-21T19:26:44.626Z"
   },
   {
    "duration": 4,
    "start_time": "2022-04-21T19:29:39.484Z"
   },
   {
    "duration": 5,
    "start_time": "2022-04-21T19:29:39.705Z"
   },
   {
    "duration": 22,
    "start_time": "2022-04-21T19:29:40.142Z"
   },
   {
    "duration": 4,
    "start_time": "2022-04-21T19:29:43.784Z"
   },
   {
    "duration": 37,
    "start_time": "2022-04-21T19:29:43.790Z"
   },
   {
    "duration": 8,
    "start_time": "2022-04-21T19:29:43.828Z"
   },
   {
    "duration": 11,
    "start_time": "2022-04-21T19:29:43.837Z"
   },
   {
    "duration": 7,
    "start_time": "2022-04-21T19:29:43.850Z"
   },
   {
    "duration": 10,
    "start_time": "2022-04-21T19:29:43.858Z"
   },
   {
    "duration": 8,
    "start_time": "2022-04-21T19:29:43.869Z"
   },
   {
    "duration": 31,
    "start_time": "2022-04-21T19:29:43.879Z"
   },
   {
    "duration": 6,
    "start_time": "2022-04-21T19:29:43.912Z"
   },
   {
    "duration": 10,
    "start_time": "2022-04-21T19:29:43.920Z"
   },
   {
    "duration": 3,
    "start_time": "2022-04-21T19:29:43.933Z"
   },
   {
    "duration": 9,
    "start_time": "2022-04-21T19:29:43.938Z"
   },
   {
    "duration": 19,
    "start_time": "2022-04-21T19:29:43.948Z"
   },
   {
    "duration": 5,
    "start_time": "2022-04-21T19:29:43.969Z"
   },
   {
    "duration": 5,
    "start_time": "2022-04-21T19:29:44.007Z"
   },
   {
    "duration": 11,
    "start_time": "2022-04-21T19:29:44.014Z"
   },
   {
    "duration": 5,
    "start_time": "2022-04-21T19:29:44.027Z"
   },
   {
    "duration": 14,
    "start_time": "2022-04-21T19:29:44.033Z"
   },
   {
    "duration": 15,
    "start_time": "2022-04-21T19:29:44.048Z"
   },
   {
    "duration": 48,
    "start_time": "2022-04-21T19:29:44.065Z"
   },
   {
    "duration": 10,
    "start_time": "2022-04-21T19:29:44.115Z"
   },
   {
    "duration": 4,
    "start_time": "2022-04-21T19:29:44.126Z"
   },
   {
    "duration": 8,
    "start_time": "2022-04-21T19:29:44.132Z"
   },
   {
    "duration": 14,
    "start_time": "2022-04-21T19:29:44.141Z"
   },
   {
    "duration": 10,
    "start_time": "2022-04-21T19:29:44.156Z"
   },
   {
    "duration": 52,
    "start_time": "2022-04-21T19:29:44.167Z"
   },
   {
    "duration": 8,
    "start_time": "2022-04-21T19:29:44.220Z"
   },
   {
    "duration": 328,
    "start_time": "2022-04-21T19:29:44.230Z"
   },
   {
    "duration": 362,
    "start_time": "2022-04-21T19:29:44.562Z"
   },
   {
    "duration": 311,
    "start_time": "2022-04-21T19:29:44.926Z"
   },
   {
    "duration": 346,
    "start_time": "2022-04-21T19:29:45.239Z"
   },
   {
    "duration": 308,
    "start_time": "2022-04-21T19:29:45.587Z"
   },
   {
    "duration": 380,
    "start_time": "2022-04-21T19:29:45.897Z"
   },
   {
    "duration": 389,
    "start_time": "2022-04-21T19:29:46.280Z"
   },
   {
    "duration": 336,
    "start_time": "2022-04-21T19:29:46.671Z"
   },
   {
    "duration": 164,
    "start_time": "2022-04-21T19:29:47.009Z"
   },
   {
    "duration": 683,
    "start_time": "2022-04-21T19:29:47.174Z"
   },
   {
    "duration": 12,
    "start_time": "2022-04-21T19:29:47.859Z"
   },
   {
    "duration": 6,
    "start_time": "2022-04-21T19:29:47.873Z"
   },
   {
    "duration": 9,
    "start_time": "2022-04-21T19:29:47.881Z"
   },
   {
    "duration": 4,
    "start_time": "2022-04-21T19:29:47.907Z"
   },
   {
    "duration": 24,
    "start_time": "2022-04-21T19:29:47.913Z"
   },
   {
    "duration": 10,
    "start_time": "2022-04-21T19:29:47.939Z"
   },
   {
    "duration": 10,
    "start_time": "2022-04-21T19:29:47.950Z"
   },
   {
    "duration": 13,
    "start_time": "2022-04-21T19:29:47.961Z"
   },
   {
    "duration": 38,
    "start_time": "2022-04-21T19:29:47.975Z"
   },
   {
    "duration": 11,
    "start_time": "2022-04-21T19:29:48.015Z"
   },
   {
    "duration": 23,
    "start_time": "2022-04-21T19:29:48.027Z"
   },
   {
    "duration": 5,
    "start_time": "2022-04-21T19:29:48.051Z"
   },
   {
    "duration": 13,
    "start_time": "2022-04-21T19:29:48.058Z"
   },
   {
    "duration": 47,
    "start_time": "2022-04-21T19:29:48.073Z"
   },
   {
    "duration": 9,
    "start_time": "2022-04-21T19:29:48.122Z"
   },
   {
    "duration": 3,
    "start_time": "2022-04-21T19:32:55.802Z"
   },
   {
    "duration": 35,
    "start_time": "2022-04-21T19:32:55.807Z"
   },
   {
    "duration": 8,
    "start_time": "2022-04-21T19:32:55.844Z"
   },
   {
    "duration": 11,
    "start_time": "2022-04-21T19:32:55.854Z"
   },
   {
    "duration": 9,
    "start_time": "2022-04-21T19:32:55.868Z"
   },
   {
    "duration": 28,
    "start_time": "2022-04-21T19:32:55.879Z"
   },
   {
    "duration": 8,
    "start_time": "2022-04-21T19:32:55.910Z"
   },
   {
    "duration": 10,
    "start_time": "2022-04-21T19:32:55.920Z"
   },
   {
    "duration": 4,
    "start_time": "2022-04-21T19:32:55.932Z"
   },
   {
    "duration": 9,
    "start_time": "2022-04-21T19:32:55.937Z"
   },
   {
    "duration": 4,
    "start_time": "2022-04-21T19:32:55.948Z"
   },
   {
    "duration": 10,
    "start_time": "2022-04-21T19:32:55.953Z"
   },
   {
    "duration": 56,
    "start_time": "2022-04-21T19:32:55.965Z"
   },
   {
    "duration": 4,
    "start_time": "2022-04-21T19:32:56.023Z"
   },
   {
    "duration": 5,
    "start_time": "2022-04-21T19:32:56.028Z"
   },
   {
    "duration": 8,
    "start_time": "2022-04-21T19:32:56.035Z"
   },
   {
    "duration": 5,
    "start_time": "2022-04-21T19:32:56.045Z"
   },
   {
    "duration": 16,
    "start_time": "2022-04-21T19:32:56.052Z"
   },
   {
    "duration": 46,
    "start_time": "2022-04-21T19:32:56.070Z"
   },
   {
    "duration": 19,
    "start_time": "2022-04-21T19:32:56.118Z"
   },
   {
    "duration": 10,
    "start_time": "2022-04-21T19:32:56.139Z"
   },
   {
    "duration": 4,
    "start_time": "2022-04-21T19:32:56.151Z"
   },
   {
    "duration": 9,
    "start_time": "2022-04-21T19:32:56.157Z"
   },
   {
    "duration": 42,
    "start_time": "2022-04-21T19:32:56.168Z"
   },
   {
    "duration": 11,
    "start_time": "2022-04-21T19:32:56.212Z"
   },
   {
    "duration": 18,
    "start_time": "2022-04-21T19:32:56.224Z"
   },
   {
    "duration": 7,
    "start_time": "2022-04-21T19:32:56.244Z"
   },
   {
    "duration": 364,
    "start_time": "2022-04-21T19:32:56.253Z"
   },
   {
    "duration": 357,
    "start_time": "2022-04-21T19:32:56.621Z"
   },
   {
    "duration": 335,
    "start_time": "2022-04-21T19:32:56.979Z"
   },
   {
    "duration": 381,
    "start_time": "2022-04-21T19:32:57.316Z"
   },
   {
    "duration": 321,
    "start_time": "2022-04-21T19:32:57.699Z"
   },
   {
    "duration": 357,
    "start_time": "2022-04-21T19:32:58.021Z"
   },
   {
    "duration": 402,
    "start_time": "2022-04-21T19:32:58.380Z"
   },
   {
    "duration": 339,
    "start_time": "2022-04-21T19:32:58.784Z"
   },
   {
    "duration": 167,
    "start_time": "2022-04-21T19:32:59.125Z"
   },
   {
    "duration": 525,
    "start_time": "2022-04-21T19:32:59.293Z"
   },
   {
    "duration": 14,
    "start_time": "2022-04-21T19:32:59.820Z"
   },
   {
    "duration": 9,
    "start_time": "2022-04-21T19:32:59.835Z"
   },
   {
    "duration": 16,
    "start_time": "2022-04-21T19:32:59.846Z"
   },
   {
    "duration": 14,
    "start_time": "2022-04-21T19:32:59.863Z"
   },
   {
    "duration": 30,
    "start_time": "2022-04-21T19:32:59.879Z"
   },
   {
    "duration": 10,
    "start_time": "2022-04-21T19:32:59.911Z"
   },
   {
    "duration": 14,
    "start_time": "2022-04-21T19:32:59.923Z"
   },
   {
    "duration": 21,
    "start_time": "2022-04-21T19:32:59.938Z"
   },
   {
    "duration": 9,
    "start_time": "2022-04-21T19:32:59.961Z"
   },
   {
    "duration": 13,
    "start_time": "2022-04-21T19:32:59.972Z"
   },
   {
    "duration": 35,
    "start_time": "2022-04-21T19:32:59.987Z"
   },
   {
    "duration": 4,
    "start_time": "2022-04-21T19:33:00.023Z"
   },
   {
    "duration": 17,
    "start_time": "2022-04-21T19:33:00.029Z"
   },
   {
    "duration": 25,
    "start_time": "2022-04-21T19:33:00.047Z"
   },
   {
    "duration": 9,
    "start_time": "2022-04-21T19:33:00.073Z"
   },
   {
    "duration": 1236,
    "start_time": "2022-04-21T19:44:48.140Z"
   },
   {
    "duration": 59,
    "start_time": "2022-04-21T19:44:49.378Z"
   },
   {
    "duration": 11,
    "start_time": "2022-04-21T19:44:49.439Z"
   },
   {
    "duration": 9,
    "start_time": "2022-04-21T19:44:49.452Z"
   },
   {
    "duration": 8,
    "start_time": "2022-04-21T19:44:49.462Z"
   },
   {
    "duration": 9,
    "start_time": "2022-04-21T19:44:49.472Z"
   },
   {
    "duration": 8,
    "start_time": "2022-04-21T19:44:49.483Z"
   },
   {
    "duration": 11,
    "start_time": "2022-04-21T19:44:49.493Z"
   },
   {
    "duration": 10,
    "start_time": "2022-04-21T19:44:49.506Z"
   },
   {
    "duration": 8,
    "start_time": "2022-04-21T19:44:49.519Z"
   },
   {
    "duration": 7,
    "start_time": "2022-04-21T19:44:49.529Z"
   },
   {
    "duration": 14,
    "start_time": "2022-04-21T19:44:49.538Z"
   },
   {
    "duration": 20,
    "start_time": "2022-04-21T19:44:49.554Z"
   },
   {
    "duration": 6,
    "start_time": "2022-04-21T19:44:49.575Z"
   },
   {
    "duration": 19,
    "start_time": "2022-04-21T19:44:49.582Z"
   },
   {
    "duration": 7,
    "start_time": "2022-04-21T19:44:49.602Z"
   },
   {
    "duration": 6,
    "start_time": "2022-04-21T19:44:49.610Z"
   },
   {
    "duration": 14,
    "start_time": "2022-04-21T19:44:49.617Z"
   },
   {
    "duration": 10,
    "start_time": "2022-04-21T19:44:49.632Z"
   },
   {
    "duration": 17,
    "start_time": "2022-04-21T19:44:49.643Z"
   },
   {
    "duration": 9,
    "start_time": "2022-04-21T19:44:49.662Z"
   },
   {
    "duration": 5,
    "start_time": "2022-04-21T19:44:49.699Z"
   },
   {
    "duration": 8,
    "start_time": "2022-04-21T19:44:49.706Z"
   },
   {
    "duration": 6,
    "start_time": "2022-04-21T19:44:49.716Z"
   },
   {
    "duration": 9,
    "start_time": "2022-04-21T19:44:49.724Z"
   },
   {
    "duration": 18,
    "start_time": "2022-04-21T19:44:49.734Z"
   },
   {
    "duration": 8,
    "start_time": "2022-04-21T19:44:49.753Z"
   },
   {
    "duration": 344,
    "start_time": "2022-04-21T19:44:49.764Z"
   },
   {
    "duration": 308,
    "start_time": "2022-04-21T19:44:50.110Z"
   },
   {
    "duration": 289,
    "start_time": "2022-04-21T19:44:50.420Z"
   },
   {
    "duration": 388,
    "start_time": "2022-04-21T19:44:50.711Z"
   },
   {
    "duration": 288,
    "start_time": "2022-04-21T19:44:51.101Z"
   },
   {
    "duration": 356,
    "start_time": "2022-04-21T19:44:51.391Z"
   },
   {
    "duration": 421,
    "start_time": "2022-04-21T19:44:51.749Z"
   },
   {
    "duration": 502,
    "start_time": "2022-04-21T19:44:52.172Z"
   },
   {
    "duration": 296,
    "start_time": "2022-04-21T19:44:52.676Z"
   },
   {
    "duration": 528,
    "start_time": "2022-04-21T19:44:52.973Z"
   },
   {
    "duration": 13,
    "start_time": "2022-04-21T19:44:53.502Z"
   },
   {
    "duration": 11,
    "start_time": "2022-04-21T19:44:53.517Z"
   },
   {
    "duration": 10,
    "start_time": "2022-04-21T19:44:53.530Z"
   },
   {
    "duration": 7,
    "start_time": "2022-04-21T19:44:53.543Z"
   },
   {
    "duration": 29,
    "start_time": "2022-04-21T19:44:53.552Z"
   },
   {
    "duration": 22,
    "start_time": "2022-04-21T19:44:53.582Z"
   },
   {
    "duration": 8,
    "start_time": "2022-04-21T19:44:53.606Z"
   },
   {
    "duration": 12,
    "start_time": "2022-04-21T19:44:53.616Z"
   },
   {
    "duration": 9,
    "start_time": "2022-04-21T19:44:53.630Z"
   },
   {
    "duration": 9,
    "start_time": "2022-04-21T19:44:53.641Z"
   },
   {
    "duration": 48,
    "start_time": "2022-04-21T19:44:53.652Z"
   },
   {
    "duration": 5,
    "start_time": "2022-04-21T19:44:53.702Z"
   },
   {
    "duration": 11,
    "start_time": "2022-04-21T19:44:53.709Z"
   },
   {
    "duration": 23,
    "start_time": "2022-04-21T19:44:53.722Z"
   },
   {
    "duration": 7,
    "start_time": "2022-04-21T19:44:53.746Z"
   },
   {
    "duration": 18,
    "start_time": "2022-04-21T19:46:54.366Z"
   },
   {
    "duration": 6,
    "start_time": "2022-04-21T19:47:02.092Z"
   },
   {
    "duration": 19,
    "start_time": "2022-04-21T19:47:07.961Z"
   },
   {
    "duration": 5,
    "start_time": "2022-04-21T19:47:08.989Z"
   },
   {
    "duration": 20,
    "start_time": "2022-04-21T19:47:23.854Z"
   },
   {
    "duration": 6,
    "start_time": "2022-04-21T19:47:25.659Z"
   },
   {
    "duration": 19,
    "start_time": "2022-04-21T19:47:30.957Z"
   },
   {
    "duration": 6,
    "start_time": "2022-04-21T19:47:36.358Z"
   },
   {
    "duration": 22,
    "start_time": "2022-04-21T19:47:44.199Z"
   },
   {
    "duration": 6,
    "start_time": "2022-04-21T19:47:44.582Z"
   },
   {
    "duration": 16,
    "start_time": "2022-04-21T19:47:47.767Z"
   },
   {
    "duration": 18,
    "start_time": "2022-04-21T19:47:51.061Z"
   },
   {
    "duration": 27,
    "start_time": "2022-04-21T19:47:54.832Z"
   },
   {
    "duration": 6,
    "start_time": "2022-04-21T19:47:55.337Z"
   },
   {
    "duration": 6,
    "start_time": "2022-04-21T19:47:57.913Z"
   },
   {
    "duration": 16,
    "start_time": "2022-04-21T19:47:59.715Z"
   },
   {
    "duration": 4,
    "start_time": "2022-04-21T19:48:21.330Z"
   },
   {
    "duration": 61,
    "start_time": "2022-04-21T19:48:21.336Z"
   },
   {
    "duration": 7,
    "start_time": "2022-04-21T19:48:21.399Z"
   },
   {
    "duration": 13,
    "start_time": "2022-04-21T19:48:21.409Z"
   },
   {
    "duration": 15,
    "start_time": "2022-04-21T19:48:21.423Z"
   },
   {
    "duration": 13,
    "start_time": "2022-04-21T19:48:21.440Z"
   },
   {
    "duration": 13,
    "start_time": "2022-04-21T19:48:21.455Z"
   },
   {
    "duration": 31,
    "start_time": "2022-04-21T19:48:21.469Z"
   },
   {
    "duration": 3,
    "start_time": "2022-04-21T19:48:21.503Z"
   },
   {
    "duration": 10,
    "start_time": "2022-04-21T19:48:21.508Z"
   },
   {
    "duration": 4,
    "start_time": "2022-04-21T19:48:21.520Z"
   },
   {
    "duration": 10,
    "start_time": "2022-04-21T19:48:21.526Z"
   },
   {
    "duration": 26,
    "start_time": "2022-04-21T19:48:21.538Z"
   },
   {
    "duration": 6,
    "start_time": "2022-04-21T19:48:21.566Z"
   },
   {
    "duration": 5,
    "start_time": "2022-04-21T19:48:21.600Z"
   },
   {
    "duration": 7,
    "start_time": "2022-04-21T19:48:21.606Z"
   },
   {
    "duration": 8,
    "start_time": "2022-04-21T19:48:21.614Z"
   },
   {
    "duration": 6,
    "start_time": "2022-04-21T19:48:21.624Z"
   },
   {
    "duration": 13,
    "start_time": "2022-04-21T19:48:21.631Z"
   },
   {
    "duration": 12,
    "start_time": "2022-04-21T19:48:21.646Z"
   },
   {
    "duration": 42,
    "start_time": "2022-04-21T19:48:21.659Z"
   },
   {
    "duration": 9,
    "start_time": "2022-04-21T19:48:21.703Z"
   },
   {
    "duration": 4,
    "start_time": "2022-04-21T19:48:21.713Z"
   },
   {
    "duration": 7,
    "start_time": "2022-04-21T19:48:21.720Z"
   },
   {
    "duration": 7,
    "start_time": "2022-04-21T19:48:21.728Z"
   },
   {
    "duration": 9,
    "start_time": "2022-04-21T19:48:21.736Z"
   },
   {
    "duration": 17,
    "start_time": "2022-04-21T19:48:21.746Z"
   },
   {
    "duration": 37,
    "start_time": "2022-04-21T19:48:21.764Z"
   },
   {
    "duration": 276,
    "start_time": "2022-04-21T19:48:21.802Z"
   },
   {
    "duration": 296,
    "start_time": "2022-04-21T19:48:22.080Z"
   },
   {
    "duration": 284,
    "start_time": "2022-04-21T19:48:22.377Z"
   },
   {
    "duration": 364,
    "start_time": "2022-04-21T19:48:22.663Z"
   },
   {
    "duration": 297,
    "start_time": "2022-04-21T19:48:23.028Z"
   },
   {
    "duration": 578,
    "start_time": "2022-04-21T19:48:23.326Z"
   },
   {
    "duration": 830,
    "start_time": "2022-04-21T19:48:23.907Z"
   },
   {
    "duration": 693,
    "start_time": "2022-04-21T19:48:24.739Z"
   },
   {
    "duration": 225,
    "start_time": "2022-04-21T19:48:25.434Z"
   },
   {
    "duration": 846,
    "start_time": "2022-04-21T19:48:25.661Z"
   },
   {
    "duration": 14,
    "start_time": "2022-04-21T19:48:26.509Z"
   },
   {
    "duration": 6,
    "start_time": "2022-04-21T19:48:26.525Z"
   },
   {
    "duration": 10,
    "start_time": "2022-04-21T19:48:26.532Z"
   },
   {
    "duration": 7,
    "start_time": "2022-04-21T19:48:26.544Z"
   },
   {
    "duration": 25,
    "start_time": "2022-04-21T19:48:26.553Z"
   },
   {
    "duration": 24,
    "start_time": "2022-04-21T19:48:26.579Z"
   },
   {
    "duration": 11,
    "start_time": "2022-04-21T19:48:26.605Z"
   },
   {
    "duration": 9,
    "start_time": "2022-04-21T19:48:26.617Z"
   },
   {
    "duration": 10,
    "start_time": "2022-04-21T19:48:26.627Z"
   },
   {
    "duration": 8,
    "start_time": "2022-04-21T19:48:26.638Z"
   },
   {
    "duration": 15,
    "start_time": "2022-04-21T19:48:26.648Z"
   },
   {
    "duration": 4,
    "start_time": "2022-04-21T19:48:26.664Z"
   },
   {
    "duration": 33,
    "start_time": "2022-04-21T19:48:26.669Z"
   },
   {
    "duration": 24,
    "start_time": "2022-04-21T19:48:26.704Z"
   },
   {
    "duration": 7,
    "start_time": "2022-04-21T19:48:26.729Z"
   }
  ],
  "kernelspec": {
   "display_name": "Python 3",
   "language": "python",
   "name": "python3"
  },
  "language_info": {
   "codemirror_mode": {
    "name": "ipython",
    "version": 3
   },
   "file_extension": ".py",
   "mimetype": "text/x-python",
   "name": "python",
   "nbconvert_exporter": "python",
   "pygments_lexer": "ipython3",
   "version": "3.8.8"
  },
  "toc": {
   "base_numbering": 1,
   "nav_menu": {},
   "number_sections": true,
   "sideBar": true,
   "skip_h1_title": true,
   "title_cell": "Содержание",
   "title_sidebar": "Содержание",
   "toc_cell": true,
   "toc_position": {
    "height": "calc(100% - 180px)",
    "left": "10px",
    "top": "150px",
    "width": "182.594px"
   },
   "toc_section_display": true,
   "toc_window_display": true
  }
 },
 "nbformat": 4,
 "nbformat_minor": 5
}
