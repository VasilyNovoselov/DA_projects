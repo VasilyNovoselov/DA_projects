{
 "cells": [
  {
   "cell_type": "markdown",
   "id": "bc0a3d51",
   "metadata": {
    "toc": true
   },
   "source": [
    "<h1>Содержание<span class=\"tocSkip\"></span></h1>\n",
    "<div class=\"toc\"><ul class=\"toc-item\"><li><span><a href=\"#Изучение-данных-из-файла\" data-toc-modified-id=\"Изучение-данных-из-файла-1\"><span class=\"toc-item-num\">1&nbsp;&nbsp;</span>Изучение данных из файла</a></span><ul class=\"toc-item\"><li><span><a href=\"#Вывод\" data-toc-modified-id=\"Вывод-1.1\"><span class=\"toc-item-num\">1.1&nbsp;&nbsp;</span>Вывод</a></span></li></ul></li><li><span><a href=\"#Предобработка-данных\" data-toc-modified-id=\"Предобработка-данных-2\"><span class=\"toc-item-num\">2&nbsp;&nbsp;</span>Предобработка данных</a></span><ul class=\"toc-item\"><li><span><a href=\"#Замена-типов-данных\" data-toc-modified-id=\"Замена-типов-данных-2.1\"><span class=\"toc-item-num\">2.1&nbsp;&nbsp;</span>Замена типов данных</a></span></li><li><span><a href=\"#Округление\" data-toc-modified-id=\"Округление-2.2\"><span class=\"toc-item-num\">2.2&nbsp;&nbsp;</span>Округление</a></span></li><li><span><a href=\"#Исправление-ошибок-в-данных\" data-toc-modified-id=\"Исправление-ошибок-в-данных-2.3\"><span class=\"toc-item-num\">2.3&nbsp;&nbsp;</span>Исправление ошибок в данных</a></span></li><li><span><a href=\"#Расчёт-параметров\" data-toc-modified-id=\"Расчёт-параметров-2.4\"><span class=\"toc-item-num\">2.4&nbsp;&nbsp;</span>Расчёт параметров</a></span><ul class=\"toc-item\"><li><span><a href=\"#Количество-сделанных-звонков-и-израсходованных-минут-разговора-по-месяцам\" data-toc-modified-id=\"Количество-сделанных-звонков-и-израсходованных-минут-разговора-по-месяцам-2.4.1\"><span class=\"toc-item-num\">2.4.1&nbsp;&nbsp;</span>Количество сделанных звонков и израсходованных минут разговора по месяцам</a></span></li><li><span><a href=\"#Количество-отправленных-сообщений-по-месяцам\" data-toc-modified-id=\"Количество-отправленных-сообщений-по-месяцам-2.4.2\"><span class=\"toc-item-num\">2.4.2&nbsp;&nbsp;</span>Количество отправленных сообщений по месяцам</a></span></li><li><span><a href=\"#Объем-израсходованного-интернет-трафика-по-месяцам\" data-toc-modified-id=\"Объем-израсходованного-интернет-трафика-по-месяцам-2.4.3\"><span class=\"toc-item-num\">2.4.3&nbsp;&nbsp;</span>Объем израсходованного интернет-трафика по месяцам</a></span></li><li><span><a href=\"#Помесячная-выручка-с-каждого-пользователя\" data-toc-modified-id=\"Помесячная-выручка-с-каждого-пользователя-2.4.4\"><span class=\"toc-item-num\">2.4.4&nbsp;&nbsp;</span>Помесячная выручка с каждого пользователя</a></span></li></ul></li><li><span><a href=\"#Вывод\" data-toc-modified-id=\"Вывод-2.5\"><span class=\"toc-item-num\">2.5&nbsp;&nbsp;</span>Вывод</a></span></li></ul></li><li><span><a href=\"#Исследовательский-анализ-данных\" data-toc-modified-id=\"Исследовательский-анализ-данных-3\"><span class=\"toc-item-num\">3&nbsp;&nbsp;</span>Исследовательский анализ данных</a></span><ul class=\"toc-item\"><li><span><a href=\"#Описание-тарифов\" data-toc-modified-id=\"Описание-тарифов-3.1\"><span class=\"toc-item-num\">3.1&nbsp;&nbsp;</span>Описание тарифов</a></span></li><li><span><a href=\"#Анализ-звонков\" data-toc-modified-id=\"Анализ-звонков-3.2\"><span class=\"toc-item-num\">3.2&nbsp;&nbsp;</span>Анализ звонков</a></span><ul class=\"toc-item\"><li><span><a href=\"#Звонки-на-тарифе-SMART\" data-toc-modified-id=\"Звонки-на-тарифе-SMART-3.2.1\"><span class=\"toc-item-num\">3.2.1&nbsp;&nbsp;</span>Звонки на тарифе SMART</a></span></li><li><span><a href=\"#Звонки-на-тарифе-ULTRA\" data-toc-modified-id=\"Звонки-на-тарифе-ULTRA-3.2.2\"><span class=\"toc-item-num\">3.2.2&nbsp;&nbsp;</span>Звонки на тарифе ULTRA</a></span></li></ul></li><li><span><a href=\"#Анализ-сообщений\" data-toc-modified-id=\"Анализ-сообщений-3.3\"><span class=\"toc-item-num\">3.3&nbsp;&nbsp;</span>Анализ сообщений</a></span><ul class=\"toc-item\"><li><span><a href=\"#Cообщения-на-тарифе-SMART\" data-toc-modified-id=\"Cообщения-на-тарифе-SMART-3.3.1\"><span class=\"toc-item-num\">3.3.1&nbsp;&nbsp;</span>Cообщения на тарифе SMART</a></span></li><li><span><a href=\"#Cообщения-на-тарифе-ULTRA\" data-toc-modified-id=\"Cообщения-на-тарифе-ULTRA-3.3.2\"><span class=\"toc-item-num\">3.3.2&nbsp;&nbsp;</span>Cообщения на тарифе ULTRA</a></span></li></ul></li><li><span><a href=\"#Анализ-интернет-трафика\" data-toc-modified-id=\"Анализ-интернет-трафика-3.4\"><span class=\"toc-item-num\">3.4&nbsp;&nbsp;</span>Анализ интернет-трафика</a></span><ul class=\"toc-item\"><li><span><a href=\"#Интернет-трафик-на-тарифе-SMART\" data-toc-modified-id=\"Интернет-трафик-на-тарифе-SMART-3.4.1\"><span class=\"toc-item-num\">3.4.1&nbsp;&nbsp;</span>Интернет-трафик на тарифе SMART</a></span></li><li><span><a href=\"#Интернет-трафик-на-тарифе-ULTRA\" data-toc-modified-id=\"Интернет-трафик-на-тарифе-ULTRA-3.4.2\"><span class=\"toc-item-num\">3.4.2&nbsp;&nbsp;</span>Интернет-трафик на тарифе ULTRA</a></span></li></ul></li><li><span><a href=\"#Вывод\" data-toc-modified-id=\"Вывод-3.5\"><span class=\"toc-item-num\">3.5&nbsp;&nbsp;</span>Вывод</a></span></li></ul></li><li><span><a href=\"#Проверка-гипотез\" data-toc-modified-id=\"Проверка-гипотез-4\"><span class=\"toc-item-num\">4&nbsp;&nbsp;</span>Проверка гипотез</a></span><ul class=\"toc-item\"><li><span><a href=\"#Гипотеза-1:-Средняя-выручка-пользователей-тарифов-ULTRA-и-SMART-различаются\" data-toc-modified-id=\"Гипотеза-1:-Средняя-выручка-пользователей-тарифов-ULTRA-и-SMART-различаются-4.1\"><span class=\"toc-item-num\">4.1&nbsp;&nbsp;</span>Гипотеза 1: Средняя выручка пользователей тарифов ULTRA и SMART различаются</a></span></li><li><span><a href=\"#Гипотеза-2:-Cредняя-выручка-пользователей-из-Москвы-отличается-от-выручки-пользователей-из-других-регионов\" data-toc-modified-id=\"Гипотеза-2:-Cредняя-выручка-пользователей-из-Москвы-отличается-от-выручки-пользователей-из-других-регионов-4.2\"><span class=\"toc-item-num\">4.2&nbsp;&nbsp;</span>Гипотеза 2: Cредняя выручка пользователей из Москвы отличается от выручки пользователей из других регионов</a></span></li></ul></li><li><span><a href=\"#Общий-вывод\" data-toc-modified-id=\"Общий-вывод-5\"><span class=\"toc-item-num\">5&nbsp;&nbsp;</span>Общий вывод</a></span></li></ul></div>"
   ]
  },
  {
   "cell_type": "markdown",
   "id": "62121523",
   "metadata": {},
   "source": [
    "# Определение перспективного тарифа для телеком-компании"
   ]
  },
  {
   "cell_type": "markdown",
   "id": "9a657a4f",
   "metadata": {},
   "source": [
    "**Описание проекта**\n",
    "\n",
    "Вы аналитик компании «Мегалайн» — федерального оператора сотовой связи. Клиентам предлагают два тарифных плана: «Смарт» и «Ультра». Чтобы скорректировать рекламный бюджет, коммерческий департамент хочет понять, какой тариф приносит больше денег.\n",
    "\n",
    "Вам предстоит сделать предварительный анализ тарифов на небольшой выборке клиентов. В вашем распоряжении данные 500 пользователей «Мегалайна»: кто они, откуда, каким тарифом пользуются, сколько звонков и сообщений каждый отправил за 2018 год. Нужно проанализировать поведение клиентов и сделать вывод — какой тариф лучше."
   ]
  },
  {
   "cell_type": "markdown",
   "id": "832a9648",
   "metadata": {},
   "source": [
    "## Изучение данных из файла"
   ]
  },
  {
   "cell_type": "code",
   "execution_count": 1,
   "id": "fb07b1aa",
   "metadata": {},
   "outputs": [],
   "source": [
    "import pandas as pd\n",
    "import matplotlib.pyplot as plt\n",
    "import seaborn as sns\n",
    "import numpy as np\n",
    "from scipy import stats as st\n",
    "import warnings\n",
    "warnings.filterwarnings(\"ignore\")"
   ]
  },
  {
   "cell_type": "code",
   "execution_count": 2,
   "id": "56e13a14",
   "metadata": {},
   "outputs": [],
   "source": [
    "try:\n",
    "    users = pd.read_csv('D:/Учеба/Аналитика Данных/Notebooks/Проект 4/users.csv')\n",
    "    tariffs = pd.read_csv('D:/Учеба/Аналитика Данных/Notebooks/Проект 4/tariffs.csv')\n",
    "    calls = pd.read_csv('D:/Учеба/Аналитика Данных/Notebooks/Проект 4/calls.csv')\n",
    "    internet = pd.read_csv('D:/Учеба/Аналитика Данных/Notebooks/Проект 4/internet.csv')\n",
    "    messages = pd.read_csv('D:/Учеба/Аналитика Данных/Notebooks/Проект 4/messages.csv')   \n",
    "except:\n",
    "    users = pd.read_csv('/datasets/users.csv')\n",
    "    tariffs = pd.read_csv('/datasets/tariffs.csv')\n",
    "    calls = pd.read_csv('/datasets/calls.csv')\n",
    "    internet = pd.read_csv('/datasets/internet.csv')\n",
    "    messages = pd.read_csv('/datasets/messages.csv')"
   ]
  },
  {
   "cell_type": "code",
   "execution_count": 3,
   "id": "62d333b6",
   "metadata": {},
   "outputs": [
    {
     "name": "stdout",
     "output_type": "stream",
     "text": [
      "<class 'pandas.core.frame.DataFrame'>\n",
      "RangeIndex: 500 entries, 0 to 499\n",
      "Data columns (total 8 columns):\n",
      "user_id       500 non-null int64\n",
      "age           500 non-null int64\n",
      "churn_date    38 non-null object\n",
      "city          500 non-null object\n",
      "first_name    500 non-null object\n",
      "last_name     500 non-null object\n",
      "reg_date      500 non-null object\n",
      "tariff        500 non-null object\n",
      "dtypes: int64(2), object(6)\n",
      "memory usage: 31.4+ KB\n"
     ]
    },
    {
     "data": {
      "text/html": [
       "<div>\n",
       "<style scoped>\n",
       "    .dataframe tbody tr th:only-of-type {\n",
       "        vertical-align: middle;\n",
       "    }\n",
       "\n",
       "    .dataframe tbody tr th {\n",
       "        vertical-align: top;\n",
       "    }\n",
       "\n",
       "    .dataframe thead th {\n",
       "        text-align: right;\n",
       "    }\n",
       "</style>\n",
       "<table border=\"1\" class=\"dataframe\">\n",
       "  <thead>\n",
       "    <tr style=\"text-align: right;\">\n",
       "      <th></th>\n",
       "      <th>user_id</th>\n",
       "      <th>age</th>\n",
       "      <th>churn_date</th>\n",
       "      <th>city</th>\n",
       "      <th>first_name</th>\n",
       "      <th>last_name</th>\n",
       "      <th>reg_date</th>\n",
       "      <th>tariff</th>\n",
       "    </tr>\n",
       "  </thead>\n",
       "  <tbody>\n",
       "    <tr>\n",
       "      <td>0</td>\n",
       "      <td>1000</td>\n",
       "      <td>52</td>\n",
       "      <td>NaN</td>\n",
       "      <td>Краснодар</td>\n",
       "      <td>Рафаил</td>\n",
       "      <td>Верещагин</td>\n",
       "      <td>2018-05-25</td>\n",
       "      <td>ultra</td>\n",
       "    </tr>\n",
       "    <tr>\n",
       "      <td>1</td>\n",
       "      <td>1001</td>\n",
       "      <td>41</td>\n",
       "      <td>NaN</td>\n",
       "      <td>Москва</td>\n",
       "      <td>Иван</td>\n",
       "      <td>Ежов</td>\n",
       "      <td>2018-11-01</td>\n",
       "      <td>smart</td>\n",
       "    </tr>\n",
       "    <tr>\n",
       "      <td>2</td>\n",
       "      <td>1002</td>\n",
       "      <td>59</td>\n",
       "      <td>NaN</td>\n",
       "      <td>Стерлитамак</td>\n",
       "      <td>Евгений</td>\n",
       "      <td>Абрамович</td>\n",
       "      <td>2018-06-17</td>\n",
       "      <td>smart</td>\n",
       "    </tr>\n",
       "    <tr>\n",
       "      <td>3</td>\n",
       "      <td>1003</td>\n",
       "      <td>23</td>\n",
       "      <td>NaN</td>\n",
       "      <td>Москва</td>\n",
       "      <td>Белла</td>\n",
       "      <td>Белякова</td>\n",
       "      <td>2018-08-17</td>\n",
       "      <td>ultra</td>\n",
       "    </tr>\n",
       "    <tr>\n",
       "      <td>4</td>\n",
       "      <td>1004</td>\n",
       "      <td>68</td>\n",
       "      <td>NaN</td>\n",
       "      <td>Новокузнецк</td>\n",
       "      <td>Татьяна</td>\n",
       "      <td>Авдеенко</td>\n",
       "      <td>2018-05-14</td>\n",
       "      <td>ultra</td>\n",
       "    </tr>\n",
       "  </tbody>\n",
       "</table>\n",
       "</div>"
      ],
      "text/plain": [
       "   user_id  age churn_date         city first_name  last_name    reg_date  \\\n",
       "0     1000   52        NaN    Краснодар     Рафаил  Верещагин  2018-05-25   \n",
       "1     1001   41        NaN       Москва       Иван       Ежов  2018-11-01   \n",
       "2     1002   59        NaN  Стерлитамак    Евгений  Абрамович  2018-06-17   \n",
       "3     1003   23        NaN       Москва      Белла   Белякова  2018-08-17   \n",
       "4     1004   68        NaN  Новокузнецк    Татьяна   Авдеенко  2018-05-14   \n",
       "\n",
       "  tariff  \n",
       "0  ultra  \n",
       "1  smart  \n",
       "2  smart  \n",
       "3  ultra  \n",
       "4  ultra  "
      ]
     },
     "execution_count": 3,
     "metadata": {},
     "output_type": "execute_result"
    }
   ],
   "source": [
    "users.info()\n",
    "users.head()"
   ]
  },
  {
   "cell_type": "markdown",
   "id": "bfdd9e79",
   "metadata": {},
   "source": [
    "В таблице `users` приведены данные о 500 пользователях мобильного оператора и представлены следующие параметры (8 столбцов):\n",
    "* `user_id` — уникальный идентификатор пользователя\n",
    "* `age` — возраст пользователя (годы)\n",
    "* `churn_date` — дата прекращения пользования тарифом (если значение пропущено, то тариф ещё действовал на момент выгрузки данных)\n",
    "* `city` — город проживания пользователя\n",
    "* `first_name` — имя пользователя\n",
    "* `last_name` — фамилия пользователя\n",
    "* `reg_date` — дата подключения тарифа (день, месяц, год)\n",
    "* `tarif` — название тарифного плана\n",
    "\n",
    "В таблице находится 500 записей, во всех столбцах кроме `churn_date`, отсутствуют пропуски.\n",
    "\n",
    "Все данные, кроме числовых, представлены типом object. Следует привести столбцы с данными о датах к типу Datetime"
   ]
  },
  {
   "cell_type": "code",
   "execution_count": 4,
   "id": "18b018f5",
   "metadata": {},
   "outputs": [
    {
     "name": "stdout",
     "output_type": "stream",
     "text": [
      "<class 'pandas.core.frame.DataFrame'>\n",
      "RangeIndex: 2 entries, 0 to 1\n",
      "Data columns (total 8 columns):\n",
      "messages_included        2 non-null int64\n",
      "mb_per_month_included    2 non-null int64\n",
      "minutes_included         2 non-null int64\n",
      "rub_monthly_fee          2 non-null int64\n",
      "rub_per_gb               2 non-null int64\n",
      "rub_per_message          2 non-null int64\n",
      "rub_per_minute           2 non-null int64\n",
      "tariff_name              2 non-null object\n",
      "dtypes: int64(7), object(1)\n",
      "memory usage: 256.0+ bytes\n"
     ]
    },
    {
     "data": {
      "text/html": [
       "<div>\n",
       "<style scoped>\n",
       "    .dataframe tbody tr th:only-of-type {\n",
       "        vertical-align: middle;\n",
       "    }\n",
       "\n",
       "    .dataframe tbody tr th {\n",
       "        vertical-align: top;\n",
       "    }\n",
       "\n",
       "    .dataframe thead th {\n",
       "        text-align: right;\n",
       "    }\n",
       "</style>\n",
       "<table border=\"1\" class=\"dataframe\">\n",
       "  <thead>\n",
       "    <tr style=\"text-align: right;\">\n",
       "      <th></th>\n",
       "      <th>messages_included</th>\n",
       "      <th>mb_per_month_included</th>\n",
       "      <th>minutes_included</th>\n",
       "      <th>rub_monthly_fee</th>\n",
       "      <th>rub_per_gb</th>\n",
       "      <th>rub_per_message</th>\n",
       "      <th>rub_per_minute</th>\n",
       "      <th>tariff_name</th>\n",
       "    </tr>\n",
       "  </thead>\n",
       "  <tbody>\n",
       "    <tr>\n",
       "      <td>0</td>\n",
       "      <td>50</td>\n",
       "      <td>15360</td>\n",
       "      <td>500</td>\n",
       "      <td>550</td>\n",
       "      <td>200</td>\n",
       "      <td>3</td>\n",
       "      <td>3</td>\n",
       "      <td>smart</td>\n",
       "    </tr>\n",
       "    <tr>\n",
       "      <td>1</td>\n",
       "      <td>1000</td>\n",
       "      <td>30720</td>\n",
       "      <td>3000</td>\n",
       "      <td>1950</td>\n",
       "      <td>150</td>\n",
       "      <td>1</td>\n",
       "      <td>1</td>\n",
       "      <td>ultra</td>\n",
       "    </tr>\n",
       "  </tbody>\n",
       "</table>\n",
       "</div>"
      ],
      "text/plain": [
       "   messages_included  mb_per_month_included  minutes_included  \\\n",
       "0                 50                  15360               500   \n",
       "1               1000                  30720              3000   \n",
       "\n",
       "   rub_monthly_fee  rub_per_gb  rub_per_message  rub_per_minute tariff_name  \n",
       "0              550         200                3               3       smart  \n",
       "1             1950         150                1               1       ultra  "
      ]
     },
     "execution_count": 4,
     "metadata": {},
     "output_type": "execute_result"
    }
   ],
   "source": [
    "tariffs.info()\n",
    "tariffs.head()"
   ]
  },
  {
   "cell_type": "markdown",
   "id": "20fbefd8",
   "metadata": {},
   "source": [
    "В таблице `tariffs` представлена информация о тарифах мобильного оператора (2 строки * 8 столбцов):\n",
    "* `messages_included` — количество сообщений в месяц, включённых в абонентскую плату\n",
    "* `mb_per_month_included` — объём интернет-трафика, включённого в абонентскую плату (в мегабайтах)\n",
    "* `minutes_included` — количество минут разговора в месяц, включённых в абонентскую плату\n",
    "* `rub_monthly_fee` — ежемесячная абонентская плата в рублях\n",
    "* `rub_per_gb` — стоимость дополнительного гигабайта интернет-трафика сверх тарифного пакета (1 гигабайт = 1024 мегабайта)\n",
    "* `rub_per_message` — стоимость отправки сообщения сверх тарифного пакета\n",
    "* `rub_per_minute` — стоимость минуты разговора сверх тарифного пакета (например, если в тарифе 100 минут разговора в месяц, то со 101 минуты будет взиматься плата)\n",
    "* `tariff_name` — название тарифа\n",
    "\n",
    "В таблице отсутствуют пропуски, все столбцы кроме `tariff_name` имеют тип int."
   ]
  },
  {
   "cell_type": "code",
   "execution_count": 5,
   "id": "97185678",
   "metadata": {},
   "outputs": [
    {
     "name": "stdout",
     "output_type": "stream",
     "text": [
      "<class 'pandas.core.frame.DataFrame'>\n",
      "RangeIndex: 202607 entries, 0 to 202606\n",
      "Data columns (total 4 columns):\n",
      "id           202607 non-null object\n",
      "call_date    202607 non-null object\n",
      "duration     202607 non-null float64\n",
      "user_id      202607 non-null int64\n",
      "dtypes: float64(1), int64(1), object(2)\n",
      "memory usage: 6.2+ MB\n"
     ]
    },
    {
     "data": {
      "text/html": [
       "<div>\n",
       "<style scoped>\n",
       "    .dataframe tbody tr th:only-of-type {\n",
       "        vertical-align: middle;\n",
       "    }\n",
       "\n",
       "    .dataframe tbody tr th {\n",
       "        vertical-align: top;\n",
       "    }\n",
       "\n",
       "    .dataframe thead th {\n",
       "        text-align: right;\n",
       "    }\n",
       "</style>\n",
       "<table border=\"1\" class=\"dataframe\">\n",
       "  <thead>\n",
       "    <tr style=\"text-align: right;\">\n",
       "      <th></th>\n",
       "      <th>id</th>\n",
       "      <th>call_date</th>\n",
       "      <th>duration</th>\n",
       "      <th>user_id</th>\n",
       "    </tr>\n",
       "  </thead>\n",
       "  <tbody>\n",
       "    <tr>\n",
       "      <td>0</td>\n",
       "      <td>1000_0</td>\n",
       "      <td>2018-07-25</td>\n",
       "      <td>0.00</td>\n",
       "      <td>1000</td>\n",
       "    </tr>\n",
       "    <tr>\n",
       "      <td>1</td>\n",
       "      <td>1000_1</td>\n",
       "      <td>2018-08-17</td>\n",
       "      <td>0.00</td>\n",
       "      <td>1000</td>\n",
       "    </tr>\n",
       "    <tr>\n",
       "      <td>2</td>\n",
       "      <td>1000_2</td>\n",
       "      <td>2018-06-11</td>\n",
       "      <td>2.85</td>\n",
       "      <td>1000</td>\n",
       "    </tr>\n",
       "    <tr>\n",
       "      <td>3</td>\n",
       "      <td>1000_3</td>\n",
       "      <td>2018-09-21</td>\n",
       "      <td>13.80</td>\n",
       "      <td>1000</td>\n",
       "    </tr>\n",
       "    <tr>\n",
       "      <td>4</td>\n",
       "      <td>1000_4</td>\n",
       "      <td>2018-12-15</td>\n",
       "      <td>5.18</td>\n",
       "      <td>1000</td>\n",
       "    </tr>\n",
       "  </tbody>\n",
       "</table>\n",
       "</div>"
      ],
      "text/plain": [
       "       id   call_date  duration  user_id\n",
       "0  1000_0  2018-07-25      0.00     1000\n",
       "1  1000_1  2018-08-17      0.00     1000\n",
       "2  1000_2  2018-06-11      2.85     1000\n",
       "3  1000_3  2018-09-21     13.80     1000\n",
       "4  1000_4  2018-12-15      5.18     1000"
      ]
     },
     "execution_count": 5,
     "metadata": {},
     "output_type": "execute_result"
    }
   ],
   "source": [
    "calls.info()\n",
    "calls.head()"
   ]
  },
  {
   "cell_type": "markdown",
   "id": "5f82f65c",
   "metadata": {},
   "source": [
    "В таблице `calls` представлена информация о звонках абонентов (202607 строк) и приведены следующие параметры (4 столбца) :\n",
    "* `id` — уникальный номер звонка\n",
    "* `call_date` — дата звонка\n",
    "* `duration` — длительность звонка в минутах\n",
    "* `user_id` — идентификатор пользователя, сделавшего звонок\n",
    "\n",
    "Столбцы `id` и `call_date` имеют тип данных object, возможно имеет смысл привести их к другим типам данных. Пропуски в таблице отсутствуют."
   ]
  },
  {
   "cell_type": "code",
   "execution_count": 6,
   "id": "028cde2c",
   "metadata": {},
   "outputs": [
    {
     "name": "stdout",
     "output_type": "stream",
     "text": [
      "<class 'pandas.core.frame.DataFrame'>\n",
      "RangeIndex: 149396 entries, 0 to 149395\n",
      "Data columns (total 5 columns):\n",
      "Unnamed: 0      149396 non-null int64\n",
      "id              149396 non-null object\n",
      "mb_used         149396 non-null float64\n",
      "session_date    149396 non-null object\n",
      "user_id         149396 non-null int64\n",
      "dtypes: float64(1), int64(2), object(2)\n",
      "memory usage: 5.7+ MB\n"
     ]
    },
    {
     "data": {
      "text/html": [
       "<div>\n",
       "<style scoped>\n",
       "    .dataframe tbody tr th:only-of-type {\n",
       "        vertical-align: middle;\n",
       "    }\n",
       "\n",
       "    .dataframe tbody tr th {\n",
       "        vertical-align: top;\n",
       "    }\n",
       "\n",
       "    .dataframe thead th {\n",
       "        text-align: right;\n",
       "    }\n",
       "</style>\n",
       "<table border=\"1\" class=\"dataframe\">\n",
       "  <thead>\n",
       "    <tr style=\"text-align: right;\">\n",
       "      <th></th>\n",
       "      <th>Unnamed: 0</th>\n",
       "      <th>id</th>\n",
       "      <th>mb_used</th>\n",
       "      <th>session_date</th>\n",
       "      <th>user_id</th>\n",
       "    </tr>\n",
       "  </thead>\n",
       "  <tbody>\n",
       "    <tr>\n",
       "      <td>0</td>\n",
       "      <td>0</td>\n",
       "      <td>1000_0</td>\n",
       "      <td>112.95</td>\n",
       "      <td>2018-11-25</td>\n",
       "      <td>1000</td>\n",
       "    </tr>\n",
       "    <tr>\n",
       "      <td>1</td>\n",
       "      <td>1</td>\n",
       "      <td>1000_1</td>\n",
       "      <td>1052.81</td>\n",
       "      <td>2018-09-07</td>\n",
       "      <td>1000</td>\n",
       "    </tr>\n",
       "    <tr>\n",
       "      <td>2</td>\n",
       "      <td>2</td>\n",
       "      <td>1000_2</td>\n",
       "      <td>1197.26</td>\n",
       "      <td>2018-06-25</td>\n",
       "      <td>1000</td>\n",
       "    </tr>\n",
       "    <tr>\n",
       "      <td>3</td>\n",
       "      <td>3</td>\n",
       "      <td>1000_3</td>\n",
       "      <td>550.27</td>\n",
       "      <td>2018-08-22</td>\n",
       "      <td>1000</td>\n",
       "    </tr>\n",
       "    <tr>\n",
       "      <td>4</td>\n",
       "      <td>4</td>\n",
       "      <td>1000_4</td>\n",
       "      <td>302.56</td>\n",
       "      <td>2018-09-24</td>\n",
       "      <td>1000</td>\n",
       "    </tr>\n",
       "  </tbody>\n",
       "</table>\n",
       "</div>"
      ],
      "text/plain": [
       "   Unnamed: 0      id  mb_used session_date  user_id\n",
       "0           0  1000_0   112.95   2018-11-25     1000\n",
       "1           1  1000_1  1052.81   2018-09-07     1000\n",
       "2           2  1000_2  1197.26   2018-06-25     1000\n",
       "3           3  1000_3   550.27   2018-08-22     1000\n",
       "4           4  1000_4   302.56   2018-09-24     1000"
      ]
     },
     "execution_count": 6,
     "metadata": {},
     "output_type": "execute_result"
    }
   ],
   "source": [
    "internet.info()\n",
    "internet.head()"
   ]
  },
  {
   "cell_type": "markdown",
   "id": "8dbf330a",
   "metadata": {},
   "source": [
    "В таблице `internet` представлена информация об интернет-сессиях (149396 строк) пользователей и приведены 5 параметров:\n",
    "* `Unnamed: 0` - по всей видимости столбец, дублирующий индексы таблицы\t\n",
    "* `id` — уникальный номер сессии\n",
    "* `mb_used` — объём потраченного за сессию интернет-трафика (в мегабайтах)\n",
    "* `session_date` — дата интернет-сессии\n",
    "* `user_id` — идентификатор пользователя\n",
    "\n",
    "Пропуски в данных отсутствуют. Столбец `session_date` следует привести к типу данных Datetime. Также следует рассмотреть возможность удаления столбца `Unnamed: 0`"
   ]
  },
  {
   "cell_type": "code",
   "execution_count": 7,
   "id": "236d8120",
   "metadata": {},
   "outputs": [
    {
     "name": "stdout",
     "output_type": "stream",
     "text": [
      "<class 'pandas.core.frame.DataFrame'>\n",
      "RangeIndex: 123036 entries, 0 to 123035\n",
      "Data columns (total 3 columns):\n",
      "id              123036 non-null object\n",
      "message_date    123036 non-null object\n",
      "user_id         123036 non-null int64\n",
      "dtypes: int64(1), object(2)\n",
      "memory usage: 2.8+ MB\n"
     ]
    },
    {
     "data": {
      "text/html": [
       "<div>\n",
       "<style scoped>\n",
       "    .dataframe tbody tr th:only-of-type {\n",
       "        vertical-align: middle;\n",
       "    }\n",
       "\n",
       "    .dataframe tbody tr th {\n",
       "        vertical-align: top;\n",
       "    }\n",
       "\n",
       "    .dataframe thead th {\n",
       "        text-align: right;\n",
       "    }\n",
       "</style>\n",
       "<table border=\"1\" class=\"dataframe\">\n",
       "  <thead>\n",
       "    <tr style=\"text-align: right;\">\n",
       "      <th></th>\n",
       "      <th>id</th>\n",
       "      <th>message_date</th>\n",
       "      <th>user_id</th>\n",
       "    </tr>\n",
       "  </thead>\n",
       "  <tbody>\n",
       "    <tr>\n",
       "      <td>0</td>\n",
       "      <td>1000_0</td>\n",
       "      <td>2018-06-27</td>\n",
       "      <td>1000</td>\n",
       "    </tr>\n",
       "    <tr>\n",
       "      <td>1</td>\n",
       "      <td>1000_1</td>\n",
       "      <td>2018-10-08</td>\n",
       "      <td>1000</td>\n",
       "    </tr>\n",
       "    <tr>\n",
       "      <td>2</td>\n",
       "      <td>1000_2</td>\n",
       "      <td>2018-08-04</td>\n",
       "      <td>1000</td>\n",
       "    </tr>\n",
       "    <tr>\n",
       "      <td>3</td>\n",
       "      <td>1000_3</td>\n",
       "      <td>2018-06-16</td>\n",
       "      <td>1000</td>\n",
       "    </tr>\n",
       "    <tr>\n",
       "      <td>4</td>\n",
       "      <td>1000_4</td>\n",
       "      <td>2018-12-05</td>\n",
       "      <td>1000</td>\n",
       "    </tr>\n",
       "  </tbody>\n",
       "</table>\n",
       "</div>"
      ],
      "text/plain": [
       "       id message_date  user_id\n",
       "0  1000_0   2018-06-27     1000\n",
       "1  1000_1   2018-10-08     1000\n",
       "2  1000_2   2018-08-04     1000\n",
       "3  1000_3   2018-06-16     1000\n",
       "4  1000_4   2018-12-05     1000"
      ]
     },
     "execution_count": 7,
     "metadata": {},
     "output_type": "execute_result"
    }
   ],
   "source": [
    "messages.info()\n",
    "messages.head()"
   ]
  },
  {
   "cell_type": "markdown",
   "id": "6cf38fb9",
   "metadata": {},
   "source": [
    "В таблице `messages` приведена информация о сообщениях (123036 строки) пользователей и представлены 3 параметра:\n",
    "* `id` — уникальный номер сообщения\n",
    "* `message_date` — дата сообщения\n",
    "* `user_id` — идентификатор пользователя, отправившего сообщение\n",
    "\n",
    "Пропуски в таблице отсутствуют, столбец `message_date` необходимо привести к типу Datetime"
   ]
  },
  {
   "cell_type": "markdown",
   "id": "a5def423",
   "metadata": {},
   "source": [
    "### Вывод"
   ]
  },
  {
   "cell_type": "markdown",
   "id": "9bb09430",
   "metadata": {},
   "source": [
    "* Для анализа доступны 5 таблиц с данными о пользователях мобильного оператора и его активности. \n",
    "* Перед проведением анализа следует провести предобработку, а именно:\n",
    "    - Привести столбцы к необходимым типам данных\n",
    "    - Удалить лишние столбцы, не несущие в себе данных\n",
    "    - Провести объединение таблиц\n",
    "    - Рассчитать дополнительные параметры на основе имеющихся данных\n",
    "* Дальнейшее и более подробное изучение данных будет проведено по ходу работы."
   ]
  },
  {
   "cell_type": "markdown",
   "id": "9ab54e66",
   "metadata": {},
   "source": [
    "## Предобработка данных\n"
   ]
  },
  {
   "cell_type": "markdown",
   "id": "9f9de059",
   "metadata": {},
   "source": [
    "### Замена типов данных"
   ]
  },
  {
   "cell_type": "markdown",
   "id": "741952e2",
   "metadata": {},
   "source": [
    "Приведем столбцы с данными о дате во всех таблицах к типу `datetime`"
   ]
  },
  {
   "cell_type": "code",
   "execution_count": 8,
   "id": "3db87332",
   "metadata": {},
   "outputs": [
    {
     "data": {
      "text/html": [
       "<div>\n",
       "<style scoped>\n",
       "    .dataframe tbody tr th:only-of-type {\n",
       "        vertical-align: middle;\n",
       "    }\n",
       "\n",
       "    .dataframe tbody tr th {\n",
       "        vertical-align: top;\n",
       "    }\n",
       "\n",
       "    .dataframe thead th {\n",
       "        text-align: right;\n",
       "    }\n",
       "</style>\n",
       "<table border=\"1\" class=\"dataframe\">\n",
       "  <thead>\n",
       "    <tr style=\"text-align: right;\">\n",
       "      <th></th>\n",
       "      <th>user_id</th>\n",
       "      <th>age</th>\n",
       "      <th>churn_date</th>\n",
       "      <th>city</th>\n",
       "      <th>first_name</th>\n",
       "      <th>last_name</th>\n",
       "      <th>reg_date</th>\n",
       "      <th>tariff</th>\n",
       "    </tr>\n",
       "  </thead>\n",
       "  <tbody>\n",
       "    <tr>\n",
       "      <td>0</td>\n",
       "      <td>1000</td>\n",
       "      <td>52</td>\n",
       "      <td>NaN</td>\n",
       "      <td>Краснодар</td>\n",
       "      <td>Рафаил</td>\n",
       "      <td>Верещагин</td>\n",
       "      <td>2018-05-25</td>\n",
       "      <td>ultra</td>\n",
       "    </tr>\n",
       "    <tr>\n",
       "      <td>1</td>\n",
       "      <td>1001</td>\n",
       "      <td>41</td>\n",
       "      <td>NaN</td>\n",
       "      <td>Москва</td>\n",
       "      <td>Иван</td>\n",
       "      <td>Ежов</td>\n",
       "      <td>2018-11-01</td>\n",
       "      <td>smart</td>\n",
       "    </tr>\n",
       "    <tr>\n",
       "      <td>2</td>\n",
       "      <td>1002</td>\n",
       "      <td>59</td>\n",
       "      <td>NaN</td>\n",
       "      <td>Стерлитамак</td>\n",
       "      <td>Евгений</td>\n",
       "      <td>Абрамович</td>\n",
       "      <td>2018-06-17</td>\n",
       "      <td>smart</td>\n",
       "    </tr>\n",
       "    <tr>\n",
       "      <td>3</td>\n",
       "      <td>1003</td>\n",
       "      <td>23</td>\n",
       "      <td>NaN</td>\n",
       "      <td>Москва</td>\n",
       "      <td>Белла</td>\n",
       "      <td>Белякова</td>\n",
       "      <td>2018-08-17</td>\n",
       "      <td>ultra</td>\n",
       "    </tr>\n",
       "    <tr>\n",
       "      <td>4</td>\n",
       "      <td>1004</td>\n",
       "      <td>68</td>\n",
       "      <td>NaN</td>\n",
       "      <td>Новокузнецк</td>\n",
       "      <td>Татьяна</td>\n",
       "      <td>Авдеенко</td>\n",
       "      <td>2018-05-14</td>\n",
       "      <td>ultra</td>\n",
       "    </tr>\n",
       "  </tbody>\n",
       "</table>\n",
       "</div>"
      ],
      "text/plain": [
       "   user_id  age churn_date         city first_name  last_name    reg_date  \\\n",
       "0     1000   52        NaN    Краснодар     Рафаил  Верещагин  2018-05-25   \n",
       "1     1001   41        NaN       Москва       Иван       Ежов  2018-11-01   \n",
       "2     1002   59        NaN  Стерлитамак    Евгений  Абрамович  2018-06-17   \n",
       "3     1003   23        NaN       Москва      Белла   Белякова  2018-08-17   \n",
       "4     1004   68        NaN  Новокузнецк    Татьяна   Авдеенко  2018-05-14   \n",
       "\n",
       "  tariff  \n",
       "0  ultra  \n",
       "1  smart  \n",
       "2  smart  \n",
       "3  ultra  \n",
       "4  ultra  "
      ]
     },
     "execution_count": 8,
     "metadata": {},
     "output_type": "execute_result"
    }
   ],
   "source": [
    "users.head()"
   ]
  },
  {
   "cell_type": "code",
   "execution_count": 9,
   "id": "d028c781",
   "metadata": {
    "cell_style": "center"
   },
   "outputs": [
    {
     "name": "stdout",
     "output_type": "stream",
     "text": [
      "<class 'pandas.core.frame.DataFrame'>\n",
      "RangeIndex: 500 entries, 0 to 499\n",
      "Data columns (total 8 columns):\n",
      "user_id        500 non-null int64\n",
      "age            500 non-null int64\n",
      "churn_date     38 non-null datetime64[ns]\n",
      "city           500 non-null object\n",
      "first_name     500 non-null object\n",
      "last_name      500 non-null object\n",
      "reg_date       500 non-null datetime64[ns]\n",
      "tariff_name    500 non-null object\n",
      "dtypes: datetime64[ns](2), int64(2), object(4)\n",
      "memory usage: 31.4+ KB\n"
     ]
    },
    {
     "data": {
      "text/html": [
       "<div>\n",
       "<style scoped>\n",
       "    .dataframe tbody tr th:only-of-type {\n",
       "        vertical-align: middle;\n",
       "    }\n",
       "\n",
       "    .dataframe tbody tr th {\n",
       "        vertical-align: top;\n",
       "    }\n",
       "\n",
       "    .dataframe thead th {\n",
       "        text-align: right;\n",
       "    }\n",
       "</style>\n",
       "<table border=\"1\" class=\"dataframe\">\n",
       "  <thead>\n",
       "    <tr style=\"text-align: right;\">\n",
       "      <th></th>\n",
       "      <th>user_id</th>\n",
       "      <th>age</th>\n",
       "      <th>churn_date</th>\n",
       "      <th>city</th>\n",
       "      <th>first_name</th>\n",
       "      <th>last_name</th>\n",
       "      <th>reg_date</th>\n",
       "      <th>tariff_name</th>\n",
       "    </tr>\n",
       "  </thead>\n",
       "  <tbody>\n",
       "    <tr>\n",
       "      <td>0</td>\n",
       "      <td>1000</td>\n",
       "      <td>52</td>\n",
       "      <td>NaT</td>\n",
       "      <td>Краснодар</td>\n",
       "      <td>Рафаил</td>\n",
       "      <td>Верещагин</td>\n",
       "      <td>2018-05-25</td>\n",
       "      <td>ultra</td>\n",
       "    </tr>\n",
       "    <tr>\n",
       "      <td>1</td>\n",
       "      <td>1001</td>\n",
       "      <td>41</td>\n",
       "      <td>NaT</td>\n",
       "      <td>Москва</td>\n",
       "      <td>Иван</td>\n",
       "      <td>Ежов</td>\n",
       "      <td>2018-11-01</td>\n",
       "      <td>smart</td>\n",
       "    </tr>\n",
       "    <tr>\n",
       "      <td>2</td>\n",
       "      <td>1002</td>\n",
       "      <td>59</td>\n",
       "      <td>NaT</td>\n",
       "      <td>Стерлитамак</td>\n",
       "      <td>Евгений</td>\n",
       "      <td>Абрамович</td>\n",
       "      <td>2018-06-17</td>\n",
       "      <td>smart</td>\n",
       "    </tr>\n",
       "    <tr>\n",
       "      <td>3</td>\n",
       "      <td>1003</td>\n",
       "      <td>23</td>\n",
       "      <td>NaT</td>\n",
       "      <td>Москва</td>\n",
       "      <td>Белла</td>\n",
       "      <td>Белякова</td>\n",
       "      <td>2018-08-17</td>\n",
       "      <td>ultra</td>\n",
       "    </tr>\n",
       "    <tr>\n",
       "      <td>4</td>\n",
       "      <td>1004</td>\n",
       "      <td>68</td>\n",
       "      <td>NaT</td>\n",
       "      <td>Новокузнецк</td>\n",
       "      <td>Татьяна</td>\n",
       "      <td>Авдеенко</td>\n",
       "      <td>2018-05-14</td>\n",
       "      <td>ultra</td>\n",
       "    </tr>\n",
       "  </tbody>\n",
       "</table>\n",
       "</div>"
      ],
      "text/plain": [
       "   user_id  age churn_date         city first_name  last_name   reg_date  \\\n",
       "0     1000   52        NaT    Краснодар     Рафаил  Верещагин 2018-05-25   \n",
       "1     1001   41        NaT       Москва       Иван       Ежов 2018-11-01   \n",
       "2     1002   59        NaT  Стерлитамак    Евгений  Абрамович 2018-06-17   \n",
       "3     1003   23        NaT       Москва      Белла   Белякова 2018-08-17   \n",
       "4     1004   68        NaT  Новокузнецк    Татьяна   Авдеенко 2018-05-14   \n",
       "\n",
       "  tariff_name  \n",
       "0       ultra  \n",
       "1       smart  \n",
       "2       smart  \n",
       "3       ultra  \n",
       "4       ultra  "
      ]
     },
     "execution_count": 9,
     "metadata": {},
     "output_type": "execute_result"
    }
   ],
   "source": [
    "users['churn_date'] = pd.to_datetime(users['churn_date'], format='%Y-%m-%d')\n",
    "users['reg_date'] = pd.to_datetime(users['reg_date'], format='%Y-%m-%d')\n",
    "users = users.rename(columns={'tariff':'tariff_name'})\n",
    "\n",
    "users.info()\n",
    "users.head()"
   ]
  },
  {
   "cell_type": "markdown",
   "id": "9b8fdd66",
   "metadata": {},
   "source": [
    "В таблице `users` также провели переименование столбца `tariff` в `tariff_name`, для последующего объединения двух таблиц"
   ]
  },
  {
   "cell_type": "code",
   "execution_count": 10,
   "id": "71075709",
   "metadata": {},
   "outputs": [
    {
     "data": {
      "text/html": [
       "<div>\n",
       "<style scoped>\n",
       "    .dataframe tbody tr th:only-of-type {\n",
       "        vertical-align: middle;\n",
       "    }\n",
       "\n",
       "    .dataframe tbody tr th {\n",
       "        vertical-align: top;\n",
       "    }\n",
       "\n",
       "    .dataframe thead th {\n",
       "        text-align: right;\n",
       "    }\n",
       "</style>\n",
       "<table border=\"1\" class=\"dataframe\">\n",
       "  <thead>\n",
       "    <tr style=\"text-align: right;\">\n",
       "      <th></th>\n",
       "      <th>id</th>\n",
       "      <th>call_date</th>\n",
       "      <th>duration</th>\n",
       "      <th>user_id</th>\n",
       "    </tr>\n",
       "  </thead>\n",
       "  <tbody>\n",
       "    <tr>\n",
       "      <td>0</td>\n",
       "      <td>1000_0</td>\n",
       "      <td>2018-07-25</td>\n",
       "      <td>0.00</td>\n",
       "      <td>1000</td>\n",
       "    </tr>\n",
       "    <tr>\n",
       "      <td>1</td>\n",
       "      <td>1000_1</td>\n",
       "      <td>2018-08-17</td>\n",
       "      <td>0.00</td>\n",
       "      <td>1000</td>\n",
       "    </tr>\n",
       "    <tr>\n",
       "      <td>2</td>\n",
       "      <td>1000_2</td>\n",
       "      <td>2018-06-11</td>\n",
       "      <td>2.85</td>\n",
       "      <td>1000</td>\n",
       "    </tr>\n",
       "    <tr>\n",
       "      <td>3</td>\n",
       "      <td>1000_3</td>\n",
       "      <td>2018-09-21</td>\n",
       "      <td>13.80</td>\n",
       "      <td>1000</td>\n",
       "    </tr>\n",
       "    <tr>\n",
       "      <td>4</td>\n",
       "      <td>1000_4</td>\n",
       "      <td>2018-12-15</td>\n",
       "      <td>5.18</td>\n",
       "      <td>1000</td>\n",
       "    </tr>\n",
       "  </tbody>\n",
       "</table>\n",
       "</div>"
      ],
      "text/plain": [
       "       id   call_date  duration  user_id\n",
       "0  1000_0  2018-07-25      0.00     1000\n",
       "1  1000_1  2018-08-17      0.00     1000\n",
       "2  1000_2  2018-06-11      2.85     1000\n",
       "3  1000_3  2018-09-21     13.80     1000\n",
       "4  1000_4  2018-12-15      5.18     1000"
      ]
     },
     "execution_count": 10,
     "metadata": {},
     "output_type": "execute_result"
    }
   ],
   "source": [
    "calls.head()"
   ]
  },
  {
   "cell_type": "code",
   "execution_count": 11,
   "id": "b1d2da8c",
   "metadata": {},
   "outputs": [
    {
     "name": "stdout",
     "output_type": "stream",
     "text": [
      "<class 'pandas.core.frame.DataFrame'>\n",
      "RangeIndex: 202607 entries, 0 to 202606\n",
      "Data columns (total 4 columns):\n",
      "id           202607 non-null object\n",
      "call_date    202607 non-null datetime64[ns]\n",
      "duration     202607 non-null float64\n",
      "user_id      202607 non-null int64\n",
      "dtypes: datetime64[ns](1), float64(1), int64(1), object(1)\n",
      "memory usage: 6.2+ MB\n"
     ]
    }
   ],
   "source": [
    "calls['call_date'] = pd.to_datetime(calls['call_date'], format='%Y-%m-%d')\n",
    "calls.info()"
   ]
  },
  {
   "cell_type": "code",
   "execution_count": 12,
   "id": "31e546f2",
   "metadata": {},
   "outputs": [
    {
     "data": {
      "text/html": [
       "<div>\n",
       "<style scoped>\n",
       "    .dataframe tbody tr th:only-of-type {\n",
       "        vertical-align: middle;\n",
       "    }\n",
       "\n",
       "    .dataframe tbody tr th {\n",
       "        vertical-align: top;\n",
       "    }\n",
       "\n",
       "    .dataframe thead th {\n",
       "        text-align: right;\n",
       "    }\n",
       "</style>\n",
       "<table border=\"1\" class=\"dataframe\">\n",
       "  <thead>\n",
       "    <tr style=\"text-align: right;\">\n",
       "      <th></th>\n",
       "      <th>Unnamed: 0</th>\n",
       "      <th>id</th>\n",
       "      <th>mb_used</th>\n",
       "      <th>session_date</th>\n",
       "      <th>user_id</th>\n",
       "    </tr>\n",
       "  </thead>\n",
       "  <tbody>\n",
       "    <tr>\n",
       "      <td>0</td>\n",
       "      <td>0</td>\n",
       "      <td>1000_0</td>\n",
       "      <td>112.95</td>\n",
       "      <td>2018-11-25</td>\n",
       "      <td>1000</td>\n",
       "    </tr>\n",
       "    <tr>\n",
       "      <td>1</td>\n",
       "      <td>1</td>\n",
       "      <td>1000_1</td>\n",
       "      <td>1052.81</td>\n",
       "      <td>2018-09-07</td>\n",
       "      <td>1000</td>\n",
       "    </tr>\n",
       "    <tr>\n",
       "      <td>2</td>\n",
       "      <td>2</td>\n",
       "      <td>1000_2</td>\n",
       "      <td>1197.26</td>\n",
       "      <td>2018-06-25</td>\n",
       "      <td>1000</td>\n",
       "    </tr>\n",
       "    <tr>\n",
       "      <td>3</td>\n",
       "      <td>3</td>\n",
       "      <td>1000_3</td>\n",
       "      <td>550.27</td>\n",
       "      <td>2018-08-22</td>\n",
       "      <td>1000</td>\n",
       "    </tr>\n",
       "    <tr>\n",
       "      <td>4</td>\n",
       "      <td>4</td>\n",
       "      <td>1000_4</td>\n",
       "      <td>302.56</td>\n",
       "      <td>2018-09-24</td>\n",
       "      <td>1000</td>\n",
       "    </tr>\n",
       "  </tbody>\n",
       "</table>\n",
       "</div>"
      ],
      "text/plain": [
       "   Unnamed: 0      id  mb_used session_date  user_id\n",
       "0           0  1000_0   112.95   2018-11-25     1000\n",
       "1           1  1000_1  1052.81   2018-09-07     1000\n",
       "2           2  1000_2  1197.26   2018-06-25     1000\n",
       "3           3  1000_3   550.27   2018-08-22     1000\n",
       "4           4  1000_4   302.56   2018-09-24     1000"
      ]
     },
     "execution_count": 12,
     "metadata": {},
     "output_type": "execute_result"
    }
   ],
   "source": [
    "internet.head()"
   ]
  },
  {
   "cell_type": "code",
   "execution_count": 13,
   "id": "8a86bc2e",
   "metadata": {},
   "outputs": [
    {
     "name": "stdout",
     "output_type": "stream",
     "text": [
      "<class 'pandas.core.frame.DataFrame'>\n",
      "RangeIndex: 149396 entries, 0 to 149395\n",
      "Data columns (total 5 columns):\n",
      "Unnamed: 0      149396 non-null int64\n",
      "id              149396 non-null object\n",
      "mb_used         149396 non-null float64\n",
      "session_date    149396 non-null datetime64[ns]\n",
      "user_id         149396 non-null int64\n",
      "dtypes: datetime64[ns](1), float64(1), int64(2), object(1)\n",
      "memory usage: 5.7+ MB\n"
     ]
    }
   ],
   "source": [
    "internet['session_date'] = pd.to_datetime(internet['session_date'], format='%Y-%m-%d')\n",
    "internet.info()"
   ]
  },
  {
   "cell_type": "code",
   "execution_count": 14,
   "id": "32c7af99",
   "metadata": {},
   "outputs": [
    {
     "data": {
      "text/html": [
       "<div>\n",
       "<style scoped>\n",
       "    .dataframe tbody tr th:only-of-type {\n",
       "        vertical-align: middle;\n",
       "    }\n",
       "\n",
       "    .dataframe tbody tr th {\n",
       "        vertical-align: top;\n",
       "    }\n",
       "\n",
       "    .dataframe thead th {\n",
       "        text-align: right;\n",
       "    }\n",
       "</style>\n",
       "<table border=\"1\" class=\"dataframe\">\n",
       "  <thead>\n",
       "    <tr style=\"text-align: right;\">\n",
       "      <th></th>\n",
       "      <th>id</th>\n",
       "      <th>message_date</th>\n",
       "      <th>user_id</th>\n",
       "    </tr>\n",
       "  </thead>\n",
       "  <tbody>\n",
       "    <tr>\n",
       "      <td>0</td>\n",
       "      <td>1000_0</td>\n",
       "      <td>2018-06-27</td>\n",
       "      <td>1000</td>\n",
       "    </tr>\n",
       "    <tr>\n",
       "      <td>1</td>\n",
       "      <td>1000_1</td>\n",
       "      <td>2018-10-08</td>\n",
       "      <td>1000</td>\n",
       "    </tr>\n",
       "    <tr>\n",
       "      <td>2</td>\n",
       "      <td>1000_2</td>\n",
       "      <td>2018-08-04</td>\n",
       "      <td>1000</td>\n",
       "    </tr>\n",
       "    <tr>\n",
       "      <td>3</td>\n",
       "      <td>1000_3</td>\n",
       "      <td>2018-06-16</td>\n",
       "      <td>1000</td>\n",
       "    </tr>\n",
       "    <tr>\n",
       "      <td>4</td>\n",
       "      <td>1000_4</td>\n",
       "      <td>2018-12-05</td>\n",
       "      <td>1000</td>\n",
       "    </tr>\n",
       "  </tbody>\n",
       "</table>\n",
       "</div>"
      ],
      "text/plain": [
       "       id message_date  user_id\n",
       "0  1000_0   2018-06-27     1000\n",
       "1  1000_1   2018-10-08     1000\n",
       "2  1000_2   2018-08-04     1000\n",
       "3  1000_3   2018-06-16     1000\n",
       "4  1000_4   2018-12-05     1000"
      ]
     },
     "execution_count": 14,
     "metadata": {},
     "output_type": "execute_result"
    }
   ],
   "source": [
    "messages.head()"
   ]
  },
  {
   "cell_type": "code",
   "execution_count": 15,
   "id": "a072305d",
   "metadata": {},
   "outputs": [
    {
     "name": "stdout",
     "output_type": "stream",
     "text": [
      "<class 'pandas.core.frame.DataFrame'>\n",
      "RangeIndex: 123036 entries, 0 to 123035\n",
      "Data columns (total 3 columns):\n",
      "id              123036 non-null object\n",
      "message_date    123036 non-null datetime64[ns]\n",
      "user_id         123036 non-null int64\n",
      "dtypes: datetime64[ns](1), int64(1), object(1)\n",
      "memory usage: 2.8+ MB\n"
     ]
    }
   ],
   "source": [
    "messages['message_date'] = pd.to_datetime(messages['message_date'], format='%Y-%m-%d')\n",
    "messages.info()"
   ]
  },
  {
   "cell_type": "markdown",
   "id": "cac6ae53",
   "metadata": {},
   "source": [
    "### Округление"
   ]
  },
  {
   "cell_type": "markdown",
   "id": "e8cac42d",
   "metadata": {},
   "source": [
    "«Мегалайн» всегда округляет секунды до минут, а мегабайты — до гигабайт. Каждый звонок округляется отдельно: даже если он длился всего 1 секунду, будет засчитан как 1 минута.\n",
    "\n",
    "Для веб-трафика отдельные сессии не считаются. Вместо этого общая сумма за месяц округляется в бо́льшую сторону. Если абонент использует 1025 мегабайт в этом месяце, с него возьмут плату за 2 гигабайта.\n",
    "\n",
    "Округлим эти значения в таблицах до целых в бо́льшую сторону."
   ]
  },
  {
   "cell_type": "code",
   "execution_count": 16,
   "id": "b30c361f",
   "metadata": {},
   "outputs": [
    {
     "data": {
      "text/html": [
       "<div>\n",
       "<style scoped>\n",
       "    .dataframe tbody tr th:only-of-type {\n",
       "        vertical-align: middle;\n",
       "    }\n",
       "\n",
       "    .dataframe tbody tr th {\n",
       "        vertical-align: top;\n",
       "    }\n",
       "\n",
       "    .dataframe thead th {\n",
       "        text-align: right;\n",
       "    }\n",
       "</style>\n",
       "<table border=\"1\" class=\"dataframe\">\n",
       "  <thead>\n",
       "    <tr style=\"text-align: right;\">\n",
       "      <th></th>\n",
       "      <th>id</th>\n",
       "      <th>call_date</th>\n",
       "      <th>duration</th>\n",
       "      <th>user_id</th>\n",
       "    </tr>\n",
       "  </thead>\n",
       "  <tbody>\n",
       "    <tr>\n",
       "      <td>0</td>\n",
       "      <td>1000_0</td>\n",
       "      <td>2018-07-25</td>\n",
       "      <td>0</td>\n",
       "      <td>1000</td>\n",
       "    </tr>\n",
       "    <tr>\n",
       "      <td>1</td>\n",
       "      <td>1000_1</td>\n",
       "      <td>2018-08-17</td>\n",
       "      <td>0</td>\n",
       "      <td>1000</td>\n",
       "    </tr>\n",
       "    <tr>\n",
       "      <td>2</td>\n",
       "      <td>1000_2</td>\n",
       "      <td>2018-06-11</td>\n",
       "      <td>3</td>\n",
       "      <td>1000</td>\n",
       "    </tr>\n",
       "    <tr>\n",
       "      <td>3</td>\n",
       "      <td>1000_3</td>\n",
       "      <td>2018-09-21</td>\n",
       "      <td>14</td>\n",
       "      <td>1000</td>\n",
       "    </tr>\n",
       "    <tr>\n",
       "      <td>4</td>\n",
       "      <td>1000_4</td>\n",
       "      <td>2018-12-15</td>\n",
       "      <td>6</td>\n",
       "      <td>1000</td>\n",
       "    </tr>\n",
       "  </tbody>\n",
       "</table>\n",
       "</div>"
      ],
      "text/plain": [
       "       id  call_date  duration  user_id\n",
       "0  1000_0 2018-07-25         0     1000\n",
       "1  1000_1 2018-08-17         0     1000\n",
       "2  1000_2 2018-06-11         3     1000\n",
       "3  1000_3 2018-09-21        14     1000\n",
       "4  1000_4 2018-12-15         6     1000"
      ]
     },
     "execution_count": 16,
     "metadata": {},
     "output_type": "execute_result"
    }
   ],
   "source": [
    "calls['duration'] = calls['duration'].apply(np.ceil).astype(int)\n",
    "calls.head()"
   ]
  },
  {
   "cell_type": "code",
   "execution_count": 17,
   "id": "e78d60d0",
   "metadata": {},
   "outputs": [],
   "source": [
    "# internet['gb_used'] = ((internet['mb_used']/1024)\n",
    "#                             .apply(np.ceil)\n",
    "#                             .astype(int))\n",
    "# internet.head()"
   ]
  },
  {
   "cell_type": "markdown",
   "id": "105d5d9c",
   "metadata": {},
   "source": [
    "### Исправление ошибок в данных"
   ]
  },
  {
   "cell_type": "code",
   "execution_count": 18,
   "id": "3b7988e9",
   "metadata": {},
   "outputs": [
    {
     "data": {
      "text/plain": [
       "0    0\n",
       "1    1\n",
       "2    2\n",
       "3    3\n",
       "4    4\n",
       "5    5\n",
       "6    6\n",
       "7    7\n",
       "8    8\n",
       "9    9\n",
       "Name: Unnamed: 0, dtype: int64"
      ]
     },
     "metadata": {},
     "output_type": "display_data"
    },
    {
     "data": {
      "text/plain": [
       "149386    149386\n",
       "149387    149387\n",
       "149388    149388\n",
       "149389    149389\n",
       "149390    149390\n",
       "149391    149391\n",
       "149392    149392\n",
       "149393    149393\n",
       "149394    149394\n",
       "149395    149395\n",
       "Name: Unnamed: 0, dtype: int64"
      ]
     },
     "execution_count": 18,
     "metadata": {},
     "output_type": "execute_result"
    }
   ],
   "source": [
    "display(internet['Unnamed: 0'].head(10))\n",
    "internet['Unnamed: 0'].tail(10)"
   ]
  },
  {
   "cell_type": "markdown",
   "id": "3101e695",
   "metadata": {},
   "source": [
    "Как и предполагалось ранее, столбец `Unnamed: 0` в таблице `internet` дублирует индексы строк. Она не несет никакого смысла, поэтому ее можно спокойно удалить."
   ]
  },
  {
   "cell_type": "code",
   "execution_count": 19,
   "id": "33a51e6c",
   "metadata": {},
   "outputs": [
    {
     "data": {
      "text/html": [
       "<div>\n",
       "<style scoped>\n",
       "    .dataframe tbody tr th:only-of-type {\n",
       "        vertical-align: middle;\n",
       "    }\n",
       "\n",
       "    .dataframe tbody tr th {\n",
       "        vertical-align: top;\n",
       "    }\n",
       "\n",
       "    .dataframe thead th {\n",
       "        text-align: right;\n",
       "    }\n",
       "</style>\n",
       "<table border=\"1\" class=\"dataframe\">\n",
       "  <thead>\n",
       "    <tr style=\"text-align: right;\">\n",
       "      <th></th>\n",
       "      <th>id</th>\n",
       "      <th>mb_used</th>\n",
       "      <th>session_date</th>\n",
       "      <th>user_id</th>\n",
       "    </tr>\n",
       "  </thead>\n",
       "  <tbody>\n",
       "    <tr>\n",
       "      <td>0</td>\n",
       "      <td>1000_0</td>\n",
       "      <td>112.95</td>\n",
       "      <td>2018-11-25</td>\n",
       "      <td>1000</td>\n",
       "    </tr>\n",
       "    <tr>\n",
       "      <td>1</td>\n",
       "      <td>1000_1</td>\n",
       "      <td>1052.81</td>\n",
       "      <td>2018-09-07</td>\n",
       "      <td>1000</td>\n",
       "    </tr>\n",
       "    <tr>\n",
       "      <td>2</td>\n",
       "      <td>1000_2</td>\n",
       "      <td>1197.26</td>\n",
       "      <td>2018-06-25</td>\n",
       "      <td>1000</td>\n",
       "    </tr>\n",
       "    <tr>\n",
       "      <td>3</td>\n",
       "      <td>1000_3</td>\n",
       "      <td>550.27</td>\n",
       "      <td>2018-08-22</td>\n",
       "      <td>1000</td>\n",
       "    </tr>\n",
       "    <tr>\n",
       "      <td>4</td>\n",
       "      <td>1000_4</td>\n",
       "      <td>302.56</td>\n",
       "      <td>2018-09-24</td>\n",
       "      <td>1000</td>\n",
       "    </tr>\n",
       "  </tbody>\n",
       "</table>\n",
       "</div>"
      ],
      "text/plain": [
       "       id  mb_used session_date  user_id\n",
       "0  1000_0   112.95   2018-11-25     1000\n",
       "1  1000_1  1052.81   2018-09-07     1000\n",
       "2  1000_2  1197.26   2018-06-25     1000\n",
       "3  1000_3   550.27   2018-08-22     1000\n",
       "4  1000_4   302.56   2018-09-24     1000"
      ]
     },
     "execution_count": 19,
     "metadata": {},
     "output_type": "execute_result"
    }
   ],
   "source": [
    "internet.drop('Unnamed: 0', axis='columns', inplace=True)\n",
    "internet.head()"
   ]
  },
  {
   "cell_type": "markdown",
   "id": "1308698a",
   "metadata": {},
   "source": [
    "### Расчёт параметров"
   ]
  },
  {
   "cell_type": "markdown",
   "id": "14ddcd03",
   "metadata": {},
   "source": [
    "Для проведения анализа потребуются дополнительные параметры, которые следует рассчитать на основе данных.\n",
    "Посчитаем для каждого пользователя:\n",
    "* количество сделанных звонков и израсходованных минут разговора по месяцам;\n",
    "* количество отправленных сообщений по месяцам;\n",
    "* объем израсходованного интернет-трафика по месяцам;\n",
    "* помесячную выручку с каждого пользователя "
   ]
  },
  {
   "cell_type": "markdown",
   "id": "6c0e79ee",
   "metadata": {},
   "source": [
    "#### Количество сделанных звонков и израсходованных минут разговора по месяцам"
   ]
  },
  {
   "cell_type": "markdown",
   "id": "9a2574cb",
   "metadata": {},
   "source": [
    "Для подсчета использованных услуг абонентом по месяцам, создадим в каждой таблице отдельный столбец с значением месяца `month` получения услуги.\n",
    "\n",
    "После этого сгруппируем таблицы по столбцам `user_id` и `month` и применим агрегирующие функции"
   ]
  },
  {
   "cell_type": "code",
   "execution_count": 20,
   "id": "53549ee9",
   "metadata": {},
   "outputs": [],
   "source": [
    "calls['month'] = calls['call_date'].dt.month"
   ]
  },
  {
   "cell_type": "code",
   "execution_count": 21,
   "id": "c2eccf76",
   "metadata": {},
   "outputs": [
    {
     "data": {
      "text/html": [
       "<div>\n",
       "<style scoped>\n",
       "    .dataframe tbody tr th:only-of-type {\n",
       "        vertical-align: middle;\n",
       "    }\n",
       "\n",
       "    .dataframe tbody tr th {\n",
       "        vertical-align: top;\n",
       "    }\n",
       "\n",
       "    .dataframe thead th {\n",
       "        text-align: right;\n",
       "    }\n",
       "</style>\n",
       "<table border=\"1\" class=\"dataframe\">\n",
       "  <thead>\n",
       "    <tr style=\"text-align: right;\">\n",
       "      <th></th>\n",
       "      <th></th>\n",
       "      <th>duration</th>\n",
       "    </tr>\n",
       "    <tr>\n",
       "      <th>user_id</th>\n",
       "      <th>month</th>\n",
       "      <th></th>\n",
       "    </tr>\n",
       "  </thead>\n",
       "  <tbody>\n",
       "    <tr>\n",
       "      <td rowspan=\"5\" valign=\"top\">1000</td>\n",
       "      <td>5</td>\n",
       "      <td>159</td>\n",
       "    </tr>\n",
       "    <tr>\n",
       "      <td>6</td>\n",
       "      <td>172</td>\n",
       "    </tr>\n",
       "    <tr>\n",
       "      <td>7</td>\n",
       "      <td>340</td>\n",
       "    </tr>\n",
       "    <tr>\n",
       "      <td>8</td>\n",
       "      <td>408</td>\n",
       "    </tr>\n",
       "    <tr>\n",
       "      <td>9</td>\n",
       "      <td>466</td>\n",
       "    </tr>\n",
       "    <tr>\n",
       "      <td>...</td>\n",
       "      <td>...</td>\n",
       "      <td>...</td>\n",
       "    </tr>\n",
       "    <tr>\n",
       "      <td>1498</td>\n",
       "      <td>10</td>\n",
       "      <td>247</td>\n",
       "    </tr>\n",
       "    <tr>\n",
       "      <td rowspan=\"4\" valign=\"top\">1499</td>\n",
       "      <td>9</td>\n",
       "      <td>70</td>\n",
       "    </tr>\n",
       "    <tr>\n",
       "      <td>10</td>\n",
       "      <td>449</td>\n",
       "    </tr>\n",
       "    <tr>\n",
       "      <td>11</td>\n",
       "      <td>612</td>\n",
       "    </tr>\n",
       "    <tr>\n",
       "      <td>12</td>\n",
       "      <td>492</td>\n",
       "    </tr>\n",
       "  </tbody>\n",
       "</table>\n",
       "<p>3174 rows × 1 columns</p>\n",
       "</div>"
      ],
      "text/plain": [
       "               duration\n",
       "user_id month          \n",
       "1000    5           159\n",
       "        6           172\n",
       "        7           340\n",
       "        8           408\n",
       "        9           466\n",
       "...                 ...\n",
       "1498    10          247\n",
       "1499    9            70\n",
       "        10          449\n",
       "        11          612\n",
       "        12          492\n",
       "\n",
       "[3174 rows x 1 columns]"
      ]
     },
     "execution_count": 21,
     "metadata": {},
     "output_type": "execute_result"
    }
   ],
   "source": [
    "calls_by_month_sum = calls.groupby(['user_id','month'])['duration'].sum()\n",
    "calls_by_month_sum = pd.DataFrame(calls_by_month_sum)\n",
    "calls_by_month_sum"
   ]
  },
  {
   "cell_type": "code",
   "execution_count": 22,
   "id": "a9b05385",
   "metadata": {},
   "outputs": [
    {
     "data": {
      "text/html": [
       "<div>\n",
       "<style scoped>\n",
       "    .dataframe tbody tr th:only-of-type {\n",
       "        vertical-align: middle;\n",
       "    }\n",
       "\n",
       "    .dataframe tbody tr th {\n",
       "        vertical-align: top;\n",
       "    }\n",
       "\n",
       "    .dataframe thead th {\n",
       "        text-align: right;\n",
       "    }\n",
       "</style>\n",
       "<table border=\"1\" class=\"dataframe\">\n",
       "  <thead>\n",
       "    <tr style=\"text-align: right;\">\n",
       "      <th></th>\n",
       "      <th></th>\n",
       "      <th>duration</th>\n",
       "    </tr>\n",
       "    <tr>\n",
       "      <th>user_id</th>\n",
       "      <th>month</th>\n",
       "      <th></th>\n",
       "    </tr>\n",
       "  </thead>\n",
       "  <tbody>\n",
       "    <tr>\n",
       "      <td rowspan=\"5\" valign=\"top\">1000</td>\n",
       "      <td>5</td>\n",
       "      <td>22</td>\n",
       "    </tr>\n",
       "    <tr>\n",
       "      <td>6</td>\n",
       "      <td>43</td>\n",
       "    </tr>\n",
       "    <tr>\n",
       "      <td>7</td>\n",
       "      <td>47</td>\n",
       "    </tr>\n",
       "    <tr>\n",
       "      <td>8</td>\n",
       "      <td>52</td>\n",
       "    </tr>\n",
       "    <tr>\n",
       "      <td>9</td>\n",
       "      <td>58</td>\n",
       "    </tr>\n",
       "    <tr>\n",
       "      <td>...</td>\n",
       "      <td>...</td>\n",
       "      <td>...</td>\n",
       "    </tr>\n",
       "    <tr>\n",
       "      <td>1498</td>\n",
       "      <td>10</td>\n",
       "      <td>41</td>\n",
       "    </tr>\n",
       "    <tr>\n",
       "      <td rowspan=\"4\" valign=\"top\">1499</td>\n",
       "      <td>9</td>\n",
       "      <td>9</td>\n",
       "    </tr>\n",
       "    <tr>\n",
       "      <td>10</td>\n",
       "      <td>68</td>\n",
       "    </tr>\n",
       "    <tr>\n",
       "      <td>11</td>\n",
       "      <td>74</td>\n",
       "    </tr>\n",
       "    <tr>\n",
       "      <td>12</td>\n",
       "      <td>69</td>\n",
       "    </tr>\n",
       "  </tbody>\n",
       "</table>\n",
       "<p>3174 rows × 1 columns</p>\n",
       "</div>"
      ],
      "text/plain": [
       "               duration\n",
       "user_id month          \n",
       "1000    5            22\n",
       "        6            43\n",
       "        7            47\n",
       "        8            52\n",
       "        9            58\n",
       "...                 ...\n",
       "1498    10           41\n",
       "1499    9             9\n",
       "        10           68\n",
       "        11           74\n",
       "        12           69\n",
       "\n",
       "[3174 rows x 1 columns]"
      ]
     },
     "execution_count": 22,
     "metadata": {},
     "output_type": "execute_result"
    }
   ],
   "source": [
    "calls_by_month_count = calls.groupby(['user_id','month'])['duration'].count()\n",
    "calls_by_month_count = pd.DataFrame(calls_by_month_count)\n",
    "calls_by_month_count"
   ]
  },
  {
   "cell_type": "markdown",
   "id": "860731df",
   "metadata": {},
   "source": [
    "#### Количество отправленных сообщений по месяцам"
   ]
  },
  {
   "cell_type": "code",
   "execution_count": 23,
   "id": "757f4184",
   "metadata": {},
   "outputs": [],
   "source": [
    "messages['month'] = messages['message_date'].dt.month"
   ]
  },
  {
   "cell_type": "code",
   "execution_count": 24,
   "id": "0ea8a09e",
   "metadata": {},
   "outputs": [
    {
     "data": {
      "text/html": [
       "<div>\n",
       "<style scoped>\n",
       "    .dataframe tbody tr th:only-of-type {\n",
       "        vertical-align: middle;\n",
       "    }\n",
       "\n",
       "    .dataframe tbody tr th {\n",
       "        vertical-align: top;\n",
       "    }\n",
       "\n",
       "    .dataframe thead th {\n",
       "        text-align: right;\n",
       "    }\n",
       "</style>\n",
       "<table border=\"1\" class=\"dataframe\">\n",
       "  <thead>\n",
       "    <tr style=\"text-align: right;\">\n",
       "      <th></th>\n",
       "      <th></th>\n",
       "      <th>id</th>\n",
       "    </tr>\n",
       "    <tr>\n",
       "      <th>user_id</th>\n",
       "      <th>month</th>\n",
       "      <th></th>\n",
       "    </tr>\n",
       "  </thead>\n",
       "  <tbody>\n",
       "    <tr>\n",
       "      <td rowspan=\"5\" valign=\"top\">1000</td>\n",
       "      <td>5</td>\n",
       "      <td>22</td>\n",
       "    </tr>\n",
       "    <tr>\n",
       "      <td>6</td>\n",
       "      <td>60</td>\n",
       "    </tr>\n",
       "    <tr>\n",
       "      <td>7</td>\n",
       "      <td>75</td>\n",
       "    </tr>\n",
       "    <tr>\n",
       "      <td>8</td>\n",
       "      <td>81</td>\n",
       "    </tr>\n",
       "    <tr>\n",
       "      <td>9</td>\n",
       "      <td>57</td>\n",
       "    </tr>\n",
       "    <tr>\n",
       "      <td>...</td>\n",
       "      <td>...</td>\n",
       "      <td>...</td>\n",
       "    </tr>\n",
       "    <tr>\n",
       "      <td>1498</td>\n",
       "      <td>10</td>\n",
       "      <td>42</td>\n",
       "    </tr>\n",
       "    <tr>\n",
       "      <td rowspan=\"4\" valign=\"top\">1499</td>\n",
       "      <td>9</td>\n",
       "      <td>11</td>\n",
       "    </tr>\n",
       "    <tr>\n",
       "      <td>10</td>\n",
       "      <td>48</td>\n",
       "    </tr>\n",
       "    <tr>\n",
       "      <td>11</td>\n",
       "      <td>59</td>\n",
       "    </tr>\n",
       "    <tr>\n",
       "      <td>12</td>\n",
       "      <td>66</td>\n",
       "    </tr>\n",
       "  </tbody>\n",
       "</table>\n",
       "<p>2717 rows × 1 columns</p>\n",
       "</div>"
      ],
      "text/plain": [
       "               id\n",
       "user_id month    \n",
       "1000    5      22\n",
       "        6      60\n",
       "        7      75\n",
       "        8      81\n",
       "        9      57\n",
       "...            ..\n",
       "1498    10     42\n",
       "1499    9      11\n",
       "        10     48\n",
       "        11     59\n",
       "        12     66\n",
       "\n",
       "[2717 rows x 1 columns]"
      ]
     },
     "execution_count": 24,
     "metadata": {},
     "output_type": "execute_result"
    }
   ],
   "source": [
    "mesagges_by_month = messages.groupby(['user_id','month'])['id'].count()\n",
    "mesagges_by_month = pd.DataFrame(mesagges_by_month)\n",
    "mesagges_by_month"
   ]
  },
  {
   "cell_type": "markdown",
   "id": "5403aab0",
   "metadata": {},
   "source": [
    "#### Объем израсходованного интернет-трафика по месяцам"
   ]
  },
  {
   "cell_type": "code",
   "execution_count": 25,
   "id": "0c007128",
   "metadata": {},
   "outputs": [],
   "source": [
    "internet['month'] = internet['session_date'].dt.month"
   ]
  },
  {
   "cell_type": "code",
   "execution_count": 26,
   "id": "ba849298",
   "metadata": {},
   "outputs": [
    {
     "data": {
      "text/html": [
       "<div>\n",
       "<style scoped>\n",
       "    .dataframe tbody tr th:only-of-type {\n",
       "        vertical-align: middle;\n",
       "    }\n",
       "\n",
       "    .dataframe tbody tr th {\n",
       "        vertical-align: top;\n",
       "    }\n",
       "\n",
       "    .dataframe thead th {\n",
       "        text-align: right;\n",
       "    }\n",
       "</style>\n",
       "<table border=\"1\" class=\"dataframe\">\n",
       "  <thead>\n",
       "    <tr style=\"text-align: right;\">\n",
       "      <th></th>\n",
       "      <th></th>\n",
       "      <th>gb_used</th>\n",
       "    </tr>\n",
       "    <tr>\n",
       "      <th>user_id</th>\n",
       "      <th>month</th>\n",
       "      <th></th>\n",
       "    </tr>\n",
       "  </thead>\n",
       "  <tbody>\n",
       "    <tr>\n",
       "      <td rowspan=\"5\" valign=\"top\">1000</td>\n",
       "      <td>5</td>\n",
       "      <td>3</td>\n",
       "    </tr>\n",
       "    <tr>\n",
       "      <td>6</td>\n",
       "      <td>23</td>\n",
       "    </tr>\n",
       "    <tr>\n",
       "      <td>7</td>\n",
       "      <td>14</td>\n",
       "    </tr>\n",
       "    <tr>\n",
       "      <td>8</td>\n",
       "      <td>14</td>\n",
       "    </tr>\n",
       "    <tr>\n",
       "      <td>9</td>\n",
       "      <td>15</td>\n",
       "    </tr>\n",
       "    <tr>\n",
       "      <td>...</td>\n",
       "      <td>...</td>\n",
       "      <td>...</td>\n",
       "    </tr>\n",
       "    <tr>\n",
       "      <td>1498</td>\n",
       "      <td>10</td>\n",
       "      <td>21</td>\n",
       "    </tr>\n",
       "    <tr>\n",
       "      <td rowspan=\"4\" valign=\"top\">1499</td>\n",
       "      <td>9</td>\n",
       "      <td>2</td>\n",
       "    </tr>\n",
       "    <tr>\n",
       "      <td>10</td>\n",
       "      <td>18</td>\n",
       "    </tr>\n",
       "    <tr>\n",
       "      <td>11</td>\n",
       "      <td>18</td>\n",
       "    </tr>\n",
       "    <tr>\n",
       "      <td>12</td>\n",
       "      <td>13</td>\n",
       "    </tr>\n",
       "  </tbody>\n",
       "</table>\n",
       "<p>3203 rows × 1 columns</p>\n",
       "</div>"
      ],
      "text/plain": [
       "               gb_used\n",
       "user_id month         \n",
       "1000    5            3\n",
       "        6           23\n",
       "        7           14\n",
       "        8           14\n",
       "        9           15\n",
       "...                ...\n",
       "1498    10          21\n",
       "1499    9            2\n",
       "        10          18\n",
       "        11          18\n",
       "        12          13\n",
       "\n",
       "[3203 rows x 1 columns]"
      ]
     },
     "execution_count": 26,
     "metadata": {},
     "output_type": "execute_result"
    }
   ],
   "source": [
    "internet_sessions_by_month = internet.groupby(['user_id','month'])['mb_used'].sum()\n",
    "internet_sessions_by_month = pd.DataFrame(internet_sessions_by_month)\n",
    "\n",
    "internet_sessions_by_month['gb_used'] = np.ceil(internet_sessions_by_month['mb_used']/1024).astype(int)\n",
    "internet_sessions_by_month.drop('mb_used', axis='columns', inplace=True)\n",
    "\n",
    "internet_sessions_by_month"
   ]
  },
  {
   "cell_type": "markdown",
   "id": "7f09f681",
   "metadata": {},
   "source": [
    "#### Помесячная выручка с каждого пользователя"
   ]
  },
  {
   "cell_type": "markdown",
   "id": "589de37b",
   "metadata": {},
   "source": [
    "Для подсчета помесячной выручки следует: \n",
    "1. Вычесть бесплатный лимит из суммарного количества звонков, сообщений и интернет-трафика\n",
    "2. Умножить остаток по каждой из услуг на значение из тарифного плана\n",
    "3. Прибавить абонентскую плату, соответствующую тарифному плану\n",
    "\n",
    "Для начала, объединим таблицы с данными по звонкам, сообщениям и интернет-трафику в одну."
   ]
  },
  {
   "cell_type": "code",
   "execution_count": 27,
   "id": "3dbb49f8",
   "metadata": {},
   "outputs": [
    {
     "data": {
      "text/html": [
       "<div>\n",
       "<style scoped>\n",
       "    .dataframe tbody tr th:only-of-type {\n",
       "        vertical-align: middle;\n",
       "    }\n",
       "\n",
       "    .dataframe tbody tr th {\n",
       "        vertical-align: top;\n",
       "    }\n",
       "\n",
       "    .dataframe thead th {\n",
       "        text-align: right;\n",
       "    }\n",
       "</style>\n",
       "<table border=\"1\" class=\"dataframe\">\n",
       "  <thead>\n",
       "    <tr style=\"text-align: right;\">\n",
       "      <th></th>\n",
       "      <th>user_id</th>\n",
       "      <th>month</th>\n",
       "      <th>gb_used</th>\n",
       "      <th>messages</th>\n",
       "      <th>calls_duration</th>\n",
       "    </tr>\n",
       "  </thead>\n",
       "  <tbody>\n",
       "    <tr>\n",
       "      <td>0</td>\n",
       "      <td>1000</td>\n",
       "      <td>5</td>\n",
       "      <td>3.0</td>\n",
       "      <td>22.0</td>\n",
       "      <td>159.0</td>\n",
       "    </tr>\n",
       "    <tr>\n",
       "      <td>1</td>\n",
       "      <td>1000</td>\n",
       "      <td>6</td>\n",
       "      <td>23.0</td>\n",
       "      <td>60.0</td>\n",
       "      <td>172.0</td>\n",
       "    </tr>\n",
       "    <tr>\n",
       "      <td>2</td>\n",
       "      <td>1000</td>\n",
       "      <td>7</td>\n",
       "      <td>14.0</td>\n",
       "      <td>75.0</td>\n",
       "      <td>340.0</td>\n",
       "    </tr>\n",
       "    <tr>\n",
       "      <td>3</td>\n",
       "      <td>1000</td>\n",
       "      <td>8</td>\n",
       "      <td>14.0</td>\n",
       "      <td>81.0</td>\n",
       "      <td>408.0</td>\n",
       "    </tr>\n",
       "    <tr>\n",
       "      <td>4</td>\n",
       "      <td>1000</td>\n",
       "      <td>9</td>\n",
       "      <td>15.0</td>\n",
       "      <td>57.0</td>\n",
       "      <td>466.0</td>\n",
       "    </tr>\n",
       "    <tr>\n",
       "      <td>...</td>\n",
       "      <td>...</td>\n",
       "      <td>...</td>\n",
       "      <td>...</td>\n",
       "      <td>...</td>\n",
       "      <td>...</td>\n",
       "    </tr>\n",
       "    <tr>\n",
       "      <td>3209</td>\n",
       "      <td>1498</td>\n",
       "      <td>10</td>\n",
       "      <td>21.0</td>\n",
       "      <td>42.0</td>\n",
       "      <td>247.0</td>\n",
       "    </tr>\n",
       "    <tr>\n",
       "      <td>3210</td>\n",
       "      <td>1499</td>\n",
       "      <td>9</td>\n",
       "      <td>2.0</td>\n",
       "      <td>11.0</td>\n",
       "      <td>70.0</td>\n",
       "    </tr>\n",
       "    <tr>\n",
       "      <td>3211</td>\n",
       "      <td>1499</td>\n",
       "      <td>10</td>\n",
       "      <td>18.0</td>\n",
       "      <td>48.0</td>\n",
       "      <td>449.0</td>\n",
       "    </tr>\n",
       "    <tr>\n",
       "      <td>3212</td>\n",
       "      <td>1499</td>\n",
       "      <td>11</td>\n",
       "      <td>18.0</td>\n",
       "      <td>59.0</td>\n",
       "      <td>612.0</td>\n",
       "    </tr>\n",
       "    <tr>\n",
       "      <td>3213</td>\n",
       "      <td>1499</td>\n",
       "      <td>12</td>\n",
       "      <td>13.0</td>\n",
       "      <td>66.0</td>\n",
       "      <td>492.0</td>\n",
       "    </tr>\n",
       "  </tbody>\n",
       "</table>\n",
       "<p>3214 rows × 5 columns</p>\n",
       "</div>"
      ],
      "text/plain": [
       "      user_id  month  gb_used  messages  calls_duration\n",
       "0        1000      5      3.0      22.0           159.0\n",
       "1        1000      6     23.0      60.0           172.0\n",
       "2        1000      7     14.0      75.0           340.0\n",
       "3        1000      8     14.0      81.0           408.0\n",
       "4        1000      9     15.0      57.0           466.0\n",
       "...       ...    ...      ...       ...             ...\n",
       "3209     1498     10     21.0      42.0           247.0\n",
       "3210     1499      9      2.0      11.0            70.0\n",
       "3211     1499     10     18.0      48.0           449.0\n",
       "3212     1499     11     18.0      59.0           612.0\n",
       "3213     1499     12     13.0      66.0           492.0\n",
       "\n",
       "[3214 rows x 5 columns]"
      ]
     },
     "execution_count": 27,
     "metadata": {},
     "output_type": "execute_result"
    }
   ],
   "source": [
    "summary_on_user = internet_sessions_by_month.join([mesagges_by_month,calls_by_month_sum], how='outer')                        \n",
    "summary_on_user.columns = ['gb_used', 'messages', 'calls_duration']\n",
    "summary_on_user = summary_on_user.reset_index()\n",
    "summary_on_user "
   ]
  },
  {
   "cell_type": "code",
   "execution_count": 28,
   "id": "59a286c6",
   "metadata": {},
   "outputs": [
    {
     "data": {
      "text/plain": [
       "user_id             0\n",
       "month               0\n",
       "gb_used            11\n",
       "messages          497\n",
       "calls_duration     40\n",
       "dtype: int64"
      ]
     },
     "execution_count": 28,
     "metadata": {},
     "output_type": "execute_result"
    }
   ],
   "source": [
    "summary_on_user.isna().sum()"
   ]
  },
  {
   "cell_type": "markdown",
   "id": "3ea98f59",
   "metadata": {},
   "source": [
    "Так как часть пользователей не используют некоторые услуги, в таблице присутствуют пропуски NaN. Их можно заменить на нули, так как если абонент не пользовался услугой, то он использовал 0 единиц (мин,сообщений,ГБ).\n"
   ]
  },
  {
   "cell_type": "code",
   "execution_count": 29,
   "id": "ef44712f",
   "metadata": {},
   "outputs": [
    {
     "data": {
      "text/plain": [
       "user_id           0\n",
       "month             0\n",
       "gb_used           0\n",
       "messages          0\n",
       "calls_duration    0\n",
       "dtype: int64"
      ]
     },
     "execution_count": 29,
     "metadata": {},
     "output_type": "execute_result"
    }
   ],
   "source": [
    "summary_on_user = summary_on_user.fillna(0)\n",
    "summary_on_user.isna().sum()"
   ]
  },
  {
   "cell_type": "markdown",
   "id": "daaeb6d3",
   "metadata": {},
   "source": [
    "Далее объединим таблицу с данными об использовании услуг оператора с таблицей абонентов. Из нее возьмем индекс, чтобы добавить в итоговую таблицу информацию о тарифах."
   ]
  },
  {
   "cell_type": "code",
   "execution_count": 30,
   "id": "c7d566ff",
   "metadata": {
    "scrolled": true
   },
   "outputs": [
    {
     "data": {
      "text/html": [
       "<div>\n",
       "<style scoped>\n",
       "    .dataframe tbody tr th:only-of-type {\n",
       "        vertical-align: middle;\n",
       "    }\n",
       "\n",
       "    .dataframe tbody tr th {\n",
       "        vertical-align: top;\n",
       "    }\n",
       "\n",
       "    .dataframe thead th {\n",
       "        text-align: right;\n",
       "    }\n",
       "</style>\n",
       "<table border=\"1\" class=\"dataframe\">\n",
       "  <thead>\n",
       "    <tr style=\"text-align: right;\">\n",
       "      <th></th>\n",
       "      <th>user_id</th>\n",
       "      <th>month</th>\n",
       "      <th>gb_used</th>\n",
       "      <th>messages</th>\n",
       "      <th>calls_duration</th>\n",
       "      <th>age</th>\n",
       "      <th>churn_date</th>\n",
       "      <th>city</th>\n",
       "      <th>first_name</th>\n",
       "      <th>last_name</th>\n",
       "      <th>reg_date</th>\n",
       "      <th>tariff_name</th>\n",
       "    </tr>\n",
       "  </thead>\n",
       "  <tbody>\n",
       "    <tr>\n",
       "      <td>0</td>\n",
       "      <td>1000</td>\n",
       "      <td>5</td>\n",
       "      <td>3.0</td>\n",
       "      <td>22.0</td>\n",
       "      <td>159.0</td>\n",
       "      <td>52</td>\n",
       "      <td>NaT</td>\n",
       "      <td>Краснодар</td>\n",
       "      <td>Рафаил</td>\n",
       "      <td>Верещагин</td>\n",
       "      <td>2018-05-25</td>\n",
       "      <td>ultra</td>\n",
       "    </tr>\n",
       "    <tr>\n",
       "      <td>1</td>\n",
       "      <td>1000</td>\n",
       "      <td>6</td>\n",
       "      <td>23.0</td>\n",
       "      <td>60.0</td>\n",
       "      <td>172.0</td>\n",
       "      <td>52</td>\n",
       "      <td>NaT</td>\n",
       "      <td>Краснодар</td>\n",
       "      <td>Рафаил</td>\n",
       "      <td>Верещагин</td>\n",
       "      <td>2018-05-25</td>\n",
       "      <td>ultra</td>\n",
       "    </tr>\n",
       "    <tr>\n",
       "      <td>2</td>\n",
       "      <td>1000</td>\n",
       "      <td>7</td>\n",
       "      <td>14.0</td>\n",
       "      <td>75.0</td>\n",
       "      <td>340.0</td>\n",
       "      <td>52</td>\n",
       "      <td>NaT</td>\n",
       "      <td>Краснодар</td>\n",
       "      <td>Рафаил</td>\n",
       "      <td>Верещагин</td>\n",
       "      <td>2018-05-25</td>\n",
       "      <td>ultra</td>\n",
       "    </tr>\n",
       "    <tr>\n",
       "      <td>3</td>\n",
       "      <td>1000</td>\n",
       "      <td>8</td>\n",
       "      <td>14.0</td>\n",
       "      <td>81.0</td>\n",
       "      <td>408.0</td>\n",
       "      <td>52</td>\n",
       "      <td>NaT</td>\n",
       "      <td>Краснодар</td>\n",
       "      <td>Рафаил</td>\n",
       "      <td>Верещагин</td>\n",
       "      <td>2018-05-25</td>\n",
       "      <td>ultra</td>\n",
       "    </tr>\n",
       "    <tr>\n",
       "      <td>4</td>\n",
       "      <td>1000</td>\n",
       "      <td>9</td>\n",
       "      <td>15.0</td>\n",
       "      <td>57.0</td>\n",
       "      <td>466.0</td>\n",
       "      <td>52</td>\n",
       "      <td>NaT</td>\n",
       "      <td>Краснодар</td>\n",
       "      <td>Рафаил</td>\n",
       "      <td>Верещагин</td>\n",
       "      <td>2018-05-25</td>\n",
       "      <td>ultra</td>\n",
       "    </tr>\n",
       "    <tr>\n",
       "      <td>...</td>\n",
       "      <td>...</td>\n",
       "      <td>...</td>\n",
       "      <td>...</td>\n",
       "      <td>...</td>\n",
       "      <td>...</td>\n",
       "      <td>...</td>\n",
       "      <td>...</td>\n",
       "      <td>...</td>\n",
       "      <td>...</td>\n",
       "      <td>...</td>\n",
       "      <td>...</td>\n",
       "      <td>...</td>\n",
       "    </tr>\n",
       "    <tr>\n",
       "      <td>3209</td>\n",
       "      <td>1498</td>\n",
       "      <td>10</td>\n",
       "      <td>21.0</td>\n",
       "      <td>42.0</td>\n",
       "      <td>247.0</td>\n",
       "      <td>68</td>\n",
       "      <td>2018-10-25</td>\n",
       "      <td>Владикавказ</td>\n",
       "      <td>Всеволод</td>\n",
       "      <td>Акимчин</td>\n",
       "      <td>2018-07-19</td>\n",
       "      <td>smart</td>\n",
       "    </tr>\n",
       "    <tr>\n",
       "      <td>3210</td>\n",
       "      <td>1499</td>\n",
       "      <td>9</td>\n",
       "      <td>2.0</td>\n",
       "      <td>11.0</td>\n",
       "      <td>70.0</td>\n",
       "      <td>35</td>\n",
       "      <td>NaT</td>\n",
       "      <td>Пермь</td>\n",
       "      <td>Гектор</td>\n",
       "      <td>Корнилов</td>\n",
       "      <td>2018-09-27</td>\n",
       "      <td>smart</td>\n",
       "    </tr>\n",
       "    <tr>\n",
       "      <td>3211</td>\n",
       "      <td>1499</td>\n",
       "      <td>10</td>\n",
       "      <td>18.0</td>\n",
       "      <td>48.0</td>\n",
       "      <td>449.0</td>\n",
       "      <td>35</td>\n",
       "      <td>NaT</td>\n",
       "      <td>Пермь</td>\n",
       "      <td>Гектор</td>\n",
       "      <td>Корнилов</td>\n",
       "      <td>2018-09-27</td>\n",
       "      <td>smart</td>\n",
       "    </tr>\n",
       "    <tr>\n",
       "      <td>3212</td>\n",
       "      <td>1499</td>\n",
       "      <td>11</td>\n",
       "      <td>18.0</td>\n",
       "      <td>59.0</td>\n",
       "      <td>612.0</td>\n",
       "      <td>35</td>\n",
       "      <td>NaT</td>\n",
       "      <td>Пермь</td>\n",
       "      <td>Гектор</td>\n",
       "      <td>Корнилов</td>\n",
       "      <td>2018-09-27</td>\n",
       "      <td>smart</td>\n",
       "    </tr>\n",
       "    <tr>\n",
       "      <td>3213</td>\n",
       "      <td>1499</td>\n",
       "      <td>12</td>\n",
       "      <td>13.0</td>\n",
       "      <td>66.0</td>\n",
       "      <td>492.0</td>\n",
       "      <td>35</td>\n",
       "      <td>NaT</td>\n",
       "      <td>Пермь</td>\n",
       "      <td>Гектор</td>\n",
       "      <td>Корнилов</td>\n",
       "      <td>2018-09-27</td>\n",
       "      <td>smart</td>\n",
       "    </tr>\n",
       "  </tbody>\n",
       "</table>\n",
       "<p>3214 rows × 12 columns</p>\n",
       "</div>"
      ],
      "text/plain": [
       "      user_id  month  gb_used  messages  calls_duration  age churn_date  \\\n",
       "0        1000      5      3.0      22.0           159.0   52        NaT   \n",
       "1        1000      6     23.0      60.0           172.0   52        NaT   \n",
       "2        1000      7     14.0      75.0           340.0   52        NaT   \n",
       "3        1000      8     14.0      81.0           408.0   52        NaT   \n",
       "4        1000      9     15.0      57.0           466.0   52        NaT   \n",
       "...       ...    ...      ...       ...             ...  ...        ...   \n",
       "3209     1498     10     21.0      42.0           247.0   68 2018-10-25   \n",
       "3210     1499      9      2.0      11.0            70.0   35        NaT   \n",
       "3211     1499     10     18.0      48.0           449.0   35        NaT   \n",
       "3212     1499     11     18.0      59.0           612.0   35        NaT   \n",
       "3213     1499     12     13.0      66.0           492.0   35        NaT   \n",
       "\n",
       "             city first_name  last_name   reg_date tariff_name  \n",
       "0       Краснодар     Рафаил  Верещагин 2018-05-25       ultra  \n",
       "1       Краснодар     Рафаил  Верещагин 2018-05-25       ultra  \n",
       "2       Краснодар     Рафаил  Верещагин 2018-05-25       ultra  \n",
       "3       Краснодар     Рафаил  Верещагин 2018-05-25       ultra  \n",
       "4       Краснодар     Рафаил  Верещагин 2018-05-25       ultra  \n",
       "...           ...        ...        ...        ...         ...  \n",
       "3209  Владикавказ   Всеволод    Акимчин 2018-07-19       smart  \n",
       "3210        Пермь     Гектор   Корнилов 2018-09-27       smart  \n",
       "3211        Пермь     Гектор   Корнилов 2018-09-27       smart  \n",
       "3212        Пермь     Гектор   Корнилов 2018-09-27       smart  \n",
       "3213        Пермь     Гектор   Корнилов 2018-09-27       smart  \n",
       "\n",
       "[3214 rows x 12 columns]"
      ]
     },
     "execution_count": 30,
     "metadata": {},
     "output_type": "execute_result"
    }
   ],
   "source": [
    "summary_on_user = summary_on_user.merge(users, on='user_id', how='left')\n",
    "summary_on_user"
   ]
  },
  {
   "cell_type": "markdown",
   "id": "e280a23c",
   "metadata": {},
   "source": [
    "Объединим итоговую таблицу по абонентам с таблицей условий тарифа. Это позволит нам применить к таблице функцию для одной строки, чтобы подсчитать помесячную выручку для каждого пользователя."
   ]
  },
  {
   "cell_type": "code",
   "execution_count": 31,
   "id": "82282365",
   "metadata": {},
   "outputs": [
    {
     "data": {
      "text/html": [
       "<div>\n",
       "<style scoped>\n",
       "    .dataframe tbody tr th:only-of-type {\n",
       "        vertical-align: middle;\n",
       "    }\n",
       "\n",
       "    .dataframe tbody tr th {\n",
       "        vertical-align: top;\n",
       "    }\n",
       "\n",
       "    .dataframe thead th {\n",
       "        text-align: right;\n",
       "    }\n",
       "</style>\n",
       "<table border=\"1\" class=\"dataframe\">\n",
       "  <thead>\n",
       "    <tr style=\"text-align: right;\">\n",
       "      <th></th>\n",
       "      <th>user_id</th>\n",
       "      <th>month</th>\n",
       "      <th>gb_used</th>\n",
       "      <th>messages</th>\n",
       "      <th>calls_duration</th>\n",
       "      <th>age</th>\n",
       "      <th>churn_date</th>\n",
       "      <th>city</th>\n",
       "      <th>first_name</th>\n",
       "      <th>last_name</th>\n",
       "      <th>reg_date</th>\n",
       "      <th>tariff_name</th>\n",
       "      <th>messages_included</th>\n",
       "      <th>mb_per_month_included</th>\n",
       "      <th>minutes_included</th>\n",
       "      <th>rub_monthly_fee</th>\n",
       "      <th>rub_per_gb</th>\n",
       "      <th>rub_per_message</th>\n",
       "      <th>rub_per_minute</th>\n",
       "    </tr>\n",
       "  </thead>\n",
       "  <tbody>\n",
       "    <tr>\n",
       "      <td>0</td>\n",
       "      <td>1000</td>\n",
       "      <td>5</td>\n",
       "      <td>3.0</td>\n",
       "      <td>22.0</td>\n",
       "      <td>159.0</td>\n",
       "      <td>52</td>\n",
       "      <td>NaT</td>\n",
       "      <td>Краснодар</td>\n",
       "      <td>Рафаил</td>\n",
       "      <td>Верещагин</td>\n",
       "      <td>2018-05-25</td>\n",
       "      <td>ultra</td>\n",
       "      <td>1000</td>\n",
       "      <td>30720</td>\n",
       "      <td>3000</td>\n",
       "      <td>1950</td>\n",
       "      <td>150</td>\n",
       "      <td>1</td>\n",
       "      <td>1</td>\n",
       "    </tr>\n",
       "    <tr>\n",
       "      <td>1</td>\n",
       "      <td>1000</td>\n",
       "      <td>6</td>\n",
       "      <td>23.0</td>\n",
       "      <td>60.0</td>\n",
       "      <td>172.0</td>\n",
       "      <td>52</td>\n",
       "      <td>NaT</td>\n",
       "      <td>Краснодар</td>\n",
       "      <td>Рафаил</td>\n",
       "      <td>Верещагин</td>\n",
       "      <td>2018-05-25</td>\n",
       "      <td>ultra</td>\n",
       "      <td>1000</td>\n",
       "      <td>30720</td>\n",
       "      <td>3000</td>\n",
       "      <td>1950</td>\n",
       "      <td>150</td>\n",
       "      <td>1</td>\n",
       "      <td>1</td>\n",
       "    </tr>\n",
       "    <tr>\n",
       "      <td>2</td>\n",
       "      <td>1000</td>\n",
       "      <td>7</td>\n",
       "      <td>14.0</td>\n",
       "      <td>75.0</td>\n",
       "      <td>340.0</td>\n",
       "      <td>52</td>\n",
       "      <td>NaT</td>\n",
       "      <td>Краснодар</td>\n",
       "      <td>Рафаил</td>\n",
       "      <td>Верещагин</td>\n",
       "      <td>2018-05-25</td>\n",
       "      <td>ultra</td>\n",
       "      <td>1000</td>\n",
       "      <td>30720</td>\n",
       "      <td>3000</td>\n",
       "      <td>1950</td>\n",
       "      <td>150</td>\n",
       "      <td>1</td>\n",
       "      <td>1</td>\n",
       "    </tr>\n",
       "    <tr>\n",
       "      <td>3</td>\n",
       "      <td>1000</td>\n",
       "      <td>8</td>\n",
       "      <td>14.0</td>\n",
       "      <td>81.0</td>\n",
       "      <td>408.0</td>\n",
       "      <td>52</td>\n",
       "      <td>NaT</td>\n",
       "      <td>Краснодар</td>\n",
       "      <td>Рафаил</td>\n",
       "      <td>Верещагин</td>\n",
       "      <td>2018-05-25</td>\n",
       "      <td>ultra</td>\n",
       "      <td>1000</td>\n",
       "      <td>30720</td>\n",
       "      <td>3000</td>\n",
       "      <td>1950</td>\n",
       "      <td>150</td>\n",
       "      <td>1</td>\n",
       "      <td>1</td>\n",
       "    </tr>\n",
       "    <tr>\n",
       "      <td>4</td>\n",
       "      <td>1000</td>\n",
       "      <td>9</td>\n",
       "      <td>15.0</td>\n",
       "      <td>57.0</td>\n",
       "      <td>466.0</td>\n",
       "      <td>52</td>\n",
       "      <td>NaT</td>\n",
       "      <td>Краснодар</td>\n",
       "      <td>Рафаил</td>\n",
       "      <td>Верещагин</td>\n",
       "      <td>2018-05-25</td>\n",
       "      <td>ultra</td>\n",
       "      <td>1000</td>\n",
       "      <td>30720</td>\n",
       "      <td>3000</td>\n",
       "      <td>1950</td>\n",
       "      <td>150</td>\n",
       "      <td>1</td>\n",
       "      <td>1</td>\n",
       "    </tr>\n",
       "    <tr>\n",
       "      <td>...</td>\n",
       "      <td>...</td>\n",
       "      <td>...</td>\n",
       "      <td>...</td>\n",
       "      <td>...</td>\n",
       "      <td>...</td>\n",
       "      <td>...</td>\n",
       "      <td>...</td>\n",
       "      <td>...</td>\n",
       "      <td>...</td>\n",
       "      <td>...</td>\n",
       "      <td>...</td>\n",
       "      <td>...</td>\n",
       "      <td>...</td>\n",
       "      <td>...</td>\n",
       "      <td>...</td>\n",
       "      <td>...</td>\n",
       "      <td>...</td>\n",
       "      <td>...</td>\n",
       "      <td>...</td>\n",
       "    </tr>\n",
       "    <tr>\n",
       "      <td>3209</td>\n",
       "      <td>1498</td>\n",
       "      <td>10</td>\n",
       "      <td>21.0</td>\n",
       "      <td>42.0</td>\n",
       "      <td>247.0</td>\n",
       "      <td>68</td>\n",
       "      <td>2018-10-25</td>\n",
       "      <td>Владикавказ</td>\n",
       "      <td>Всеволод</td>\n",
       "      <td>Акимчин</td>\n",
       "      <td>2018-07-19</td>\n",
       "      <td>smart</td>\n",
       "      <td>50</td>\n",
       "      <td>15360</td>\n",
       "      <td>500</td>\n",
       "      <td>550</td>\n",
       "      <td>200</td>\n",
       "      <td>3</td>\n",
       "      <td>3</td>\n",
       "    </tr>\n",
       "    <tr>\n",
       "      <td>3210</td>\n",
       "      <td>1499</td>\n",
       "      <td>9</td>\n",
       "      <td>2.0</td>\n",
       "      <td>11.0</td>\n",
       "      <td>70.0</td>\n",
       "      <td>35</td>\n",
       "      <td>NaT</td>\n",
       "      <td>Пермь</td>\n",
       "      <td>Гектор</td>\n",
       "      <td>Корнилов</td>\n",
       "      <td>2018-09-27</td>\n",
       "      <td>smart</td>\n",
       "      <td>50</td>\n",
       "      <td>15360</td>\n",
       "      <td>500</td>\n",
       "      <td>550</td>\n",
       "      <td>200</td>\n",
       "      <td>3</td>\n",
       "      <td>3</td>\n",
       "    </tr>\n",
       "    <tr>\n",
       "      <td>3211</td>\n",
       "      <td>1499</td>\n",
       "      <td>10</td>\n",
       "      <td>18.0</td>\n",
       "      <td>48.0</td>\n",
       "      <td>449.0</td>\n",
       "      <td>35</td>\n",
       "      <td>NaT</td>\n",
       "      <td>Пермь</td>\n",
       "      <td>Гектор</td>\n",
       "      <td>Корнилов</td>\n",
       "      <td>2018-09-27</td>\n",
       "      <td>smart</td>\n",
       "      <td>50</td>\n",
       "      <td>15360</td>\n",
       "      <td>500</td>\n",
       "      <td>550</td>\n",
       "      <td>200</td>\n",
       "      <td>3</td>\n",
       "      <td>3</td>\n",
       "    </tr>\n",
       "    <tr>\n",
       "      <td>3212</td>\n",
       "      <td>1499</td>\n",
       "      <td>11</td>\n",
       "      <td>18.0</td>\n",
       "      <td>59.0</td>\n",
       "      <td>612.0</td>\n",
       "      <td>35</td>\n",
       "      <td>NaT</td>\n",
       "      <td>Пермь</td>\n",
       "      <td>Гектор</td>\n",
       "      <td>Корнилов</td>\n",
       "      <td>2018-09-27</td>\n",
       "      <td>smart</td>\n",
       "      <td>50</td>\n",
       "      <td>15360</td>\n",
       "      <td>500</td>\n",
       "      <td>550</td>\n",
       "      <td>200</td>\n",
       "      <td>3</td>\n",
       "      <td>3</td>\n",
       "    </tr>\n",
       "    <tr>\n",
       "      <td>3213</td>\n",
       "      <td>1499</td>\n",
       "      <td>12</td>\n",
       "      <td>13.0</td>\n",
       "      <td>66.0</td>\n",
       "      <td>492.0</td>\n",
       "      <td>35</td>\n",
       "      <td>NaT</td>\n",
       "      <td>Пермь</td>\n",
       "      <td>Гектор</td>\n",
       "      <td>Корнилов</td>\n",
       "      <td>2018-09-27</td>\n",
       "      <td>smart</td>\n",
       "      <td>50</td>\n",
       "      <td>15360</td>\n",
       "      <td>500</td>\n",
       "      <td>550</td>\n",
       "      <td>200</td>\n",
       "      <td>3</td>\n",
       "      <td>3</td>\n",
       "    </tr>\n",
       "  </tbody>\n",
       "</table>\n",
       "<p>3214 rows × 19 columns</p>\n",
       "</div>"
      ],
      "text/plain": [
       "      user_id  month  gb_used  messages  calls_duration  age churn_date  \\\n",
       "0        1000      5      3.0      22.0           159.0   52        NaT   \n",
       "1        1000      6     23.0      60.0           172.0   52        NaT   \n",
       "2        1000      7     14.0      75.0           340.0   52        NaT   \n",
       "3        1000      8     14.0      81.0           408.0   52        NaT   \n",
       "4        1000      9     15.0      57.0           466.0   52        NaT   \n",
       "...       ...    ...      ...       ...             ...  ...        ...   \n",
       "3209     1498     10     21.0      42.0           247.0   68 2018-10-25   \n",
       "3210     1499      9      2.0      11.0            70.0   35        NaT   \n",
       "3211     1499     10     18.0      48.0           449.0   35        NaT   \n",
       "3212     1499     11     18.0      59.0           612.0   35        NaT   \n",
       "3213     1499     12     13.0      66.0           492.0   35        NaT   \n",
       "\n",
       "             city first_name  last_name   reg_date tariff_name  \\\n",
       "0       Краснодар     Рафаил  Верещагин 2018-05-25       ultra   \n",
       "1       Краснодар     Рафаил  Верещагин 2018-05-25       ultra   \n",
       "2       Краснодар     Рафаил  Верещагин 2018-05-25       ultra   \n",
       "3       Краснодар     Рафаил  Верещагин 2018-05-25       ultra   \n",
       "4       Краснодар     Рафаил  Верещагин 2018-05-25       ultra   \n",
       "...           ...        ...        ...        ...         ...   \n",
       "3209  Владикавказ   Всеволод    Акимчин 2018-07-19       smart   \n",
       "3210        Пермь     Гектор   Корнилов 2018-09-27       smart   \n",
       "3211        Пермь     Гектор   Корнилов 2018-09-27       smart   \n",
       "3212        Пермь     Гектор   Корнилов 2018-09-27       smart   \n",
       "3213        Пермь     Гектор   Корнилов 2018-09-27       smart   \n",
       "\n",
       "      messages_included  mb_per_month_included  minutes_included  \\\n",
       "0                  1000                  30720              3000   \n",
       "1                  1000                  30720              3000   \n",
       "2                  1000                  30720              3000   \n",
       "3                  1000                  30720              3000   \n",
       "4                  1000                  30720              3000   \n",
       "...                 ...                    ...               ...   \n",
       "3209                 50                  15360               500   \n",
       "3210                 50                  15360               500   \n",
       "3211                 50                  15360               500   \n",
       "3212                 50                  15360               500   \n",
       "3213                 50                  15360               500   \n",
       "\n",
       "      rub_monthly_fee  rub_per_gb  rub_per_message  rub_per_minute  \n",
       "0                1950         150                1               1  \n",
       "1                1950         150                1               1  \n",
       "2                1950         150                1               1  \n",
       "3                1950         150                1               1  \n",
       "4                1950         150                1               1  \n",
       "...               ...         ...              ...             ...  \n",
       "3209              550         200                3               3  \n",
       "3210              550         200                3               3  \n",
       "3211              550         200                3               3  \n",
       "3212              550         200                3               3  \n",
       "3213              550         200                3               3  \n",
       "\n",
       "[3214 rows x 19 columns]"
      ]
     },
     "execution_count": 31,
     "metadata": {},
     "output_type": "execute_result"
    }
   ],
   "source": [
    "summary_on_user = summary_on_user.merge(tariffs, on='tariff_name')\n",
    "summary_on_user"
   ]
  },
  {
   "cell_type": "code",
   "execution_count": 32,
   "id": "fbfbdbad",
   "metadata": {},
   "outputs": [],
   "source": [
    "def calculate_revenue(row):\n",
    "    \"\"\"\n",
    "    Функция calculate_revenue вычисляет помесячную выручку пользователя \n",
    "    по показателям его активности и условиям выбранного тарифа\n",
    "    \n",
    "    Принимает на вход строку таблицы с входящими в нее параметрами:\n",
    "    'gb_used' - использовано ГБ трафика в этом месяце\n",
    "    'messages' - отправлено сообщений в этом месяце\n",
    "    'calls_duration' - совершено звонков в этом месяце\n",
    "    'messages_included' - сообщений включено в тариф\n",
    "    'minutes_included' - минут разговора в тариф\n",
    "    'mb_per_month_included' - МБ трафика в тариф\n",
    "    'rub_monthly_fee' - абонентская плата\n",
    "    'rub_per_message' - стоимость 1 сообщения в тарифе\n",
    "    'rub_per_minute' - стоимость 1 минуты в тарифе\n",
    "    'rub_per_gb' - стоимость 1 ГБ в тарифе\n",
    "    \n",
    "    ----------\n",
    "    Возвращает переменную revenue типа float,\n",
    "    содержащую значение выручки, рассчитаное по формуле\n",
    "    \n",
    "    \"\"\"\n",
    "    \n",
    "    messages_over_tariff = row['messages'] - row['messages_included']\n",
    "    minutes_over_tariff = row['calls_duration'] - row['minutes_included']\n",
    "    gb_over_tariff = row['gb_used'] - row['mb_per_month_included']/1024\n",
    "    \n",
    "    if messages_over_tariff < 0:\n",
    "        messages_over_tariff = 0\n",
    "    if minutes_over_tariff < 0:\n",
    "        minutes_over_tariff = 0\n",
    "    if gb_over_tariff < 0:\n",
    "        gb_over_tariff = 0\n",
    "        \n",
    "    revenue = (row['rub_monthly_fee'] + \n",
    "                messages_over_tariff*row['rub_per_message'] + \n",
    "                minutes_over_tariff*row['rub_per_minute'] + \n",
    "                gb_over_tariff*row['rub_per_gb'])\n",
    "    \n",
    "    return revenue "
   ]
  },
  {
   "cell_type": "markdown",
   "id": "28584a6f",
   "metadata": {},
   "source": [
    "Применим написанную функцию к строкам таблицы методом `.apply(calculate_revenue, axis=1)`"
   ]
  },
  {
   "cell_type": "code",
   "execution_count": 33,
   "id": "241d5308",
   "metadata": {},
   "outputs": [
    {
     "data": {
      "text/html": [
       "<div>\n",
       "<style scoped>\n",
       "    .dataframe tbody tr th:only-of-type {\n",
       "        vertical-align: middle;\n",
       "    }\n",
       "\n",
       "    .dataframe tbody tr th {\n",
       "        vertical-align: top;\n",
       "    }\n",
       "\n",
       "    .dataframe thead th {\n",
       "        text-align: right;\n",
       "    }\n",
       "</style>\n",
       "<table border=\"1\" class=\"dataframe\">\n",
       "  <thead>\n",
       "    <tr style=\"text-align: right;\">\n",
       "      <th></th>\n",
       "      <th>user_id</th>\n",
       "      <th>month</th>\n",
       "      <th>gb_used</th>\n",
       "      <th>messages</th>\n",
       "      <th>calls_duration</th>\n",
       "      <th>age</th>\n",
       "      <th>churn_date</th>\n",
       "      <th>city</th>\n",
       "      <th>first_name</th>\n",
       "      <th>last_name</th>\n",
       "      <th>reg_date</th>\n",
       "      <th>tariff_name</th>\n",
       "      <th>messages_included</th>\n",
       "      <th>mb_per_month_included</th>\n",
       "      <th>minutes_included</th>\n",
       "      <th>rub_monthly_fee</th>\n",
       "      <th>rub_per_gb</th>\n",
       "      <th>rub_per_message</th>\n",
       "      <th>rub_per_minute</th>\n",
       "      <th>revenue</th>\n",
       "    </tr>\n",
       "  </thead>\n",
       "  <tbody>\n",
       "    <tr>\n",
       "      <td>0</td>\n",
       "      <td>1000</td>\n",
       "      <td>5</td>\n",
       "      <td>3.0</td>\n",
       "      <td>22.0</td>\n",
       "      <td>159.0</td>\n",
       "      <td>52</td>\n",
       "      <td>NaT</td>\n",
       "      <td>Краснодар</td>\n",
       "      <td>Рафаил</td>\n",
       "      <td>Верещагин</td>\n",
       "      <td>2018-05-25</td>\n",
       "      <td>ultra</td>\n",
       "      <td>1000</td>\n",
       "      <td>30720</td>\n",
       "      <td>3000</td>\n",
       "      <td>1950</td>\n",
       "      <td>150</td>\n",
       "      <td>1</td>\n",
       "      <td>1</td>\n",
       "      <td>1950.0</td>\n",
       "    </tr>\n",
       "    <tr>\n",
       "      <td>1</td>\n",
       "      <td>1000</td>\n",
       "      <td>6</td>\n",
       "      <td>23.0</td>\n",
       "      <td>60.0</td>\n",
       "      <td>172.0</td>\n",
       "      <td>52</td>\n",
       "      <td>NaT</td>\n",
       "      <td>Краснодар</td>\n",
       "      <td>Рафаил</td>\n",
       "      <td>Верещагин</td>\n",
       "      <td>2018-05-25</td>\n",
       "      <td>ultra</td>\n",
       "      <td>1000</td>\n",
       "      <td>30720</td>\n",
       "      <td>3000</td>\n",
       "      <td>1950</td>\n",
       "      <td>150</td>\n",
       "      <td>1</td>\n",
       "      <td>1</td>\n",
       "      <td>1950.0</td>\n",
       "    </tr>\n",
       "    <tr>\n",
       "      <td>2</td>\n",
       "      <td>1000</td>\n",
       "      <td>7</td>\n",
       "      <td>14.0</td>\n",
       "      <td>75.0</td>\n",
       "      <td>340.0</td>\n",
       "      <td>52</td>\n",
       "      <td>NaT</td>\n",
       "      <td>Краснодар</td>\n",
       "      <td>Рафаил</td>\n",
       "      <td>Верещагин</td>\n",
       "      <td>2018-05-25</td>\n",
       "      <td>ultra</td>\n",
       "      <td>1000</td>\n",
       "      <td>30720</td>\n",
       "      <td>3000</td>\n",
       "      <td>1950</td>\n",
       "      <td>150</td>\n",
       "      <td>1</td>\n",
       "      <td>1</td>\n",
       "      <td>1950.0</td>\n",
       "    </tr>\n",
       "    <tr>\n",
       "      <td>3</td>\n",
       "      <td>1000</td>\n",
       "      <td>8</td>\n",
       "      <td>14.0</td>\n",
       "      <td>81.0</td>\n",
       "      <td>408.0</td>\n",
       "      <td>52</td>\n",
       "      <td>NaT</td>\n",
       "      <td>Краснодар</td>\n",
       "      <td>Рафаил</td>\n",
       "      <td>Верещагин</td>\n",
       "      <td>2018-05-25</td>\n",
       "      <td>ultra</td>\n",
       "      <td>1000</td>\n",
       "      <td>30720</td>\n",
       "      <td>3000</td>\n",
       "      <td>1950</td>\n",
       "      <td>150</td>\n",
       "      <td>1</td>\n",
       "      <td>1</td>\n",
       "      <td>1950.0</td>\n",
       "    </tr>\n",
       "    <tr>\n",
       "      <td>4</td>\n",
       "      <td>1000</td>\n",
       "      <td>9</td>\n",
       "      <td>15.0</td>\n",
       "      <td>57.0</td>\n",
       "      <td>466.0</td>\n",
       "      <td>52</td>\n",
       "      <td>NaT</td>\n",
       "      <td>Краснодар</td>\n",
       "      <td>Рафаил</td>\n",
       "      <td>Верещагин</td>\n",
       "      <td>2018-05-25</td>\n",
       "      <td>ultra</td>\n",
       "      <td>1000</td>\n",
       "      <td>30720</td>\n",
       "      <td>3000</td>\n",
       "      <td>1950</td>\n",
       "      <td>150</td>\n",
       "      <td>1</td>\n",
       "      <td>1</td>\n",
       "      <td>1950.0</td>\n",
       "    </tr>\n",
       "  </tbody>\n",
       "</table>\n",
       "</div>"
      ],
      "text/plain": [
       "   user_id  month  gb_used  messages  calls_duration  age churn_date  \\\n",
       "0     1000      5      3.0      22.0           159.0   52        NaT   \n",
       "1     1000      6     23.0      60.0           172.0   52        NaT   \n",
       "2     1000      7     14.0      75.0           340.0   52        NaT   \n",
       "3     1000      8     14.0      81.0           408.0   52        NaT   \n",
       "4     1000      9     15.0      57.0           466.0   52        NaT   \n",
       "\n",
       "        city first_name  last_name   reg_date tariff_name  messages_included  \\\n",
       "0  Краснодар     Рафаил  Верещагин 2018-05-25       ultra               1000   \n",
       "1  Краснодар     Рафаил  Верещагин 2018-05-25       ultra               1000   \n",
       "2  Краснодар     Рафаил  Верещагин 2018-05-25       ultra               1000   \n",
       "3  Краснодар     Рафаил  Верещагин 2018-05-25       ultra               1000   \n",
       "4  Краснодар     Рафаил  Верещагин 2018-05-25       ultra               1000   \n",
       "\n",
       "   mb_per_month_included  minutes_included  rub_monthly_fee  rub_per_gb  \\\n",
       "0                  30720              3000             1950         150   \n",
       "1                  30720              3000             1950         150   \n",
       "2                  30720              3000             1950         150   \n",
       "3                  30720              3000             1950         150   \n",
       "4                  30720              3000             1950         150   \n",
       "\n",
       "   rub_per_message  rub_per_minute  revenue  \n",
       "0                1               1   1950.0  \n",
       "1                1               1   1950.0  \n",
       "2                1               1   1950.0  \n",
       "3                1               1   1950.0  \n",
       "4                1               1   1950.0  "
      ]
     },
     "execution_count": 33,
     "metadata": {},
     "output_type": "execute_result"
    }
   ],
   "source": [
    "summary_on_user['revenue'] = summary_on_user.apply(calculate_revenue, axis=1)\n",
    "summary_on_user.head()"
   ]
  },
  {
   "cell_type": "markdown",
   "id": "6200ebea",
   "metadata": {},
   "source": [
    "### Вывод"
   ]
  },
  {
   "cell_type": "markdown",
   "id": "ccc79a53",
   "metadata": {},
   "source": [
    "* В таблицах проведено преобразование типов данных в соответствии со смыслом и формой переменных (преобразование к Datetime)\n",
    "* В соответствии с специфическим алгоритмом подсчета использованных услуг были округлены значения потраченных минут и использованных ГБ\n",
    "* Удален ненужный столбец из таблицы `internet`\n",
    "* Рассчитаны дополнительные параметры, необходимые для проведения анализа"
   ]
  },
  {
   "cell_type": "markdown",
   "id": "2b7683fc",
   "metadata": {},
   "source": [
    "## Исследовательский анализ данных"
   ]
  },
  {
   "cell_type": "markdown",
   "id": "28c5f7f2",
   "metadata": {},
   "source": [
    "### Описание тарифов\n",
    "\n",
    "**Тариф «Смарт»**\n",
    "\n",
    "Ежемесячная плата: 550 рублей\n",
    "\n",
    "Включено 500 минут разговора, 50 сообщений и 15 Гб интернет-трафика\n",
    "\n",
    "Стоимость услуг сверх тарифного пакета:\n",
    "* минута разговора: 3 рубля\n",
    "* сообщение: 3 рубля\n",
    "* 1 Гб интернет-трафика: 200 рублей\n",
    "\n",
    "**Тариф «Ультра»**\n",
    "\n",
    "Ежемесячная плата: 1950 рублей\n",
    "\n",
    "Включено 3000 минут разговора, 1000 сообщений и 30 Гб интернет-трафика\n",
    "\n",
    "Стоимость услуг сверх тарифного пакета:\n",
    "\n",
    "* минута разговора: 1 рубль\n",
    "* сообщение: 1 рубль\n",
    "* 1 Гб интернет-трафика: 150 рублей"
   ]
  },
  {
   "cell_type": "code",
   "execution_count": 34,
   "id": "cd283f66",
   "metadata": {},
   "outputs": [
    {
     "name": "stdout",
     "output_type": "stream",
     "text": [
      "Абонентов на тарифе SMART: 351\n",
      "Абонентов на тарифе ULTRA: 149\n"
     ]
    }
   ],
   "source": [
    "print('Абонентов на тарифе SMART:', len(users.query('tariff_name == \"smart\"')))\n",
    "print('Абонентов на тарифе ULTRA:', len(users.query('tariff_name == \"ultra\"')))"
   ]
  },
  {
   "cell_type": "code",
   "execution_count": 35,
   "id": "9aadff96",
   "metadata": {
    "scrolled": false
   },
   "outputs": [
    {
     "data": {
      "text/plain": [
       "498"
      ]
     },
     "execution_count": 35,
     "metadata": {},
     "output_type": "execute_result"
    }
   ],
   "source": [
    "# Код ревьюера\n",
    "summary_on_user['user_id'].unique().shape[0]"
   ]
  },
  {
   "cell_type": "code",
   "execution_count": 36,
   "id": "b480944b",
   "metadata": {},
   "outputs": [
    {
     "data": {
      "text/plain": [
       "array([1000, 1003, 1004, 1013, 1016, 1018, 1019, 1021, 1024, 1028, 1039,\n",
       "       1048, 1049, 1050, 1053, 1057, 1060, 1063, 1078, 1080, 1081, 1084,\n",
       "       1085, 1089, 1090, 1091, 1094, 1096, 1097, 1099, 1104, 1106, 1120,\n",
       "       1122, 1124, 1126, 1143, 1148, 1150, 1151, 1152, 1156, 1165, 1166,\n",
       "       1167, 1168, 1180, 1182, 1185, 1192, 1196, 1200, 1201, 1203, 1208,\n",
       "       1222, 1225, 1226, 1231, 1234, 1240, 1243, 1245, 1253, 1254, 1255,\n",
       "       1257, 1259, 1265, 1270, 1271, 1272, 1273, 1276, 1277, 1281, 1289,\n",
       "       1292, 1294, 1300, 1303, 1304, 1309, 1310, 1318, 1325, 1328, 1330,\n",
       "       1331, 1333, 1335, 1336, 1341, 1343, 1344, 1346, 1347, 1348, 1349,\n",
       "       1350, 1352, 1356, 1360, 1361, 1363, 1364, 1367, 1369, 1375, 1377,\n",
       "       1379, 1380, 1381, 1382, 1385, 1391, 1392, 1396, 1397, 1399, 1402,\n",
       "       1403, 1405, 1412, 1415, 1416, 1424, 1430, 1436, 1440, 1442, 1452,\n",
       "       1453, 1455, 1458, 1461, 1463, 1466, 1467, 1469, 1471, 1473, 1474,\n",
       "       1476, 1485, 1491, 1493, 1495, 1001, 1002, 1005, 1006, 1007, 1008,\n",
       "       1009, 1010, 1011, 1012, 1014, 1015, 1017, 1020, 1022, 1023, 1025,\n",
       "       1026, 1027, 1029, 1030, 1031, 1032, 1033, 1034, 1035, 1036, 1037,\n",
       "       1038, 1040, 1041, 1042, 1043, 1044, 1045, 1046, 1047, 1051, 1052,\n",
       "       1054, 1055, 1056, 1058, 1059, 1061, 1062, 1064, 1065, 1066, 1067,\n",
       "       1068, 1069, 1070, 1071, 1072, 1073, 1074, 1075, 1076, 1077, 1079,\n",
       "       1082, 1083, 1086, 1087, 1088, 1092, 1093, 1095, 1098, 1100, 1101,\n",
       "       1102, 1103, 1105, 1107, 1108, 1109, 1110, 1111, 1112, 1113, 1114,\n",
       "       1115, 1116, 1117, 1118, 1119, 1121, 1123, 1125, 1127, 1129, 1130,\n",
       "       1131, 1132, 1133, 1134, 1135, 1136, 1137, 1138, 1139, 1140, 1141,\n",
       "       1142, 1144, 1145, 1146, 1147, 1149, 1153, 1154, 1155, 1157, 1158,\n",
       "       1159, 1160, 1161, 1162, 1163, 1164, 1169, 1170, 1171, 1172, 1173,\n",
       "       1174, 1175, 1176, 1177, 1178, 1179, 1181, 1183, 1184, 1186, 1187,\n",
       "       1188, 1189, 1190, 1191, 1193, 1194, 1195, 1197, 1198, 1199, 1202,\n",
       "       1204, 1205, 1206, 1207, 1209, 1210, 1211, 1212, 1213, 1214, 1215,\n",
       "       1216, 1217, 1218, 1219, 1220, 1221, 1223, 1224, 1227, 1228, 1229,\n",
       "       1230, 1232, 1233, 1235, 1236, 1237, 1238, 1239, 1241, 1242, 1244,\n",
       "       1246, 1247, 1248, 1249, 1250, 1251, 1252, 1256, 1258, 1260, 1261,\n",
       "       1262, 1263, 1264, 1266, 1267, 1268, 1269, 1274, 1275, 1278, 1279,\n",
       "       1280, 1282, 1283, 1284, 1285, 1286, 1287, 1288, 1290, 1291, 1293,\n",
       "       1295, 1296, 1297, 1298, 1299, 1301, 1302, 1305, 1306, 1307, 1308,\n",
       "       1311, 1312, 1313, 1314, 1315, 1316, 1317, 1319, 1320, 1321, 1322,\n",
       "       1323, 1324, 1326, 1327, 1329, 1332, 1334, 1337, 1338, 1339, 1340,\n",
       "       1342, 1345, 1351, 1353, 1354, 1355, 1357, 1358, 1359, 1362, 1365,\n",
       "       1366, 1368, 1370, 1372, 1373, 1374, 1376, 1378, 1383, 1384, 1386,\n",
       "       1387, 1388, 1389, 1390, 1393, 1394, 1395, 1398, 1400, 1401, 1404,\n",
       "       1406, 1407, 1408, 1409, 1410, 1411, 1413, 1414, 1417, 1418, 1419,\n",
       "       1420, 1421, 1422, 1423, 1425, 1426, 1427, 1428, 1429, 1431, 1432,\n",
       "       1433, 1434, 1435, 1437, 1438, 1439, 1441, 1443, 1444, 1445, 1446,\n",
       "       1447, 1448, 1449, 1450, 1451, 1454, 1456, 1457, 1459, 1460, 1462,\n",
       "       1464, 1465, 1468, 1470, 1472, 1475, 1477, 1478, 1479, 1480, 1481,\n",
       "       1482, 1483, 1484, 1486, 1487, 1488, 1489, 1490, 1492, 1494, 1496,\n",
       "       1497, 1498, 1499])"
      ]
     },
     "execution_count": 36,
     "metadata": {},
     "output_type": "execute_result"
    }
   ],
   "source": [
    "summary_on_user['user_id'].unique()"
   ]
  },
  {
   "cell_type": "markdown",
   "id": "43faaa28",
   "metadata": {},
   "source": [
    "В таблице отсутствуют  пользователи с id 1128 и 1371. Выведем записи об этих пользователях."
   ]
  },
  {
   "cell_type": "code",
   "execution_count": 37,
   "id": "fbf4647d",
   "metadata": {},
   "outputs": [
    {
     "data": {
      "text/html": [
       "<div>\n",
       "<style scoped>\n",
       "    .dataframe tbody tr th:only-of-type {\n",
       "        vertical-align: middle;\n",
       "    }\n",
       "\n",
       "    .dataframe tbody tr th {\n",
       "        vertical-align: top;\n",
       "    }\n",
       "\n",
       "    .dataframe thead th {\n",
       "        text-align: right;\n",
       "    }\n",
       "</style>\n",
       "<table border=\"1\" class=\"dataframe\">\n",
       "  <thead>\n",
       "    <tr style=\"text-align: right;\">\n",
       "      <th></th>\n",
       "      <th>user_id</th>\n",
       "      <th>age</th>\n",
       "      <th>churn_date</th>\n",
       "      <th>city</th>\n",
       "      <th>first_name</th>\n",
       "      <th>last_name</th>\n",
       "      <th>reg_date</th>\n",
       "      <th>tariff_name</th>\n",
       "    </tr>\n",
       "  </thead>\n",
       "  <tbody>\n",
       "    <tr>\n",
       "      <td>128</td>\n",
       "      <td>1128</td>\n",
       "      <td>51</td>\n",
       "      <td>2018-12-23</td>\n",
       "      <td>Волжский</td>\n",
       "      <td>Ксения</td>\n",
       "      <td>Агаева</td>\n",
       "      <td>2018-12-15</td>\n",
       "      <td>ultra</td>\n",
       "    </tr>\n",
       "  </tbody>\n",
       "</table>\n",
       "</div>"
      ],
      "text/plain": [
       "     user_id  age churn_date      city first_name last_name   reg_date  \\\n",
       "128     1128   51 2018-12-23  Волжский     Ксения    Агаева 2018-12-15   \n",
       "\n",
       "    tariff_name  \n",
       "128       ultra  "
      ]
     },
     "execution_count": 37,
     "metadata": {},
     "output_type": "execute_result"
    }
   ],
   "source": [
    "users.query('user_id == 1128')"
   ]
  },
  {
   "cell_type": "code",
   "execution_count": 38,
   "id": "5adac711",
   "metadata": {},
   "outputs": [
    {
     "data": {
      "text/html": [
       "<div>\n",
       "<style scoped>\n",
       "    .dataframe tbody tr th:only-of-type {\n",
       "        vertical-align: middle;\n",
       "    }\n",
       "\n",
       "    .dataframe tbody tr th {\n",
       "        vertical-align: top;\n",
       "    }\n",
       "\n",
       "    .dataframe thead th {\n",
       "        text-align: right;\n",
       "    }\n",
       "</style>\n",
       "<table border=\"1\" class=\"dataframe\">\n",
       "  <thead>\n",
       "    <tr style=\"text-align: right;\">\n",
       "      <th></th>\n",
       "      <th>user_id</th>\n",
       "      <th>age</th>\n",
       "      <th>churn_date</th>\n",
       "      <th>city</th>\n",
       "      <th>first_name</th>\n",
       "      <th>last_name</th>\n",
       "      <th>reg_date</th>\n",
       "      <th>tariff_name</th>\n",
       "    </tr>\n",
       "  </thead>\n",
       "  <tbody>\n",
       "    <tr>\n",
       "      <td>371</td>\n",
       "      <td>1371</td>\n",
       "      <td>50</td>\n",
       "      <td>2018-12-30</td>\n",
       "      <td>Омск</td>\n",
       "      <td>Ириней</td>\n",
       "      <td>Трофимов</td>\n",
       "      <td>2018-12-25</td>\n",
       "      <td>smart</td>\n",
       "    </tr>\n",
       "  </tbody>\n",
       "</table>\n",
       "</div>"
      ],
      "text/plain": [
       "     user_id  age churn_date  city first_name last_name   reg_date tariff_name\n",
       "371     1371   50 2018-12-30  Омск     Ириней  Трофимов 2018-12-25       smart"
      ]
     },
     "execution_count": 38,
     "metadata": {},
     "output_type": "execute_result"
    }
   ],
   "source": [
    "users.query('user_id == 1371')"
   ]
  },
  {
   "cell_type": "markdown",
   "id": "ca509964",
   "metadata": {},
   "source": [
    "### Анализ звонков"
   ]
  },
  {
   "cell_type": "code",
   "execution_count": 39,
   "id": "d27f6639",
   "metadata": {},
   "outputs": [
    {
     "data": {
      "text/html": [
       "<div>\n",
       "<style scoped>\n",
       "    .dataframe tbody tr th:only-of-type {\n",
       "        vertical-align: middle;\n",
       "    }\n",
       "\n",
       "    .dataframe tbody tr th {\n",
       "        vertical-align: top;\n",
       "    }\n",
       "\n",
       "    .dataframe thead th {\n",
       "        text-align: right;\n",
       "    }\n",
       "</style>\n",
       "<table border=\"1\" class=\"dataframe\">\n",
       "  <thead>\n",
       "    <tr style=\"text-align: right;\">\n",
       "      <th></th>\n",
       "      <th>user_id</th>\n",
       "      <th>month</th>\n",
       "      <th>gb_used</th>\n",
       "      <th>messages</th>\n",
       "      <th>calls_duration</th>\n",
       "      <th>age</th>\n",
       "      <th>churn_date</th>\n",
       "      <th>city</th>\n",
       "      <th>first_name</th>\n",
       "      <th>last_name</th>\n",
       "      <th>reg_date</th>\n",
       "      <th>tariff_name</th>\n",
       "      <th>messages_included</th>\n",
       "      <th>mb_per_month_included</th>\n",
       "      <th>minutes_included</th>\n",
       "      <th>rub_monthly_fee</th>\n",
       "      <th>rub_per_gb</th>\n",
       "      <th>rub_per_message</th>\n",
       "      <th>rub_per_minute</th>\n",
       "      <th>revenue</th>\n",
       "    </tr>\n",
       "  </thead>\n",
       "  <tbody>\n",
       "    <tr>\n",
       "      <td>0</td>\n",
       "      <td>1000</td>\n",
       "      <td>5</td>\n",
       "      <td>3.0</td>\n",
       "      <td>22.0</td>\n",
       "      <td>159.0</td>\n",
       "      <td>52</td>\n",
       "      <td>NaT</td>\n",
       "      <td>Краснодар</td>\n",
       "      <td>Рафаил</td>\n",
       "      <td>Верещагин</td>\n",
       "      <td>2018-05-25</td>\n",
       "      <td>ultra</td>\n",
       "      <td>1000</td>\n",
       "      <td>30720</td>\n",
       "      <td>3000</td>\n",
       "      <td>1950</td>\n",
       "      <td>150</td>\n",
       "      <td>1</td>\n",
       "      <td>1</td>\n",
       "      <td>1950.0</td>\n",
       "    </tr>\n",
       "    <tr>\n",
       "      <td>1</td>\n",
       "      <td>1000</td>\n",
       "      <td>6</td>\n",
       "      <td>23.0</td>\n",
       "      <td>60.0</td>\n",
       "      <td>172.0</td>\n",
       "      <td>52</td>\n",
       "      <td>NaT</td>\n",
       "      <td>Краснодар</td>\n",
       "      <td>Рафаил</td>\n",
       "      <td>Верещагин</td>\n",
       "      <td>2018-05-25</td>\n",
       "      <td>ultra</td>\n",
       "      <td>1000</td>\n",
       "      <td>30720</td>\n",
       "      <td>3000</td>\n",
       "      <td>1950</td>\n",
       "      <td>150</td>\n",
       "      <td>1</td>\n",
       "      <td>1</td>\n",
       "      <td>1950.0</td>\n",
       "    </tr>\n",
       "    <tr>\n",
       "      <td>2</td>\n",
       "      <td>1000</td>\n",
       "      <td>7</td>\n",
       "      <td>14.0</td>\n",
       "      <td>75.0</td>\n",
       "      <td>340.0</td>\n",
       "      <td>52</td>\n",
       "      <td>NaT</td>\n",
       "      <td>Краснодар</td>\n",
       "      <td>Рафаил</td>\n",
       "      <td>Верещагин</td>\n",
       "      <td>2018-05-25</td>\n",
       "      <td>ultra</td>\n",
       "      <td>1000</td>\n",
       "      <td>30720</td>\n",
       "      <td>3000</td>\n",
       "      <td>1950</td>\n",
       "      <td>150</td>\n",
       "      <td>1</td>\n",
       "      <td>1</td>\n",
       "      <td>1950.0</td>\n",
       "    </tr>\n",
       "    <tr>\n",
       "      <td>3</td>\n",
       "      <td>1000</td>\n",
       "      <td>8</td>\n",
       "      <td>14.0</td>\n",
       "      <td>81.0</td>\n",
       "      <td>408.0</td>\n",
       "      <td>52</td>\n",
       "      <td>NaT</td>\n",
       "      <td>Краснодар</td>\n",
       "      <td>Рафаил</td>\n",
       "      <td>Верещагин</td>\n",
       "      <td>2018-05-25</td>\n",
       "      <td>ultra</td>\n",
       "      <td>1000</td>\n",
       "      <td>30720</td>\n",
       "      <td>3000</td>\n",
       "      <td>1950</td>\n",
       "      <td>150</td>\n",
       "      <td>1</td>\n",
       "      <td>1</td>\n",
       "      <td>1950.0</td>\n",
       "    </tr>\n",
       "    <tr>\n",
       "      <td>4</td>\n",
       "      <td>1000</td>\n",
       "      <td>9</td>\n",
       "      <td>15.0</td>\n",
       "      <td>57.0</td>\n",
       "      <td>466.0</td>\n",
       "      <td>52</td>\n",
       "      <td>NaT</td>\n",
       "      <td>Краснодар</td>\n",
       "      <td>Рафаил</td>\n",
       "      <td>Верещагин</td>\n",
       "      <td>2018-05-25</td>\n",
       "      <td>ultra</td>\n",
       "      <td>1000</td>\n",
       "      <td>30720</td>\n",
       "      <td>3000</td>\n",
       "      <td>1950</td>\n",
       "      <td>150</td>\n",
       "      <td>1</td>\n",
       "      <td>1</td>\n",
       "      <td>1950.0</td>\n",
       "    </tr>\n",
       "  </tbody>\n",
       "</table>\n",
       "</div>"
      ],
      "text/plain": [
       "   user_id  month  gb_used  messages  calls_duration  age churn_date  \\\n",
       "0     1000      5      3.0      22.0           159.0   52        NaT   \n",
       "1     1000      6     23.0      60.0           172.0   52        NaT   \n",
       "2     1000      7     14.0      75.0           340.0   52        NaT   \n",
       "3     1000      8     14.0      81.0           408.0   52        NaT   \n",
       "4     1000      9     15.0      57.0           466.0   52        NaT   \n",
       "\n",
       "        city first_name  last_name   reg_date tariff_name  messages_included  \\\n",
       "0  Краснодар     Рафаил  Верещагин 2018-05-25       ultra               1000   \n",
       "1  Краснодар     Рафаил  Верещагин 2018-05-25       ultra               1000   \n",
       "2  Краснодар     Рафаил  Верещагин 2018-05-25       ultra               1000   \n",
       "3  Краснодар     Рафаил  Верещагин 2018-05-25       ultra               1000   \n",
       "4  Краснодар     Рафаил  Верещагин 2018-05-25       ultra               1000   \n",
       "\n",
       "   mb_per_month_included  minutes_included  rub_monthly_fee  rub_per_gb  \\\n",
       "0                  30720              3000             1950         150   \n",
       "1                  30720              3000             1950         150   \n",
       "2                  30720              3000             1950         150   \n",
       "3                  30720              3000             1950         150   \n",
       "4                  30720              3000             1950         150   \n",
       "\n",
       "   rub_per_message  rub_per_minute  revenue  \n",
       "0                1               1   1950.0  \n",
       "1                1               1   1950.0  \n",
       "2                1               1   1950.0  \n",
       "3                1               1   1950.0  \n",
       "4                1               1   1950.0  "
      ]
     },
     "execution_count": 39,
     "metadata": {},
     "output_type": "execute_result"
    }
   ],
   "source": [
    "summary_on_user.head()"
   ]
  },
  {
   "cell_type": "markdown",
   "id": "6dcdb820",
   "metadata": {},
   "source": [
    "В таблице summary_on_user собраны данные об использовании всех услуг каждым абонентом для всех тарифов. Для проведения анализа следует выделить пользователей с разными тарифами. Создадим отдельные таблицы для двух тарифов: `summary_on_user_smart` и `summary_on_user_ultra`"
   ]
  },
  {
   "cell_type": "code",
   "execution_count": 40,
   "id": "803585b1",
   "metadata": {},
   "outputs": [],
   "source": [
    "summary_on_user_smart = summary_on_user.query('tariff_name == \"smart\"')\n",
    "summary_on_user_ultra = summary_on_user.query('tariff_name == \"ultra\"')"
   ]
  },
  {
   "cell_type": "markdown",
   "id": "1302864d",
   "metadata": {},
   "source": [
    "#### Звонки на тарифе SMART"
   ]
  },
  {
   "cell_type": "code",
   "execution_count": 41,
   "id": "2e146683",
   "metadata": {},
   "outputs": [
    {
     "data": {
      "text/html": [
       "<div>\n",
       "<style scoped>\n",
       "    .dataframe tbody tr th:only-of-type {\n",
       "        vertical-align: middle;\n",
       "    }\n",
       "\n",
       "    .dataframe tbody tr th {\n",
       "        vertical-align: top;\n",
       "    }\n",
       "\n",
       "    .dataframe thead tr th {\n",
       "        text-align: left;\n",
       "    }\n",
       "\n",
       "    .dataframe thead tr:last-of-type th {\n",
       "        text-align: right;\n",
       "    }\n",
       "</style>\n",
       "<table border=\"1\" class=\"dataframe\">\n",
       "  <thead>\n",
       "    <tr>\n",
       "      <th></th>\n",
       "      <th>mean</th>\n",
       "      <th>median</th>\n",
       "      <th>var</th>\n",
       "      <th>std</th>\n",
       "      <th>count</th>\n",
       "    </tr>\n",
       "    <tr>\n",
       "      <th></th>\n",
       "      <th>calls_duration</th>\n",
       "      <th>calls_duration</th>\n",
       "      <th>calls_duration</th>\n",
       "      <th>calls_duration</th>\n",
       "      <th>calls_duration</th>\n",
       "    </tr>\n",
       "    <tr>\n",
       "      <th>month</th>\n",
       "      <th></th>\n",
       "      <th></th>\n",
       "      <th></th>\n",
       "      <th></th>\n",
       "      <th></th>\n",
       "    </tr>\n",
       "  </thead>\n",
       "  <tbody>\n",
       "    <tr>\n",
       "      <td>1</td>\n",
       "      <td>203.852941</td>\n",
       "      <td>162.5</td>\n",
       "      <td>23787.341355</td>\n",
       "      <td>154.231454</td>\n",
       "      <td>34</td>\n",
       "    </tr>\n",
       "    <tr>\n",
       "      <td>2</td>\n",
       "      <td>298.689655</td>\n",
       "      <td>258.0</td>\n",
       "      <td>36412.287961</td>\n",
       "      <td>190.820041</td>\n",
       "      <td>58</td>\n",
       "    </tr>\n",
       "    <tr>\n",
       "      <td>3</td>\n",
       "      <td>390.051948</td>\n",
       "      <td>409.0</td>\n",
       "      <td>36823.155161</td>\n",
       "      <td>191.893604</td>\n",
       "      <td>77</td>\n",
       "    </tr>\n",
       "    <tr>\n",
       "      <td>4</td>\n",
       "      <td>367.133929</td>\n",
       "      <td>368.5</td>\n",
       "      <td>34778.207127</td>\n",
       "      <td>186.489161</td>\n",
       "      <td>112</td>\n",
       "    </tr>\n",
       "    <tr>\n",
       "      <td>5</td>\n",
       "      <td>387.361702</td>\n",
       "      <td>433.0</td>\n",
       "      <td>34820.061094</td>\n",
       "      <td>186.601343</td>\n",
       "      <td>141</td>\n",
       "    </tr>\n",
       "    <tr>\n",
       "      <td>6</td>\n",
       "      <td>395.640244</td>\n",
       "      <td>400.0</td>\n",
       "      <td>30742.918861</td>\n",
       "      <td>175.336587</td>\n",
       "      <td>164</td>\n",
       "    </tr>\n",
       "    <tr>\n",
       "      <td>7</td>\n",
       "      <td>408.353234</td>\n",
       "      <td>414.0</td>\n",
       "      <td>32250.269602</td>\n",
       "      <td>179.583601</td>\n",
       "      <td>201</td>\n",
       "    </tr>\n",
       "    <tr>\n",
       "      <td>8</td>\n",
       "      <td>421.468085</td>\n",
       "      <td>432.0</td>\n",
       "      <td>34793.583379</td>\n",
       "      <td>186.530382</td>\n",
       "      <td>235</td>\n",
       "    </tr>\n",
       "    <tr>\n",
       "      <td>9</td>\n",
       "      <td>428.611538</td>\n",
       "      <td>435.0</td>\n",
       "      <td>33535.342723</td>\n",
       "      <td>183.126576</td>\n",
       "      <td>260</td>\n",
       "    </tr>\n",
       "    <tr>\n",
       "      <td>10</td>\n",
       "      <td>426.136054</td>\n",
       "      <td>427.5</td>\n",
       "      <td>35392.336375</td>\n",
       "      <td>188.128510</td>\n",
       "      <td>294</td>\n",
       "    </tr>\n",
       "    <tr>\n",
       "      <td>11</td>\n",
       "      <td>435.265823</td>\n",
       "      <td>428.5</td>\n",
       "      <td>31605.237050</td>\n",
       "      <td>177.778618</td>\n",
       "      <td>316</td>\n",
       "    </tr>\n",
       "    <tr>\n",
       "      <td>12</td>\n",
       "      <td>478.560831</td>\n",
       "      <td>471.0</td>\n",
       "      <td>39698.622033</td>\n",
       "      <td>199.245131</td>\n",
       "      <td>337</td>\n",
       "    </tr>\n",
       "    <tr>\n",
       "      <td>All</td>\n",
       "      <td>417.934948</td>\n",
       "      <td>422.0</td>\n",
       "      <td>36219.315784</td>\n",
       "      <td>190.313730</td>\n",
       "      <td>2229</td>\n",
       "    </tr>\n",
       "  </tbody>\n",
       "</table>\n",
       "</div>"
      ],
      "text/plain": [
       "                mean         median            var            std  \\\n",
       "      calls_duration calls_duration calls_duration calls_duration   \n",
       "month                                                               \n",
       "1         203.852941          162.5   23787.341355     154.231454   \n",
       "2         298.689655          258.0   36412.287961     190.820041   \n",
       "3         390.051948          409.0   36823.155161     191.893604   \n",
       "4         367.133929          368.5   34778.207127     186.489161   \n",
       "5         387.361702          433.0   34820.061094     186.601343   \n",
       "6         395.640244          400.0   30742.918861     175.336587   \n",
       "7         408.353234          414.0   32250.269602     179.583601   \n",
       "8         421.468085          432.0   34793.583379     186.530382   \n",
       "9         428.611538          435.0   33535.342723     183.126576   \n",
       "10        426.136054          427.5   35392.336375     188.128510   \n",
       "11        435.265823          428.5   31605.237050     177.778618   \n",
       "12        478.560831          471.0   39698.622033     199.245131   \n",
       "All       417.934948          422.0   36219.315784     190.313730   \n",
       "\n",
       "               count  \n",
       "      calls_duration  \n",
       "month                 \n",
       "1                 34  \n",
       "2                 58  \n",
       "3                 77  \n",
       "4                112  \n",
       "5                141  \n",
       "6                164  \n",
       "7                201  \n",
       "8                235  \n",
       "9                260  \n",
       "10               294  \n",
       "11               316  \n",
       "12               337  \n",
       "All             2229  "
      ]
     },
     "execution_count": 41,
     "metadata": {},
     "output_type": "execute_result"
    }
   ],
   "source": [
    "(summary_on_user_smart\n",
    "    .pivot_table(index='month', values='calls_duration', margins=True, aggfunc=['mean', 'median', 'var', 'std', 'count']))"
   ]
  },
  {
   "cell_type": "code",
   "execution_count": 42,
   "id": "03d360cf",
   "metadata": {
    "scrolled": false
   },
   "outputs": [
    {
     "data": {
      "text/plain": [
       "Text(0, 0.5, 'Длительность звонков (мин)')"
      ]
     },
     "execution_count": 42,
     "metadata": {},
     "output_type": "execute_result"
    },
    {
     "data": {
      "image/png": "[encoded data removed]",
      "text/plain": [
       "<Figure size 1080x720 with 12 Axes>"
      ]
     },
     "metadata": {
      "needs_background": "light"
     },
     "output_type": "display_data"
    },
    {
     "data": {
      "image/png": "[encoded data removed]",
      "text/plain": [
       "<Figure size 1080x648 with 1 Axes>"
      ]
     },
     "metadata": {
      "needs_background": "light"
     },
     "output_type": "display_data"
    }
   ],
   "source": [
    "calls_by_month_smart_hist = summary_on_user_smart.hist('calls_duration', bins=15, by='month', sharex=True, figsize =(15,10))\n",
    "\n",
    "calls_by_month_smart_boxplot = summary_on_user_smart.boxplot('calls_duration', by='month', figsize =(15,9))\n",
    "\n",
    "calls_by_month_smart_boxplot.set_title('Распределение длительности звоноков клиентов по месяцам, тариф SMART', fontsize=20)\n",
    "calls_by_month_smart_boxplot.set_xlabel('Месяц', fontsize=15)\n",
    "calls_by_month_smart_boxplot.set_ylabel('Длительность звонков (мин)', fontsize=15)"
   ]
  },
  {
   "cell_type": "code",
   "execution_count": 43,
   "id": "fd1e6a73",
   "metadata": {},
   "outputs": [
    {
     "data": {
      "text/plain": [
       "count    2229.000000\n",
       "mean      417.934948\n",
       "std       190.313730\n",
       "min         0.000000\n",
       "5%         95.800000\n",
       "10%       166.800000\n",
       "50%       422.000000\n",
       "90%       658.200000\n",
       "95%       726.600000\n",
       "max      1435.000000\n",
       "Name: calls_duration, dtype: float64"
      ]
     },
     "execution_count": 43,
     "metadata": {},
     "output_type": "execute_result"
    }
   ],
   "source": [
    "summary_on_user_smart['calls_duration'].describe(percentiles=[0.05,0.1,0.5,0.9,0.95])"
   ]
  },
  {
   "cell_type": "markdown",
   "id": "a60a60fe",
   "metadata": {},
   "source": [
    "* Как видно из графиков и таблицы со статистическими параметрами, распределение длительности звонков в первые 2 месяца года сильно отличаются от остальных. \n",
    "* Распределения стремятся к нормальному. Параметры распределений схожи, но по значениям среднего и медиане прослеживается тренд на увеличение длительности звонков.\n",
    "* Статистические параметры распределения представлены в таблице. Средние параметры для всего года: МО - 418 мин, медиана - 422 мин, СКО - 190 мин.\n",
    "* В среднем, 50% пользователей достаточно 420 мин разговора в месяц. 5% пользователей использует менее 95 мин разговора. 95% пользователей разговаривают менее 726 мин в месяц."
   ]
  },
  {
   "cell_type": "markdown",
   "id": "9f71c92d",
   "metadata": {},
   "source": [
    "Для нормального распределения с характеристиками положения, взятыми из выборочных, найдем вероятность превысить бесплатный лимит по звонкам на тарифе SMART."
   ]
  },
  {
   "cell_type": "code",
   "execution_count": 44,
   "id": "3aececfb",
   "metadata": {},
   "outputs": [
    {
     "data": {
      "text/plain": [
       "0.6669762688878045"
      ]
     },
     "execution_count": 44,
     "metadata": {},
     "output_type": "execute_result"
    }
   ],
   "source": [
    "st.norm(418,190).cdf(500)"
   ]
  },
  {
   "cell_type": "markdown",
   "id": "99c064e9",
   "metadata": {},
   "source": [
    "---\n",
    ">**2/3 пользователей укладываются в установленый лимит на тарифе SMART, соответственно 33% абонентам требуется больше минут разговора, чем представлено в бесплатном лимите.**\n",
    "---"
   ]
  },
  {
   "cell_type": "markdown",
   "id": "884e9f37",
   "metadata": {},
   "source": [
    "#### Звонки на тарифе ULTRA"
   ]
  },
  {
   "cell_type": "code",
   "execution_count": 45,
   "id": "87d33346",
   "metadata": {},
   "outputs": [
    {
     "data": {
      "text/html": [
       "<div>\n",
       "<style scoped>\n",
       "    .dataframe tbody tr th:only-of-type {\n",
       "        vertical-align: middle;\n",
       "    }\n",
       "\n",
       "    .dataframe tbody tr th {\n",
       "        vertical-align: top;\n",
       "    }\n",
       "\n",
       "    .dataframe thead tr th {\n",
       "        text-align: left;\n",
       "    }\n",
       "\n",
       "    .dataframe thead tr:last-of-type th {\n",
       "        text-align: right;\n",
       "    }\n",
       "</style>\n",
       "<table border=\"1\" class=\"dataframe\">\n",
       "  <thead>\n",
       "    <tr>\n",
       "      <th></th>\n",
       "      <th>mean</th>\n",
       "      <th>median</th>\n",
       "      <th>var</th>\n",
       "      <th>std</th>\n",
       "      <th>count</th>\n",
       "    </tr>\n",
       "    <tr>\n",
       "      <th></th>\n",
       "      <th>calls_duration</th>\n",
       "      <th>calls_duration</th>\n",
       "      <th>calls_duration</th>\n",
       "      <th>calls_duration</th>\n",
       "      <th>calls_duration</th>\n",
       "    </tr>\n",
       "    <tr>\n",
       "      <th>month</th>\n",
       "      <th></th>\n",
       "      <th></th>\n",
       "      <th></th>\n",
       "      <th></th>\n",
       "      <th></th>\n",
       "    </tr>\n",
       "  </thead>\n",
       "  <tbody>\n",
       "    <tr>\n",
       "      <td>1</td>\n",
       "      <td>428.111111</td>\n",
       "      <td>382.0</td>\n",
       "      <td>72769.361111</td>\n",
       "      <td>269.757968</td>\n",
       "      <td>9</td>\n",
       "    </tr>\n",
       "    <tr>\n",
       "      <td>2</td>\n",
       "      <td>297.125000</td>\n",
       "      <td>168.0</td>\n",
       "      <td>87919.679348</td>\n",
       "      <td>296.512528</td>\n",
       "      <td>24</td>\n",
       "    </tr>\n",
       "    <tr>\n",
       "      <td>3</td>\n",
       "      <td>489.648649</td>\n",
       "      <td>403.0</td>\n",
       "      <td>111384.900901</td>\n",
       "      <td>333.743765</td>\n",
       "      <td>37</td>\n",
       "    </tr>\n",
       "    <tr>\n",
       "      <td>4</td>\n",
       "      <td>458.018182</td>\n",
       "      <td>453.0</td>\n",
       "      <td>71653.870034</td>\n",
       "      <td>267.682405</td>\n",
       "      <td>55</td>\n",
       "    </tr>\n",
       "    <tr>\n",
       "      <td>5</td>\n",
       "      <td>510.328358</td>\n",
       "      <td>519.0</td>\n",
       "      <td>83870.193578</td>\n",
       "      <td>289.603511</td>\n",
       "      <td>67</td>\n",
       "    </tr>\n",
       "    <tr>\n",
       "      <td>6</td>\n",
       "      <td>479.702381</td>\n",
       "      <td>479.0</td>\n",
       "      <td>91535.946500</td>\n",
       "      <td>302.549081</td>\n",
       "      <td>84</td>\n",
       "    </tr>\n",
       "    <tr>\n",
       "      <td>7</td>\n",
       "      <td>545.791209</td>\n",
       "      <td>542.0</td>\n",
       "      <td>94322.278144</td>\n",
       "      <td>307.119322</td>\n",
       "      <td>91</td>\n",
       "    </tr>\n",
       "    <tr>\n",
       "      <td>8</td>\n",
       "      <td>510.775701</td>\n",
       "      <td>500.0</td>\n",
       "      <td>97956.496385</td>\n",
       "      <td>312.980026</td>\n",
       "      <td>107</td>\n",
       "    </tr>\n",
       "    <tr>\n",
       "      <td>9</td>\n",
       "      <td>539.443478</td>\n",
       "      <td>520.0</td>\n",
       "      <td>105716.775286</td>\n",
       "      <td>325.141162</td>\n",
       "      <td>115</td>\n",
       "    </tr>\n",
       "    <tr>\n",
       "      <td>10</td>\n",
       "      <td>558.081301</td>\n",
       "      <td>533.0</td>\n",
       "      <td>106464.583500</td>\n",
       "      <td>326.289110</td>\n",
       "      <td>123</td>\n",
       "    </tr>\n",
       "    <tr>\n",
       "      <td>11</td>\n",
       "      <td>541.380597</td>\n",
       "      <td>546.0</td>\n",
       "      <td>96570.057064</td>\n",
       "      <td>310.757232</td>\n",
       "      <td>134</td>\n",
       "    </tr>\n",
       "    <tr>\n",
       "      <td>12</td>\n",
       "      <td>592.805755</td>\n",
       "      <td>584.0</td>\n",
       "      <td>117276.331561</td>\n",
       "      <td>342.456321</td>\n",
       "      <td>139</td>\n",
       "    </tr>\n",
       "    <tr>\n",
       "      <td>All</td>\n",
       "      <td>526.623350</td>\n",
       "      <td>518.0</td>\n",
       "      <td>100873.633397</td>\n",
       "      <td>317.606098</td>\n",
       "      <td>985</td>\n",
       "    </tr>\n",
       "  </tbody>\n",
       "</table>\n",
       "</div>"
      ],
      "text/plain": [
       "                mean         median            var            std  \\\n",
       "      calls_duration calls_duration calls_duration calls_duration   \n",
       "month                                                               \n",
       "1         428.111111          382.0   72769.361111     269.757968   \n",
       "2         297.125000          168.0   87919.679348     296.512528   \n",
       "3         489.648649          403.0  111384.900901     333.743765   \n",
       "4         458.018182          453.0   71653.870034     267.682405   \n",
       "5         510.328358          519.0   83870.193578     289.603511   \n",
       "6         479.702381          479.0   91535.946500     302.549081   \n",
       "7         545.791209          542.0   94322.278144     307.119322   \n",
       "8         510.775701          500.0   97956.496385     312.980026   \n",
       "9         539.443478          520.0  105716.775286     325.141162   \n",
       "10        558.081301          533.0  106464.583500     326.289110   \n",
       "11        541.380597          546.0   96570.057064     310.757232   \n",
       "12        592.805755          584.0  117276.331561     342.456321   \n",
       "All       526.623350          518.0  100873.633397     317.606098   \n",
       "\n",
       "               count  \n",
       "      calls_duration  \n",
       "month                 \n",
       "1                  9  \n",
       "2                 24  \n",
       "3                 37  \n",
       "4                 55  \n",
       "5                 67  \n",
       "6                 84  \n",
       "7                 91  \n",
       "8                107  \n",
       "9                115  \n",
       "10               123  \n",
       "11               134  \n",
       "12               139  \n",
       "All              985  "
      ]
     },
     "execution_count": 45,
     "metadata": {},
     "output_type": "execute_result"
    }
   ],
   "source": [
    "(summary_on_user_ultra\n",
    "    .pivot_table(index='month', values='calls_duration', margins=True, aggfunc=['mean', 'median', 'var', 'std','count']))"
   ]
  },
  {
   "cell_type": "code",
   "execution_count": 46,
   "id": "10427bf5",
   "metadata": {
    "scrolled": false
   },
   "outputs": [
    {
     "data": {
      "text/plain": [
       "Text(0, 0.5, 'Длительность звонков (мин)')"
      ]
     },
     "execution_count": 46,
     "metadata": {},
     "output_type": "execute_result"
    },
    {
     "data": {
      "image/png": "[encoded data removed]",
      "text/plain": [
       "<Figure size 1080x720 with 12 Axes>"
      ]
     },
     "metadata": {
      "needs_background": "light"
     },
     "output_type": "display_data"
    },
    {
     "data": {
      "image/png": "[encoded data removed]",
      "text/plain": [
       "<Figure size 1080x648 with 1 Axes>"
      ]
     },
     "metadata": {
      "needs_background": "light"
     },
     "output_type": "display_data"
    }
   ],
   "source": [
    "calls_by_month_ultra_hist = summary_on_user_ultra.hist('calls_duration', bins=15, by='month', sharex=True, figsize =(15,10))\n",
    "\n",
    "calls_by_month_ultra_boxplot = summary_on_user_ultra.boxplot('calls_duration', by='month', figsize =(15,9))\n",
    "\n",
    "calls_by_month_ultra_boxplot.set_title('Распределение длительности звоноков клиентов по месяцам, тариф ULTRA', fontsize=20)\n",
    "calls_by_month_ultra_boxplot.set_xlabel('Месяц', fontsize=15)\n",
    "calls_by_month_ultra_boxplot.set_ylabel('Длительность звонков (мин)', fontsize=15)"
   ]
  },
  {
   "cell_type": "code",
   "execution_count": 47,
   "id": "d0738f6a",
   "metadata": {},
   "outputs": [
    {
     "data": {
      "text/plain": [
       "count     985.000000\n",
       "mean      526.623350\n",
       "std       317.606098\n",
       "min         0.000000\n",
       "5%         16.800000\n",
       "10%        96.800000\n",
       "50%       518.000000\n",
       "90%       932.600000\n",
       "95%      1088.600000\n",
       "max      1673.000000\n",
       "Name: calls_duration, dtype: float64"
      ]
     },
     "execution_count": 47,
     "metadata": {},
     "output_type": "execute_result"
    }
   ],
   "source": [
    "summary_on_user_ultra['calls_duration'].describe(percentiles=[0.05,0.1,0.5,0.9,0.95])"
   ]
  },
  {
   "cell_type": "markdown",
   "id": "e1c87018",
   "metadata": {},
   "source": [
    "* Также как и для тарифа SMART, видна значительная разница между звонками за первые два месяца от остальных. В данном случае это связано с малым объемом выборки. Так, например, в январе абонентами было совершено всего 9 звонков, а в феврале 24.\n",
    "* Аналогично тарифу SMART распределения стремятся к нормальному, однако их форма отличается. Распределение длительности звонков  для тарифа ULTRA более равномерное, что отражает величина СКО - 317мин, это примерно в полтора раза больше, чем для тарифа SMART.\n",
    "* Медианное и среднее значение длительности около 520 мин, соответственно 50% пользователей тарифа ULTRA разговаривают меньше этого значения. 5% пользователей тратят менее 16 минут на разговоры. 95% абонентов разговаривают не дольше 1088 мин."
   ]
  },
  {
   "cell_type": "markdown",
   "id": "88681256",
   "metadata": {},
   "source": [
    "Для нормального распределения с характеристиками положения, взятыми из выборочных, найдем вероятность превысить бесплатный лимит по звонкам на тарифе ULTRA."
   ]
  },
  {
   "cell_type": "code",
   "execution_count": 48,
   "id": "0220a064",
   "metadata": {},
   "outputs": [
    {
     "data": {
      "text/plain": [
       "0.9999999999999966"
      ]
     },
     "execution_count": 48,
     "metadata": {},
     "output_type": "execute_result"
    }
   ],
   "source": [
    "st.norm(526.6,317.6).cdf(3000)"
   ]
  },
  {
   "cell_type": "markdown",
   "id": "d2b0667c",
   "metadata": {},
   "source": [
    "---\n",
    ">**Для абонентов тарифа ULTRA лимит по звонкам крайне высок. Вероятность его превышения практически невозможна. Имеет смысл снизить бесплатный лимит на звонки.**\n",
    "---"
   ]
  },
  {
   "cell_type": "markdown",
   "id": "409449ab",
   "metadata": {},
   "source": [
    "### Анализ сообщений\n"
   ]
  },
  {
   "cell_type": "markdown",
   "id": "61ca10a5",
   "metadata": {},
   "source": [
    "#### Cообщения на тарифе SMART"
   ]
  },
  {
   "cell_type": "code",
   "execution_count": 49,
   "id": "e4be7df2",
   "metadata": {
    "scrolled": false
   },
   "outputs": [
    {
     "data": {
      "text/html": [
       "<div>\n",
       "<style scoped>\n",
       "    .dataframe tbody tr th:only-of-type {\n",
       "        vertical-align: middle;\n",
       "    }\n",
       "\n",
       "    .dataframe tbody tr th {\n",
       "        vertical-align: top;\n",
       "    }\n",
       "\n",
       "    .dataframe thead tr th {\n",
       "        text-align: left;\n",
       "    }\n",
       "\n",
       "    .dataframe thead tr:last-of-type th {\n",
       "        text-align: right;\n",
       "    }\n",
       "</style>\n",
       "<table border=\"1\" class=\"dataframe\">\n",
       "  <thead>\n",
       "    <tr>\n",
       "      <th></th>\n",
       "      <th>mean</th>\n",
       "      <th>median</th>\n",
       "      <th>var</th>\n",
       "      <th>std</th>\n",
       "      <th>count</th>\n",
       "    </tr>\n",
       "    <tr>\n",
       "      <th></th>\n",
       "      <th>messages</th>\n",
       "      <th>messages</th>\n",
       "      <th>messages</th>\n",
       "      <th>messages</th>\n",
       "      <th>messages</th>\n",
       "    </tr>\n",
       "    <tr>\n",
       "      <th>month</th>\n",
       "      <th></th>\n",
       "      <th></th>\n",
       "      <th></th>\n",
       "      <th></th>\n",
       "      <th></th>\n",
       "    </tr>\n",
       "  </thead>\n",
       "  <tbody>\n",
       "    <tr>\n",
       "      <td>1</td>\n",
       "      <td>18.235294</td>\n",
       "      <td>15.0</td>\n",
       "      <td>262.367201</td>\n",
       "      <td>16.197753</td>\n",
       "      <td>34</td>\n",
       "    </tr>\n",
       "    <tr>\n",
       "      <td>2</td>\n",
       "      <td>24.086207</td>\n",
       "      <td>20.0</td>\n",
       "      <td>473.097701</td>\n",
       "      <td>21.750809</td>\n",
       "      <td>58</td>\n",
       "    </tr>\n",
       "    <tr>\n",
       "      <td>3</td>\n",
       "      <td>31.857143</td>\n",
       "      <td>23.0</td>\n",
       "      <td>718.492481</td>\n",
       "      <td>26.804710</td>\n",
       "      <td>77</td>\n",
       "    </tr>\n",
       "    <tr>\n",
       "      <td>4</td>\n",
       "      <td>30.741071</td>\n",
       "      <td>28.0</td>\n",
       "      <td>602.139559</td>\n",
       "      <td>24.538532</td>\n",
       "      <td>112</td>\n",
       "    </tr>\n",
       "    <tr>\n",
       "      <td>5</td>\n",
       "      <td>33.773050</td>\n",
       "      <td>30.0</td>\n",
       "      <td>730.990983</td>\n",
       "      <td>27.036845</td>\n",
       "      <td>141</td>\n",
       "    </tr>\n",
       "    <tr>\n",
       "      <td>6</td>\n",
       "      <td>33.402439</td>\n",
       "      <td>28.0</td>\n",
       "      <td>806.806374</td>\n",
       "      <td>28.404337</td>\n",
       "      <td>164</td>\n",
       "    </tr>\n",
       "    <tr>\n",
       "      <td>7</td>\n",
       "      <td>33.751244</td>\n",
       "      <td>29.0</td>\n",
       "      <td>799.887811</td>\n",
       "      <td>28.282288</td>\n",
       "      <td>201</td>\n",
       "    </tr>\n",
       "    <tr>\n",
       "      <td>8</td>\n",
       "      <td>33.638298</td>\n",
       "      <td>27.0</td>\n",
       "      <td>838.257501</td>\n",
       "      <td>28.952677</td>\n",
       "      <td>235</td>\n",
       "    </tr>\n",
       "    <tr>\n",
       "      <td>9</td>\n",
       "      <td>33.638462</td>\n",
       "      <td>30.0</td>\n",
       "      <td>790.617820</td>\n",
       "      <td>28.117927</td>\n",
       "      <td>260</td>\n",
       "    </tr>\n",
       "    <tr>\n",
       "      <td>10</td>\n",
       "      <td>33.765306</td>\n",
       "      <td>30.0</td>\n",
       "      <td>816.111966</td>\n",
       "      <td>28.567673</td>\n",
       "      <td>294</td>\n",
       "    </tr>\n",
       "    <tr>\n",
       "      <td>11</td>\n",
       "      <td>34.075949</td>\n",
       "      <td>28.0</td>\n",
       "      <td>805.937071</td>\n",
       "      <td>28.389031</td>\n",
       "      <td>316</td>\n",
       "    </tr>\n",
       "    <tr>\n",
       "      <td>12</td>\n",
       "      <td>35.994065</td>\n",
       "      <td>29.0</td>\n",
       "      <td>934.952346</td>\n",
       "      <td>30.576990</td>\n",
       "      <td>337</td>\n",
       "    </tr>\n",
       "    <tr>\n",
       "      <td>All</td>\n",
       "      <td>33.384029</td>\n",
       "      <td>28.0</td>\n",
       "      <td>796.812958</td>\n",
       "      <td>28.227876</td>\n",
       "      <td>2229</td>\n",
       "    </tr>\n",
       "  </tbody>\n",
       "</table>\n",
       "</div>"
      ],
      "text/plain": [
       "            mean   median         var        std    count\n",
       "        messages messages    messages   messages messages\n",
       "month                                                    \n",
       "1      18.235294     15.0  262.367201  16.197753       34\n",
       "2      24.086207     20.0  473.097701  21.750809       58\n",
       "3      31.857143     23.0  718.492481  26.804710       77\n",
       "4      30.741071     28.0  602.139559  24.538532      112\n",
       "5      33.773050     30.0  730.990983  27.036845      141\n",
       "6      33.402439     28.0  806.806374  28.404337      164\n",
       "7      33.751244     29.0  799.887811  28.282288      201\n",
       "8      33.638298     27.0  838.257501  28.952677      235\n",
       "9      33.638462     30.0  790.617820  28.117927      260\n",
       "10     33.765306     30.0  816.111966  28.567673      294\n",
       "11     34.075949     28.0  805.937071  28.389031      316\n",
       "12     35.994065     29.0  934.952346  30.576990      337\n",
       "All    33.384029     28.0  796.812958  28.227876     2229"
      ]
     },
     "execution_count": 49,
     "metadata": {},
     "output_type": "execute_result"
    }
   ],
   "source": [
    "summary_on_user_smart.pivot_table(index='month', values='messages', margins=True, aggfunc=['mean', 'median', 'var', 'std','count'])"
   ]
  },
  {
   "cell_type": "code",
   "execution_count": 50,
   "id": "f2dbd9eb",
   "metadata": {
    "scrolled": false
   },
   "outputs": [
    {
     "data": {
      "text/plain": [
       "Text(0, 0.5, 'Кол-во сообщений')"
      ]
     },
     "execution_count": 50,
     "metadata": {},
     "output_type": "execute_result"
    },
    {
     "data": {
      "image/png": "[encoded data removed]",
      "text/plain": [
       "<Figure size 1080x720 with 12 Axes>"
      ]
     },
     "metadata": {
      "needs_background": "light"
     },
     "output_type": "display_data"
    },
    {
     "data": {
      "image/png": "[encoded data removed]",
      "text/plain": [
       "<Figure size 1080x648 with 1 Axes>"
      ]
     },
     "metadata": {
      "needs_background": "light"
     },
     "output_type": "display_data"
    }
   ],
   "source": [
    "mesagges_by_month_smart_hist = summary_on_user_smart.hist('messages', bins=15, by='month', sharex=True, figsize=(15,10))\n",
    "mesagges_by_month_smart_boxplot = summary_on_user_smart.boxplot('messages', by='month', figsize=(15,9))\n",
    "\n",
    "mesagges_by_month_smart_boxplot.set_title('Распределение кол-ва сообщений клиентов по месяцам, тариф SMART', fontsize=20)\n",
    "mesagges_by_month_smart_boxplot.set_xlabel('Месяц', fontsize=15)\n",
    "mesagges_by_month_smart_boxplot.set_ylabel('Кол-во сообщений', fontsize=15)"
   ]
  },
  {
   "cell_type": "code",
   "execution_count": 51,
   "id": "4a9953e6",
   "metadata": {},
   "outputs": [
    {
     "data": {
      "text/plain": [
       "count    2229.000000\n",
       "mean       33.384029\n",
       "std        28.227876\n",
       "min         0.000000\n",
       "5%          0.000000\n",
       "10%         0.000000\n",
       "20%         6.000000\n",
       "50%        28.000000\n",
       "90%        73.000000\n",
       "95%        88.000000\n",
       "max       143.000000\n",
       "Name: messages, dtype: float64"
      ]
     },
     "execution_count": 51,
     "metadata": {},
     "output_type": "execute_result"
    }
   ],
   "source": [
    "summary_on_user_smart['messages'].describe(percentiles=[0.05,0.1,0.2,0.5,0.9,0.95])"
   ]
  },
  {
   "cell_type": "markdown",
   "id": "ae1a1cdb",
   "metadata": {},
   "source": [
    "* Как видно из графиков, распределения кол-ва сообщений по месяцам скошены вправо, это означает, что среднее значение так же будет сдвинуто вправо относительно мединаы. Это происходит из-за небольшого кол-ва пользователей, которые отправляют много сообщений.\n",
    "* Так же как и со звонками, данные за первые 2 месяца отличаются от остальной выборки, вследствие малого объемя сообщений. Данные по другим месяцам в целом выглядят похоже с небольшими отличиями. Средние значения находятся в диапазоне 30-36, медиана - 23-30. СКО изменяется от 22 до 30.\n",
    "* Средние показатели за год: МО - 33.4, медиана - 28, СКО - 28.2. \n",
    "* Для 50% абонентов в месяц достаточно отправить не больше 28 сообщений. Как минимум 20% отправляют менее 6 сообщений, 95% - менее 88 сообщения \n"
   ]
  },
  {
   "cell_type": "markdown",
   "id": "25c7e672",
   "metadata": {},
   "source": [
    "Для нормального распределения с характеристиками положения, взятыми из выборочных, найдем вероятность превысить бесплатный лимит по сообщениям на тарифе SMART."
   ]
  },
  {
   "cell_type": "code",
   "execution_count": 52,
   "id": "3e366b83",
   "metadata": {},
   "outputs": [
    {
     "data": {
      "text/plain": [
       "0.721952790044881"
      ]
     },
     "execution_count": 52,
     "metadata": {},
     "output_type": "execute_result"
    }
   ],
   "source": [
    "st.norm(33.4,28.2).cdf(50)"
   ]
  },
  {
   "cell_type": "markdown",
   "id": "c459154b",
   "metadata": {},
   "source": [
    "---\n",
    ">**Также как и в данных по звонкам, более 2/3 абонентов не превышают оплаченый лимит по сообщениям. 28% пользователей отправляют больше сообщений, чем указано в лимите тарифа SMART.**\n",
    "---"
   ]
  },
  {
   "cell_type": "markdown",
   "id": "716217f3",
   "metadata": {},
   "source": [
    "#### Cообщения на тарифе ULTRA"
   ]
  },
  {
   "cell_type": "code",
   "execution_count": 53,
   "id": "942c6413",
   "metadata": {
    "scrolled": false
   },
   "outputs": [
    {
     "data": {
      "text/html": [
       "<div>\n",
       "<style scoped>\n",
       "    .dataframe tbody tr th:only-of-type {\n",
       "        vertical-align: middle;\n",
       "    }\n",
       "\n",
       "    .dataframe tbody tr th {\n",
       "        vertical-align: top;\n",
       "    }\n",
       "\n",
       "    .dataframe thead tr th {\n",
       "        text-align: left;\n",
       "    }\n",
       "\n",
       "    .dataframe thead tr:last-of-type th {\n",
       "        text-align: right;\n",
       "    }\n",
       "</style>\n",
       "<table border=\"1\" class=\"dataframe\">\n",
       "  <thead>\n",
       "    <tr>\n",
       "      <th></th>\n",
       "      <th>mean</th>\n",
       "      <th>median</th>\n",
       "      <th>var</th>\n",
       "      <th>std</th>\n",
       "      <th>count</th>\n",
       "    </tr>\n",
       "    <tr>\n",
       "      <th></th>\n",
       "      <th>messages</th>\n",
       "      <th>messages</th>\n",
       "      <th>messages</th>\n",
       "      <th>messages</th>\n",
       "      <th>messages</th>\n",
       "    </tr>\n",
       "    <tr>\n",
       "      <th>month</th>\n",
       "      <th></th>\n",
       "      <th></th>\n",
       "      <th></th>\n",
       "      <th></th>\n",
       "      <th></th>\n",
       "    </tr>\n",
       "  </thead>\n",
       "  <tbody>\n",
       "    <tr>\n",
       "      <td>1</td>\n",
       "      <td>33.777778</td>\n",
       "      <td>32.0</td>\n",
       "      <td>940.694444</td>\n",
       "      <td>30.670742</td>\n",
       "      <td>9</td>\n",
       "    </tr>\n",
       "    <tr>\n",
       "      <td>2</td>\n",
       "      <td>21.958333</td>\n",
       "      <td>5.5</td>\n",
       "      <td>716.824275</td>\n",
       "      <td>26.773574</td>\n",
       "      <td>24</td>\n",
       "    </tr>\n",
       "    <tr>\n",
       "      <td>3</td>\n",
       "      <td>32.297297</td>\n",
       "      <td>20.0</td>\n",
       "      <td>1732.381381</td>\n",
       "      <td>41.621886</td>\n",
       "      <td>37</td>\n",
       "    </tr>\n",
       "    <tr>\n",
       "      <td>4</td>\n",
       "      <td>31.563636</td>\n",
       "      <td>17.0</td>\n",
       "      <td>1407.287542</td>\n",
       "      <td>37.513831</td>\n",
       "      <td>55</td>\n",
       "    </tr>\n",
       "    <tr>\n",
       "      <td>5</td>\n",
       "      <td>37.850746</td>\n",
       "      <td>25.0</td>\n",
       "      <td>1624.644052</td>\n",
       "      <td>40.306874</td>\n",
       "      <td>67</td>\n",
       "    </tr>\n",
       "    <tr>\n",
       "      <td>6</td>\n",
       "      <td>41.726190</td>\n",
       "      <td>27.5</td>\n",
       "      <td>1986.297619</td>\n",
       "      <td>44.567899</td>\n",
       "      <td>84</td>\n",
       "    </tr>\n",
       "    <tr>\n",
       "      <td>7</td>\n",
       "      <td>49.846154</td>\n",
       "      <td>38.0</td>\n",
       "      <td>2372.042735</td>\n",
       "      <td>48.703621</td>\n",
       "      <td>91</td>\n",
       "    </tr>\n",
       "    <tr>\n",
       "      <td>8</td>\n",
       "      <td>48.439252</td>\n",
       "      <td>40.0</td>\n",
       "      <td>2171.739199</td>\n",
       "      <td>46.601923</td>\n",
       "      <td>107</td>\n",
       "    </tr>\n",
       "    <tr>\n",
       "      <td>9</td>\n",
       "      <td>52.286957</td>\n",
       "      <td>43.0</td>\n",
       "      <td>2152.855530</td>\n",
       "      <td>46.398874</td>\n",
       "      <td>115</td>\n",
       "    </tr>\n",
       "    <tr>\n",
       "      <td>10</td>\n",
       "      <td>58.430894</td>\n",
       "      <td>49.0</td>\n",
       "      <td>2697.181661</td>\n",
       "      <td>51.934398</td>\n",
       "      <td>123</td>\n",
       "    </tr>\n",
       "    <tr>\n",
       "      <td>11</td>\n",
       "      <td>55.791045</td>\n",
       "      <td>43.0</td>\n",
       "      <td>2476.948491</td>\n",
       "      <td>49.768951</td>\n",
       "      <td>134</td>\n",
       "    </tr>\n",
       "    <tr>\n",
       "      <td>12</td>\n",
       "      <td>60.611511</td>\n",
       "      <td>51.0</td>\n",
       "      <td>2681.978417</td>\n",
       "      <td>51.787821</td>\n",
       "      <td>139</td>\n",
       "    </tr>\n",
       "    <tr>\n",
       "      <td>All</td>\n",
       "      <td>49.363452</td>\n",
       "      <td>38.0</td>\n",
       "      <td>2285.266143</td>\n",
       "      <td>47.804457</td>\n",
       "      <td>985</td>\n",
       "    </tr>\n",
       "  </tbody>\n",
       "</table>\n",
       "</div>"
      ],
      "text/plain": [
       "            mean   median          var        std    count\n",
       "        messages messages     messages   messages messages\n",
       "month                                                     \n",
       "1      33.777778     32.0   940.694444  30.670742        9\n",
       "2      21.958333      5.5   716.824275  26.773574       24\n",
       "3      32.297297     20.0  1732.381381  41.621886       37\n",
       "4      31.563636     17.0  1407.287542  37.513831       55\n",
       "5      37.850746     25.0  1624.644052  40.306874       67\n",
       "6      41.726190     27.5  1986.297619  44.567899       84\n",
       "7      49.846154     38.0  2372.042735  48.703621       91\n",
       "8      48.439252     40.0  2171.739199  46.601923      107\n",
       "9      52.286957     43.0  2152.855530  46.398874      115\n",
       "10     58.430894     49.0  2697.181661  51.934398      123\n",
       "11     55.791045     43.0  2476.948491  49.768951      134\n",
       "12     60.611511     51.0  2681.978417  51.787821      139\n",
       "All    49.363452     38.0  2285.266143  47.804457      985"
      ]
     },
     "execution_count": 53,
     "metadata": {},
     "output_type": "execute_result"
    }
   ],
   "source": [
    "summary_on_user_ultra.pivot_table(index='month', values='messages', margins=True, aggfunc=['mean', 'median', 'var', 'std','count'])"
   ]
  },
  {
   "cell_type": "code",
   "execution_count": 54,
   "id": "da9464c7",
   "metadata": {
    "scrolled": false
   },
   "outputs": [
    {
     "data": {
      "text/plain": [
       "Text(0, 0.5, 'Кол-во сообщений')"
      ]
     },
     "execution_count": 54,
     "metadata": {},
     "output_type": "execute_result"
    },
    {
     "data": {
      "image/png": "[encoded data removed]",
      "text/plain": [
       "<Figure size 1080x720 with 12 Axes>"
      ]
     },
     "metadata": {
      "needs_background": "light"
     },
     "output_type": "display_data"
    },
    {
     "data": {
      "image/png": "[encoded data removed]",
      "text/plain": [
       "<Figure size 1080x648 with 1 Axes>"
      ]
     },
     "metadata": {
      "needs_background": "light"
     },
     "output_type": "display_data"
    }
   ],
   "source": [
    "mesagges_by_month_ultra_hist = summary_on_user_ultra.hist('messages', bins=10, by='month', sharex=True, figsize =(15,10))\n",
    "mesagges_by_month_ultra_boxplot = summary_on_user_ultra.boxplot('messages', by='month', figsize =(15,9))\n",
    "\n",
    "mesagges_by_month_ultra_boxplot.set_title('Распределение кол-ва сообщений клиентов по месяцам, тариф ULTRA', fontsize=20)\n",
    "mesagges_by_month_ultra_boxplot.set_xlabel('Месяц', fontsize=15)\n",
    "mesagges_by_month_ultra_boxplot.set_ylabel('Кол-во сообщений', fontsize=15)"
   ]
  },
  {
   "cell_type": "code",
   "execution_count": 55,
   "id": "be9d6247",
   "metadata": {},
   "outputs": [
    {
     "data": {
      "text/plain": [
       "count    985.000000\n",
       "mean      49.363452\n",
       "std       47.804457\n",
       "min        0.000000\n",
       "5%         0.000000\n",
       "10%        0.000000\n",
       "50%       38.000000\n",
       "90%      122.600000\n",
       "95%      145.000000\n",
       "max      224.000000\n",
       "Name: messages, dtype: float64"
      ]
     },
     "execution_count": 55,
     "metadata": {},
     "output_type": "execute_result"
    }
   ],
   "source": [
    "summary_on_user_ultra['messages'].describe(percentiles=[0.05,0.1,0.5,0.9,0.95])"
   ]
  },
  {
   "cell_type": "markdown",
   "id": "153835ef",
   "metadata": {},
   "source": [
    "* Значения за первые 2 месяца не репрезентативны из-за малого объема выборки.\n",
    "* Аналогично тарифу SMART, распределения скошены вправо. Некоторое кол-во абонентов на этом тарифе отправляет очень много сообщений.\n",
    "* В отличие от данных по другому тарифу, для тарифа ULTRA прослеживается тренд на увеличение кол-во сообщений месяц к месяцу.\n",
    "* СКО для кол-ва отправленных сообщений на тарифе ULTRA составляет 47.8 сообщ., что на 70% больше, чем у тарифа SMART. Абоненты тарифа разнообразней, есть те, кто почти не пользуется сообщениями, а также те кто отправляет более 150 сообщений в месяц\n",
    "* Среднее находится в диапазоне от 32 до 60, медиана - от 17 до 51, СКО - от 37 до 52\n",
    "* Статистические параметры за год: МО - 49.3, медиана - 38, СКО - 47.8."
   ]
  },
  {
   "cell_type": "markdown",
   "id": "5b3594a5",
   "metadata": {},
   "source": [
    "Для нормального распределения с характеристиками положения, взятыми из выборочных, найдем вероятность превысить бесплатный лимит по сообщениям на тарифе ULTRA."
   ]
  },
  {
   "cell_type": "code",
   "execution_count": 56,
   "id": "9a03f1fd",
   "metadata": {},
   "outputs": [
    {
     "data": {
      "text/plain": [
       "1.0"
      ]
     },
     "execution_count": 56,
     "metadata": {},
     "output_type": "execute_result"
    }
   ],
   "source": [
    "st.norm(49.3,47.8).cdf(1000)"
   ]
  },
  {
   "cell_type": "markdown",
   "id": "baee8e9d",
   "metadata": {},
   "source": [
    "---\n",
    ">**Для абонента тарифа ULTRA абсолютно невозможно превысить лимит по отправке сообщений. Максимальное кол-во отправленных сообщений по выборке в 4 раза меньше оплаченного лимита.**\n",
    "---"
   ]
  },
  {
   "cell_type": "markdown",
   "id": "b28b8fad",
   "metadata": {},
   "source": [
    "### Анализ интернет-трафика"
   ]
  },
  {
   "cell_type": "markdown",
   "id": "62545066",
   "metadata": {},
   "source": [
    "#### Интернет-трафик на тарифе SMART"
   ]
  },
  {
   "cell_type": "code",
   "execution_count": 57,
   "id": "4935ec1b",
   "metadata": {},
   "outputs": [
    {
     "data": {
      "text/html": [
       "<div>\n",
       "<style scoped>\n",
       "    .dataframe tbody tr th:only-of-type {\n",
       "        vertical-align: middle;\n",
       "    }\n",
       "\n",
       "    .dataframe tbody tr th {\n",
       "        vertical-align: top;\n",
       "    }\n",
       "\n",
       "    .dataframe thead tr th {\n",
       "        text-align: left;\n",
       "    }\n",
       "\n",
       "    .dataframe thead tr:last-of-type th {\n",
       "        text-align: right;\n",
       "    }\n",
       "</style>\n",
       "<table border=\"1\" class=\"dataframe\">\n",
       "  <thead>\n",
       "    <tr>\n",
       "      <th></th>\n",
       "      <th>mean</th>\n",
       "      <th>median</th>\n",
       "      <th>var</th>\n",
       "      <th>std</th>\n",
       "      <th>count</th>\n",
       "    </tr>\n",
       "    <tr>\n",
       "      <th></th>\n",
       "      <th>gb_used</th>\n",
       "      <th>gb_used</th>\n",
       "      <th>gb_used</th>\n",
       "      <th>gb_used</th>\n",
       "      <th>gb_used</th>\n",
       "    </tr>\n",
       "    <tr>\n",
       "      <th>month</th>\n",
       "      <th></th>\n",
       "      <th></th>\n",
       "      <th></th>\n",
       "      <th></th>\n",
       "      <th></th>\n",
       "    </tr>\n",
       "  </thead>\n",
       "  <tbody>\n",
       "    <tr>\n",
       "      <td>1</td>\n",
       "      <td>8.735294</td>\n",
       "      <td>7.0</td>\n",
       "      <td>39.412656</td>\n",
       "      <td>6.277950</td>\n",
       "      <td>34</td>\n",
       "    </tr>\n",
       "    <tr>\n",
       "      <td>2</td>\n",
       "      <td>11.844828</td>\n",
       "      <td>13.0</td>\n",
       "      <td>37.150938</td>\n",
       "      <td>6.095157</td>\n",
       "      <td>58</td>\n",
       "    </tr>\n",
       "    <tr>\n",
       "      <td>3</td>\n",
       "      <td>15.233766</td>\n",
       "      <td>16.0</td>\n",
       "      <td>32.549897</td>\n",
       "      <td>5.705252</td>\n",
       "      <td>77</td>\n",
       "    </tr>\n",
       "    <tr>\n",
       "      <td>4</td>\n",
       "      <td>13.625000</td>\n",
       "      <td>14.0</td>\n",
       "      <td>31.299550</td>\n",
       "      <td>5.594600</td>\n",
       "      <td>112</td>\n",
       "    </tr>\n",
       "    <tr>\n",
       "      <td>5</td>\n",
       "      <td>15.907801</td>\n",
       "      <td>16.0</td>\n",
       "      <td>34.370010</td>\n",
       "      <td>5.862594</td>\n",
       "      <td>141</td>\n",
       "    </tr>\n",
       "    <tr>\n",
       "      <td>6</td>\n",
       "      <td>15.951220</td>\n",
       "      <td>16.0</td>\n",
       "      <td>31.911716</td>\n",
       "      <td>5.649046</td>\n",
       "      <td>164</td>\n",
       "    </tr>\n",
       "    <tr>\n",
       "      <td>7</td>\n",
       "      <td>15.875622</td>\n",
       "      <td>16.0</td>\n",
       "      <td>33.419453</td>\n",
       "      <td>5.780956</td>\n",
       "      <td>201</td>\n",
       "    </tr>\n",
       "    <tr>\n",
       "      <td>8</td>\n",
       "      <td>16.736170</td>\n",
       "      <td>17.0</td>\n",
       "      <td>30.041207</td>\n",
       "      <td>5.480986</td>\n",
       "      <td>235</td>\n",
       "    </tr>\n",
       "    <tr>\n",
       "      <td>9</td>\n",
       "      <td>16.392308</td>\n",
       "      <td>16.0</td>\n",
       "      <td>25.884110</td>\n",
       "      <td>5.087643</td>\n",
       "      <td>260</td>\n",
       "    </tr>\n",
       "    <tr>\n",
       "      <td>10</td>\n",
       "      <td>16.880952</td>\n",
       "      <td>17.0</td>\n",
       "      <td>32.897042</td>\n",
       "      <td>5.735594</td>\n",
       "      <td>294</td>\n",
       "    </tr>\n",
       "    <tr>\n",
       "      <td>11</td>\n",
       "      <td>17.000000</td>\n",
       "      <td>17.0</td>\n",
       "      <td>27.180952</td>\n",
       "      <td>5.213535</td>\n",
       "      <td>316</td>\n",
       "    </tr>\n",
       "    <tr>\n",
       "      <td>12</td>\n",
       "      <td>18.201780</td>\n",
       "      <td>18.0</td>\n",
       "      <td>29.786544</td>\n",
       "      <td>5.457705</td>\n",
       "      <td>337</td>\n",
       "    </tr>\n",
       "    <tr>\n",
       "      <td>All</td>\n",
       "      <td>16.328847</td>\n",
       "      <td>17.0</td>\n",
       "      <td>33.028705</td>\n",
       "      <td>5.747061</td>\n",
       "      <td>2229</td>\n",
       "    </tr>\n",
       "  </tbody>\n",
       "</table>\n",
       "</div>"
      ],
      "text/plain": [
       "            mean  median        var       std   count\n",
       "         gb_used gb_used    gb_used   gb_used gb_used\n",
       "month                                                \n",
       "1       8.735294     7.0  39.412656  6.277950      34\n",
       "2      11.844828    13.0  37.150938  6.095157      58\n",
       "3      15.233766    16.0  32.549897  5.705252      77\n",
       "4      13.625000    14.0  31.299550  5.594600     112\n",
       "5      15.907801    16.0  34.370010  5.862594     141\n",
       "6      15.951220    16.0  31.911716  5.649046     164\n",
       "7      15.875622    16.0  33.419453  5.780956     201\n",
       "8      16.736170    17.0  30.041207  5.480986     235\n",
       "9      16.392308    16.0  25.884110  5.087643     260\n",
       "10     16.880952    17.0  32.897042  5.735594     294\n",
       "11     17.000000    17.0  27.180952  5.213535     316\n",
       "12     18.201780    18.0  29.786544  5.457705     337\n",
       "All    16.328847    17.0  33.028705  5.747061    2229"
      ]
     },
     "execution_count": 57,
     "metadata": {},
     "output_type": "execute_result"
    }
   ],
   "source": [
    "summary_on_user_smart.pivot_table(index='month', values='gb_used', margins=True, aggfunc=['mean', 'median', 'var', 'std','count'])"
   ]
  },
  {
   "cell_type": "code",
   "execution_count": 58,
   "id": "4f43175e",
   "metadata": {
    "scrolled": false
   },
   "outputs": [
    {
     "data": {
      "text/plain": [
       "Text(0, 0.5, 'Использовано ГБ трафика')"
      ]
     },
     "execution_count": 58,
     "metadata": {},
     "output_type": "execute_result"
    },
    {
     "data": {
      "image/png": "[encoded data removed]",
      "text/plain": [
       "<Figure size 1080x720 with 12 Axes>"
      ]
     },
     "metadata": {
      "needs_background": "light"
     },
     "output_type": "display_data"
    },
    {
     "data": {
      "image/png": "[encoded data removed]",
      "text/plain": [
       "<Figure size 1080x648 with 1 Axes>"
      ]
     },
     "metadata": {
      "needs_background": "light"
     },
     "output_type": "display_data"
    }
   ],
   "source": [
    "internet_by_month_smart_hist = summary_on_user_smart.hist('gb_used', bins=15, by='month', sharex=True, figsize =(15,10))\n",
    "internet_by_month_smart_boxplot = summary_on_user_smart.boxplot('gb_used', by='month', figsize =(15,9))\n",
    "\n",
    "internet_by_month_smart_boxplot.set_title('Распределение интернет-трафика клиентов по месяцам, тариф SMART', fontsize=20)\n",
    "internet_by_month_smart_boxplot.set_xlabel('Месяц', fontsize=15)\n",
    "internet_by_month_smart_boxplot.set_ylabel('Использовано ГБ трафика', fontsize=15)"
   ]
  },
  {
   "cell_type": "code",
   "execution_count": 59,
   "id": "1343485b",
   "metadata": {},
   "outputs": [
    {
     "data": {
      "text/plain": [
       "count    2229.000000\n",
       "mean       16.328847\n",
       "std         5.747061\n",
       "min         0.000000\n",
       "5%          6.000000\n",
       "10%         9.000000\n",
       "50%        17.000000\n",
       "90%        23.000000\n",
       "95%        25.000000\n",
       "max        38.000000\n",
       "Name: gb_used, dtype: float64"
      ]
     },
     "execution_count": 59,
     "metadata": {},
     "output_type": "execute_result"
    }
   ],
   "source": [
    "summary_on_user_smart['gb_used'].describe(percentiles=[0.05,0.1,0.5,0.9,0.95])"
   ]
  },
  {
   "cell_type": "markdown",
   "id": "0ef77012",
   "metadata": {},
   "source": [
    "* Исходя из графиков, распределения близки к нормальному. С увеличением объема данных об абонентах за месяц все ближе и ближе подходят к нормальному распределению.\n",
    "* Данные за первые два месяца сильно отличаются от остальных. С 3 по 12 месяц заметен тренд на увеличение использования интернет-трафика.\n",
    "* 50% пользователей достаточно 17 ГБ в месяц на их нужды. Лишь 5% абонентов используют менее 6 ГБ. Также 95% пользователей достаточно 25 ГБ в месяц.\n",
    "* МО находится в диапазоне 13-18 ГБ, медиана - 14-18 ГБ, СКО - от 5 до 6.\n",
    "* Статистические параметры распределения за год: МО - 16.3, медиана - 17, СКО - 5.7\n"
   ]
  },
  {
   "cell_type": "markdown",
   "id": "12432cf1",
   "metadata": {},
   "source": [
    "Для нормального распределения с характеристиками положения, взятыми из выборочных, найдем вероятность превысить бесплатный лимит по интернет-трафику на тарифе SMART."
   ]
  },
  {
   "cell_type": "code",
   "execution_count": 60,
   "id": "809a59f2",
   "metadata": {},
   "outputs": [
    {
     "data": {
      "text/plain": [
       "0.40979584282502135"
      ]
     },
     "execution_count": 60,
     "metadata": {},
     "output_type": "execute_result"
    }
   ],
   "source": [
    "st.norm(16.3,5.7).cdf(15)"
   ]
  },
  {
   "cell_type": "markdown",
   "id": "7e815021",
   "metadata": {},
   "source": [
    "---\n",
    ">**Лишь 41% пользователей укладываются в бесплатный лимит по интернет-трафику. 59% абонентов тарифа SMART требуется больше 15 ГБ интернета в месяц.** \n",
    "---"
   ]
  },
  {
   "cell_type": "markdown",
   "id": "2ee55b67",
   "metadata": {},
   "source": [
    "#### Интернет-трафик на тарифе ULTRA"
   ]
  },
  {
   "cell_type": "code",
   "execution_count": 61,
   "id": "09fa0e1e",
   "metadata": {},
   "outputs": [
    {
     "data": {
      "text/html": [
       "<div>\n",
       "<style scoped>\n",
       "    .dataframe tbody tr th:only-of-type {\n",
       "        vertical-align: middle;\n",
       "    }\n",
       "\n",
       "    .dataframe tbody tr th {\n",
       "        vertical-align: top;\n",
       "    }\n",
       "\n",
       "    .dataframe thead tr th {\n",
       "        text-align: left;\n",
       "    }\n",
       "\n",
       "    .dataframe thead tr:last-of-type th {\n",
       "        text-align: right;\n",
       "    }\n",
       "</style>\n",
       "<table border=\"1\" class=\"dataframe\">\n",
       "  <thead>\n",
       "    <tr>\n",
       "      <th></th>\n",
       "      <th>mean</th>\n",
       "      <th>median</th>\n",
       "      <th>var</th>\n",
       "      <th>std</th>\n",
       "      <th>count</th>\n",
       "    </tr>\n",
       "    <tr>\n",
       "      <th></th>\n",
       "      <th>gb_used</th>\n",
       "      <th>gb_used</th>\n",
       "      <th>gb_used</th>\n",
       "      <th>gb_used</th>\n",
       "      <th>gb_used</th>\n",
       "    </tr>\n",
       "    <tr>\n",
       "      <th>month</th>\n",
       "      <th></th>\n",
       "      <th></th>\n",
       "      <th></th>\n",
       "      <th></th>\n",
       "      <th></th>\n",
       "    </tr>\n",
       "  </thead>\n",
       "  <tbody>\n",
       "    <tr>\n",
       "      <td>1</td>\n",
       "      <td>13.222222</td>\n",
       "      <td>15.0</td>\n",
       "      <td>44.444444</td>\n",
       "      <td>6.666667</td>\n",
       "      <td>9</td>\n",
       "    </tr>\n",
       "    <tr>\n",
       "      <td>2</td>\n",
       "      <td>12.000000</td>\n",
       "      <td>7.5</td>\n",
       "      <td>109.130435</td>\n",
       "      <td>10.446551</td>\n",
       "      <td>24</td>\n",
       "    </tr>\n",
       "    <tr>\n",
       "      <td>3</td>\n",
       "      <td>17.648649</td>\n",
       "      <td>18.0</td>\n",
       "      <td>114.345345</td>\n",
       "      <td>10.693238</td>\n",
       "      <td>37</td>\n",
       "    </tr>\n",
       "    <tr>\n",
       "      <td>4</td>\n",
       "      <td>16.963636</td>\n",
       "      <td>17.0</td>\n",
       "      <td>89.443098</td>\n",
       "      <td>9.457436</td>\n",
       "      <td>55</td>\n",
       "    </tr>\n",
       "    <tr>\n",
       "      <td>5</td>\n",
       "      <td>19.373134</td>\n",
       "      <td>19.0</td>\n",
       "      <td>95.631389</td>\n",
       "      <td>9.779130</td>\n",
       "      <td>67</td>\n",
       "    </tr>\n",
       "    <tr>\n",
       "      <td>6</td>\n",
       "      <td>18.940476</td>\n",
       "      <td>19.5</td>\n",
       "      <td>82.394005</td>\n",
       "      <td>9.077114</td>\n",
       "      <td>84</td>\n",
       "    </tr>\n",
       "    <tr>\n",
       "      <td>7</td>\n",
       "      <td>20.505495</td>\n",
       "      <td>20.0</td>\n",
       "      <td>96.430525</td>\n",
       "      <td>9.819905</td>\n",
       "      <td>91</td>\n",
       "    </tr>\n",
       "    <tr>\n",
       "      <td>8</td>\n",
       "      <td>19.598131</td>\n",
       "      <td>19.0</td>\n",
       "      <td>105.148298</td>\n",
       "      <td>10.254184</td>\n",
       "      <td>107</td>\n",
       "    </tr>\n",
       "    <tr>\n",
       "      <td>9</td>\n",
       "      <td>19.243478</td>\n",
       "      <td>20.0</td>\n",
       "      <td>86.255988</td>\n",
       "      <td>9.287410</td>\n",
       "      <td>115</td>\n",
       "    </tr>\n",
       "    <tr>\n",
       "      <td>10</td>\n",
       "      <td>20.065041</td>\n",
       "      <td>20.0</td>\n",
       "      <td>91.258030</td>\n",
       "      <td>9.552907</td>\n",
       "      <td>123</td>\n",
       "    </tr>\n",
       "    <tr>\n",
       "      <td>11</td>\n",
       "      <td>19.805970</td>\n",
       "      <td>18.5</td>\n",
       "      <td>93.796656</td>\n",
       "      <td>9.684867</td>\n",
       "      <td>134</td>\n",
       "    </tr>\n",
       "    <tr>\n",
       "      <td>12</td>\n",
       "      <td>21.741007</td>\n",
       "      <td>22.0</td>\n",
       "      <td>103.236784</td>\n",
       "      <td>10.160550</td>\n",
       "      <td>139</td>\n",
       "    </tr>\n",
       "    <tr>\n",
       "      <td>All</td>\n",
       "      <td>19.494416</td>\n",
       "      <td>19.0</td>\n",
       "      <td>97.091686</td>\n",
       "      <td>9.853511</td>\n",
       "      <td>985</td>\n",
       "    </tr>\n",
       "  </tbody>\n",
       "</table>\n",
       "</div>"
      ],
      "text/plain": [
       "            mean  median         var        std   count\n",
       "         gb_used gb_used     gb_used    gb_used gb_used\n",
       "month                                                  \n",
       "1      13.222222    15.0   44.444444   6.666667       9\n",
       "2      12.000000     7.5  109.130435  10.446551      24\n",
       "3      17.648649    18.0  114.345345  10.693238      37\n",
       "4      16.963636    17.0   89.443098   9.457436      55\n",
       "5      19.373134    19.0   95.631389   9.779130      67\n",
       "6      18.940476    19.5   82.394005   9.077114      84\n",
       "7      20.505495    20.0   96.430525   9.819905      91\n",
       "8      19.598131    19.0  105.148298  10.254184     107\n",
       "9      19.243478    20.0   86.255988   9.287410     115\n",
       "10     20.065041    20.0   91.258030   9.552907     123\n",
       "11     19.805970    18.5   93.796656   9.684867     134\n",
       "12     21.741007    22.0  103.236784  10.160550     139\n",
       "All    19.494416    19.0   97.091686   9.853511     985"
      ]
     },
     "execution_count": 61,
     "metadata": {},
     "output_type": "execute_result"
    }
   ],
   "source": [
    "summary_on_user_ultra.pivot_table(index='month', values='gb_used', margins=True, aggfunc=['mean', 'median', 'var', 'std','count'])"
   ]
  },
  {
   "cell_type": "code",
   "execution_count": 62,
   "id": "c8eb279b",
   "metadata": {
    "scrolled": false
   },
   "outputs": [
    {
     "data": {
      "text/plain": [
       "Text(0, 0.5, 'Использовано ГБ трафика')"
      ]
     },
     "execution_count": 62,
     "metadata": {},
     "output_type": "execute_result"
    },
    {
     "data": {
      "image/png": "[encoded data removed]",
      "text/plain": [
       "<Figure size 1080x720 with 12 Axes>"
      ]
     },
     "metadata": {
      "needs_background": "light"
     },
     "output_type": "display_data"
    },
    {
     "data": {
      "image/png": "[encoded data removed]",
      "text/plain": [
       "<Figure size 1080x648 with 1 Axes>"
      ]
     },
     "metadata": {
      "needs_background": "light"
     },
     "output_type": "display_data"
    }
   ],
   "source": [
    "internet_by_month_ultra_hist = summary_on_user_ultra.hist('gb_used', bins=10, by='month', sharex=True, figsize =(15,10))\n",
    "internet_by_month_ultra_boxplot = summary_on_user_ultra.boxplot('gb_used', by='month', figsize =(15,9))\n",
    "\n",
    "internet_by_month_ultra_boxplot.set_title('Распределение интернет-трафика клиентов по месяцам, тариф ULTRA', fontsize=20)\n",
    "internet_by_month_ultra_boxplot.set_xlabel('Месяц', fontsize=15)\n",
    "internet_by_month_ultra_boxplot.set_ylabel('Использовано ГБ трафика', fontsize=15)"
   ]
  },
  {
   "cell_type": "code",
   "execution_count": 63,
   "id": "55a576c3",
   "metadata": {
    "scrolled": true
   },
   "outputs": [
    {
     "data": {
      "text/plain": [
       "count    985.000000\n",
       "mean      19.494416\n",
       "std        9.853511\n",
       "min        0.000000\n",
       "5%         4.000000\n",
       "10%        6.000000\n",
       "50%       19.000000\n",
       "90%       33.000000\n",
       "95%       37.000000\n",
       "max       49.000000\n",
       "Name: gb_used, dtype: float64"
      ]
     },
     "execution_count": 63,
     "metadata": {},
     "output_type": "execute_result"
    }
   ],
   "source": [
    "summary_on_user_ultra['gb_used'].describe(percentiles=[0.05,0.1,0.5,0.9,0.95])"
   ]
  },
  {
   "cell_type": "markdown",
   "id": "cba8b114",
   "metadata": {},
   "source": [
    "* Выборки за первые 3 месяца года невелики , что искажает их восприятие. В остальных месяцах значения и вид распределения схожи и стремится к нормальному.\n",
    "* В отличие от тарифа SMART нет очевидного тренда к увеличению использования интернет трафика.\n",
    "* Средние по месяцам лежат в диапазоне - 17-22 ГБ, медиана - 17-22, СКО - от 9 до 10.\n",
    "* Данные за год: МО - 19.5, медиана - 19, СКО - 9.8\n",
    "* 50% пользователей достаточно 19 ГБ трафика на месяц. 5% тратят менее 4 ГБ трафика, 95% абонентов не превышают лимит в 37 ГБ трафика.\n"
   ]
  },
  {
   "cell_type": "markdown",
   "id": "732d4675",
   "metadata": {},
   "source": [
    "Для нормального распределения с характеристиками положения, взятыми из выборочных, найдем вероятность превысить бесплатный лимит по интернет-трафику на тарифе ULTRA."
   ]
  },
  {
   "cell_type": "code",
   "execution_count": 64,
   "id": "b84415d0",
   "metadata": {},
   "outputs": [
    {
     "data": {
      "text/plain": [
       "0.8580116141245442"
      ]
     },
     "execution_count": 64,
     "metadata": {},
     "output_type": "execute_result"
    }
   ],
   "source": [
    "st.norm(19.5,9.8).cdf(30)"
   ]
  },
  {
   "cell_type": "markdown",
   "id": "719a738f",
   "metadata": {},
   "source": [
    "---\n",
    ">**Около 85% абонентов тарифа ULTRA удовлетворены лимитом по интернету в 30 ГБ. 15% пользователей используют более 30 ГБ интернет-трафика ежемесячно**.\n",
    "---"
   ]
  },
  {
   "cell_type": "markdown",
   "id": "1463962a",
   "metadata": {},
   "source": [
    "### Вывод"
   ]
  },
  {
   "cell_type": "markdown",
   "id": "0d68ea18",
   "metadata": {},
   "source": [
    "**SMART**\n",
    "* 2/3 пользователей удовлетворены лимитами по звонкам и сообщениям.\n",
    "* 41% абонентов не превышают лимит по интернет-трафику в 15 ГБ. 59% используют дополнительные ГБ.\n",
    "* Возможно следует пересмотреть условия тарифа с учетом себестоимости услуг и потребностей пользователей.\n",
    "\n",
    "**ULTRA**\n",
    "* Лимит по звонкам и сообщениям на тарифе недостижимо высок. Превысить его практически невозможно.\n",
    "* Для 85% абонентов достаточно лимита в 30 ГБ. 15% абонентов вынуждены доплачивать за интернет-трафик.\n",
    "* В целях улучшения пользовательского опыта имеет смысл сбалансировать условия по тарифу."
   ]
  },
  {
   "cell_type": "markdown",
   "id": "c44a9efe",
   "metadata": {},
   "source": [
    "## Проверка гипотез"
   ]
  },
  {
   "cell_type": "markdown",
   "id": "cc6529bf",
   "metadata": {},
   "source": [
    "### Гипотеза 1: Средняя выручка пользователей тарифов ULTRA и SMART различаются"
   ]
  },
  {
   "cell_type": "markdown",
   "id": "f4c66876",
   "metadata": {},
   "source": [
    "Сформулируем нулевую и альтернативную гипотезы:\n",
    "\n",
    "**H0:** Средняя выручка пользователей тарифов ULTRA равна выручке абонентов тарифа SMART.\n",
    "\n",
    "$$ MO (Smart) = MO (Ultra), $$\n",
    "\n",
    "**H1:** Средняя выручка пользователей тарифов ULTRA не равна выручке абонентов тарифа SMART.\n",
    "\n",
    "$$ MO(Smart) \\neq MO(Ultra), $$\n",
    "\n",
    "где \\\\(MO (Smart) \\\\) - средняя выручка пользователей тарифа SMART,\n",
    "\n",
    "\\\\(MO (Ultra) \\\\) - средняя выручка пользователей тарифа ULTRA."
   ]
  },
  {
   "cell_type": "markdown",
   "id": "8ad467a0",
   "metadata": {},
   "source": [
    "Критерий значимости `alpha` примем равным `0.01`"
   ]
  },
  {
   "cell_type": "markdown",
   "id": "d3960dd9",
   "metadata": {},
   "source": [
    "Выведем статистические характеристики двух выборок для оценки способа решения"
   ]
  },
  {
   "cell_type": "code",
   "execution_count": 65,
   "id": "8957322a",
   "metadata": {},
   "outputs": [
    {
     "data": {
      "text/plain": [
       "count    2229.000000\n",
       "mean     1289.973531\n",
       "std       818.404367\n",
       "min       550.000000\n",
       "25%       550.000000\n",
       "50%      1023.000000\n",
       "75%      1750.000000\n",
       "max      6770.000000\n",
       "Name: revenue, dtype: float64"
      ]
     },
     "metadata": {},
     "output_type": "display_data"
    },
    {
     "data": {
      "text/plain": [
       "count     985.000000\n",
       "mean     2070.152284\n",
       "std       376.187114\n",
       "min      1950.000000\n",
       "25%      1950.000000\n",
       "50%      1950.000000\n",
       "75%      1950.000000\n",
       "max      4800.000000\n",
       "Name: revenue, dtype: float64"
      ]
     },
     "execution_count": 65,
     "metadata": {},
     "output_type": "execute_result"
    }
   ],
   "source": [
    "display(summary_on_user_smart['revenue'].describe())\n",
    "summary_on_user_ultra['revenue'].describe()"
   ]
  },
  {
   "cell_type": "markdown",
   "id": "b63f5daf",
   "metadata": {},
   "source": [
    "* Выборки представляют собой независимые наборы данных\n",
    "* Выборки имеют разный размер, а также различные дисперсии\n",
    "* Выборки небольшие, что позволяет нам напрямую вычислить средние значения и сравнить их\n",
    "\n",
    "В качестве тренировки и дополнительной проверки для проверки гипотезы о равенстве средних будем использовать t-тест для двух независимых совокупностей, а также непосредственно сравненим выборочные средние."
   ]
  },
  {
   "cell_type": "code",
   "execution_count": 66,
   "id": "6b4cddd3",
   "metadata": {},
   "outputs": [
    {
     "data": {
      "text/plain": [
       "Ttest_indResult(statistic=-37.019021231454644, pvalue=4.2606313931076085e-250)"
      ]
     },
     "metadata": {},
     "output_type": "display_data"
    },
    {
     "data": {
      "text/plain": [
       "'Отвергаем нулевую гипотезу'"
      ]
     },
     "metadata": {},
     "output_type": "display_data"
    }
   ],
   "source": [
    "alpha = 0.01\n",
    "\n",
    "result = st.ttest_ind(summary_on_user_smart['revenue'],summary_on_user_ultra['revenue'],equal_var=False)\n",
    "display(result)\n",
    "\n",
    "if result.pvalue < alpha:\n",
    "    display('Отвергаем нулевую гипотезу')\n",
    "else:\n",
    "    display('Нулевую гипотезу отвергнуть нельзя')"
   ]
  },
  {
   "cell_type": "markdown",
   "id": "dd61b3ad",
   "metadata": {},
   "source": [
    "* По результатам теста нулевая гипотеза была отвергнута. \n",
    "* Статистика разности равна -37, p-value = 4.26e-250, что говорит нам о том, что эти две выборки очень разные.\n",
    "\n",
    "Теперь построим гистограммы распределения для двух выборок и проанализируем их."
   ]
  },
  {
   "cell_type": "code",
   "execution_count": 67,
   "id": "0cce9edc",
   "metadata": {},
   "outputs": [
    {
     "data": {
      "text/plain": [
       "<matplotlib.axes._subplots.AxesSubplot at 0x7f9014976f90>"
      ]
     },
     "execution_count": 67,
     "metadata": {},
     "output_type": "execute_result"
    },
    {
     "data": {
      "image/png": "[encoded data removed]",
      "text/plain": [
       "<Figure size 432x288 with 1 Axes>"
      ]
     },
     "metadata": {
      "needs_background": "light"
     },
     "output_type": "display_data"
    }
   ],
   "source": [
    "summary_on_user_smart['revenue'].plot(kind='hist',bins=range(0,8000,250) , alpha=0.6, label='smart', legend=True)\n",
    "summary_on_user_ultra['revenue'].plot(kind='hist',bins=range(0,8000,250) , alpha=0.6, label='ultra', legend=True, xticks = range(0,8000,1000))"
   ]
  },
  {
   "cell_type": "markdown",
   "id": "28f5ed73",
   "metadata": {},
   "source": [
    "Одного взгляда на гистограммы достаточно, чтобы сказать, что эти распределения, как и их средние сильно отличаются. \n",
    "* Распределение выручки тарифа SMART сильно скошено вправо с пиком около 500 тысяч рублей. \n",
    "* Распределение для тарифа ULTRA сильно скошено вправо с большим пиком в районе 2 тысяч рублей.\n",
    "\n",
    "Выше, находя статистические характеристики, были получены средние значения для выборок.\n",
    "\n",
    "МО(Smart) = 1290 руб\n",
    "\n",
    "MO(Ultra) = 2070 руб\n",
    "\n",
    "Средняя выручка для тарифа Smart на 60% ниже, чем для тарифа Ultra.\n",
    "\n",
    "По одному этому параметру уже можно сделать вывод о различии средних. Кроме этого, и проведенный t-тест, и анализ распределений говорят нам о том, что средние этих двух выборок различаются.\n",
    "\n",
    "---\n",
    ">**Вывод: Нулевая гипотеза о равенстве средних для двух выборок отвергнута. Средняя выручка пользователей тарифов ULTRA и SMART различаются**\n",
    "\n",
    "---"
   ]
  },
  {
   "cell_type": "markdown",
   "id": "0a089f74",
   "metadata": {},
   "source": [
    "### Гипотеза 2: Cредняя выручка пользователей из Москвы отличается от выручки пользователей из других регионов"
   ]
  },
  {
   "cell_type": "markdown",
   "id": "601b8c7b",
   "metadata": {},
   "source": [
    "Сформулируем нулевую и альтернативную гипотезы:\n",
    "\n",
    "**H0:** Средняя выручка пользователей из Москвы равна выручке пользователей тарифа из других регионов.\n",
    "\n",
    "$$ MO (Moscow) = MO (Other), $$\n",
    "\n",
    "**H1:** Средняя выручка пользователей из Москвы отличается(не равна) от выручки пользователей тарифа из других регионов.\n",
    "\n",
    "$$ MO(Moscow) \\neq MO(Other), $$\n",
    "\n",
    "где \\\\(MO (Moscow) \\\\) - средняя выручка пользователей из Москвы,\n",
    "\n",
    "\\\\(MO (Other) \\\\) - средняя выручка пользователей не из Москвы."
   ]
  },
  {
   "cell_type": "markdown",
   "id": "b60721dd",
   "metadata": {},
   "source": [
    "Критерий значимости `alpha` примем равным `0.01`"
   ]
  },
  {
   "cell_type": "markdown",
   "id": "6cbd0f61",
   "metadata": {},
   "source": [
    "Для начала выделим из общего массива данные об абонентах из Москвы и абонентах из других городов."
   ]
  },
  {
   "cell_type": "code",
   "execution_count": 68,
   "id": "0e0e3350",
   "metadata": {},
   "outputs": [],
   "source": [
    "summary_on_user_moscow = summary_on_user.query('city == \"Москва\"')\n",
    "summary_on_user_not_moscow = summary_on_user.query('city != \"Москва\"')"
   ]
  },
  {
   "cell_type": "markdown",
   "id": "c06b304c",
   "metadata": {},
   "source": [
    "Выведем статистические характеристики двух выборок для оценки способа решения"
   ]
  },
  {
   "cell_type": "code",
   "execution_count": 69,
   "id": "d74bb020",
   "metadata": {},
   "outputs": [
    {
     "data": {
      "text/plain": [
       "count     611.000000\n",
       "mean     1546.713584\n",
       "std       752.088071\n",
       "min       550.000000\n",
       "25%       780.500000\n",
       "50%      1750.000000\n",
       "75%      1950.000000\n",
       "max      5321.000000\n",
       "Name: revenue, dtype: float64"
      ]
     },
     "metadata": {},
     "output_type": "display_data"
    },
    {
     "data": {
      "text/plain": [
       "count    2603.000000\n",
       "mean     1524.936227\n",
       "std       808.787752\n",
       "min       550.000000\n",
       "25%       750.000000\n",
       "50%      1583.000000\n",
       "75%      1950.000000\n",
       "max      6770.000000\n",
       "Name: revenue, dtype: float64"
      ]
     },
     "execution_count": 69,
     "metadata": {},
     "output_type": "execute_result"
    }
   ],
   "source": [
    "display(summary_on_user_moscow['revenue'].describe())\n",
    "summary_on_user_not_moscow['revenue'].describe()"
   ]
  },
  {
   "cell_type": "markdown",
   "id": "ad60f976",
   "metadata": {},
   "source": [
    "* Характеристики положения для двух выборок довольно схожи, средние значения отличаются на 3%, стандартное отклонение - на 10%.\n",
    "* Размеры выборок различны, информации по абонентам не из Москвы в 4 раза больше.\n",
    "\n",
    "Также как и для предыдущей гипотезы, проведем t-тест для двух независимых совокупностей, а после рассмотрим гистограммы распределений."
   ]
  },
  {
   "cell_type": "code",
   "execution_count": 70,
   "id": "f3152881",
   "metadata": {},
   "outputs": [
    {
     "data": {
      "text/plain": [
       "Ttest_indResult(statistic=0.6347555055229303, pvalue=0.5257376663729298)"
      ]
     },
     "metadata": {},
     "output_type": "display_data"
    },
    {
     "data": {
      "text/plain": [
       "'Нулевую гипотезу отвергнуть нельзя'"
      ]
     },
     "metadata": {},
     "output_type": "display_data"
    }
   ],
   "source": [
    "result = st.ttest_ind(summary_on_user_moscow['revenue'],summary_on_user_not_moscow['revenue'],equal_var=False)\n",
    "display(result)\n",
    "\n",
    "if result.pvalue < alpha:\n",
    "    display('Отвергаем нулевую гипотезу')\n",
    "else:\n",
    "    display('Нулевую гипотезу отвергнуть нельзя')"
   ]
  },
  {
   "cell_type": "markdown",
   "id": "3925da96",
   "metadata": {},
   "source": [
    "* Статистика разности равна 0.63. Это значит, что среднее первой выборки (для Москвы) больше среднего второй выборки (для других городов)\n",
    "* p-value = 0.525, что говорит нам о том, что с выбранным критерием значимости 0.01, отвергать нулевую гипотезу нельзя.\n",
    "\n",
    "*Таким образом, результаты t-теста указывают на то, что средние двух независимых совокупностей близки.*"
   ]
  },
  {
   "cell_type": "markdown",
   "id": "df3b239f",
   "metadata": {},
   "source": [
    "Теперь, построим гистограммы распределения двух выборок и проанализируем их."
   ]
  },
  {
   "cell_type": "code",
   "execution_count": 71,
   "id": "f4baf676",
   "metadata": {},
   "outputs": [
    {
     "data": {
      "text/plain": [
       "<matplotlib.axes._subplots.AxesSubplot at 0x7f901f0bb310>"
      ]
     },
     "execution_count": 71,
     "metadata": {},
     "output_type": "execute_result"
    },
    {
     "data": {
      "image/png": "[encoded data removed]",
      "text/plain": [
       "<Figure size 432x288 with 1 Axes>"
      ]
     },
     "metadata": {
      "needs_background": "light"
     },
     "output_type": "display_data"
    }
   ],
   "source": [
    "(summary_on_user_not_moscow['revenue']\n",
    "    .plot(kind='hist', bins=range(0,8000,250) , alpha=0.6, label='Другие города', legend=True))\n",
    "\n",
    "(summary_on_user_moscow['revenue']\n",
    "    .plot(kind='hist', bins=range(0,8000,250) , alpha=0.6, label='Москва', legend=True, xticks = range(0,8000,1000)))"
   ]
  },
  {
   "cell_type": "markdown",
   "id": "27d46fc0",
   "metadata": {},
   "source": [
    "Глядя на гистограммы очевидно их сходство с поправкой на масштаб. Разница в масштабе связана с разными объемами выборок.\n",
    "* Обе выборки имеют пики в районе 500 и 2 тысяч. Это самая распространенная выручка для тарифов Ultra и Smart соответственно.\n",
    "* Форма выборок, их скошенность, повторяют друг друга с поправкой на масштаб.\n",
    "* Средние значения, судя по графикам, ожидаются в диапазоне 1.5 тысяч.\n",
    "\n",
    "Статистические параметры выборок, а также проведенный тест говорят о том, что средние значения двух выборок не отличаются.\n",
    "\n",
    "Анализ гистограмм не выявил противоречий в данном суждении.\n",
    "\n",
    "\n",
    "\n",
    "---\n",
    ">**Вывод: Нулевая гипотеза о равенстве средних для двух выборок не может быть отвергнута. Cредняя выручка пользователей из Москвы не отличается от выручки пользователей из других регионов**\n",
    "\n",
    "---"
   ]
  },
  {
   "cell_type": "markdown",
   "id": "807c8abe",
   "metadata": {},
   "source": [
    "## Общий вывод"
   ]
  },
  {
   "cell_type": "markdown",
   "id": "008eb67e",
   "metadata": {},
   "source": [
    "В ходе исследования были проведены основные этапы исследовательского анализа данных:\n",
    "* Проведена предобработка данных\n",
    "    - Заменены необходимые типы данных\n",
    "    - Выполнено округление некоторых столбцов в соответствии с условиями\n",
    "    - Исправлены ошибки в данных\n",
    "    - Обработаны пропуски\n",
    "---\n",
    "* Выполнены расчеты и добавление новых значений к данным\n",
    "---\n",
    "* Выполнен анализ использования услуг мобильного оператора абонентами для двух тарифов: SMART и ULTRA.\n",
    "    - На тарифе SMART 2/3 абонентов не выходят за лимит сообщений и минут разговора в 50 сообщений и 500 мин. Однако лишь для 41% пользователей лимит в 15 ГБ был достаточным. Остальным 59% абонентов приходилось докупать интернет-трафик сверх тарифного пакета.\n",
    "    - На тарифе SMART оплаченный лимит в 3000 мин разговора и 1000 сообщений недостижимо высок. Ни один пользователь не превысил его. Лимит по интернет-трафику удовлетворяет 85% пользователей. 15% абонентов вынуждены оплачивать гигабайты сверх тарифного пакета.\n",
    "    - Мобильному оператору следует рассмотреть возможность ребалансировать тарифы, чтобы отвечать запросам пользователей. Иначе, на тарифе SMART более половинф пользователей вынуждены доплачивать сверх тарифного пакета. А на тарифе ULTRA все пользователи платят за услуги, которые они не используют.\n",
    "---\n",
    "* Выполнена проверка гипотез\n",
    "---\n",
    ">    Гипотеза 1:\n",
    ">    H0:Средняя выручка пользователей тарифов ULTRA равна выручке абонентов тарифа SMART.\n",
    ">\n",
    ">    Гипотеза о равенстве средних для двух выборок была отвергнута. **Средняя выручка пользователей тарифов ULTRA и SMART различаются.**\n",
    "---  \n",
    ">    Гипотеза 2:\n",
    ">    H0: Средняя выручка пользователей из Москвы равна выручке пользователей тарифа из других регионов.\n",
    ">\n",
    ">    Гипотеза о равенстве средних для двух выборок не может быть отвергнута. **Cредняя выручка пользователей из Москвы не отличается от выручки пользователей из других регионов.**\n",
    "---\n",
    "* Какой тариф лучше?\n",
    "\n",
    "На данный момент тариф Smart лучше. Хотя cтоимость услуг сверх тарифного пакета в 3 выше ниже, чем на тарифе Smart, он дешевле и в нем не приходится переплачивать за неиспользуемые услуги. А поскольку на тарифе Ultra лимит редко достигается, приходится постоянно переплачивать за них.\n",
    "\n",
    "Как видно из исследования, в среднем тариф Smart обходится в 1290 рублей, а тариф Ultra в 2070 рублей, что на 60% дороже.\n",
    "\n",
    "Таким образом, на данный момент тариф Smart выгоднее для пользователя. Однако, если отвечать на вопрос со стороны получения прибыли, то рекламный бюджет лучше направить на рекламу тарифа Ultra, так как он обходится пользователю дороже и соответственно принесет компании больше прибыли."
   ]
  },
  {
   "cell_type": "code",
   "execution_count": null,
   "id": "3461bc85",
   "metadata": {},
   "outputs": [],
   "source": []
  }
 ],
 "metadata": {
  "ExecuteTimeLog": [
   {
    "duration": 1459,
    "start_time": "2022-03-06T06:50:27.019Z"
   },
   {
    "duration": 734,
    "start_time": "2022-03-06T06:50:28.481Z"
   },
   {
    "duration": 24,
    "start_time": "2022-03-06T06:50:29.218Z"
   },
   {
    "duration": 16,
    "start_time": "2022-03-06T06:50:29.245Z"
   },
   {
    "duration": 32,
    "start_time": "2022-03-06T06:50:29.264Z"
   },
   {
    "duration": 54,
    "start_time": "2022-03-06T06:50:29.299Z"
   },
   {
    "duration": 25,
    "start_time": "2022-03-06T06:50:29.355Z"
   },
   {
    "duration": 48,
    "start_time": "2022-03-06T06:50:29.384Z"
   },
   {
    "duration": 30,
    "start_time": "2022-03-06T06:50:29.435Z"
   },
   {
    "duration": 10,
    "start_time": "2022-03-06T06:50:29.467Z"
   },
   {
    "duration": 91,
    "start_time": "2022-03-06T06:50:29.479Z"
   },
   {
    "duration": 10,
    "start_time": "2022-03-06T06:50:29.573Z"
   },
   {
    "duration": 63,
    "start_time": "2022-03-06T06:50:29.585Z"
   },
   {
    "duration": 9,
    "start_time": "2022-03-06T06:50:29.651Z"
   },
   {
    "duration": 39,
    "start_time": "2022-03-06T06:50:29.662Z"
   },
   {
    "duration": 35,
    "start_time": "2022-03-06T06:50:29.703Z"
   },
   {
    "duration": 21,
    "start_time": "2022-03-06T06:50:29.741Z"
   },
   {
    "duration": 9,
    "start_time": "2022-03-06T06:50:29.764Z"
   },
   {
    "duration": 58,
    "start_time": "2022-03-06T06:50:29.776Z"
   },
   {
    "duration": 32,
    "start_time": "2022-03-06T06:50:29.836Z"
   },
   {
    "duration": 64,
    "start_time": "2022-03-06T06:50:29.870Z"
   },
   {
    "duration": 35,
    "start_time": "2022-03-06T06:50:29.936Z"
   },
   {
    "duration": 20,
    "start_time": "2022-03-06T06:50:29.977Z"
   },
   {
    "duration": 62,
    "start_time": "2022-03-06T06:50:30.000Z"
   },
   {
    "duration": 24,
    "start_time": "2022-03-06T06:50:30.064Z"
   },
   {
    "duration": 60,
    "start_time": "2022-03-06T06:50:30.090Z"
   },
   {
    "duration": 46,
    "start_time": "2022-03-06T06:50:30.153Z"
   },
   {
    "duration": 33,
    "start_time": "2022-03-06T06:50:30.202Z"
   },
   {
    "duration": 10,
    "start_time": "2022-03-06T06:50:30.239Z"
   },
   {
    "duration": 38,
    "start_time": "2022-03-06T06:50:30.251Z"
   },
   {
    "duration": 72,
    "start_time": "2022-03-06T06:50:30.292Z"
   },
   {
    "duration": 6,
    "start_time": "2022-03-06T06:50:30.367Z"
   },
   {
    "duration": 400,
    "start_time": "2022-03-06T06:50:30.375Z"
   },
   {
    "duration": 11,
    "start_time": "2022-03-06T06:50:30.777Z"
   },
   {
    "duration": 45,
    "start_time": "2022-03-06T06:50:30.790Z"
   },
   {
    "duration": 21,
    "start_time": "2022-03-06T06:50:30.838Z"
   },
   {
    "duration": 110,
    "start_time": "2022-03-06T06:50:30.862Z"
   },
   {
    "duration": 5625,
    "start_time": "2022-03-06T06:50:30.975Z"
   },
   {
    "duration": 30,
    "start_time": "2022-03-06T06:50:36.603Z"
   },
   {
    "duration": 11,
    "start_time": "2022-03-06T06:50:36.636Z"
   },
   {
    "duration": 114,
    "start_time": "2022-03-06T06:50:36.650Z"
   },
   {
    "duration": 5793,
    "start_time": "2022-03-06T06:50:36.766Z"
   },
   {
    "duration": 13,
    "start_time": "2022-03-06T06:50:42.562Z"
   },
   {
    "duration": 6,
    "start_time": "2022-03-06T06:50:42.578Z"
   },
   {
    "duration": 119,
    "start_time": "2022-03-06T06:50:42.586Z"
   },
   {
    "duration": 5264,
    "start_time": "2022-03-06T06:50:42.707Z"
   },
   {
    "duration": 12,
    "start_time": "2022-03-06T06:50:47.973Z"
   },
   {
    "duration": 6,
    "start_time": "2022-03-06T06:50:47.987Z"
   },
   {
    "duration": 119,
    "start_time": "2022-03-06T06:50:47.995Z"
   },
   {
    "duration": 5888,
    "start_time": "2022-03-06T06:50:48.116Z"
   },
   {
    "duration": 11,
    "start_time": "2022-03-06T06:50:54.006Z"
   },
   {
    "duration": 16,
    "start_time": "2022-03-06T06:50:54.020Z"
   },
   {
    "duration": 113,
    "start_time": "2022-03-06T06:50:54.038Z"
   },
   {
    "duration": 5174,
    "start_time": "2022-03-06T06:50:54.154Z"
   },
   {
    "duration": 11,
    "start_time": "2022-03-06T06:50:59.332Z"
   },
   {
    "duration": 6,
    "start_time": "2022-03-06T06:50:59.345Z"
   },
   {
    "duration": 121,
    "start_time": "2022-03-06T06:50:59.354Z"
   },
   {
    "duration": 5418,
    "start_time": "2022-03-06T06:50:59.477Z"
   },
   {
    "duration": 12,
    "start_time": "2022-03-06T06:51:04.897Z"
   },
   {
    "duration": 23,
    "start_time": "2022-03-06T06:51:04.912Z"
   },
   {
    "duration": 17,
    "start_time": "2022-03-06T06:51:04.937Z"
   },
   {
    "duration": 7,
    "start_time": "2022-03-06T06:51:04.956Z"
   },
   {
    "duration": 441,
    "start_time": "2022-03-06T06:51:04.966Z"
   },
   {
    "duration": 10,
    "start_time": "2022-03-06T06:51:05.410Z"
   },
   {
    "duration": 17,
    "start_time": "2022-03-06T06:51:05.433Z"
   },
   {
    "duration": 8,
    "start_time": "2022-03-06T06:51:05.452Z"
   },
   {
    "duration": 447,
    "start_time": "2022-03-06T06:51:05.463Z"
   },
   {
    "duration": 11,
    "start_time": "2022-03-06T07:26:43.756Z"
   },
   {
    "duration": 8,
    "start_time": "2022-03-06T07:27:03.849Z"
   },
   {
    "duration": 127,
    "start_time": "2022-03-06T07:27:09.045Z"
   },
   {
    "duration": 7,
    "start_time": "2022-03-06T07:27:12.860Z"
   },
   {
    "duration": 14,
    "start_time": "2022-03-06T07:29:51.929Z"
   },
   {
    "duration": 7,
    "start_time": "2022-03-06T07:30:03.450Z"
   },
   {
    "duration": 128,
    "start_time": "2022-03-06T07:55:48.521Z"
   },
   {
    "duration": 306,
    "start_time": "2022-03-06T07:59:29.821Z"
   },
   {
    "duration": 2322,
    "start_time": "2022-03-06T07:59:33.565Z"
   },
   {
    "duration": 877,
    "start_time": "2022-03-06T07:59:35.891Z"
   },
   {
    "duration": 24,
    "start_time": "2022-03-06T07:59:36.771Z"
   },
   {
    "duration": 17,
    "start_time": "2022-03-06T07:59:36.798Z"
   },
   {
    "duration": 76,
    "start_time": "2022-03-06T07:59:36.818Z"
   },
   {
    "duration": 32,
    "start_time": "2022-03-06T07:59:36.896Z"
   },
   {
    "duration": 56,
    "start_time": "2022-03-06T07:59:36.930Z"
   },
   {
    "duration": 14,
    "start_time": "2022-03-06T07:59:36.990Z"
   },
   {
    "duration": 71,
    "start_time": "2022-03-06T07:59:37.007Z"
   },
   {
    "duration": 13,
    "start_time": "2022-03-06T07:59:37.081Z"
   },
   {
    "duration": 88,
    "start_time": "2022-03-06T07:59:37.096Z"
   },
   {
    "duration": 12,
    "start_time": "2022-03-06T07:59:37.187Z"
   },
   {
    "duration": 105,
    "start_time": "2022-03-06T07:59:37.203Z"
   },
   {
    "duration": 14,
    "start_time": "2022-03-06T07:59:37.312Z"
   },
   {
    "duration": 82,
    "start_time": "2022-03-06T07:59:37.329Z"
   },
   {
    "duration": 22,
    "start_time": "2022-03-06T07:59:37.414Z"
   },
   {
    "duration": 49,
    "start_time": "2022-03-06T07:59:37.439Z"
   },
   {
    "duration": 11,
    "start_time": "2022-03-06T07:59:37.491Z"
   },
   {
    "duration": 29,
    "start_time": "2022-03-06T07:59:37.504Z"
   },
   {
    "duration": 62,
    "start_time": "2022-03-06T07:59:37.536Z"
   },
   {
    "duration": 41,
    "start_time": "2022-03-06T07:59:37.601Z"
   },
   {
    "duration": 55,
    "start_time": "2022-03-06T07:59:37.645Z"
   },
   {
    "duration": 21,
    "start_time": "2022-03-06T07:59:37.706Z"
   },
   {
    "duration": 59,
    "start_time": "2022-03-06T07:59:37.731Z"
   },
   {
    "duration": 25,
    "start_time": "2022-03-06T07:59:37.792Z"
   },
   {
    "duration": 62,
    "start_time": "2022-03-06T07:59:37.819Z"
   },
   {
    "duration": 47,
    "start_time": "2022-03-06T07:59:37.883Z"
   },
   {
    "duration": 42,
    "start_time": "2022-03-06T07:59:37.933Z"
   },
   {
    "duration": 12,
    "start_time": "2022-03-06T07:59:37.978Z"
   },
   {
    "duration": 58,
    "start_time": "2022-03-06T07:59:37.993Z"
   },
   {
    "duration": 74,
    "start_time": "2022-03-06T07:59:38.054Z"
   },
   {
    "duration": 9,
    "start_time": "2022-03-06T07:59:38.131Z"
   },
   {
    "duration": 714,
    "start_time": "2022-03-06T07:59:38.143Z"
   },
   {
    "duration": 15,
    "start_time": "2022-03-06T07:59:38.860Z"
   },
   {
    "duration": 9,
    "start_time": "2022-03-06T07:59:38.878Z"
   },
   {
    "duration": 6725,
    "start_time": "2022-03-06T07:59:38.890Z"
   },
   {
    "duration": -62,
    "start_time": "2022-03-06T07:59:45.680Z"
   },
   {
    "duration": -70,
    "start_time": "2022-03-06T07:59:45.690Z"
   },
   {
    "duration": -73,
    "start_time": "2022-03-06T07:59:45.694Z"
   },
   {
    "duration": -74,
    "start_time": "2022-03-06T07:59:45.697Z"
   },
   {
    "duration": -78,
    "start_time": "2022-03-06T07:59:45.702Z"
   },
   {
    "duration": -79,
    "start_time": "2022-03-06T07:59:45.705Z"
   },
   {
    "duration": -82,
    "start_time": "2022-03-06T07:59:45.709Z"
   },
   {
    "duration": -84,
    "start_time": "2022-03-06T07:59:45.713Z"
   },
   {
    "duration": -87,
    "start_time": "2022-03-06T07:59:45.717Z"
   },
   {
    "duration": -88,
    "start_time": "2022-03-06T07:59:45.720Z"
   },
   {
    "duration": -90,
    "start_time": "2022-03-06T07:59:45.724Z"
   },
   {
    "duration": -93,
    "start_time": "2022-03-06T07:59:45.728Z"
   },
   {
    "duration": -95,
    "start_time": "2022-03-06T07:59:45.732Z"
   },
   {
    "duration": -103,
    "start_time": "2022-03-06T07:59:45.741Z"
   },
   {
    "duration": -106,
    "start_time": "2022-03-06T07:59:45.745Z"
   },
   {
    "duration": -108,
    "start_time": "2022-03-06T07:59:45.749Z"
   },
   {
    "duration": -110,
    "start_time": "2022-03-06T07:59:45.753Z"
   },
   {
    "duration": -111,
    "start_time": "2022-03-06T07:59:45.756Z"
   },
   {
    "duration": -114,
    "start_time": "2022-03-06T07:59:45.760Z"
   },
   {
    "duration": -116,
    "start_time": "2022-03-06T07:59:45.764Z"
   },
   {
    "duration": -119,
    "start_time": "2022-03-06T07:59:45.768Z"
   },
   {
    "duration": -121,
    "start_time": "2022-03-06T07:59:45.772Z"
   },
   {
    "duration": -124,
    "start_time": "2022-03-06T07:59:45.776Z"
   },
   {
    "duration": -125,
    "start_time": "2022-03-06T07:59:45.779Z"
   },
   {
    "duration": -128,
    "start_time": "2022-03-06T07:59:45.783Z"
   },
   {
    "duration": -135,
    "start_time": "2022-03-06T07:59:45.792Z"
   },
   {
    "duration": -122,
    "start_time": "2022-03-06T07:59:45.796Z"
   },
   {
    "duration": -124,
    "start_time": "2022-03-06T07:59:45.799Z"
   },
   {
    "duration": -126,
    "start_time": "2022-03-06T07:59:45.803Z"
   },
   {
    "duration": -128,
    "start_time": "2022-03-06T07:59:45.807Z"
   },
   {
    "duration": -131,
    "start_time": "2022-03-06T07:59:45.811Z"
   },
   {
    "duration": -132,
    "start_time": "2022-03-06T07:59:45.814Z"
   },
   {
    "duration": -135,
    "start_time": "2022-03-06T07:59:45.818Z"
   },
   {
    "duration": 8,
    "start_time": "2022-03-06T08:00:15.223Z"
   },
   {
    "duration": 6,
    "start_time": "2022-03-06T08:00:23.999Z"
   },
   {
    "duration": 6,
    "start_time": "2022-03-06T08:01:31.711Z"
   },
   {
    "duration": 9,
    "start_time": "2022-03-06T08:04:30.051Z"
   },
   {
    "duration": 286,
    "start_time": "2022-03-06T08:04:46.723Z"
   },
   {
    "duration": 5,
    "start_time": "2022-03-06T08:04:55.805Z"
   },
   {
    "duration": 5,
    "start_time": "2022-03-06T08:05:07.522Z"
   },
   {
    "duration": 4,
    "start_time": "2022-03-06T08:05:13.193Z"
   },
   {
    "duration": 10,
    "start_time": "2022-03-06T08:05:31.287Z"
   },
   {
    "duration": 10,
    "start_time": "2022-03-06T08:05:54.561Z"
   },
   {
    "duration": 18,
    "start_time": "2022-03-06T08:07:23.847Z"
   },
   {
    "duration": 18,
    "start_time": "2022-03-06T08:07:35.390Z"
   },
   {
    "duration": 262,
    "start_time": "2022-03-06T08:08:47.147Z"
   },
   {
    "duration": 243,
    "start_time": "2022-03-06T08:08:52.216Z"
   },
   {
    "duration": 252,
    "start_time": "2022-03-06T08:08:59.634Z"
   },
   {
    "duration": 79,
    "start_time": "2022-03-06T08:09:46.362Z"
   },
   {
    "duration": 86,
    "start_time": "2022-03-06T08:10:08.720Z"
   },
   {
    "duration": 506,
    "start_time": "2022-03-06T08:10:13.509Z"
   },
   {
    "duration": -115,
    "start_time": "2022-03-06T08:10:54.448Z"
   },
   {
    "duration": 5931,
    "start_time": "2022-03-06T08:10:56.628Z"
   },
   {
    "duration": 7,
    "start_time": "2022-03-06T08:11:08.082Z"
   },
   {
    "duration": 248,
    "start_time": "2022-03-06T08:12:47.088Z"
   },
   {
    "duration": 8,
    "start_time": "2022-03-06T08:12:55.234Z"
   },
   {
    "duration": 7,
    "start_time": "2022-03-06T08:13:00.482Z"
   },
   {
    "duration": 268,
    "start_time": "2022-03-06T08:13:20.461Z"
   },
   {
    "duration": 233,
    "start_time": "2022-03-06T08:13:25.242Z"
   },
   {
    "duration": 7,
    "start_time": "2022-03-06T08:13:35.109Z"
   },
   {
    "duration": 85,
    "start_time": "2022-03-06T08:13:39.602Z"
   },
   {
    "duration": 6,
    "start_time": "2022-03-06T08:13:43.899Z"
   },
   {
    "duration": 298,
    "start_time": "2022-03-06T08:15:03.364Z"
   },
   {
    "duration": 355,
    "start_time": "2022-03-06T08:16:58.087Z"
   },
   {
    "duration": 283,
    "start_time": "2022-03-06T08:17:34.664Z"
   },
   {
    "duration": 249,
    "start_time": "2022-03-06T08:19:17.149Z"
   },
   {
    "duration": 271,
    "start_time": "2022-03-06T08:19:47.273Z"
   },
   {
    "duration": 238,
    "start_time": "2022-03-06T08:19:55.726Z"
   },
   {
    "duration": 5,
    "start_time": "2022-03-06T08:20:09.683Z"
   },
   {
    "duration": 12,
    "start_time": "2022-03-06T08:20:12.324Z"
   },
   {
    "duration": 7,
    "start_time": "2022-03-06T08:20:43.251Z"
   },
   {
    "duration": 13,
    "start_time": "2022-03-06T08:22:23.230Z"
   },
   {
    "duration": 13,
    "start_time": "2022-03-06T08:22:28.793Z"
   },
   {
    "duration": 5,
    "start_time": "2022-03-06T08:25:46.247Z"
   },
   {
    "duration": 724,
    "start_time": "2022-03-06T08:25:46.254Z"
   },
   {
    "duration": 25,
    "start_time": "2022-03-06T08:25:46.981Z"
   },
   {
    "duration": 24,
    "start_time": "2022-03-06T08:25:47.009Z"
   },
   {
    "duration": 60,
    "start_time": "2022-03-06T08:25:47.036Z"
   },
   {
    "duration": 32,
    "start_time": "2022-03-06T08:25:47.098Z"
   },
   {
    "duration": 52,
    "start_time": "2022-03-06T08:25:47.134Z"
   },
   {
    "duration": 24,
    "start_time": "2022-03-06T08:25:47.189Z"
   },
   {
    "duration": 39,
    "start_time": "2022-03-06T08:25:47.216Z"
   },
   {
    "duration": 16,
    "start_time": "2022-03-06T08:25:47.275Z"
   },
   {
    "duration": 68,
    "start_time": "2022-03-06T08:25:47.294Z"
   },
   {
    "duration": 13,
    "start_time": "2022-03-06T08:25:47.373Z"
   },
   {
    "duration": 61,
    "start_time": "2022-03-06T08:25:47.388Z"
   },
   {
    "duration": 20,
    "start_time": "2022-03-06T08:25:47.452Z"
   },
   {
    "duration": 45,
    "start_time": "2022-03-06T08:25:47.475Z"
   },
   {
    "duration": 14,
    "start_time": "2022-03-06T08:25:47.522Z"
   },
   {
    "duration": 36,
    "start_time": "2022-03-06T08:25:47.538Z"
   },
   {
    "duration": 8,
    "start_time": "2022-03-06T08:25:47.577Z"
   },
   {
    "duration": 30,
    "start_time": "2022-03-06T08:25:47.591Z"
   },
   {
    "duration": 61,
    "start_time": "2022-03-06T08:25:47.625Z"
   },
   {
    "duration": 41,
    "start_time": "2022-03-06T08:25:47.688Z"
   },
   {
    "duration": 56,
    "start_time": "2022-03-06T08:25:47.732Z"
   },
   {
    "duration": 23,
    "start_time": "2022-03-06T08:25:47.791Z"
   },
   {
    "duration": 62,
    "start_time": "2022-03-06T08:25:47.817Z"
   },
   {
    "duration": 27,
    "start_time": "2022-03-06T08:25:47.882Z"
   },
   {
    "duration": 63,
    "start_time": "2022-03-06T08:25:47.912Z"
   },
   {
    "duration": 131,
    "start_time": "2022-03-06T08:25:47.978Z"
   },
   {
    "duration": 8,
    "start_time": "2022-03-06T08:25:48.112Z"
   },
   {
    "duration": 25,
    "start_time": "2022-03-06T08:25:48.123Z"
   },
   {
    "duration": 51,
    "start_time": "2022-03-06T08:25:48.150Z"
   },
   {
    "duration": 48,
    "start_time": "2022-03-06T08:25:48.204Z"
   },
   {
    "duration": 9,
    "start_time": "2022-03-06T08:25:48.274Z"
   },
   {
    "duration": 428,
    "start_time": "2022-03-06T08:25:48.286Z"
   },
   {
    "duration": 12,
    "start_time": "2022-03-06T08:25:48.718Z"
   },
   {
    "duration": 9,
    "start_time": "2022-03-06T08:25:48.733Z"
   },
   {
    "duration": 35,
    "start_time": "2022-03-06T08:25:48.745Z"
   },
   {
    "duration": 20,
    "start_time": "2022-03-06T08:25:48.783Z"
   },
   {
    "duration": 33,
    "start_time": "2022-03-06T08:25:48.806Z"
   },
   {
    "duration": 28,
    "start_time": "2022-03-06T08:25:48.874Z"
   },
   {
    "duration": 13,
    "start_time": "2022-03-06T08:25:48.905Z"
   },
   {
    "duration": 127,
    "start_time": "2022-03-06T08:25:48.921Z"
   },
   {
    "duration": 5423,
    "start_time": "2022-03-06T08:25:49.050Z"
   },
   {
    "duration": 12,
    "start_time": "2022-03-06T08:25:54.476Z"
   },
   {
    "duration": 8,
    "start_time": "2022-03-06T08:25:54.491Z"
   },
   {
    "duration": 211,
    "start_time": "2022-03-06T08:25:54.501Z"
   },
   {
    "duration": 5425,
    "start_time": "2022-03-06T08:25:54.715Z"
   },
   {
    "duration": 34,
    "start_time": "2022-03-06T08:26:00.143Z"
   },
   {
    "duration": 13,
    "start_time": "2022-03-06T08:26:00.180Z"
   },
   {
    "duration": 122,
    "start_time": "2022-03-06T08:26:00.195Z"
   },
   {
    "duration": 5631,
    "start_time": "2022-03-06T08:26:00.320Z"
   },
   {
    "duration": 24,
    "start_time": "2022-03-06T08:26:05.954Z"
   },
   {
    "duration": 15,
    "start_time": "2022-03-06T08:26:05.980Z"
   },
   {
    "duration": 116,
    "start_time": "2022-03-06T08:26:05.997Z"
   },
   {
    "duration": 5162,
    "start_time": "2022-03-06T08:26:06.115Z"
   },
   {
    "duration": 11,
    "start_time": "2022-03-06T08:26:11.284Z"
   },
   {
    "duration": 15,
    "start_time": "2022-03-06T08:26:11.298Z"
   },
   {
    "duration": 127,
    "start_time": "2022-03-06T08:26:11.315Z"
   },
   {
    "duration": 5659,
    "start_time": "2022-03-06T08:26:11.444Z"
   },
   {
    "duration": 11,
    "start_time": "2022-03-06T08:26:17.105Z"
   },
   {
    "duration": 7,
    "start_time": "2022-03-06T08:26:17.118Z"
   },
   {
    "duration": 130,
    "start_time": "2022-03-06T08:26:17.127Z"
   },
   {
    "duration": 5648,
    "start_time": "2022-03-06T08:26:17.260Z"
   },
   {
    "duration": 13,
    "start_time": "2022-03-06T08:26:22.911Z"
   },
   {
    "duration": 9,
    "start_time": "2022-03-06T08:26:22.927Z"
   },
   {
    "duration": 47,
    "start_time": "2022-03-06T08:26:22.938Z"
   },
   {
    "duration": 9,
    "start_time": "2022-03-06T08:26:22.987Z"
   },
   {
    "duration": 449,
    "start_time": "2022-03-06T08:26:22.998Z"
   },
   {
    "duration": 11,
    "start_time": "2022-03-06T08:26:23.449Z"
   },
   {
    "duration": 19,
    "start_time": "2022-03-06T08:26:23.474Z"
   },
   {
    "duration": 9,
    "start_time": "2022-03-06T08:26:23.496Z"
   },
   {
    "duration": 668,
    "start_time": "2022-03-06T08:26:23.507Z"
   },
   {
    "duration": 36,
    "start_time": "2022-03-06T08:30:37.722Z"
   },
   {
    "duration": 30,
    "start_time": "2022-03-06T08:30:49.085Z"
   },
   {
    "duration": 77,
    "start_time": "2022-03-06T08:33:28.516Z"
   },
   {
    "duration": 34,
    "start_time": "2022-03-06T08:34:01.829Z"
   },
   {
    "duration": 32,
    "start_time": "2022-03-06T08:34:08.522Z"
   },
   {
    "duration": 268,
    "start_time": "2022-03-06T08:34:21.207Z"
   },
   {
    "duration": 34,
    "start_time": "2022-03-06T08:35:12.209Z"
   },
   {
    "duration": 32,
    "start_time": "2022-03-06T08:35:20.645Z"
   },
   {
    "duration": 5,
    "start_time": "2022-03-06T08:35:24.979Z"
   },
   {
    "duration": 720,
    "start_time": "2022-03-06T08:35:24.987Z"
   },
   {
    "duration": 21,
    "start_time": "2022-03-06T08:35:25.710Z"
   },
   {
    "duration": 41,
    "start_time": "2022-03-06T08:35:25.735Z"
   },
   {
    "duration": 37,
    "start_time": "2022-03-06T08:35:25.778Z"
   },
   {
    "duration": 58,
    "start_time": "2022-03-06T08:35:25.817Z"
   },
   {
    "duration": 26,
    "start_time": "2022-03-06T08:35:25.879Z"
   },
   {
    "duration": 15,
    "start_time": "2022-03-06T08:35:25.908Z"
   },
   {
    "duration": 62,
    "start_time": "2022-03-06T08:35:25.925Z"
   },
   {
    "duration": 11,
    "start_time": "2022-03-06T08:35:25.989Z"
   },
   {
    "duration": 81,
    "start_time": "2022-03-06T08:35:26.002Z"
   },
   {
    "duration": 12,
    "start_time": "2022-03-06T08:35:26.085Z"
   },
   {
    "duration": 44,
    "start_time": "2022-03-06T08:35:26.099Z"
   },
   {
    "duration": 35,
    "start_time": "2022-03-06T08:35:26.146Z"
   },
   {
    "duration": 37,
    "start_time": "2022-03-06T08:35:26.183Z"
   },
   {
    "duration": 14,
    "start_time": "2022-03-06T08:35:26.222Z"
   },
   {
    "duration": 3,
    "start_time": "2022-03-06T08:35:26.238Z"
   },
   {
    "duration": 37,
    "start_time": "2022-03-06T08:35:26.243Z"
   },
   {
    "duration": 23,
    "start_time": "2022-03-06T08:35:26.286Z"
   },
   {
    "duration": 69,
    "start_time": "2022-03-06T08:35:26.313Z"
   },
   {
    "duration": 38,
    "start_time": "2022-03-06T08:35:26.385Z"
   },
   {
    "duration": 28,
    "start_time": "2022-03-06T08:35:26.425Z"
   },
   {
    "duration": 21,
    "start_time": "2022-03-06T08:35:26.474Z"
   },
   {
    "duration": 33,
    "start_time": "2022-03-06T08:35:26.497Z"
   },
   {
    "duration": 53,
    "start_time": "2022-03-06T08:35:26.532Z"
   },
   {
    "duration": 37,
    "start_time": "2022-03-06T08:35:26.587Z"
   },
   {
    "duration": 1038,
    "start_time": "2022-03-06T08:35:26.626Z"
   },
   {
    "duration": -561,
    "start_time": "2022-03-06T08:35:28.229Z"
   },
   {
    "duration": -566,
    "start_time": "2022-03-06T08:35:28.235Z"
   },
   {
    "duration": -570,
    "start_time": "2022-03-06T08:35:28.241Z"
   },
   {
    "duration": -573,
    "start_time": "2022-03-06T08:35:28.246Z"
   },
   {
    "duration": -577,
    "start_time": "2022-03-06T08:35:28.252Z"
   },
   {
    "duration": -581,
    "start_time": "2022-03-06T08:35:28.258Z"
   },
   {
    "duration": -585,
    "start_time": "2022-03-06T08:35:28.264Z"
   },
   {
    "duration": -590,
    "start_time": "2022-03-06T08:35:28.270Z"
   },
   {
    "duration": -595,
    "start_time": "2022-03-06T08:35:28.277Z"
   },
   {
    "duration": -598,
    "start_time": "2022-03-06T08:35:28.282Z"
   },
   {
    "duration": -603,
    "start_time": "2022-03-06T08:35:28.288Z"
   },
   {
    "duration": -606,
    "start_time": "2022-03-06T08:35:28.293Z"
   },
   {
    "duration": -610,
    "start_time": "2022-03-06T08:35:28.299Z"
   },
   {
    "duration": -614,
    "start_time": "2022-03-06T08:35:28.305Z"
   },
   {
    "duration": -618,
    "start_time": "2022-03-06T08:35:28.311Z"
   },
   {
    "duration": -621,
    "start_time": "2022-03-06T08:35:28.316Z"
   },
   {
    "duration": -626,
    "start_time": "2022-03-06T08:35:28.322Z"
   },
   {
    "duration": -650,
    "start_time": "2022-03-06T08:35:28.348Z"
   },
   {
    "duration": -654,
    "start_time": "2022-03-06T08:35:28.354Z"
   },
   {
    "duration": -657,
    "start_time": "2022-03-06T08:35:28.359Z"
   },
   {
    "duration": -662,
    "start_time": "2022-03-06T08:35:28.365Z"
   },
   {
    "duration": -665,
    "start_time": "2022-03-06T08:35:28.370Z"
   },
   {
    "duration": -669,
    "start_time": "2022-03-06T08:35:28.376Z"
   },
   {
    "duration": -674,
    "start_time": "2022-03-06T08:35:28.383Z"
   },
   {
    "duration": -677,
    "start_time": "2022-03-06T08:35:28.388Z"
   },
   {
    "duration": -681,
    "start_time": "2022-03-06T08:35:28.394Z"
   },
   {
    "duration": -685,
    "start_time": "2022-03-06T08:35:28.400Z"
   },
   {
    "duration": -633,
    "start_time": "2022-03-06T08:35:28.406Z"
   },
   {
    "duration": -637,
    "start_time": "2022-03-06T08:35:28.412Z"
   },
   {
    "duration": -640,
    "start_time": "2022-03-06T08:35:28.417Z"
   },
   {
    "duration": -644,
    "start_time": "2022-03-06T08:35:28.423Z"
   },
   {
    "duration": -648,
    "start_time": "2022-03-06T08:35:28.429Z"
   },
   {
    "duration": -652,
    "start_time": "2022-03-06T08:35:28.435Z"
   },
   {
    "duration": -656,
    "start_time": "2022-03-06T08:35:28.440Z"
   },
   {
    "duration": -668,
    "start_time": "2022-03-06T08:35:28.454Z"
   },
   {
    "duration": -674,
    "start_time": "2022-03-06T08:35:28.461Z"
   },
   {
    "duration": -678,
    "start_time": "2022-03-06T08:35:28.467Z"
   },
   {
    "duration": -682,
    "start_time": "2022-03-06T08:35:28.472Z"
   },
   {
    "duration": -687,
    "start_time": "2022-03-06T08:35:28.479Z"
   },
   {
    "duration": -691,
    "start_time": "2022-03-06T08:35:28.484Z"
   },
   {
    "duration": -696,
    "start_time": "2022-03-06T08:35:28.490Z"
   },
   {
    "duration": -699,
    "start_time": "2022-03-06T08:35:28.495Z"
   },
   {
    "duration": -704,
    "start_time": "2022-03-06T08:35:28.501Z"
   },
   {
    "duration": -707,
    "start_time": "2022-03-06T08:35:28.506Z"
   },
   {
    "duration": 39,
    "start_time": "2022-03-06T08:36:11.419Z"
   },
   {
    "duration": 5,
    "start_time": "2022-03-06T08:36:22.684Z"
   },
   {
    "duration": 734,
    "start_time": "2022-03-06T08:36:22.691Z"
   },
   {
    "duration": 22,
    "start_time": "2022-03-06T08:36:23.428Z"
   },
   {
    "duration": 32,
    "start_time": "2022-03-06T08:36:23.454Z"
   },
   {
    "duration": 47,
    "start_time": "2022-03-06T08:36:23.489Z"
   },
   {
    "duration": 60,
    "start_time": "2022-03-06T08:36:23.539Z"
   },
   {
    "duration": 29,
    "start_time": "2022-03-06T08:36:23.604Z"
   },
   {
    "duration": 49,
    "start_time": "2022-03-06T08:36:23.638Z"
   },
   {
    "duration": 33,
    "start_time": "2022-03-06T08:36:23.690Z"
   },
   {
    "duration": 49,
    "start_time": "2022-03-06T08:36:23.726Z"
   },
   {
    "duration": 56,
    "start_time": "2022-03-06T08:36:23.778Z"
   },
   {
    "duration": 39,
    "start_time": "2022-03-06T08:36:23.837Z"
   },
   {
    "duration": 47,
    "start_time": "2022-03-06T08:36:23.879Z"
   },
   {
    "duration": 11,
    "start_time": "2022-03-06T08:36:23.929Z"
   },
   {
    "duration": 39,
    "start_time": "2022-03-06T08:36:23.974Z"
   },
   {
    "duration": 17,
    "start_time": "2022-03-06T08:36:24.016Z"
   },
   {
    "duration": 40,
    "start_time": "2022-03-06T08:36:24.036Z"
   },
   {
    "duration": 13,
    "start_time": "2022-03-06T08:36:24.079Z"
   },
   {
    "duration": 20,
    "start_time": "2022-03-06T08:36:24.100Z"
   },
   {
    "duration": 70,
    "start_time": "2022-03-06T08:36:24.126Z"
   },
   {
    "duration": 42,
    "start_time": "2022-03-06T08:36:24.199Z"
   },
   {
    "duration": 61,
    "start_time": "2022-03-06T08:36:24.243Z"
   },
   {
    "duration": 23,
    "start_time": "2022-03-06T08:36:24.307Z"
   },
   {
    "duration": 72,
    "start_time": "2022-03-06T08:36:24.333Z"
   },
   {
    "duration": 27,
    "start_time": "2022-03-06T08:36:24.408Z"
   },
   {
    "duration": 61,
    "start_time": "2022-03-06T08:36:24.437Z"
   },
   {
    "duration": 73,
    "start_time": "2022-03-06T08:36:24.501Z"
   },
   {
    "duration": 11,
    "start_time": "2022-03-06T08:36:24.577Z"
   },
   {
    "duration": 13,
    "start_time": "2022-03-06T08:36:24.591Z"
   },
   {
    "duration": 71,
    "start_time": "2022-03-06T08:36:24.606Z"
   },
   {
    "duration": 47,
    "start_time": "2022-03-06T08:36:24.680Z"
   },
   {
    "duration": 8,
    "start_time": "2022-03-06T08:36:24.730Z"
   },
   {
    "duration": 438,
    "start_time": "2022-03-06T08:36:24.741Z"
   },
   {
    "duration": 11,
    "start_time": "2022-03-06T08:36:25.182Z"
   },
   {
    "duration": 8,
    "start_time": "2022-03-06T08:36:25.196Z"
   },
   {
    "duration": 10,
    "start_time": "2022-03-06T08:36:25.207Z"
   },
   {
    "duration": 66,
    "start_time": "2022-03-06T08:36:25.219Z"
   },
   {
    "duration": 19,
    "start_time": "2022-03-06T08:36:25.288Z"
   },
   {
    "duration": 28,
    "start_time": "2022-03-06T08:36:25.309Z"
   },
   {
    "duration": 42,
    "start_time": "2022-03-06T08:36:25.339Z"
   },
   {
    "duration": 111,
    "start_time": "2022-03-06T08:36:25.383Z"
   },
   {
    "duration": 6202,
    "start_time": "2022-03-06T08:36:25.496Z"
   },
   {
    "duration": 16,
    "start_time": "2022-03-06T08:36:31.701Z"
   },
   {
    "duration": 9,
    "start_time": "2022-03-06T08:36:31.720Z"
   },
   {
    "duration": 196,
    "start_time": "2022-03-06T08:36:31.732Z"
   },
   {
    "duration": 5823,
    "start_time": "2022-03-06T08:36:31.930Z"
   },
   {
    "duration": 20,
    "start_time": "2022-03-06T08:36:37.755Z"
   },
   {
    "duration": 19,
    "start_time": "2022-03-06T08:36:37.777Z"
   },
   {
    "duration": 113,
    "start_time": "2022-03-06T08:36:37.798Z"
   },
   {
    "duration": 5793,
    "start_time": "2022-03-06T08:36:37.913Z"
   },
   {
    "duration": 11,
    "start_time": "2022-03-06T08:36:43.709Z"
   },
   {
    "duration": 10,
    "start_time": "2022-03-06T08:36:43.723Z"
   },
   {
    "duration": 126,
    "start_time": "2022-03-06T08:36:43.735Z"
   },
   {
    "duration": 5392,
    "start_time": "2022-03-06T08:36:43.863Z"
   },
   {
    "duration": 19,
    "start_time": "2022-03-06T08:36:49.262Z"
   },
   {
    "duration": 9,
    "start_time": "2022-03-06T08:36:49.284Z"
   },
   {
    "duration": 124,
    "start_time": "2022-03-06T08:36:49.295Z"
   },
   {
    "duration": 5450,
    "start_time": "2022-03-06T08:36:49.422Z"
   },
   {
    "duration": 14,
    "start_time": "2022-03-06T08:36:54.875Z"
   },
   {
    "duration": 9,
    "start_time": "2022-03-06T08:36:54.892Z"
   },
   {
    "duration": 142,
    "start_time": "2022-03-06T08:36:54.904Z"
   },
   {
    "duration": 5134,
    "start_time": "2022-03-06T08:36:55.048Z"
   },
   {
    "duration": 14,
    "start_time": "2022-03-06T08:37:00.184Z"
   },
   {
    "duration": 14,
    "start_time": "2022-03-06T08:37:00.201Z"
   },
   {
    "duration": 58,
    "start_time": "2022-03-06T08:37:00.218Z"
   },
   {
    "duration": 10,
    "start_time": "2022-03-06T08:37:00.279Z"
   },
   {
    "duration": 442,
    "start_time": "2022-03-06T08:37:00.293Z"
   },
   {
    "duration": 15,
    "start_time": "2022-03-06T08:37:00.738Z"
   },
   {
    "duration": 35,
    "start_time": "2022-03-06T08:37:00.755Z"
   },
   {
    "duration": 23,
    "start_time": "2022-03-06T08:37:00.793Z"
   },
   {
    "duration": 454,
    "start_time": "2022-03-06T08:37:00.819Z"
   },
   {
    "duration": 7,
    "start_time": "2022-03-06T08:41:06.219Z"
   },
   {
    "duration": 8,
    "start_time": "2022-03-06T08:43:17.594Z"
   },
   {
    "duration": 324,
    "start_time": "2022-03-06T08:45:49.144Z"
   },
   {
    "duration": 397,
    "start_time": "2022-03-06T08:45:58.979Z"
   },
   {
    "duration": 523,
    "start_time": "2022-03-06T08:46:17.870Z"
   },
   {
    "duration": 532,
    "start_time": "2022-03-06T08:46:57.911Z"
   },
   {
    "duration": 783,
    "start_time": "2022-03-06T08:51:33.943Z"
   },
   {
    "duration": 502,
    "start_time": "2022-03-06T08:51:39.286Z"
   },
   {
    "duration": 485,
    "start_time": "2022-03-06T08:51:45.480Z"
   },
   {
    "duration": 96,
    "start_time": "2022-03-06T08:59:07.178Z"
   },
   {
    "duration": 5,
    "start_time": "2022-03-06T08:59:15.888Z"
   },
   {
    "duration": 667,
    "start_time": "2022-03-06T08:59:15.895Z"
   },
   {
    "duration": 22,
    "start_time": "2022-03-06T08:59:16.564Z"
   },
   {
    "duration": 24,
    "start_time": "2022-03-06T08:59:16.589Z"
   },
   {
    "duration": 58,
    "start_time": "2022-03-06T08:59:16.616Z"
   },
   {
    "duration": 32,
    "start_time": "2022-03-06T08:59:16.676Z"
   },
   {
    "duration": 26,
    "start_time": "2022-03-06T08:59:16.712Z"
   },
   {
    "duration": 15,
    "start_time": "2022-03-06T08:59:16.773Z"
   },
   {
    "duration": 29,
    "start_time": "2022-03-06T08:59:16.790Z"
   },
   {
    "duration": 11,
    "start_time": "2022-03-06T08:59:16.822Z"
   },
   {
    "duration": 54,
    "start_time": "2022-03-06T08:59:16.874Z"
   },
   {
    "duration": 13,
    "start_time": "2022-03-06T08:59:16.930Z"
   },
   {
    "duration": 68,
    "start_time": "2022-03-06T08:59:16.945Z"
   },
   {
    "duration": 11,
    "start_time": "2022-03-06T08:59:17.015Z"
   },
   {
    "duration": 76,
    "start_time": "2022-03-06T08:59:17.028Z"
   },
   {
    "duration": 14,
    "start_time": "2022-03-06T08:59:17.106Z"
   },
   {
    "duration": 2,
    "start_time": "2022-03-06T08:59:17.122Z"
   },
   {
    "duration": 12,
    "start_time": "2022-03-06T08:59:17.127Z"
   },
   {
    "duration": 20,
    "start_time": "2022-03-06T08:59:17.176Z"
   },
   {
    "duration": 32,
    "start_time": "2022-03-06T08:59:17.199Z"
   },
   {
    "duration": 66,
    "start_time": "2022-03-06T08:59:17.234Z"
   },
   {
    "duration": 27,
    "start_time": "2022-03-06T08:59:17.303Z"
   },
   {
    "duration": 40,
    "start_time": "2022-03-06T08:59:17.333Z"
   },
   {
    "duration": 32,
    "start_time": "2022-03-06T08:59:17.376Z"
   },
   {
    "duration": 25,
    "start_time": "2022-03-06T08:59:17.411Z"
   },
   {
    "duration": 58,
    "start_time": "2022-03-06T08:59:17.438Z"
   },
   {
    "duration": 46,
    "start_time": "2022-03-06T08:59:17.498Z"
   },
   {
    "duration": 27,
    "start_time": "2022-03-06T08:59:17.546Z"
   },
   {
    "duration": 8,
    "start_time": "2022-03-06T08:59:17.576Z"
   },
   {
    "duration": 40,
    "start_time": "2022-03-06T08:59:17.586Z"
   },
   {
    "duration": 71,
    "start_time": "2022-03-06T08:59:17.628Z"
   },
   {
    "duration": 6,
    "start_time": "2022-03-06T08:59:17.701Z"
   },
   {
    "duration": 413,
    "start_time": "2022-03-06T08:59:17.709Z"
   },
   {
    "duration": 11,
    "start_time": "2022-03-06T08:59:18.124Z"
   },
   {
    "duration": 8,
    "start_time": "2022-03-06T08:59:18.137Z"
   },
   {
    "duration": 32,
    "start_time": "2022-03-06T08:59:18.147Z"
   },
   {
    "duration": 19,
    "start_time": "2022-03-06T08:59:18.182Z"
   },
   {
    "duration": 19,
    "start_time": "2022-03-06T08:59:18.204Z"
   },
   {
    "duration": 68,
    "start_time": "2022-03-06T08:59:18.225Z"
   },
   {
    "duration": 12,
    "start_time": "2022-03-06T08:59:18.296Z"
   },
   {
    "duration": 131,
    "start_time": "2022-03-06T08:59:18.311Z"
   },
   {
    "duration": 5832,
    "start_time": "2022-03-06T08:59:18.445Z"
   },
   {
    "duration": 14,
    "start_time": "2022-03-06T08:59:24.280Z"
   },
   {
    "duration": 6,
    "start_time": "2022-03-06T08:59:24.296Z"
   },
   {
    "duration": 140,
    "start_time": "2022-03-06T08:59:24.304Z"
   },
   {
    "duration": 5909,
    "start_time": "2022-03-06T08:59:24.447Z"
   },
   {
    "duration": 21,
    "start_time": "2022-03-06T08:59:30.360Z"
   },
   {
    "duration": 9,
    "start_time": "2022-03-06T08:59:30.385Z"
   },
   {
    "duration": 137,
    "start_time": "2022-03-06T08:59:30.397Z"
   },
   {
    "duration": 5604,
    "start_time": "2022-03-06T08:59:30.536Z"
   },
   {
    "duration": 31,
    "start_time": "2022-03-06T08:59:36.143Z"
   },
   {
    "duration": 7,
    "start_time": "2022-03-06T08:59:36.177Z"
   },
   {
    "duration": 119,
    "start_time": "2022-03-06T08:59:36.186Z"
   },
   {
    "duration": 6180,
    "start_time": "2022-03-06T08:59:36.307Z"
   },
   {
    "duration": 11,
    "start_time": "2022-03-06T08:59:42.494Z"
   },
   {
    "duration": 9,
    "start_time": "2022-03-06T08:59:42.508Z"
   },
   {
    "duration": 132,
    "start_time": "2022-03-06T08:59:42.519Z"
   },
   {
    "duration": 5883,
    "start_time": "2022-03-06T08:59:42.654Z"
   },
   {
    "duration": 12,
    "start_time": "2022-03-06T08:59:48.539Z"
   },
   {
    "duration": 27,
    "start_time": "2022-03-06T08:59:48.554Z"
   },
   {
    "duration": 152,
    "start_time": "2022-03-06T08:59:48.585Z"
   },
   {
    "duration": 5364,
    "start_time": "2022-03-06T08:59:48.740Z"
   },
   {
    "duration": 11,
    "start_time": "2022-03-06T08:59:54.106Z"
   },
   {
    "duration": 8,
    "start_time": "2022-03-06T08:59:54.119Z"
   },
   {
    "duration": 49,
    "start_time": "2022-03-06T08:59:54.129Z"
   },
   {
    "duration": 8,
    "start_time": "2022-03-06T08:59:54.181Z"
   },
   {
    "duration": 877,
    "start_time": "2022-03-06T08:59:54.191Z"
   },
   {
    "duration": 11,
    "start_time": "2022-03-06T08:59:55.074Z"
   },
   {
    "duration": 19,
    "start_time": "2022-03-06T08:59:55.088Z"
   },
   {
    "duration": 8,
    "start_time": "2022-03-06T08:59:55.109Z"
   },
   {
    "duration": 564,
    "start_time": "2022-03-06T08:59:55.120Z"
   },
   {
    "duration": 134,
    "start_time": "2022-03-06T09:01:53.260Z"
   },
   {
    "duration": 1579,
    "start_time": "2022-03-06T09:02:12.219Z"
   },
   {
    "duration": 809,
    "start_time": "2022-03-06T09:02:13.801Z"
   },
   {
    "duration": 39,
    "start_time": "2022-03-06T09:02:14.614Z"
   },
   {
    "duration": 31,
    "start_time": "2022-03-06T09:02:14.657Z"
   },
   {
    "duration": 36,
    "start_time": "2022-03-06T09:02:14.690Z"
   },
   {
    "duration": 65,
    "start_time": "2022-03-06T09:02:14.728Z"
   },
   {
    "duration": 29,
    "start_time": "2022-03-06T09:02:14.795Z"
   },
   {
    "duration": 16,
    "start_time": "2022-03-06T09:02:14.828Z"
   },
   {
    "duration": 31,
    "start_time": "2022-03-06T09:02:14.875Z"
   },
   {
    "duration": 14,
    "start_time": "2022-03-06T09:02:14.909Z"
   },
   {
    "duration": 105,
    "start_time": "2022-03-06T09:02:14.925Z"
   },
   {
    "duration": 14,
    "start_time": "2022-03-06T09:02:15.033Z"
   },
   {
    "duration": 68,
    "start_time": "2022-03-06T09:02:15.050Z"
   },
   {
    "duration": 12,
    "start_time": "2022-03-06T09:02:15.121Z"
   },
   {
    "duration": 63,
    "start_time": "2022-03-06T09:02:15.135Z"
   },
   {
    "duration": 15,
    "start_time": "2022-03-06T09:02:15.201Z"
   },
   {
    "duration": 2,
    "start_time": "2022-03-06T09:02:15.219Z"
   },
   {
    "duration": 13,
    "start_time": "2022-03-06T09:02:15.224Z"
   },
   {
    "duration": 55,
    "start_time": "2022-03-06T09:02:15.239Z"
   },
   {
    "duration": 47,
    "start_time": "2022-03-06T09:02:15.296Z"
   },
   {
    "duration": 56,
    "start_time": "2022-03-06T09:02:15.345Z"
   },
   {
    "duration": 30,
    "start_time": "2022-03-06T09:02:15.403Z"
   },
   {
    "duration": 47,
    "start_time": "2022-03-06T09:02:15.439Z"
   },
   {
    "duration": 45,
    "start_time": "2022-03-06T09:02:15.491Z"
   },
   {
    "duration": 50,
    "start_time": "2022-03-06T09:02:15.538Z"
   },
   {
    "duration": 90,
    "start_time": "2022-03-06T09:02:15.591Z"
   },
   {
    "duration": 47,
    "start_time": "2022-03-06T09:02:15.684Z"
   },
   {
    "duration": 8,
    "start_time": "2022-03-06T09:02:15.734Z"
   },
   {
    "duration": 32,
    "start_time": "2022-03-06T09:02:15.745Z"
   },
   {
    "duration": 40,
    "start_time": "2022-03-06T09:02:15.779Z"
   },
   {
    "duration": 71,
    "start_time": "2022-03-06T09:02:15.821Z"
   },
   {
    "duration": 9,
    "start_time": "2022-03-06T09:02:15.895Z"
   },
   {
    "duration": 449,
    "start_time": "2022-03-06T09:02:15.907Z"
   },
   {
    "duration": 15,
    "start_time": "2022-03-06T09:02:16.358Z"
   },
   {
    "duration": 9,
    "start_time": "2022-03-06T09:02:16.375Z"
   },
   {
    "duration": 7,
    "start_time": "2022-03-06T09:02:16.387Z"
   },
   {
    "duration": 17,
    "start_time": "2022-03-06T09:02:16.396Z"
   },
   {
    "duration": 59,
    "start_time": "2022-03-06T09:02:16.416Z"
   },
   {
    "duration": 25,
    "start_time": "2022-03-06T09:02:16.477Z"
   },
   {
    "duration": 13,
    "start_time": "2022-03-06T09:02:16.504Z"
   },
   {
    "duration": 132,
    "start_time": "2022-03-06T09:02:16.520Z"
   },
   {
    "duration": 5748,
    "start_time": "2022-03-06T09:02:16.654Z"
   },
   {
    "duration": 12,
    "start_time": "2022-03-06T09:02:22.404Z"
   },
   {
    "duration": 7,
    "start_time": "2022-03-06T09:02:22.418Z"
   },
   {
    "duration": 135,
    "start_time": "2022-03-06T09:02:22.427Z"
   },
   {
    "duration": 5972,
    "start_time": "2022-03-06T09:02:22.565Z"
   },
   {
    "duration": 11,
    "start_time": "2022-03-06T09:02:28.540Z"
   },
   {
    "duration": 21,
    "start_time": "2022-03-06T09:02:28.553Z"
   },
   {
    "duration": 181,
    "start_time": "2022-03-06T09:02:28.577Z"
   },
   {
    "duration": 6449,
    "start_time": "2022-03-06T09:02:28.761Z"
   },
   {
    "duration": 12,
    "start_time": "2022-03-06T09:02:35.212Z"
   },
   {
    "duration": 9,
    "start_time": "2022-03-06T09:02:35.226Z"
   },
   {
    "duration": 136,
    "start_time": "2022-03-06T09:02:35.237Z"
   },
   {
    "duration": 5270,
    "start_time": "2022-03-06T09:02:35.376Z"
   },
   {
    "duration": 26,
    "start_time": "2022-03-06T09:02:40.649Z"
   },
   {
    "duration": 7,
    "start_time": "2022-03-06T09:02:40.678Z"
   },
   {
    "duration": 144,
    "start_time": "2022-03-06T09:02:40.687Z"
   },
   {
    "duration": 5285,
    "start_time": "2022-03-06T09:02:40.833Z"
   },
   {
    "duration": 10,
    "start_time": "2022-03-06T09:02:46.121Z"
   },
   {
    "duration": 6,
    "start_time": "2022-03-06T09:02:46.134Z"
   },
   {
    "duration": 137,
    "start_time": "2022-03-06T09:02:46.142Z"
   },
   {
    "duration": 5576,
    "start_time": "2022-03-06T09:02:46.281Z"
   },
   {
    "duration": 18,
    "start_time": "2022-03-06T09:02:51.860Z"
   },
   {
    "duration": 9,
    "start_time": "2022-03-06T09:02:51.881Z"
   },
   {
    "duration": 26,
    "start_time": "2022-03-06T09:02:51.893Z"
   },
   {
    "duration": 51,
    "start_time": "2022-03-06T09:02:51.922Z"
   },
   {
    "duration": 653,
    "start_time": "2022-03-06T09:02:51.977Z"
   },
   {
    "duration": 11,
    "start_time": "2022-03-06T09:02:52.637Z"
   },
   {
    "duration": 35,
    "start_time": "2022-03-06T09:02:52.650Z"
   },
   {
    "duration": 9,
    "start_time": "2022-03-06T09:02:52.687Z"
   },
   {
    "duration": 537,
    "start_time": "2022-03-06T09:02:52.698Z"
   }
  ],
  "kernelspec": {
   "display_name": "Python 3",
   "language": "python",
   "name": "python3"
  },
  "language_info": {
   "codemirror_mode": {
    "name": "ipython",
    "version": 3
   },
   "file_extension": ".py",
   "mimetype": "text/x-python",
   "name": "python",
   "nbconvert_exporter": "python",
   "pygments_lexer": "ipython3",
   "version": "3.8.8"
  },
  "toc": {
   "base_numbering": 1,
   "nav_menu": {},
   "number_sections": true,
   "sideBar": true,
   "skip_h1_title": true,
   "title_cell": "Содержание",
   "title_sidebar": "Contents",
   "toc_cell": true,
   "toc_position": {
    "height": "calc(100% - 180px)",
    "left": "10px",
    "top": "150px",
    "width": "165px"
   },
   "toc_section_display": true,
   "toc_window_display": true
  }
 },
 "nbformat": 4,
 "nbformat_minor": 5
}
