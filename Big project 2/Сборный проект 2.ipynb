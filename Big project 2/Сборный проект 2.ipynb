{
 "cells": [
  {
   "cell_type": "markdown",
   "id": "9fa861a1",
   "metadata": {
    "toc": true
   },
   "source": [
    "<h1>Содержание<span class=\"tocSkip\"></span></h1>\n",
    "<div class=\"toc\"><ul class=\"toc-item\"><li><ul class=\"toc-item\"><li><ul class=\"toc-item\"><li><ul class=\"toc-item\"><li><span><a href=\"#Василий,-привет!\" data-toc-modified-id=\"Василий,-привет!-0.0.0.1\">Василий, привет!</a></span></li></ul></li><li><span><a href=\"#Комментарий-от-ревьюера\" data-toc-modified-id=\"Комментарий-от-ревьюера-0.0.1\">Комментарий от ревьюера</a></span></li><li><span><a href=\"#Комментарий-от-ревьюера\" data-toc-modified-id=\"Комментарий-от-ревьюера-0.0.2\">Комментарий от ревьюера</a></span></li><li><span><a href=\"#Комментарий-от-ревьюера\" data-toc-modified-id=\"Комментарий-от-ревьюера-0.0.3\">Комментарий от ревьюера</a></span></li><li><span><a href=\"#Комментарий-студента:\" data-toc-modified-id=\"Комментарий-студента:-0.0.4\">Комментарий студента:</a></span></li><li><span><a href=\"#Комментарий-от-ревьюера-v_1\" data-toc-modified-id=\"Комментарий-от-ревьюера-v_1-0.0.5\">Комментарий от ревьюера v_1</a></span></li><li><span><a href=\"#Комментарий-от-ревьюера-v_2\" data-toc-modified-id=\"Комментарий-от-ревьюера-v_2-0.0.6\">Комментарий от ревьюера v_2</a></span></li></ul></li></ul></li><li><span><a href=\"#Сборный-проект-2\" data-toc-modified-id=\"Сборный-проект-2-1\">Сборный проект 2</a></span><ul class=\"toc-item\"><li><ul class=\"toc-item\"><li><span><a href=\"#Комментарий-от-ревьюера-v_1\" data-toc-modified-id=\"Комментарий-от-ревьюера-v_1-1.0.1\">Комментарий от ревьюера v_1</a></span></li><li><span><a href=\"#Комментарий-от-ревьюера-v_1\" data-toc-modified-id=\"Комментарий-от-ревьюера-v_1-1.0.2\">Комментарий от ревьюера v_1</a></span></li></ul></li><li><span><a href=\"#Обзор-данных\" data-toc-modified-id=\"Обзор-данных-1.1\">Обзор данных</a></span></li><li><span><a href=\"#Предобработка-данных\" data-toc-modified-id=\"Предобработка-данных-1.2\">Предобработка данных</a></span><ul class=\"toc-item\"><li><span><a href=\"#Переименование-столбцов\" data-toc-modified-id=\"Переименование-столбцов-1.2.1\">Переименование столбцов</a></span></li><li><span><a href=\"#Преобразование-типов-данных\" data-toc-modified-id=\"Преобразование-типов-данных-1.2.2\">Преобразование типов данных</a></span></li><li><span><a href=\"#Обработка-дубликатов\" data-toc-modified-id=\"Обработка-дубликатов-1.2.3\">Обработка дубликатов</a></span></li><li><span><a href=\"#Извлечение-дат\" data-toc-modified-id=\"Извлечение-дат-1.2.4\">Извлечение дат</a></span></li><li><span><a href=\"#Комментарий-от-ревьюера-v_1\" data-toc-modified-id=\"Комментарий-от-ревьюера-v_1-1.2.5\">Комментарий от ревьюера v_1</a></span></li></ul></li><li><span><a href=\"#Исследовательский-анализ-данных\" data-toc-modified-id=\"Исследовательский-анализ-данных-1.3\">Исследовательский анализ данных</a></span><ul class=\"toc-item\"><li><span><a href=\"#Количество-событий-на-пользователя\" data-toc-modified-id=\"Количество-событий-на-пользователя-1.3.1\">Количество событий на пользователя</a></span></li><li><span><a href=\"#Комментарий-от-ревьюера-v_1\" data-toc-modified-id=\"Комментарий-от-ревьюера-v_1-1.3.2\">Комментарий от ревьюера v_1</a></span></li><li><span><a href=\"#Период-исследования\" data-toc-modified-id=\"Период-исследования-1.3.3\">Период исследования</a></span></li><li><span><a href=\"#Комментарий-от-ревьюера-v_1\" data-toc-modified-id=\"Комментарий-от-ревьюера-v_1-1.3.4\">Комментарий от ревьюера v_1</a></span></li><li><span><a href=\"#Комментарий-от-ревьюера-v_1\" data-toc-modified-id=\"Комментарий-от-ревьюера-v_1-1.3.5\">Комментарий от ревьюера v_1</a></span></li><li><span><a href=\"#Комментарий-от-ревьюера-v_2\" data-toc-modified-id=\"Комментарий-от-ревьюера-v_2-1.3.6\">Комментарий от ревьюера v_2</a></span></li><li><span><a href=\"#Распределение-пользователей-по-группам\" data-toc-modified-id=\"Распределение-пользователей-по-группам-1.3.7\">Распределение пользователей по группам</a></span></li><li><span><a href=\"#Комментарий-от-ревьюера-v_1\" data-toc-modified-id=\"Комментарий-от-ревьюера-v_1-1.3.8\">Комментарий от ревьюера v_1</a></span></li><li><span><a href=\"#Комментарий-от-ревьюера-v_2\" data-toc-modified-id=\"Комментарий-от-ревьюера-v_2-1.3.9\">Комментарий от ревьюера v_2</a></span></li></ul></li><li><span><a href=\"#Изучение-пользовательских-метрик\" data-toc-modified-id=\"Изучение-пользовательских-метрик-1.4\">Изучение пользовательских метрик</a></span><ul class=\"toc-item\"><li><span><a href=\"#Количество-событий\" data-toc-modified-id=\"Количество-событий-1.4.1\">Количество событий</a></span></li><li><span><a href=\"#Количество-пользователей,-совершивших-событие\" data-toc-modified-id=\"Количество-пользователей,-совершивших-событие-1.4.2\">Количество пользователей, совершивших событие</a></span></li><li><span><a href=\"#Комментарий-от-ревьюера-v_2\" data-toc-modified-id=\"Комментарий-от-ревьюера-v_2-1.4.3\">Комментарий от ревьюера v_2</a></span></li><li><span><a href=\"#Воронки-событий\" data-toc-modified-id=\"Воронки-событий-1.4.4\">Воронки событий</a></span></li><li><span><a href=\"#Комментарий-от-ревьюера-v_2\" data-toc-modified-id=\"Комментарий-от-ревьюера-v_2-1.4.5\">Комментарий от ревьюера v_2</a></span></li></ul></li><li><span><a href=\"#Проверка-гипотез\" data-toc-modified-id=\"Проверка-гипотез-1.5\">Проверка гипотез</a></span><ul class=\"toc-item\"><li><span><a href=\"#Комментарий-от-ревьюера-v_2\" data-toc-modified-id=\"Комментарий-от-ревьюера-v_2-1.5.1\">Комментарий от ревьюера v_2</a></span></li><li><span><a href=\"#Проверка-методики-на-основе-A/A-теста\" data-toc-modified-id=\"Проверка-методики-на-основе-A/A-теста-1.5.2\">Проверка методики на основе A/A-теста</a></span></li><li><span><a href=\"#Комментарий-от-ревьюера-v_2\" data-toc-modified-id=\"Комментарий-от-ревьюера-v_2-1.5.3\">Комментарий от ревьюера v_2</a></span></li><li><span><a href=\"#Проверка-гипотез-A/B-теста\" data-toc-modified-id=\"Проверка-гипотез-A/B-теста-1.5.4\">Проверка гипотез A/B-теста</a></span></li><li><span><a href=\"#Множественная-проверка-гипотез\" data-toc-modified-id=\"Множественная-проверка-гипотез-1.5.5\">Множественная проверка гипотез</a></span></li><li><span><a href=\"#Комментарий-от-ревьюера-v_2\" data-toc-modified-id=\"Комментарий-от-ревьюера-v_2-1.5.6\">Комментарий от ревьюера v_2</a></span></li></ul></li><li><span><a href=\"#Вывод\" data-toc-modified-id=\"Вывод-1.6\">Вывод</a></span><ul class=\"toc-item\"><li><span><a href=\"#Комментарий-от-ревьюера-v_2\" data-toc-modified-id=\"Комментарий-от-ревьюера-v_2-1.6.1\">Комментарий от ревьюера v_2</a></span></li></ul></li></ul></li></ul></div>"
   ]
  },
  {
   "cell_type": "markdown",
   "id": "0b482f3c",
   "metadata": {},
   "source": [
    "#### Василий, привет! \n",
    "\n",
    "Меня зовут Максим Попов, и я буду проверять твой проект. Давай будем общаться на «ты». Но если тебе комфортнее на «вы», обязательно сообщи мне об этом. \n",
    "По ходу тетрадки ты найдешь комментарии к проекту, они будут в отдельных ячейках Markdown с заголовком «Комментарий ревьюера». Постарайся учесть эти комментарии для дальнейших проектов.\n",
    "\n",
    "---\n",
    "\n",
    "Я буду отмечать комментарии цветом и примечанием. В конце заголовка комментария будет указан номер итерации проверки. Пожалуйста, не удаляй и не правь мои комментарии\n",
    "\n",
    "Критично - требует исправления, влияет на удачное выполнение проекта\n",
    "\n",
    "Рекомендация - комментарий является рекомендацией или советом. Mожешь учесть их при выполнении будущих заданий. На твое усмотрение\n",
    "\n",
    "Отлично - Так отмечены удачные решения и подходы, на которые стоит опираться в будущих проектах\n",
    "\n",
    "\n",
    "---\n",
    "<div class=\"alert alert-block alert-danger\">\n",
    "    \n",
    "\n",
    "### Комментарий от ревьюера\n",
    "Критично\n",
    "\n",
    "Такой комментарий нужно исправить обязательно, он критически влияет на удачное выполнение проекта.\n",
    "</div>\n",
    "    \n",
    "---\n",
    "\n",
    "<div class=\"alert alert-block alert-warning\">\n",
    "    \n",
    "\n",
    "### Комментарий от ревьюера\n",
    "Рекомендация\n",
    "\n",
    "Такой комментарий является рекомендацией или советом. Mожешь учесть их при выполнении будущих заданий. На твое усмотрение. \n",
    "</div>\n",
    "\n",
    "---\n",
    "\n",
    "<div class=\"alert alert-block alert-success\">\n",
    "    \n",
    "\n",
    "### Комментарий от ревьюера\n",
    "Отлично\n",
    "    \n",
    "Так отмечены удачные решения и подходы, на которые стоит опираться в будущих проектах\n",
    "</div>\n",
    "\n",
    "\n",
    "Желательно реагировать на комментарии ('исправлено', 'не понятно как исправить ошибку' и т.п.) - так мы сможем более эффективно поработать над этим проектом.\n",
    "\n",
    "---\n",
    "\n",
    "Будет здорово, если ты будешь помечать свои действия следующим образом:\n",
    "\n",
    "\n",
    "\n",
    "<div class=\"alert alert-block alert-info\">\n",
    "\n",
    "### Комментарий студента:\n",
    "\n",
    "</div>"
   ]
  },
  {
   "cell_type": "markdown",
   "id": "cb4120e2",
   "metadata": {},
   "source": [
    "<div class=\"alert alert-block alert-success\">\n",
    "    \n",
    "    \n",
    "### Комментарий от ревьюера v_1\n",
    "    \n",
    "Василий, отличная работа, но дополнить анализ удаленных значений и код падает на шаге воронки\n",
    "  \n",
    "Подробные комментарии по ходу работы\n",
    "    \n",
    "Желтые комментарии-рекомендации на твое усмотрение.\n",
    "    \n",
    "Если есть вопросы ко мне, можешь оставить их в отдельном комментарии\n",
    "</div>"
   ]
  },
  {
   "cell_type": "markdown",
   "id": "aaf0e5c6",
   "metadata": {},
   "source": [
    "<div class=\"alert alert-block alert-success\">\n",
    "    \n",
    "    \n",
    "### Комментарий от ревьюера v_2\n",
    "    \n",
    "Василий, привет!\n",
    "    \n",
    "Осталось немного подправить функцию для z-теста и все ОК\n",
    "    \n",
    "Подробные комментарии по ходу работы\n",
    "</div>"
   ]
  },
  {
   "cell_type": "markdown",
   "id": "821001f5",
   "metadata": {},
   "source": [
    "# Сборный проект 2\n"
   ]
  },
  {
   "cell_type": "markdown",
   "id": "8f77f6b8",
   "metadata": {},
   "source": [
    "**Описание проекта**\n",
    "\n",
    "Вы работаете в стартапе, который продаёт продукты питания. Нужно разобраться, как ведут себя пользователи вашего мобильного приложения.\n",
    "\n",
    "Изучите воронку продаж. Узнайте, как пользователи доходят до покупки. Сколько пользователей доходит до покупки, а сколько — «застревает» на предыдущих шагах? На каких именно?\n",
    "\n",
    "После этого исследуйте результаты A/A/B-эксперимента. Дизайнеры захотели поменять шрифты во всём приложении, а менеджеры испугались, что пользователям будет непривычно. Договорились принять решение по результатам A/A/B-теста. Пользователей разбили на 3 группы: 2 контрольные со старыми шрифтами и одну экспериментальную — с новыми. Выясните, какой шрифт лучше."
   ]
  },
  {
   "cell_type": "markdown",
   "id": "1c01a498",
   "metadata": {},
   "source": [
    "\n",
    "<div class=\"alert alert-block alert-success\">\n",
    "    \n",
    "\n",
    "### Комментарий от ревьюера v_1\n",
    "Отлично\n",
    "    \n",
    "Молодец, что в начале проекте знакомишь с ним, так работа приобретает структуру и лучше воспринимается.\n",
    "    \n",
    "</div>"
   ]
  },
  {
   "cell_type": "code",
   "execution_count": 192,
   "id": "10720118",
   "metadata": {},
   "outputs": [],
   "source": [
    "import pandas as pd\n",
    "import matplotlib.pyplot as plt\n",
    "import seaborn as sns\n",
    "import numpy as np\n",
    "import math as mth\n",
    "from plotly import graph_objects as go \n",
    "from scipy import stats as st\n",
    "import warnings\n",
    "warnings.filterwarnings(\"ignore\")\n",
    "\n",
    "plt.style.use('dark_background')"
   ]
  },
  {
   "cell_type": "markdown",
   "id": "b91714d0",
   "metadata": {},
   "source": [
    "<div class=\"alert alert-block alert-success\">\n",
    "    \n",
    "\n",
    "### Комментарий от ревьюера v_1\n",
    "Отлично\n",
    "    \n",
    "Отлично, библиотеки импортированы в начале тетрадки, в отдельной ячейке.\n",
    "</div>"
   ]
  },
  {
   "cell_type": "markdown",
   "id": "0fd0bcea",
   "metadata": {},
   "source": [
    "## Обзор данных"
   ]
  },
  {
   "cell_type": "code",
   "execution_count": 193,
   "id": "fcf6753b",
   "metadata": {},
   "outputs": [],
   "source": [
    "# Путь к файлам\n",
    "FilePath = \"D:/Учеба/Аналитика Данных/Notebooks/Сборный проект 2/\"\n",
    "\n",
    "try:\n",
    "    logs = pd.read_csv(\"/datasets/logs_exp.csv\", sep='\\t')\n",
    "except:\n",
    "    logs = pd.read_csv(FilePath + \"logs_exp.csv\", sep='\\t')"
   ]
  },
  {
   "cell_type": "code",
   "execution_count": 194,
   "id": "b91c4aef",
   "metadata": {},
   "outputs": [
    {
     "data": {
      "text/html": [
       "<div>\n",
       "<style scoped>\n",
       "    .dataframe tbody tr th:only-of-type {\n",
       "        vertical-align: middle;\n",
       "    }\n",
       "\n",
       "    .dataframe tbody tr th {\n",
       "        vertical-align: top;\n",
       "    }\n",
       "\n",
       "    .dataframe thead th {\n",
       "        text-align: right;\n",
       "    }\n",
       "</style>\n",
       "<table border=\"1\" class=\"dataframe\">\n",
       "  <thead>\n",
       "    <tr style=\"text-align: right;\">\n",
       "      <th></th>\n",
       "      <th>EventName</th>\n",
       "      <th>DeviceIDHash</th>\n",
       "      <th>EventTimestamp</th>\n",
       "      <th>ExpId</th>\n",
       "    </tr>\n",
       "  </thead>\n",
       "  <tbody>\n",
       "    <tr>\n",
       "      <th>0</th>\n",
       "      <td>MainScreenAppear</td>\n",
       "      <td>4575588528974610257</td>\n",
       "      <td>1564029816</td>\n",
       "      <td>246</td>\n",
       "    </tr>\n",
       "    <tr>\n",
       "      <th>1</th>\n",
       "      <td>MainScreenAppear</td>\n",
       "      <td>7416695313311560658</td>\n",
       "      <td>1564053102</td>\n",
       "      <td>246</td>\n",
       "    </tr>\n",
       "    <tr>\n",
       "      <th>2</th>\n",
       "      <td>PaymentScreenSuccessful</td>\n",
       "      <td>3518123091307005509</td>\n",
       "      <td>1564054127</td>\n",
       "      <td>248</td>\n",
       "    </tr>\n",
       "    <tr>\n",
       "      <th>3</th>\n",
       "      <td>CartScreenAppear</td>\n",
       "      <td>3518123091307005509</td>\n",
       "      <td>1564054127</td>\n",
       "      <td>248</td>\n",
       "    </tr>\n",
       "    <tr>\n",
       "      <th>4</th>\n",
       "      <td>PaymentScreenSuccessful</td>\n",
       "      <td>6217807653094995999</td>\n",
       "      <td>1564055322</td>\n",
       "      <td>248</td>\n",
       "    </tr>\n",
       "  </tbody>\n",
       "</table>\n",
       "</div>"
      ],
      "text/plain": [
       "                 EventName         DeviceIDHash  EventTimestamp  ExpId\n",
       "0         MainScreenAppear  4575588528974610257      1564029816    246\n",
       "1         MainScreenAppear  7416695313311560658      1564053102    246\n",
       "2  PaymentScreenSuccessful  3518123091307005509      1564054127    248\n",
       "3         CartScreenAppear  3518123091307005509      1564054127    248\n",
       "4  PaymentScreenSuccessful  6217807653094995999      1564055322    248"
      ]
     },
     "execution_count": 194,
     "metadata": {},
     "output_type": "execute_result"
    }
   ],
   "source": [
    "logs.head()"
   ]
  },
  {
   "cell_type": "markdown",
   "id": "7418de1b",
   "metadata": {},
   "source": [
    "Для анализа предоставлена таблица `logs` с данными о действиях пользователей.\n",
    "\n",
    "* `EventName` — название события;\n",
    "* `DeviceIDHash` — уникальный идентификатор пользователя;\n",
    "* `EventTimestamp` — время события;\n",
    "* `ExpId` — номер эксперимента: 246 и 247 — контрольные группы, а 248 — экспериментальная."
   ]
  },
  {
   "cell_type": "code",
   "execution_count": 195,
   "id": "0ccfc4fb",
   "metadata": {
    "scrolled": true
   },
   "outputs": [
    {
     "name": "stdout",
     "output_type": "stream",
     "text": [
      "<class 'pandas.core.frame.DataFrame'>\n",
      "RangeIndex: 244126 entries, 0 to 244125\n",
      "Data columns (total 4 columns):\n",
      " #   Column          Non-Null Count   Dtype \n",
      "---  ------          --------------   ----- \n",
      " 0   EventName       244126 non-null  object\n",
      " 1   DeviceIDHash    244126 non-null  int64 \n",
      " 2   EventTimestamp  244126 non-null  int64 \n",
      " 3   ExpId           244126 non-null  int64 \n",
      "dtypes: int64(3), object(1)\n",
      "memory usage: 7.5+ MB\n"
     ]
    }
   ],
   "source": [
    "logs.info()"
   ]
  },
  {
   "cell_type": "markdown",
   "id": "4fc67b99",
   "metadata": {},
   "source": [
    "* В таблице `logs` 5 столбцов и 244126 записей о действиях пользователей.\n",
    "* Пропуски в таблице отсутствуют."
   ]
  },
  {
   "cell_type": "markdown",
   "id": "f4815bd1",
   "metadata": {},
   "source": [
    "## Предобработка данных"
   ]
  },
  {
   "cell_type": "markdown",
   "id": "b5d7127a",
   "metadata": {},
   "source": [
    "### Переименование столбцов"
   ]
  },
  {
   "cell_type": "markdown",
   "id": "67eea080",
   "metadata": {},
   "source": [
    "Для начала переименуем столбцы для удобства работы с данными."
   ]
  },
  {
   "cell_type": "code",
   "execution_count": 196,
   "id": "541fcee3",
   "metadata": {},
   "outputs": [
    {
     "data": {
      "text/html": [
       "<div>\n",
       "<style scoped>\n",
       "    .dataframe tbody tr th:only-of-type {\n",
       "        vertical-align: middle;\n",
       "    }\n",
       "\n",
       "    .dataframe tbody tr th {\n",
       "        vertical-align: top;\n",
       "    }\n",
       "\n",
       "    .dataframe thead th {\n",
       "        text-align: right;\n",
       "    }\n",
       "</style>\n",
       "<table border=\"1\" class=\"dataframe\">\n",
       "  <thead>\n",
       "    <tr style=\"text-align: right;\">\n",
       "      <th></th>\n",
       "      <th>event_name</th>\n",
       "      <th>user_id</th>\n",
       "      <th>event_ts</th>\n",
       "      <th>group</th>\n",
       "    </tr>\n",
       "  </thead>\n",
       "  <tbody>\n",
       "    <tr>\n",
       "      <th>0</th>\n",
       "      <td>MainScreenAppear</td>\n",
       "      <td>4575588528974610257</td>\n",
       "      <td>1564029816</td>\n",
       "      <td>246</td>\n",
       "    </tr>\n",
       "    <tr>\n",
       "      <th>1</th>\n",
       "      <td>MainScreenAppear</td>\n",
       "      <td>7416695313311560658</td>\n",
       "      <td>1564053102</td>\n",
       "      <td>246</td>\n",
       "    </tr>\n",
       "    <tr>\n",
       "      <th>2</th>\n",
       "      <td>PaymentScreenSuccessful</td>\n",
       "      <td>3518123091307005509</td>\n",
       "      <td>1564054127</td>\n",
       "      <td>248</td>\n",
       "    </tr>\n",
       "  </tbody>\n",
       "</table>\n",
       "</div>"
      ],
      "text/plain": [
       "                event_name              user_id    event_ts  group\n",
       "0         MainScreenAppear  4575588528974610257  1564029816    246\n",
       "1         MainScreenAppear  7416695313311560658  1564053102    246\n",
       "2  PaymentScreenSuccessful  3518123091307005509  1564054127    248"
      ]
     },
     "execution_count": 196,
     "metadata": {},
     "output_type": "execute_result"
    }
   ],
   "source": [
    "logs = logs.rename(columns = {'EventName':'event_name',\n",
    "                              'DeviceIDHash':'user_id',\n",
    "                              'EventTimestamp':'event_ts',\n",
    "                              'ExpId':'group'\n",
    "                             })\n",
    "logs.head(3)"
   ]
  },
  {
   "cell_type": "markdown",
   "id": "279a0518",
   "metadata": {},
   "source": [
    "### Преобразование типов данных\n"
   ]
  },
  {
   "cell_type": "markdown",
   "id": "8bb2ce1e",
   "metadata": {},
   "source": [
    "Затем приведем данные о дате и времени события к типу `datetime`"
   ]
  },
  {
   "cell_type": "code",
   "execution_count": 197,
   "id": "b091aecd",
   "metadata": {},
   "outputs": [],
   "source": [
    "logs['event_ts'] = pd.to_datetime(logs['event_ts'], unit='s')"
   ]
  },
  {
   "cell_type": "code",
   "execution_count": 198,
   "id": "06370441",
   "metadata": {
    "scrolled": true
   },
   "outputs": [
    {
     "data": {
      "text/html": [
       "<div>\n",
       "<style scoped>\n",
       "    .dataframe tbody tr th:only-of-type {\n",
       "        vertical-align: middle;\n",
       "    }\n",
       "\n",
       "    .dataframe tbody tr th {\n",
       "        vertical-align: top;\n",
       "    }\n",
       "\n",
       "    .dataframe thead th {\n",
       "        text-align: right;\n",
       "    }\n",
       "</style>\n",
       "<table border=\"1\" class=\"dataframe\">\n",
       "  <thead>\n",
       "    <tr style=\"text-align: right;\">\n",
       "      <th></th>\n",
       "      <th>event_name</th>\n",
       "      <th>user_id</th>\n",
       "      <th>event_ts</th>\n",
       "      <th>group</th>\n",
       "    </tr>\n",
       "  </thead>\n",
       "  <tbody>\n",
       "    <tr>\n",
       "      <th>0</th>\n",
       "      <td>MainScreenAppear</td>\n",
       "      <td>4575588528974610257</td>\n",
       "      <td>2019-07-25 04:43:36</td>\n",
       "      <td>246</td>\n",
       "    </tr>\n",
       "    <tr>\n",
       "      <th>1</th>\n",
       "      <td>MainScreenAppear</td>\n",
       "      <td>7416695313311560658</td>\n",
       "      <td>2019-07-25 11:11:42</td>\n",
       "      <td>246</td>\n",
       "    </tr>\n",
       "    <tr>\n",
       "      <th>2</th>\n",
       "      <td>PaymentScreenSuccessful</td>\n",
       "      <td>3518123091307005509</td>\n",
       "      <td>2019-07-25 11:28:47</td>\n",
       "      <td>248</td>\n",
       "    </tr>\n",
       "  </tbody>\n",
       "</table>\n",
       "</div>"
      ],
      "text/plain": [
       "                event_name              user_id            event_ts  group\n",
       "0         MainScreenAppear  4575588528974610257 2019-07-25 04:43:36    246\n",
       "1         MainScreenAppear  7416695313311560658 2019-07-25 11:11:42    246\n",
       "2  PaymentScreenSuccessful  3518123091307005509 2019-07-25 11:28:47    248"
      ]
     },
     "execution_count": 198,
     "metadata": {},
     "output_type": "execute_result"
    }
   ],
   "source": [
    "logs.head(3)"
   ]
  },
  {
   "cell_type": "markdown",
   "id": "1aeabfdf",
   "metadata": {},
   "source": [
    "Также можно переименовать группы тестирования для облегчения восприятия.\n",
    "\n",
    "Присвоим группам следующие обозначения:\n",
    "* 246 - A1\n",
    "* 247 - A2\n",
    "* 248 - B"
   ]
  },
  {
   "cell_type": "code",
   "execution_count": 199,
   "id": "8bce7553",
   "metadata": {},
   "outputs": [],
   "source": [
    "logs.loc[logs['group'] == 246, 'group'] = 'A1'\n",
    "logs.loc[logs['group'] == 247, 'group'] = 'A2'\n",
    "logs.loc[logs['group'] == 248, 'group'] = 'B'"
   ]
  },
  {
   "cell_type": "code",
   "execution_count": 200,
   "id": "8e9b24d5",
   "metadata": {},
   "outputs": [
    {
     "data": {
      "text/html": [
       "<div>\n",
       "<style scoped>\n",
       "    .dataframe tbody tr th:only-of-type {\n",
       "        vertical-align: middle;\n",
       "    }\n",
       "\n",
       "    .dataframe tbody tr th {\n",
       "        vertical-align: top;\n",
       "    }\n",
       "\n",
       "    .dataframe thead th {\n",
       "        text-align: right;\n",
       "    }\n",
       "</style>\n",
       "<table border=\"1\" class=\"dataframe\">\n",
       "  <thead>\n",
       "    <tr style=\"text-align: right;\">\n",
       "      <th></th>\n",
       "      <th>event_name</th>\n",
       "      <th>user_id</th>\n",
       "      <th>event_ts</th>\n",
       "      <th>group</th>\n",
       "    </tr>\n",
       "  </thead>\n",
       "  <tbody>\n",
       "    <tr>\n",
       "      <th>0</th>\n",
       "      <td>MainScreenAppear</td>\n",
       "      <td>4575588528974610257</td>\n",
       "      <td>2019-07-25 04:43:36</td>\n",
       "      <td>A1</td>\n",
       "    </tr>\n",
       "    <tr>\n",
       "      <th>1</th>\n",
       "      <td>MainScreenAppear</td>\n",
       "      <td>7416695313311560658</td>\n",
       "      <td>2019-07-25 11:11:42</td>\n",
       "      <td>A1</td>\n",
       "    </tr>\n",
       "    <tr>\n",
       "      <th>2</th>\n",
       "      <td>PaymentScreenSuccessful</td>\n",
       "      <td>3518123091307005509</td>\n",
       "      <td>2019-07-25 11:28:47</td>\n",
       "      <td>B</td>\n",
       "    </tr>\n",
       "  </tbody>\n",
       "</table>\n",
       "</div>"
      ],
      "text/plain": [
       "                event_name              user_id            event_ts group\n",
       "0         MainScreenAppear  4575588528974610257 2019-07-25 04:43:36    A1\n",
       "1         MainScreenAppear  7416695313311560658 2019-07-25 11:11:42    A1\n",
       "2  PaymentScreenSuccessful  3518123091307005509 2019-07-25 11:28:47     B"
      ]
     },
     "execution_count": 200,
     "metadata": {},
     "output_type": "execute_result"
    }
   ],
   "source": [
    "logs.head(3)"
   ]
  },
  {
   "cell_type": "markdown",
   "id": "e1abc303",
   "metadata": {},
   "source": [
    "### Обработка дубликатов"
   ]
  },
  {
   "cell_type": "markdown",
   "id": "764bab63",
   "metadata": {},
   "source": [
    "Проверим записи таблицы на присутствие дубликатов."
   ]
  },
  {
   "cell_type": "code",
   "execution_count": 201,
   "id": "82335aa8",
   "metadata": {},
   "outputs": [
    {
     "data": {
      "text/plain": [
       "413"
      ]
     },
     "execution_count": 201,
     "metadata": {},
     "output_type": "execute_result"
    }
   ],
   "source": [
    "logs.duplicated().sum()"
   ]
  },
  {
   "cell_type": "markdown",
   "id": "9d6483a8",
   "metadata": {},
   "source": [
    "В таблице было обнаружено 413 полных дубликатов записей. Избавимся от них."
   ]
  },
  {
   "cell_type": "code",
   "execution_count": 202,
   "id": "ddb0ef67",
   "metadata": {},
   "outputs": [
    {
     "name": "stdout",
     "output_type": "stream",
     "text": [
      "<class 'pandas.core.frame.DataFrame'>\n",
      "Int64Index: 243713 entries, 0 to 244125\n",
      "Data columns (total 4 columns):\n",
      " #   Column      Non-Null Count   Dtype         \n",
      "---  ------      --------------   -----         \n",
      " 0   event_name  243713 non-null  object        \n",
      " 1   user_id     243713 non-null  int64         \n",
      " 2   event_ts    243713 non-null  datetime64[ns]\n",
      " 3   group       243713 non-null  object        \n",
      "dtypes: datetime64[ns](1), int64(1), object(2)\n",
      "memory usage: 9.3+ MB\n"
     ]
    }
   ],
   "source": [
    "logs = logs.drop_duplicates()\n",
    "\n",
    "logs.info()"
   ]
  },
  {
   "cell_type": "markdown",
   "id": "c15d81df",
   "metadata": {},
   "source": [
    "Отсеяно 413 дубликатов."
   ]
  },
  {
   "cell_type": "markdown",
   "id": "47d89fc7",
   "metadata": {},
   "source": [
    "### Извлечение дат"
   ]
  },
  {
   "cell_type": "markdown",
   "id": "123530e2",
   "metadata": {},
   "source": [
    "Также для выполнения анализа нам пригодятся даты проведения действий. Извлечем их из столбца с датой и временем."
   ]
  },
  {
   "cell_type": "code",
   "execution_count": 203,
   "id": "b46d7b6f",
   "metadata": {},
   "outputs": [],
   "source": [
    "logs['event_date'] = logs['event_ts'].dt.date"
   ]
  },
  {
   "cell_type": "code",
   "execution_count": 204,
   "id": "b2067f91",
   "metadata": {
    "scrolled": true
   },
   "outputs": [
    {
     "data": {
      "text/html": [
       "<div>\n",
       "<style scoped>\n",
       "    .dataframe tbody tr th:only-of-type {\n",
       "        vertical-align: middle;\n",
       "    }\n",
       "\n",
       "    .dataframe tbody tr th {\n",
       "        vertical-align: top;\n",
       "    }\n",
       "\n",
       "    .dataframe thead th {\n",
       "        text-align: right;\n",
       "    }\n",
       "</style>\n",
       "<table border=\"1\" class=\"dataframe\">\n",
       "  <thead>\n",
       "    <tr style=\"text-align: right;\">\n",
       "      <th></th>\n",
       "      <th>event_name</th>\n",
       "      <th>user_id</th>\n",
       "      <th>event_ts</th>\n",
       "      <th>group</th>\n",
       "      <th>event_date</th>\n",
       "    </tr>\n",
       "  </thead>\n",
       "  <tbody>\n",
       "    <tr>\n",
       "      <th>0</th>\n",
       "      <td>MainScreenAppear</td>\n",
       "      <td>4575588528974610257</td>\n",
       "      <td>2019-07-25 04:43:36</td>\n",
       "      <td>A1</td>\n",
       "      <td>2019-07-25</td>\n",
       "    </tr>\n",
       "    <tr>\n",
       "      <th>1</th>\n",
       "      <td>MainScreenAppear</td>\n",
       "      <td>7416695313311560658</td>\n",
       "      <td>2019-07-25 11:11:42</td>\n",
       "      <td>A1</td>\n",
       "      <td>2019-07-25</td>\n",
       "    </tr>\n",
       "    <tr>\n",
       "      <th>2</th>\n",
       "      <td>PaymentScreenSuccessful</td>\n",
       "      <td>3518123091307005509</td>\n",
       "      <td>2019-07-25 11:28:47</td>\n",
       "      <td>B</td>\n",
       "      <td>2019-07-25</td>\n",
       "    </tr>\n",
       "  </tbody>\n",
       "</table>\n",
       "</div>"
      ],
      "text/plain": [
       "                event_name              user_id            event_ts group  \\\n",
       "0         MainScreenAppear  4575588528974610257 2019-07-25 04:43:36    A1   \n",
       "1         MainScreenAppear  7416695313311560658 2019-07-25 11:11:42    A1   \n",
       "2  PaymentScreenSuccessful  3518123091307005509 2019-07-25 11:28:47     B   \n",
       "\n",
       "   event_date  \n",
       "0  2019-07-25  \n",
       "1  2019-07-25  \n",
       "2  2019-07-25  "
      ]
     },
     "execution_count": 204,
     "metadata": {},
     "output_type": "execute_result"
    }
   ],
   "source": [
    "logs.head(3)"
   ]
  },
  {
   "cell_type": "markdown",
   "id": "8464ed09",
   "metadata": {},
   "source": [
    "<div class=\"alert alert-block alert-success\">\n",
    "    \n",
    "\n",
    "### Комментарий от ревьюера v_1\n",
    "Отлично\n",
    "    \n",
    "С подготовкой все ОК, но рекомендую завенуть проверки в функцию и использовать ее и в следующих проектах, и в целом при дальнейшей работы с данными\n",
    "    \n",
    "В конце можно подытожить небольшим выводом о качестве исследуемых данных\n",
    "</div>"
   ]
  },
  {
   "cell_type": "markdown",
   "id": "1ed1fc9d",
   "metadata": {},
   "source": [
    "## Исследовательский анализ данных"
   ]
  },
  {
   "cell_type": "markdown",
   "id": "9b064b3f",
   "metadata": {},
   "source": [
    "Для начала разберемся с какими данными мы имеем дело. Найдем количество записей в таблице и количество уникальных значений для каждого столбца."
   ]
  },
  {
   "cell_type": "code",
   "execution_count": 205,
   "id": "7da07466",
   "metadata": {},
   "outputs": [
    {
     "data": {
      "text/plain": [
       "243713"
      ]
     },
     "execution_count": 205,
     "metadata": {},
     "output_type": "execute_result"
    }
   ],
   "source": [
    "len(logs)"
   ]
  },
  {
   "cell_type": "markdown",
   "id": "6e17144a",
   "metadata": {},
   "source": [
    "В таблице представлено 243713 уникальных записи о событиях.\n",
    "Теперь определим количество уникальных событий, пользователей, групп тестирования и дат."
   ]
  },
  {
   "cell_type": "code",
   "execution_count": 206,
   "id": "8b56dcd8",
   "metadata": {},
   "outputs": [
    {
     "data": {
      "text/plain": [
       "event_name         5\n",
       "user_id         7551\n",
       "event_ts      176654\n",
       "group              3\n",
       "event_date        14\n",
       "dtype: int64"
      ]
     },
     "execution_count": 206,
     "metadata": {},
     "output_type": "execute_result"
    }
   ],
   "source": [
    "logs.nunique()"
   ]
  },
  {
   "cell_type": "markdown",
   "id": "69239369",
   "metadata": {},
   "source": [
    "Количество уникальных записей по столбцам\n",
    "* 5 событий\n",
    "* 7551 уникальный пользователь\n",
    "* Записи разделены на 3 тестовые группы\n",
    "* 14 дней"
   ]
  },
  {
   "cell_type": "markdown",
   "id": "971bdfe5",
   "metadata": {},
   "source": [
    "### Количество событий на пользователя"
   ]
  },
  {
   "cell_type": "markdown",
   "id": "f02a929e",
   "metadata": {},
   "source": [
    "Определим, сколько событий в среднем приходится на одного пользователя. Также построим гистограмму, чтобы рассмотреть распределение."
   ]
  },
  {
   "cell_type": "code",
   "execution_count": 207,
   "id": "37e98254",
   "metadata": {
    "scrolled": false
   },
   "outputs": [
    {
     "data": {
      "image/png": "[encoded data removed]",
      "text/plain": [
       "<Figure size 720x432 with 2 Axes>"
      ]
     },
     "metadata": {},
     "output_type": "display_data"
    }
   ],
   "source": [
    "fig, ax = plt.subplots(2,1, figsize=(10,6), sharex=True, gridspec_kw={'height_ratios': [8, 1]})\n",
    "\n",
    "sns.histplot(logs.groupby('user_id').agg({'event_name':'count'}),\n",
    "             bins=range(0,1000,4),\n",
    "             ax=ax[0])\n",
    "\n",
    "sns.boxplot(x=logs.groupby('user_id').agg({'event_name':'count'}).values,\n",
    "            ax=ax[1])\n",
    "\n",
    "events_mean = logs.groupby('user_id').agg({'event_name':'count'}).mean().values\n",
    "\n",
    "ax[0].axvline(events_mean, linestyle ='--', color='orange', label=f'Среднее число событий на пользователя = {events_mean[0]:.0f}' )\n",
    "ax[1].axvline(events_mean, linestyle ='--', color='orange')\n",
    "\n",
    "ax[0].set_title('Количество событий на пользователя', fontsize='16')\n",
    "\n",
    "ax[0].set_ylabel('Число пользователей', fontsize='14')\n",
    "ax[1].set_xlabel('Число событий', fontsize='14')\n",
    "\n",
    "ax[1].set_xticks(range(0,151,10))\n",
    "\n",
    "ax[0].legend(fontsize='12')\n",
    "\n",
    "plt.xlim(0,150)\n",
    "plt.subplots_adjust(hspace=0)\n",
    "\n",
    "plt.show()"
   ]
  },
  {
   "cell_type": "markdown",
   "id": "c30f0800",
   "metadata": {},
   "source": [
    "* Количество событий на пользователя имеет стремящееся к логнормальному распределение\n",
    "* В среднем на одного пользователя приходится 32 события, однако распределение сильно растянуто вправо, поэтому также стоит рассмотреть величину медианы.\n",
    "* Медиана - 20 событий"
   ]
  },
  {
   "cell_type": "markdown",
   "id": "178dc4c8",
   "metadata": {},
   "source": [
    "<div class=\"alert alert-block alert-success\">\n",
    "    \n",
    "\n",
    "### Комментарий от ревьюера v_1\n",
    "Отлично\n",
    "    \n",
    "Отличный шаг, здорово, что используешь визуализации 👍\n",
    "</div>"
   ]
  },
  {
   "cell_type": "markdown",
   "id": "7e54e3dd",
   "metadata": {},
   "source": [
    "### Период исследования"
   ]
  },
  {
   "cell_type": "markdown",
   "id": "0dcc9270",
   "metadata": {},
   "source": [
    "Теперь стоит рассмотреть даты возникновения событий для того чтобы знать, с каким периодом мы имеем дело. Для начала найдем минимальную и максимальную дату событий."
   ]
  },
  {
   "cell_type": "markdown",
   "id": "40592e30",
   "metadata": {},
   "source": [
    "Данными за какой период вы располагаете? Найдите максимальную и минимальную дату. Постройте гистограмму по дате и времени. Можно ли быть уверенным, что у вас одинаково полные данные за весь период? Технически в логи новых дней по некоторым пользователям могут «доезжать» события из прошлого — это может «перекашивать данные». Определите, с какого момента данные полные и отбросьте более старые. Данными за какой период времени вы располагаете на самом деле?"
   ]
  },
  {
   "cell_type": "code",
   "execution_count": 208,
   "id": "b5ead6e6",
   "metadata": {},
   "outputs": [
    {
     "name": "stdout",
     "output_type": "stream",
     "text": [
      "Min Date = 2019-07-25\n",
      "Max Date = 2019-08-07\n"
     ]
    }
   ],
   "source": [
    "print('Min Date =', logs['event_date'].min())\n",
    "print('Max Date =', logs['event_date'].max())"
   ]
  },
  {
   "cell_type": "markdown",
   "id": "31d4d583",
   "metadata": {},
   "source": [
    "В таблице представлены данные за 2 недели: с 25 июля 2019 по 7 августа 2019.\n",
    "\n",
    "Также стоит рассмотреть распределение событий по датам."
   ]
  },
  {
   "cell_type": "code",
   "execution_count": 209,
   "id": "6c72529b",
   "metadata": {},
   "outputs": [
    {
     "data": {
      "image/png": "[encoded data removed]",
      "text/plain": [
       "<Figure size 1152x576 with 1 Axes>"
      ]
     },
     "metadata": {},
     "output_type": "display_data"
    }
   ],
   "source": [
    "fig = plt.figure(figsize=(16,8))\n",
    "ax = sns.histplot(logs['event_ts'])\n",
    "\n",
    "ax.set_title('Количество событий по датам', fontsize=16)\n",
    "ax.set_xlabel('Дата', fontsize=12)\n",
    "ax.set_ylabel('Количество событий', fontsize=12)\n",
    "\n",
    "plt.show()"
   ]
  },
  {
   "cell_type": "markdown",
   "id": "6c4480ce",
   "metadata": {},
   "source": [
    "Хотя диапазон представленных дат составляет 2 недели (с 25 июля 2019 по 7 августа 2019), данные за первую неделю диапазона практически отсутствуют. На гистограмме видно, что полноценные данные появляются с 1 августа 2019. Для анализа данных будем использовать период с 1 по 7 августа 2019 года. Остальные данные отбросим."
   ]
  },
  {
   "cell_type": "markdown",
   "id": "740d9c14",
   "metadata": {},
   "source": [
    "<div class=\"alert alert-block alert-success\">\n",
    "    \n",
    "\n",
    "### Комментарий от ревьюера v_1\n",
    "Отлично\n",
    "    \n",
    "Все верно\n",
    "</div>"
   ]
  },
  {
   "cell_type": "code",
   "execution_count": 210,
   "id": "933b557b",
   "metadata": {},
   "outputs": [
    {
     "name": "stdout",
     "output_type": "stream",
     "text": [
      "2826\n"
     ]
    },
    {
     "data": {
      "text/plain": [
       "0.011595606307418972"
      ]
     },
     "execution_count": 210,
     "metadata": {},
     "output_type": "execute_result"
    }
   ],
   "source": [
    "horizon = pd.to_datetime(\"2019-08-01\")\n",
    "logs_filtered = logs.query('@horizon <= event_date')\n",
    "print(len(logs) - len(logs_filtered))\n",
    "(len(logs) - len(logs_filtered))/len(logs)"
   ]
  },
  {
   "cell_type": "markdown",
   "id": "b7459e9d",
   "metadata": {},
   "source": [
    "В процессе фильтрации было отброшено 2826 записей, что составляет около 1 процента от всех записей."
   ]
  },
  {
   "cell_type": "markdown",
   "id": "66bebc57",
   "metadata": {},
   "source": [
    "<div class=\"alert alert-block alert-danger\">\n",
    "    \n",
    "\n",
    "### Комментарий от ревьюера v_1\n",
    "Критично\n",
    "\n",
    "При анализе удаленных значений следует помимо количества событий посмотреть какое количество пользователей потеряли\n",
    "    \n",
    "</div>"
   ]
  },
  {
   "cell_type": "code",
   "execution_count": 211,
   "id": "ed8719a6",
   "metadata": {
    "scrolled": true
   },
   "outputs": [
    {
     "name": "stdout",
     "output_type": "stream",
     "text": [
      "17\n"
     ]
    },
    {
     "data": {
      "text/plain": [
       "0.0022513574361011784"
      ]
     },
     "execution_count": 211,
     "metadata": {},
     "output_type": "execute_result"
    }
   ],
   "source": [
    "print(logs['user_id'].nunique() - logs_filtered['user_id'].nunique())\n",
    "(logs['user_id'].nunique() - logs_filtered['user_id'].nunique())/logs['user_id'].nunique()"
   ]
  },
  {
   "cell_type": "markdown",
   "id": "cee140fc",
   "metadata": {},
   "source": [
    "При фильтрации также было отброшены записи для 17 пользователей, что составляет около 0,2% от всех пользователей."
   ]
  },
  {
   "cell_type": "markdown",
   "id": "4cfc4b1e",
   "metadata": {},
   "source": [
    "<div class=\"alert alert-block alert-info\">\n",
    "\n",
    "**Комментарий студента:**<br>\n",
    "    Добавил подсчет кол-ва пользователей.\n",
    "\n",
    "</div>"
   ]
  },
  {
   "cell_type": "markdown",
   "id": "79356815",
   "metadata": {},
   "source": [
    "<div class=\"alert alert-block alert-success\">\n",
    "\n",
    "    \n",
    "### Комментарий от ревьюера v_2\n",
    "\n",
    "👍🏻\n",
    "    \n",
    "</div>"
   ]
  },
  {
   "cell_type": "code",
   "execution_count": 212,
   "id": "eecf0cdf",
   "metadata": {},
   "outputs": [
    {
     "data": {
      "image/png": "[encoded data removed]",
      "text/plain": [
       "<Figure size 1152x576 with 1 Axes>"
      ]
     },
     "metadata": {},
     "output_type": "display_data"
    }
   ],
   "source": [
    "fig = plt.figure(figsize=(16,8))\n",
    "ax = sns.histplot(logs_filtered['event_ts'])\n",
    "\n",
    "ax.set_title('Количество событий по датам', fontsize=16)\n",
    "ax.set_xlabel('Дата', fontsize=12)\n",
    "ax.set_ylabel('Количество событий', fontsize=12)\n",
    "\n",
    "plt.show()"
   ]
  },
  {
   "cell_type": "markdown",
   "id": "c9a49a41",
   "metadata": {},
   "source": [
    "### Распределение пользователей по группам"
   ]
  },
  {
   "cell_type": "markdown",
   "id": "e4d76802",
   "metadata": {},
   "source": [
    "Теперь рассмотрим распределение пользователей по тестовым группам."
   ]
  },
  {
   "cell_type": "code",
   "execution_count": 213,
   "id": "f1615d85",
   "metadata": {},
   "outputs": [
    {
     "data": {
      "text/html": [
       "<div>\n",
       "<style scoped>\n",
       "    .dataframe tbody tr th:only-of-type {\n",
       "        vertical-align: middle;\n",
       "    }\n",
       "\n",
       "    .dataframe tbody tr th {\n",
       "        vertical-align: top;\n",
       "    }\n",
       "\n",
       "    .dataframe thead th {\n",
       "        text-align: right;\n",
       "    }\n",
       "</style>\n",
       "<table border=\"1\" class=\"dataframe\">\n",
       "  <thead>\n",
       "    <tr style=\"text-align: right;\">\n",
       "      <th></th>\n",
       "      <th>group</th>\n",
       "      <th>user_id</th>\n",
       "    </tr>\n",
       "  </thead>\n",
       "  <tbody>\n",
       "    <tr>\n",
       "      <th>0</th>\n",
       "      <td>A1</td>\n",
       "      <td>2484</td>\n",
       "    </tr>\n",
       "    <tr>\n",
       "      <th>1</th>\n",
       "      <td>A2</td>\n",
       "      <td>2513</td>\n",
       "    </tr>\n",
       "    <tr>\n",
       "      <th>2</th>\n",
       "      <td>B</td>\n",
       "      <td>2537</td>\n",
       "    </tr>\n",
       "  </tbody>\n",
       "</table>\n",
       "</div>"
      ],
      "text/plain": [
       "  group  user_id\n",
       "0    A1     2484\n",
       "1    A2     2513\n",
       "2     B     2537"
      ]
     },
     "execution_count": 213,
     "metadata": {},
     "output_type": "execute_result"
    }
   ],
   "source": [
    "logs_filtered.groupby('group').agg({'user_id':'nunique'}).reset_index()"
   ]
  },
  {
   "cell_type": "markdown",
   "id": "fb44a2fa",
   "metadata": {},
   "source": [
    "<div class=\"alert alert-block alert-danger\">\n",
    "    \n",
    "### Комментарий от ревьюера v_1\n",
    "Критично\n",
    "\n",
    "Дальше код падает\n",
    "    \n",
    "</div>"
   ]
  },
  {
   "cell_type": "markdown",
   "id": "e11ef54c",
   "metadata": {},
   "source": [
    "<div class=\"alert alert-block alert-info\">\n",
    "\n",
    "**Комментарий студента:**<br>\n",
    "    Метод bar_label появился только в matplotlib версии 3.4.2 и выше\n",
    "    <br>\n",
    "    Я писал проект локально. Нужно просто обновить matplotlib\n",
    "\n",
    "</div>"
   ]
  },
  {
   "cell_type": "markdown",
   "id": "befee4bd",
   "metadata": {},
   "source": [
    "<div class=\"alert alert-block alert-warning\">\n",
    "\n",
    "### Комментарий от ревьюера v_2\n",
    "Рекомендация\n",
    "\n",
    "Проект сдается в среде Практикума и должен отрабатывать в среде Практикума, это вполне себе стандартная рабочая ситуация. Можно писать программу дома, а в рабочем окружении она работать не будет.\n",
    "    \n",
    "Я обновлю либу, чтобы не замедлять проверку, но для будущих проектов задача, чтобы код отрабатывал до конца лежит на студенте, а не на проверяющем\n",
    "    \n",
    "</div>"
   ]
  },
  {
   "cell_type": "raw",
   "id": "7b90d659",
   "metadata": {},
   "source": [
    "pip install --user --upgrade matplotlib"
   ]
  },
  {
   "cell_type": "code",
   "execution_count": 214,
   "id": "983f0fe2",
   "metadata": {},
   "outputs": [
    {
     "data": {
      "image/png": "[encoded data removed]",
      "text/plain": [
       "<Figure size 576x360 with 1 Axes>"
      ]
     },
     "metadata": {},
     "output_type": "display_data"
    }
   ],
   "source": [
    "fig = plt.figure(figsize=(8,5))\n",
    "ax = sns.barplot(x=logs_filtered.groupby('group').agg({'user_id':'nunique'}).reset_index()['group'],\n",
    "                 y=logs_filtered.groupby('group').agg({'user_id':'nunique'}).reset_index()['user_id'],\n",
    "                 palette=sns.color_palette(\"tab10\")\n",
    "                )\n",
    "\n",
    "ax.bar_label(ax.containers[0], fontsize=14, padding=-20)\n",
    "\n",
    "ax.set_title('Количество пользователей по группам', fontsize=16)\n",
    "ax.set_xlabel('Группа', fontsize=12)\n",
    "ax.set_ylabel('Число пользователей', fontsize=12)\n",
    "\n",
    "sns.despine()\n"
   ]
  },
  {
   "cell_type": "markdown",
   "id": "82041b6b",
   "metadata": {},
   "source": [
    "Распределение по группам достаточно равномерное, в каждой из групп около 2500 пользователей."
   ]
  },
  {
   "cell_type": "markdown",
   "id": "f4aee073",
   "metadata": {},
   "source": [
    "## Изучение пользовательских метрик"
   ]
  },
  {
   "cell_type": "markdown",
   "id": "9d9fdaa1",
   "metadata": {},
   "source": [
    "### Количество событий"
   ]
  },
  {
   "cell_type": "markdown",
   "id": "0a570571",
   "metadata": {},
   "source": [
    "Для начала стоит изучить, какие события вообще есть в логах, и подсчитать их количество."
   ]
  },
  {
   "cell_type": "code",
   "execution_count": 215,
   "id": "911e82da",
   "metadata": {},
   "outputs": [
    {
     "data": {
      "image/png": "[encoded data removed]",
      "text/plain": [
       "<Figure size 576x360 with 1 Axes>"
      ]
     },
     "metadata": {},
     "output_type": "display_data"
    }
   ],
   "source": [
    "\n",
    "fig = plt.figure(figsize=(8,5))\n",
    "ax = sns.barplot(x=logs_filtered['event_name'].value_counts().values,\n",
    "                 y=logs_filtered['event_name'].value_counts().index,\n",
    "                 palette=sns.color_palette(\"tab10\")\n",
    "                )\n",
    "\n",
    "ax.bar_label(ax.containers[0], fontsize=14, padding=0)\n",
    "\n",
    "ax.set_title('Количество событий по типам', fontsize=16)\n",
    "ax.set_xlabel('Число событий', fontsize=12)\n",
    "ax.set_ylabel('Событие', fontsize=12)\n",
    "\n",
    "sns.despine()\n"
   ]
  },
  {
   "cell_type": "markdown",
   "id": "328527b5",
   "metadata": {},
   "source": [
    "* Как видно из графика, самым популярным событием является появление главного экрана (MainScreenAppear). На него приходится около половины от всех событий.\n",
    "* Далее по частотности идут OffersScreenAppear, CartScreenAppear, PaymentScreenSuccessful\n",
    "* Самым редко возникающим событиям является Tutorial\t"
   ]
  },
  {
   "cell_type": "markdown",
   "id": "41d49844",
   "metadata": {},
   "source": [
    "### Количество пользователей, совершивших событие"
   ]
  },
  {
   "cell_type": "markdown",
   "id": "1f677fa2",
   "metadata": {},
   "source": [
    "Далее следует подсчитать количество уникальных пользователей, совершивших каждое из событий. Также найдем долю пользователей, совершивших хотя бы одно событие."
   ]
  },
  {
   "cell_type": "code",
   "execution_count": 216,
   "id": "227730ad",
   "metadata": {},
   "outputs": [
    {
     "data": {
      "text/html": [
       "<div>\n",
       "<style scoped>\n",
       "    .dataframe tbody tr th:only-of-type {\n",
       "        vertical-align: middle;\n",
       "    }\n",
       "\n",
       "    .dataframe tbody tr th {\n",
       "        vertical-align: top;\n",
       "    }\n",
       "\n",
       "    .dataframe thead th {\n",
       "        text-align: right;\n",
       "    }\n",
       "</style>\n",
       "<table border=\"1\" class=\"dataframe\">\n",
       "  <thead>\n",
       "    <tr style=\"text-align: right;\">\n",
       "      <th></th>\n",
       "      <th>event_name</th>\n",
       "      <th>user_count</th>\n",
       "      <th>users_prc</th>\n",
       "    </tr>\n",
       "  </thead>\n",
       "  <tbody>\n",
       "    <tr>\n",
       "      <th>0</th>\n",
       "      <td>MainScreenAppear</td>\n",
       "      <td>7419</td>\n",
       "      <td>0.985</td>\n",
       "    </tr>\n",
       "    <tr>\n",
       "      <th>1</th>\n",
       "      <td>OffersScreenAppear</td>\n",
       "      <td>4593</td>\n",
       "      <td>0.610</td>\n",
       "    </tr>\n",
       "    <tr>\n",
       "      <th>2</th>\n",
       "      <td>CartScreenAppear</td>\n",
       "      <td>3734</td>\n",
       "      <td>0.496</td>\n",
       "    </tr>\n",
       "    <tr>\n",
       "      <th>3</th>\n",
       "      <td>PaymentScreenSuccessful</td>\n",
       "      <td>3539</td>\n",
       "      <td>0.470</td>\n",
       "    </tr>\n",
       "    <tr>\n",
       "      <th>4</th>\n",
       "      <td>Tutorial</td>\n",
       "      <td>840</td>\n",
       "      <td>0.111</td>\n",
       "    </tr>\n",
       "  </tbody>\n",
       "</table>\n",
       "</div>"
      ],
      "text/plain": [
       "                event_name  user_count  users_prc\n",
       "0         MainScreenAppear        7419      0.985\n",
       "1       OffersScreenAppear        4593      0.610\n",
       "2         CartScreenAppear        3734      0.496\n",
       "3  PaymentScreenSuccessful        3539      0.470\n",
       "4                 Tutorial         840      0.111"
      ]
     },
     "execution_count": 216,
     "metadata": {},
     "output_type": "execute_result"
    }
   ],
   "source": [
    "nunique_users = logs_filtered['user_id'].nunique()\n",
    "users_per_event = (logs_filtered.groupby('event_name', as_index=False)\n",
    "                                .agg({'user_id':'nunique'})\n",
    "                                .sort_values('user_id', ascending = False)\n",
    "                                .reset_index(drop=True))\n",
    "users_per_event = users_per_event.rename(columns={'user_id':'user_count'})\n",
    "\n",
    "users_per_event['users_prc'] = (users_per_event['user_count'] / nunique_users).round(3)\n",
    "\n",
    "users_per_event"
   ]
  },
  {
   "cell_type": "code",
   "execution_count": 217,
   "id": "13b13c40",
   "metadata": {},
   "outputs": [
    {
     "data": {
      "image/png": "[encoded data removed]",
      "text/plain": [
       "<Figure size 864x360 with 1 Axes>"
      ]
     },
     "metadata": {},
     "output_type": "display_data"
    }
   ],
   "source": [
    "fig = plt.figure(figsize=(12,5))\n",
    "ax = sns.barplot(x=users_per_event['event_name'],\n",
    "                 y=users_per_event['users_prc'],\n",
    "                 palette=sns.color_palette(\"tab10\")\n",
    "                )\n",
    "\n",
    "ax.bar_label(ax.containers[0], fontsize=14, padding=0)\n",
    "\n",
    "ax.set_title('Доля уникальных пользователей, совершивших событие', fontsize=16)\n",
    "ax.set_xlabel('Событие', fontsize=12)\n",
    "ax.set_ylabel('Доля пользователей', fontsize=12)\n",
    "\n",
    "sns.despine()\n"
   ]
  },
  {
   "cell_type": "markdown",
   "id": "3095838b",
   "metadata": {},
   "source": [
    "Исходя из названий и долей событий можно предположить их порядок при использовании нашего приложения.\n",
    "\n",
    "Порядок событий:\n",
    "* Tutorial (Прохождение обучения) - необязательное - скорее всего предлагается при старте приложения, но может быть пропущено. Из-за этого только 11% пользователей открыли его\n",
    "* MainScreenAppear (Появление главного экрана) - Главный эран приложения, видит каждый пользователь при запуске. Доля - 98,5%\n",
    "* OffersScreenAppear (Появление экрана предложений) - Переход пользователя на экран с товарами. Доля - 61%\n",
    "* CartScreenAppear (Появление экрана корзины) - Переход пользователя в корзину с товарами. Доля - 49,6%\n",
    "* PaymentScreenSuccessful (Экран успеха при обработке платежа) - Экран подтверждения покупки. Доля - 47%\n"
   ]
  },
  {
   "cell_type": "markdown",
   "id": "09483c7f",
   "metadata": {},
   "source": [
    "<div class=\"alert alert-block alert-success\">\n",
    "\n",
    "    \n",
    "### Комментарий от ревьюера v_2\n",
    "\n",
    "Верные расчеты и рассуждения 👍\n",
    "    \n",
    "</div>"
   ]
  },
  {
   "cell_type": "markdown",
   "id": "c04a1572",
   "metadata": {},
   "source": [
    "### Воронки событий"
   ]
  },
  {
   "cell_type": "markdown",
   "id": "a9cd8acf",
   "metadata": {},
   "source": [
    "После изучения порядка действий пользователя мы можем построить воронки событий для всех пользователей а также с разбиением на группы. Для этого напишем функцию для расчета воронок событий."
   ]
  },
  {
   "cell_type": "code",
   "execution_count": 218,
   "id": "5df41193",
   "metadata": {},
   "outputs": [],
   "source": [
    "def calc_funnel(df):\n",
    "    # Вычисление кол-ва пользователей\n",
    "    n_users = pd.DataFrame({'event_name':['AllUsers'],\n",
    "                            'count':[df['user_id'].nunique()]})\n",
    "    # группировка таблицы событий по виду событий и подсчет уникальных пользователей для каждого\n",
    "    funnel = (df.groupby('event_name', as_index=False)\n",
    "                .agg({'user_id':'nunique'})\n",
    "                .sort_values('user_id', ascending=False)\n",
    "                .rename(columns={'user_id':'count'}))\n",
    "    # Добавление общего числа пользователей к таблице\n",
    "    funnel = funnel.append(n_users,ignore_index=True).sort_values('count', ascending=False).reset_index()\n",
    "    \n",
    "    # Добавление в таблицу столбцов с относительной и абсолютной конверсией              \n",
    "    funnel['step_conv'] = funnel['count'] / funnel['count'].shift(1)\n",
    "    funnel['total_conv'] = funnel['count'] / funnel['count'][0]\n",
    "    # Заполнение пропуска в первой строке (где предыдущее событие отсутствует)\n",
    "    funnel = funnel.fillna(1)\n",
    "\n",
    "    return funnel"
   ]
  },
  {
   "cell_type": "markdown",
   "id": "66d42621",
   "metadata": {},
   "source": [
    "Рачсчитаем воронку событий для нашей таблицы. Также отбросим событие `Tutorial`, т.к. оно необязательное и будет нарушать расчет воронки."
   ]
  },
  {
   "cell_type": "code",
   "execution_count": 219,
   "id": "681b2850",
   "metadata": {},
   "outputs": [
    {
     "data": {
      "text/plain": [
       "7534"
      ]
     },
     "execution_count": 219,
     "metadata": {},
     "output_type": "execute_result"
    }
   ],
   "source": [
    "logs_filtered['user_id'].nunique()"
   ]
  },
  {
   "cell_type": "code",
   "execution_count": 220,
   "id": "1ee299de",
   "metadata": {},
   "outputs": [
    {
     "data": {
      "text/html": [
       "<div>\n",
       "<style scoped>\n",
       "    .dataframe tbody tr th:only-of-type {\n",
       "        vertical-align: middle;\n",
       "    }\n",
       "\n",
       "    .dataframe tbody tr th {\n",
       "        vertical-align: top;\n",
       "    }\n",
       "\n",
       "    .dataframe thead th {\n",
       "        text-align: right;\n",
       "    }\n",
       "</style>\n",
       "<table border=\"1\" class=\"dataframe\">\n",
       "  <thead>\n",
       "    <tr style=\"text-align: right;\">\n",
       "      <th></th>\n",
       "      <th>index</th>\n",
       "      <th>event_name</th>\n",
       "      <th>count</th>\n",
       "      <th>step_conv</th>\n",
       "      <th>total_conv</th>\n",
       "    </tr>\n",
       "  </thead>\n",
       "  <tbody>\n",
       "    <tr>\n",
       "      <th>0</th>\n",
       "      <td>5</td>\n",
       "      <td>AllUsers</td>\n",
       "      <td>2537</td>\n",
       "      <td>1.000000</td>\n",
       "      <td>1.000000</td>\n",
       "    </tr>\n",
       "    <tr>\n",
       "      <th>1</th>\n",
       "      <td>0</td>\n",
       "      <td>MainScreenAppear</td>\n",
       "      <td>2493</td>\n",
       "      <td>0.982657</td>\n",
       "      <td>0.982657</td>\n",
       "    </tr>\n",
       "    <tr>\n",
       "      <th>2</th>\n",
       "      <td>1</td>\n",
       "      <td>OffersScreenAppear</td>\n",
       "      <td>1531</td>\n",
       "      <td>0.614120</td>\n",
       "      <td>0.603469</td>\n",
       "    </tr>\n",
       "    <tr>\n",
       "      <th>3</th>\n",
       "      <td>2</td>\n",
       "      <td>CartScreenAppear</td>\n",
       "      <td>1230</td>\n",
       "      <td>0.803396</td>\n",
       "      <td>0.484825</td>\n",
       "    </tr>\n",
       "    <tr>\n",
       "      <th>4</th>\n",
       "      <td>3</td>\n",
       "      <td>PaymentScreenSuccessful</td>\n",
       "      <td>1181</td>\n",
       "      <td>0.960163</td>\n",
       "      <td>0.465510</td>\n",
       "    </tr>\n",
       "  </tbody>\n",
       "</table>\n",
       "</div>"
      ],
      "text/plain": [
       "   index               event_name  count  step_conv  total_conv\n",
       "0      5                 AllUsers   2537   1.000000    1.000000\n",
       "1      0         MainScreenAppear   2493   0.982657    0.982657\n",
       "2      1       OffersScreenAppear   1531   0.614120    0.603469\n",
       "3      2         CartScreenAppear   1230   0.803396    0.484825\n",
       "4      3  PaymentScreenSuccessful   1181   0.960163    0.465510"
      ]
     },
     "execution_count": 220,
     "metadata": {},
     "output_type": "execute_result"
    }
   ],
   "source": [
    "funnel = calc_funnel(logs_filtered.query('group==\"B\"'))\n",
    "funnel = funnel.query('event_name != \"Tutorial\"')\n",
    "funnel"
   ]
  },
  {
   "cell_type": "code",
   "execution_count": 221,
   "id": "1fef4b5d",
   "metadata": {},
   "outputs": [
    {
     "data": {
      "application/vnd.plotly.v1+json": {
       "config": {
        "plotlyServerURL": "https://plot.ly"
       },
       "data": [
        {
         "type": "funnel",
         "x": [
          2537,
          2493,
          1531,
          1230,
          1181
         ],
         "y": [
          "AllUsers",
          "MainScreenAppear",
          "OffersScreenAppear",
          "CartScreenAppear",
          "PaymentScreenSuccessful"
         ]
        }
       ],
       "layout": {
        "template": {
         "data": {
          "bar": [
           {
            "error_x": {
             "color": "#2a3f5f"
            },
            "error_y": {
             "color": "#2a3f5f"
            },
            "marker": {
             "line": {
              "color": "#E5ECF6",
              "width": 0.5
             },
             "pattern": {
              "fillmode": "overlay",
              "size": 10,
              "solidity": 0.2
             }
            },
            "type": "bar"
           }
          ],
          "barpolar": [
           {
            "marker": {
             "line": {
              "color": "#E5ECF6",
              "width": 0.5
             },
             "pattern": {
              "fillmode": "overlay",
              "size": 10,
              "solidity": 0.2
             }
            },
            "type": "barpolar"
           }
          ],
          "carpet": [
           {
            "aaxis": {
             "endlinecolor": "#2a3f5f",
             "gridcolor": "white",
             "linecolor": "white",
             "minorgridcolor": "white",
             "startlinecolor": "#2a3f5f"
            },
            "baxis": {
             "endlinecolor": "#2a3f5f",
             "gridcolor": "white",
             "linecolor": "white",
             "minorgridcolor": "white",
             "startlinecolor": "#2a3f5f"
            },
            "type": "carpet"
           }
          ],
          "choropleth": [
           {
            "colorbar": {
             "outlinewidth": 0,
             "ticks": ""
            },
            "type": "choropleth"
           }
          ],
          "contour": [
           {
            "colorbar": {
             "outlinewidth": 0,
             "ticks": ""
            },
            "colorscale": [
             [
              0,
              "#0d0887"
             ],
             [
              0.1111111111111111,
              "#46039f"
             ],
             [
              0.2222222222222222,
              "#7201a8"
             ],
             [
              0.3333333333333333,
              "#9c179e"
             ],
             [
              0.4444444444444444,
              "#bd3786"
             ],
             [
              0.5555555555555556,
              "#d8576b"
             ],
             [
              0.6666666666666666,
              "#ed7953"
             ],
             [
              0.7777777777777778,
              "#fb9f3a"
             ],
             [
              0.8888888888888888,
              "#fdca26"
             ],
             [
              1,
              "#f0f921"
             ]
            ],
            "type": "contour"
           }
          ],
          "contourcarpet": [
           {
            "colorbar": {
             "outlinewidth": 0,
             "ticks": ""
            },
            "type": "contourcarpet"
           }
          ],
          "heatmap": [
           {
            "colorbar": {
             "outlinewidth": 0,
             "ticks": ""
            },
            "colorscale": [
             [
              0,
              "#0d0887"
             ],
             [
              0.1111111111111111,
              "#46039f"
             ],
             [
              0.2222222222222222,
              "#7201a8"
             ],
             [
              0.3333333333333333,
              "#9c179e"
             ],
             [
              0.4444444444444444,
              "#bd3786"
             ],
             [
              0.5555555555555556,
              "#d8576b"
             ],
             [
              0.6666666666666666,
              "#ed7953"
             ],
             [
              0.7777777777777778,
              "#fb9f3a"
             ],
             [
              0.8888888888888888,
              "#fdca26"
             ],
             [
              1,
              "#f0f921"
             ]
            ],
            "type": "heatmap"
           }
          ],
          "heatmapgl": [
           {
            "colorbar": {
             "outlinewidth": 0,
             "ticks": ""
            },
            "colorscale": [
             [
              0,
              "#0d0887"
             ],
             [
              0.1111111111111111,
              "#46039f"
             ],
             [
              0.2222222222222222,
              "#7201a8"
             ],
             [
              0.3333333333333333,
              "#9c179e"
             ],
             [
              0.4444444444444444,
              "#bd3786"
             ],
             [
              0.5555555555555556,
              "#d8576b"
             ],
             [
              0.6666666666666666,
              "#ed7953"
             ],
             [
              0.7777777777777778,
              "#fb9f3a"
             ],
             [
              0.8888888888888888,
              "#fdca26"
             ],
             [
              1,
              "#f0f921"
             ]
            ],
            "type": "heatmapgl"
           }
          ],
          "histogram": [
           {
            "marker": {
             "pattern": {
              "fillmode": "overlay",
              "size": 10,
              "solidity": 0.2
             }
            },
            "type": "histogram"
           }
          ],
          "histogram2d": [
           {
            "colorbar": {
             "outlinewidth": 0,
             "ticks": ""
            },
            "colorscale": [
             [
              0,
              "#0d0887"
             ],
             [
              0.1111111111111111,
              "#46039f"
             ],
             [
              0.2222222222222222,
              "#7201a8"
             ],
             [
              0.3333333333333333,
              "#9c179e"
             ],
             [
              0.4444444444444444,
              "#bd3786"
             ],
             [
              0.5555555555555556,
              "#d8576b"
             ],
             [
              0.6666666666666666,
              "#ed7953"
             ],
             [
              0.7777777777777778,
              "#fb9f3a"
             ],
             [
              0.8888888888888888,
              "#fdca26"
             ],
             [
              1,
              "#f0f921"
             ]
            ],
            "type": "histogram2d"
           }
          ],
          "histogram2dcontour": [
           {
            "colorbar": {
             "outlinewidth": 0,
             "ticks": ""
            },
            "colorscale": [
             [
              0,
              "#0d0887"
             ],
             [
              0.1111111111111111,
              "#46039f"
             ],
             [
              0.2222222222222222,
              "#7201a8"
             ],
             [
              0.3333333333333333,
              "#9c179e"
             ],
             [
              0.4444444444444444,
              "#bd3786"
             ],
             [
              0.5555555555555556,
              "#d8576b"
             ],
             [
              0.6666666666666666,
              "#ed7953"
             ],
             [
              0.7777777777777778,
              "#fb9f3a"
             ],
             [
              0.8888888888888888,
              "#fdca26"
             ],
             [
              1,
              "#f0f921"
             ]
            ],
            "type": "histogram2dcontour"
           }
          ],
          "mesh3d": [
           {
            "colorbar": {
             "outlinewidth": 0,
             "ticks": ""
            },
            "type": "mesh3d"
           }
          ],
          "parcoords": [
           {
            "line": {
             "colorbar": {
              "outlinewidth": 0,
              "ticks": ""
             }
            },
            "type": "parcoords"
           }
          ],
          "pie": [
           {
            "automargin": true,
            "type": "pie"
           }
          ],
          "scatter": [
           {
            "fillpattern": {
             "fillmode": "overlay",
             "size": 10,
             "solidity": 0.2
            },
            "type": "scatter"
           }
          ],
          "scatter3d": [
           {
            "line": {
             "colorbar": {
              "outlinewidth": 0,
              "ticks": ""
             }
            },
            "marker": {
             "colorbar": {
              "outlinewidth": 0,
              "ticks": ""
             }
            },
            "type": "scatter3d"
           }
          ],
          "scattercarpet": [
           {
            "marker": {
             "colorbar": {
              "outlinewidth": 0,
              "ticks": ""
             }
            },
            "type": "scattercarpet"
           }
          ],
          "scattergeo": [
           {
            "marker": {
             "colorbar": {
              "outlinewidth": 0,
              "ticks": ""
             }
            },
            "type": "scattergeo"
           }
          ],
          "scattergl": [
           {
            "marker": {
             "colorbar": {
              "outlinewidth": 0,
              "ticks": ""
             }
            },
            "type": "scattergl"
           }
          ],
          "scattermapbox": [
           {
            "marker": {
             "colorbar": {
              "outlinewidth": 0,
              "ticks": ""
             }
            },
            "type": "scattermapbox"
           }
          ],
          "scatterpolar": [
           {
            "marker": {
             "colorbar": {
              "outlinewidth": 0,
              "ticks": ""
             }
            },
            "type": "scatterpolar"
           }
          ],
          "scatterpolargl": [
           {
            "marker": {
             "colorbar": {
              "outlinewidth": 0,
              "ticks": ""
             }
            },
            "type": "scatterpolargl"
           }
          ],
          "scatterternary": [
           {
            "marker": {
             "colorbar": {
              "outlinewidth": 0,
              "ticks": ""
             }
            },
            "type": "scatterternary"
           }
          ],
          "surface": [
           {
            "colorbar": {
             "outlinewidth": 0,
             "ticks": ""
            },
            "colorscale": [
             [
              0,
              "#0d0887"
             ],
             [
              0.1111111111111111,
              "#46039f"
             ],
             [
              0.2222222222222222,
              "#7201a8"
             ],
             [
              0.3333333333333333,
              "#9c179e"
             ],
             [
              0.4444444444444444,
              "#bd3786"
             ],
             [
              0.5555555555555556,
              "#d8576b"
             ],
             [
              0.6666666666666666,
              "#ed7953"
             ],
             [
              0.7777777777777778,
              "#fb9f3a"
             ],
             [
              0.8888888888888888,
              "#fdca26"
             ],
             [
              1,
              "#f0f921"
             ]
            ],
            "type": "surface"
           }
          ],
          "table": [
           {
            "cells": {
             "fill": {
              "color": "#EBF0F8"
             },
             "line": {
              "color": "white"
             }
            },
            "header": {
             "fill": {
              "color": "#C8D4E3"
             },
             "line": {
              "color": "white"
             }
            },
            "type": "table"
           }
          ]
         },
         "layout": {
          "annotationdefaults": {
           "arrowcolor": "#2a3f5f",
           "arrowhead": 0,
           "arrowwidth": 1
          },
          "autotypenumbers": "strict",
          "coloraxis": {
           "colorbar": {
            "outlinewidth": 0,
            "ticks": ""
           }
          },
          "colorscale": {
           "diverging": [
            [
             0,
             "#8e0152"
            ],
            [
             0.1,
             "#c51b7d"
            ],
            [
             0.2,
             "#de77ae"
            ],
            [
             0.3,
             "#f1b6da"
            ],
            [
             0.4,
             "#fde0ef"
            ],
            [
             0.5,
             "#f7f7f7"
            ],
            [
             0.6,
             "#e6f5d0"
            ],
            [
             0.7,
             "#b8e186"
            ],
            [
             0.8,
             "#7fbc41"
            ],
            [
             0.9,
             "#4d9221"
            ],
            [
             1,
             "#276419"
            ]
           ],
           "sequential": [
            [
             0,
             "#0d0887"
            ],
            [
             0.1111111111111111,
             "#46039f"
            ],
            [
             0.2222222222222222,
             "#7201a8"
            ],
            [
             0.3333333333333333,
             "#9c179e"
            ],
            [
             0.4444444444444444,
             "#bd3786"
            ],
            [
             0.5555555555555556,
             "#d8576b"
            ],
            [
             0.6666666666666666,
             "#ed7953"
            ],
            [
             0.7777777777777778,
             "#fb9f3a"
            ],
            [
             0.8888888888888888,
             "#fdca26"
            ],
            [
             1,
             "#f0f921"
            ]
           ],
           "sequentialminus": [
            [
             0,
             "#0d0887"
            ],
            [
             0.1111111111111111,
             "#46039f"
            ],
            [
             0.2222222222222222,
             "#7201a8"
            ],
            [
             0.3333333333333333,
             "#9c179e"
            ],
            [
             0.4444444444444444,
             "#bd3786"
            ],
            [
             0.5555555555555556,
             "#d8576b"
            ],
            [
             0.6666666666666666,
             "#ed7953"
            ],
            [
             0.7777777777777778,
             "#fb9f3a"
            ],
            [
             0.8888888888888888,
             "#fdca26"
            ],
            [
             1,
             "#f0f921"
            ]
           ]
          },
          "colorway": [
           "#636efa",
           "#EF553B",
           "#00cc96",
           "#ab63fa",
           "#FFA15A",
           "#19d3f3",
           "#FF6692",
           "#B6E880",
           "#FF97FF",
           "#FECB52"
          ],
          "font": {
           "color": "#2a3f5f"
          },
          "geo": {
           "bgcolor": "white",
           "lakecolor": "white",
           "landcolor": "#E5ECF6",
           "showlakes": true,
           "showland": true,
           "subunitcolor": "white"
          },
          "hoverlabel": {
           "align": "left"
          },
          "hovermode": "closest",
          "mapbox": {
           "style": "light"
          },
          "paper_bgcolor": "white",
          "plot_bgcolor": "#E5ECF6",
          "polar": {
           "angularaxis": {
            "gridcolor": "white",
            "linecolor": "white",
            "ticks": ""
           },
           "bgcolor": "#E5ECF6",
           "radialaxis": {
            "gridcolor": "white",
            "linecolor": "white",
            "ticks": ""
           }
          },
          "scene": {
           "xaxis": {
            "backgroundcolor": "#E5ECF6",
            "gridcolor": "white",
            "gridwidth": 2,
            "linecolor": "white",
            "showbackground": true,
            "ticks": "",
            "zerolinecolor": "white"
           },
           "yaxis": {
            "backgroundcolor": "#E5ECF6",
            "gridcolor": "white",
            "gridwidth": 2,
            "linecolor": "white",
            "showbackground": true,
            "ticks": "",
            "zerolinecolor": "white"
           },
           "zaxis": {
            "backgroundcolor": "#E5ECF6",
            "gridcolor": "white",
            "gridwidth": 2,
            "linecolor": "white",
            "showbackground": true,
            "ticks": "",
            "zerolinecolor": "white"
           }
          },
          "shapedefaults": {
           "line": {
            "color": "#2a3f5f"
           }
          },
          "ternary": {
           "aaxis": {
            "gridcolor": "white",
            "linecolor": "white",
            "ticks": ""
           },
           "baxis": {
            "gridcolor": "white",
            "linecolor": "white",
            "ticks": ""
           },
           "bgcolor": "#E5ECF6",
           "caxis": {
            "gridcolor": "white",
            "linecolor": "white",
            "ticks": ""
           }
          },
          "title": {
           "x": 0.05
          },
          "xaxis": {
           "automargin": true,
           "gridcolor": "white",
           "linecolor": "white",
           "ticks": "",
           "title": {
            "standoff": 15
           },
           "zerolinecolor": "white",
           "zerolinewidth": 2
          },
          "yaxis": {
           "automargin": true,
           "gridcolor": "white",
           "linecolor": "white",
           "ticks": "",
           "title": {
            "standoff": 15
           },
           "zerolinecolor": "white",
           "zerolinewidth": 2
          }
         }
        }
       }
      }
     },
     "metadata": {},
     "output_type": "display_data"
    }
   ],
   "source": [
    "fig = go.Figure(go.Funnel(x=funnel['count'],\n",
    "                          y=funnel['event_name']\n",
    "                         ))\n",
    "fig.show()"
   ]
  },
  {
   "cell_type": "markdown",
   "id": "0351f128",
   "metadata": {},
   "source": [
    "* Как видно из воронки событий, наибольшая потеря пользователей происходит на этапе перехода с главного экрана на экран выбора товаров. Отпадает около 40% пользователей.\n",
    "* При этом, на следующих этапах конверсия остается достаточно высокой. 80% пользователей, открывших экран товаров, добавили товар и перешли в корзину.\n",
    "* 95% пользователей, перешедших в корзину, успешно оплатили заказ.\n",
    "* В сумме, почти 48% пользователей, открывших главный экран приложения, успешно оплатили покупку и приобрели товары."
   ]
  },
  {
   "cell_type": "markdown",
   "id": "e9fe210d",
   "metadata": {},
   "source": [
    "<div class=\"alert alert-block alert-success\">\n",
    "\n",
    "    \n",
    "### Комментарий от ревьюера v_2\n",
    "\n",
    "Отличная воронка 👍\n",
    "    \n",
    "А если добавить в нее textinfo = \"value+percent initial+percent previous\" то еще покажет процент от первого и предыдущего шага\n",
    "    \n",
    "Но графикам следует давать названия\n",
    "    \n",
    "</div>"
   ]
  },
  {
   "cell_type": "markdown",
   "id": "486a619d",
   "metadata": {},
   "source": [
    "## Проверка гипотез"
   ]
  },
  {
   "cell_type": "markdown",
   "id": "45ae9227",
   "metadata": {},
   "source": [
    "Как было определено выше, пользователи делятся на группы достаточно однородно. В каждой группе пристствует около 2500 пользователей."
   ]
  },
  {
   "cell_type": "code",
   "execution_count": 222,
   "id": "86b5dca0",
   "metadata": {},
   "outputs": [
    {
     "data": {
      "image/png": "[encoded data removed]",
      "text/plain": [
       "<Figure size 576x360 with 1 Axes>"
      ]
     },
     "metadata": {},
     "output_type": "display_data"
    }
   ],
   "source": [
    "fig = plt.figure(figsize=(8,5))\n",
    "ax = sns.barplot(x=logs_filtered.groupby('group').agg({'user_id':'nunique'}).reset_index()['group'],\n",
    "                 y=logs_filtered.groupby('group').agg({'user_id':'nunique'}).reset_index()['user_id'],\n",
    "                 palette=sns.color_palette(\"tab10\")\n",
    "                )\n",
    "\n",
    "ax.bar_label(ax.containers[0], fontsize=14, padding=-20)\n",
    "\n",
    "ax.set_title('Количество пользователей по группам', fontsize=16)\n",
    "ax.set_xlabel('Группа', fontsize=12)\n",
    "ax.set_ylabel('Число пользователей', fontsize=12)\n",
    "\n",
    "sns.despine()"
   ]
  },
  {
   "cell_type": "markdown",
   "id": "c9ab87df",
   "metadata": {},
   "source": [
    "Для проверки гипотез о равенствах конверсий между группам следует определить конверсии пользователей для кадого события.\n",
    "\n",
    "Сначала для каждой из групп рассчитаем воронки событий, в них и будут указаны необходимые нам конверсии."
   ]
  },
  {
   "cell_type": "code",
   "execution_count": 223,
   "id": "be72c592",
   "metadata": {
    "scrolled": true
   },
   "outputs": [
    {
     "data": {
      "text/html": [
       "<div>\n",
       "<style scoped>\n",
       "    .dataframe tbody tr th:only-of-type {\n",
       "        vertical-align: middle;\n",
       "    }\n",
       "\n",
       "    .dataframe tbody tr th {\n",
       "        vertical-align: top;\n",
       "    }\n",
       "\n",
       "    .dataframe thead th {\n",
       "        text-align: right;\n",
       "    }\n",
       "</style>\n",
       "<table border=\"1\" class=\"dataframe\">\n",
       "  <thead>\n",
       "    <tr style=\"text-align: right;\">\n",
       "      <th></th>\n",
       "      <th>index</th>\n",
       "      <th>event_name</th>\n",
       "      <th>count</th>\n",
       "      <th>step_conv</th>\n",
       "      <th>total_conv</th>\n",
       "    </tr>\n",
       "  </thead>\n",
       "  <tbody>\n",
       "    <tr>\n",
       "      <th>0</th>\n",
       "      <td>5</td>\n",
       "      <td>AllUsers</td>\n",
       "      <td>2484</td>\n",
       "      <td>1.000000</td>\n",
       "      <td>1.000000</td>\n",
       "    </tr>\n",
       "    <tr>\n",
       "      <th>1</th>\n",
       "      <td>0</td>\n",
       "      <td>MainScreenAppear</td>\n",
       "      <td>2450</td>\n",
       "      <td>0.986312</td>\n",
       "      <td>0.986312</td>\n",
       "    </tr>\n",
       "    <tr>\n",
       "      <th>2</th>\n",
       "      <td>1</td>\n",
       "      <td>OffersScreenAppear</td>\n",
       "      <td>1542</td>\n",
       "      <td>0.629388</td>\n",
       "      <td>0.620773</td>\n",
       "    </tr>\n",
       "    <tr>\n",
       "      <th>3</th>\n",
       "      <td>2</td>\n",
       "      <td>CartScreenAppear</td>\n",
       "      <td>1266</td>\n",
       "      <td>0.821012</td>\n",
       "      <td>0.509662</td>\n",
       "    </tr>\n",
       "    <tr>\n",
       "      <th>4</th>\n",
       "      <td>3</td>\n",
       "      <td>PaymentScreenSuccessful</td>\n",
       "      <td>1200</td>\n",
       "      <td>0.947867</td>\n",
       "      <td>0.483092</td>\n",
       "    </tr>\n",
       "    <tr>\n",
       "      <th>5</th>\n",
       "      <td>4</td>\n",
       "      <td>Tutorial</td>\n",
       "      <td>278</td>\n",
       "      <td>0.231667</td>\n",
       "      <td>0.111916</td>\n",
       "    </tr>\n",
       "  </tbody>\n",
       "</table>\n",
       "</div>"
      ],
      "text/plain": [
       "   index               event_name  count  step_conv  total_conv\n",
       "0      5                 AllUsers   2484   1.000000    1.000000\n",
       "1      0         MainScreenAppear   2450   0.986312    0.986312\n",
       "2      1       OffersScreenAppear   1542   0.629388    0.620773\n",
       "3      2         CartScreenAppear   1266   0.821012    0.509662\n",
       "4      3  PaymentScreenSuccessful   1200   0.947867    0.483092\n",
       "5      4                 Tutorial    278   0.231667    0.111916"
      ]
     },
     "execution_count": 223,
     "metadata": {},
     "output_type": "execute_result"
    }
   ],
   "source": [
    "funnel_A1 = calc_funnel(logs_filtered.query('group == \"A1\"'))\n",
    "funnel_A1 "
   ]
  },
  {
   "cell_type": "code",
   "execution_count": 224,
   "id": "e6a082a6",
   "metadata": {},
   "outputs": [
    {
     "data": {
      "text/html": [
       "<div>\n",
       "<style scoped>\n",
       "    .dataframe tbody tr th:only-of-type {\n",
       "        vertical-align: middle;\n",
       "    }\n",
       "\n",
       "    .dataframe tbody tr th {\n",
       "        vertical-align: top;\n",
       "    }\n",
       "\n",
       "    .dataframe thead th {\n",
       "        text-align: right;\n",
       "    }\n",
       "</style>\n",
       "<table border=\"1\" class=\"dataframe\">\n",
       "  <thead>\n",
       "    <tr style=\"text-align: right;\">\n",
       "      <th></th>\n",
       "      <th>index</th>\n",
       "      <th>event_name</th>\n",
       "      <th>count</th>\n",
       "      <th>step_conv</th>\n",
       "      <th>total_conv</th>\n",
       "    </tr>\n",
       "  </thead>\n",
       "  <tbody>\n",
       "    <tr>\n",
       "      <th>0</th>\n",
       "      <td>5</td>\n",
       "      <td>AllUsers</td>\n",
       "      <td>2513</td>\n",
       "      <td>1.000000</td>\n",
       "      <td>1.000000</td>\n",
       "    </tr>\n",
       "    <tr>\n",
       "      <th>1</th>\n",
       "      <td>0</td>\n",
       "      <td>MainScreenAppear</td>\n",
       "      <td>2476</td>\n",
       "      <td>0.985277</td>\n",
       "      <td>0.985277</td>\n",
       "    </tr>\n",
       "    <tr>\n",
       "      <th>2</th>\n",
       "      <td>1</td>\n",
       "      <td>OffersScreenAppear</td>\n",
       "      <td>1520</td>\n",
       "      <td>0.613893</td>\n",
       "      <td>0.604855</td>\n",
       "    </tr>\n",
       "    <tr>\n",
       "      <th>3</th>\n",
       "      <td>2</td>\n",
       "      <td>CartScreenAppear</td>\n",
       "      <td>1238</td>\n",
       "      <td>0.814474</td>\n",
       "      <td>0.492638</td>\n",
       "    </tr>\n",
       "    <tr>\n",
       "      <th>4</th>\n",
       "      <td>3</td>\n",
       "      <td>PaymentScreenSuccessful</td>\n",
       "      <td>1158</td>\n",
       "      <td>0.935380</td>\n",
       "      <td>0.460804</td>\n",
       "    </tr>\n",
       "    <tr>\n",
       "      <th>5</th>\n",
       "      <td>4</td>\n",
       "      <td>Tutorial</td>\n",
       "      <td>283</td>\n",
       "      <td>0.244387</td>\n",
       "      <td>0.112614</td>\n",
       "    </tr>\n",
       "  </tbody>\n",
       "</table>\n",
       "</div>"
      ],
      "text/plain": [
       "   index               event_name  count  step_conv  total_conv\n",
       "0      5                 AllUsers   2513   1.000000    1.000000\n",
       "1      0         MainScreenAppear   2476   0.985277    0.985277\n",
       "2      1       OffersScreenAppear   1520   0.613893    0.604855\n",
       "3      2         CartScreenAppear   1238   0.814474    0.492638\n",
       "4      3  PaymentScreenSuccessful   1158   0.935380    0.460804\n",
       "5      4                 Tutorial    283   0.244387    0.112614"
      ]
     },
     "execution_count": 224,
     "metadata": {},
     "output_type": "execute_result"
    }
   ],
   "source": [
    "funnel_A2 = calc_funnel(logs_filtered.query('group == \"A2\"'))\n",
    "funnel_A2"
   ]
  },
  {
   "cell_type": "code",
   "execution_count": 225,
   "id": "e18cfaa6",
   "metadata": {},
   "outputs": [
    {
     "data": {
      "text/html": [
       "<div>\n",
       "<style scoped>\n",
       "    .dataframe tbody tr th:only-of-type {\n",
       "        vertical-align: middle;\n",
       "    }\n",
       "\n",
       "    .dataframe tbody tr th {\n",
       "        vertical-align: top;\n",
       "    }\n",
       "\n",
       "    .dataframe thead th {\n",
       "        text-align: right;\n",
       "    }\n",
       "</style>\n",
       "<table border=\"1\" class=\"dataframe\">\n",
       "  <thead>\n",
       "    <tr style=\"text-align: right;\">\n",
       "      <th></th>\n",
       "      <th>index</th>\n",
       "      <th>event_name</th>\n",
       "      <th>count</th>\n",
       "      <th>step_conv</th>\n",
       "      <th>total_conv</th>\n",
       "    </tr>\n",
       "  </thead>\n",
       "  <tbody>\n",
       "    <tr>\n",
       "      <th>0</th>\n",
       "      <td>5</td>\n",
       "      <td>AllUsers</td>\n",
       "      <td>4997</td>\n",
       "      <td>1.000000</td>\n",
       "      <td>1.000000</td>\n",
       "    </tr>\n",
       "    <tr>\n",
       "      <th>1</th>\n",
       "      <td>0</td>\n",
       "      <td>MainScreenAppear</td>\n",
       "      <td>4926</td>\n",
       "      <td>0.985791</td>\n",
       "      <td>0.985791</td>\n",
       "    </tr>\n",
       "    <tr>\n",
       "      <th>2</th>\n",
       "      <td>1</td>\n",
       "      <td>OffersScreenAppear</td>\n",
       "      <td>3062</td>\n",
       "      <td>0.621600</td>\n",
       "      <td>0.612768</td>\n",
       "    </tr>\n",
       "    <tr>\n",
       "      <th>3</th>\n",
       "      <td>2</td>\n",
       "      <td>CartScreenAppear</td>\n",
       "      <td>2504</td>\n",
       "      <td>0.817766</td>\n",
       "      <td>0.501101</td>\n",
       "    </tr>\n",
       "    <tr>\n",
       "      <th>4</th>\n",
       "      <td>3</td>\n",
       "      <td>PaymentScreenSuccessful</td>\n",
       "      <td>2358</td>\n",
       "      <td>0.941693</td>\n",
       "      <td>0.471883</td>\n",
       "    </tr>\n",
       "    <tr>\n",
       "      <th>5</th>\n",
       "      <td>4</td>\n",
       "      <td>Tutorial</td>\n",
       "      <td>561</td>\n",
       "      <td>0.237913</td>\n",
       "      <td>0.112267</td>\n",
       "    </tr>\n",
       "  </tbody>\n",
       "</table>\n",
       "</div>"
      ],
      "text/plain": [
       "   index               event_name  count  step_conv  total_conv\n",
       "0      5                 AllUsers   4997   1.000000    1.000000\n",
       "1      0         MainScreenAppear   4926   0.985791    0.985791\n",
       "2      1       OffersScreenAppear   3062   0.621600    0.612768\n",
       "3      2         CartScreenAppear   2504   0.817766    0.501101\n",
       "4      3  PaymentScreenSuccessful   2358   0.941693    0.471883\n",
       "5      4                 Tutorial    561   0.237913    0.112267"
      ]
     },
     "execution_count": 225,
     "metadata": {},
     "output_type": "execute_result"
    }
   ],
   "source": [
    "funnel_A1_A2 = calc_funnel(logs_filtered.query('group == \"A1\" or group == \"A2\"'))\n",
    "funnel_A1_A2"
   ]
  },
  {
   "cell_type": "code",
   "execution_count": 226,
   "id": "a470f170",
   "metadata": {},
   "outputs": [
    {
     "data": {
      "text/html": [
       "<div>\n",
       "<style scoped>\n",
       "    .dataframe tbody tr th:only-of-type {\n",
       "        vertical-align: middle;\n",
       "    }\n",
       "\n",
       "    .dataframe tbody tr th {\n",
       "        vertical-align: top;\n",
       "    }\n",
       "\n",
       "    .dataframe thead th {\n",
       "        text-align: right;\n",
       "    }\n",
       "</style>\n",
       "<table border=\"1\" class=\"dataframe\">\n",
       "  <thead>\n",
       "    <tr style=\"text-align: right;\">\n",
       "      <th></th>\n",
       "      <th>index</th>\n",
       "      <th>event_name</th>\n",
       "      <th>count</th>\n",
       "      <th>step_conv</th>\n",
       "      <th>total_conv</th>\n",
       "    </tr>\n",
       "  </thead>\n",
       "  <tbody>\n",
       "    <tr>\n",
       "      <th>0</th>\n",
       "      <td>5</td>\n",
       "      <td>AllUsers</td>\n",
       "      <td>2537</td>\n",
       "      <td>1.000000</td>\n",
       "      <td>1.000000</td>\n",
       "    </tr>\n",
       "    <tr>\n",
       "      <th>1</th>\n",
       "      <td>0</td>\n",
       "      <td>MainScreenAppear</td>\n",
       "      <td>2493</td>\n",
       "      <td>0.982657</td>\n",
       "      <td>0.982657</td>\n",
       "    </tr>\n",
       "    <tr>\n",
       "      <th>2</th>\n",
       "      <td>1</td>\n",
       "      <td>OffersScreenAppear</td>\n",
       "      <td>1531</td>\n",
       "      <td>0.614120</td>\n",
       "      <td>0.603469</td>\n",
       "    </tr>\n",
       "    <tr>\n",
       "      <th>3</th>\n",
       "      <td>2</td>\n",
       "      <td>CartScreenAppear</td>\n",
       "      <td>1230</td>\n",
       "      <td>0.803396</td>\n",
       "      <td>0.484825</td>\n",
       "    </tr>\n",
       "    <tr>\n",
       "      <th>4</th>\n",
       "      <td>3</td>\n",
       "      <td>PaymentScreenSuccessful</td>\n",
       "      <td>1181</td>\n",
       "      <td>0.960163</td>\n",
       "      <td>0.465510</td>\n",
       "    </tr>\n",
       "    <tr>\n",
       "      <th>5</th>\n",
       "      <td>4</td>\n",
       "      <td>Tutorial</td>\n",
       "      <td>279</td>\n",
       "      <td>0.236240</td>\n",
       "      <td>0.109972</td>\n",
       "    </tr>\n",
       "  </tbody>\n",
       "</table>\n",
       "</div>"
      ],
      "text/plain": [
       "   index               event_name  count  step_conv  total_conv\n",
       "0      5                 AllUsers   2537   1.000000    1.000000\n",
       "1      0         MainScreenAppear   2493   0.982657    0.982657\n",
       "2      1       OffersScreenAppear   1531   0.614120    0.603469\n",
       "3      2         CartScreenAppear   1230   0.803396    0.484825\n",
       "4      3  PaymentScreenSuccessful   1181   0.960163    0.465510\n",
       "5      4                 Tutorial    279   0.236240    0.109972"
      ]
     },
     "execution_count": 226,
     "metadata": {},
     "output_type": "execute_result"
    }
   ],
   "source": [
    "funnel_B = calc_funnel(logs_filtered.query('group == \"B\"'))\n",
    "funnel_B"
   ]
  },
  {
   "cell_type": "markdown",
   "id": "868604b3",
   "metadata": {},
   "source": [
    "Выведем на график воронки для всех групп"
   ]
  },
  {
   "cell_type": "code",
   "execution_count": 227,
   "id": "41b31294",
   "metadata": {},
   "outputs": [
    {
     "data": {
      "application/vnd.plotly.v1+json": {
       "config": {
        "plotlyServerURL": "https://plot.ly"
       },
       "data": [
        {
         "name": "A1",
         "textinfo": "value+percent initial",
         "type": "funnel",
         "x": [
          2484,
          2450,
          1542,
          1266,
          1200,
          278
         ],
         "y": [
          "AllUsers",
          "MainScreenAppear",
          "OffersScreenAppear",
          "CartScreenAppear",
          "PaymentScreenSuccessful",
          "Tutorial"
         ]
        },
        {
         "name": "A2",
         "textinfo": "value+percent initial",
         "type": "funnel",
         "x": [
          2513,
          2476,
          1520,
          1238,
          1158,
          283
         ],
         "y": [
          "AllUsers",
          "MainScreenAppear",
          "OffersScreenAppear",
          "CartScreenAppear",
          "PaymentScreenSuccessful",
          "Tutorial"
         ]
        },
        {
         "name": "B",
         "textinfo": "value+percent initial",
         "type": "funnel",
         "x": [
          2537,
          2493,
          1531,
          1230,
          1181,
          279
         ],
         "y": [
          "AllUsers",
          "MainScreenAppear",
          "OffersScreenAppear",
          "CartScreenAppear",
          "PaymentScreenSuccessful",
          "Tutorial"
         ]
        }
       ],
       "layout": {
        "template": {
         "data": {
          "bar": [
           {
            "error_x": {
             "color": "#2a3f5f"
            },
            "error_y": {
             "color": "#2a3f5f"
            },
            "marker": {
             "line": {
              "color": "#E5ECF6",
              "width": 0.5
             },
             "pattern": {
              "fillmode": "overlay",
              "size": 10,
              "solidity": 0.2
             }
            },
            "type": "bar"
           }
          ],
          "barpolar": [
           {
            "marker": {
             "line": {
              "color": "#E5ECF6",
              "width": 0.5
             },
             "pattern": {
              "fillmode": "overlay",
              "size": 10,
              "solidity": 0.2
             }
            },
            "type": "barpolar"
           }
          ],
          "carpet": [
           {
            "aaxis": {
             "endlinecolor": "#2a3f5f",
             "gridcolor": "white",
             "linecolor": "white",
             "minorgridcolor": "white",
             "startlinecolor": "#2a3f5f"
            },
            "baxis": {
             "endlinecolor": "#2a3f5f",
             "gridcolor": "white",
             "linecolor": "white",
             "minorgridcolor": "white",
             "startlinecolor": "#2a3f5f"
            },
            "type": "carpet"
           }
          ],
          "choropleth": [
           {
            "colorbar": {
             "outlinewidth": 0,
             "ticks": ""
            },
            "type": "choropleth"
           }
          ],
          "contour": [
           {
            "colorbar": {
             "outlinewidth": 0,
             "ticks": ""
            },
            "colorscale": [
             [
              0,
              "#0d0887"
             ],
             [
              0.1111111111111111,
              "#46039f"
             ],
             [
              0.2222222222222222,
              "#7201a8"
             ],
             [
              0.3333333333333333,
              "#9c179e"
             ],
             [
              0.4444444444444444,
              "#bd3786"
             ],
             [
              0.5555555555555556,
              "#d8576b"
             ],
             [
              0.6666666666666666,
              "#ed7953"
             ],
             [
              0.7777777777777778,
              "#fb9f3a"
             ],
             [
              0.8888888888888888,
              "#fdca26"
             ],
             [
              1,
              "#f0f921"
             ]
            ],
            "type": "contour"
           }
          ],
          "contourcarpet": [
           {
            "colorbar": {
             "outlinewidth": 0,
             "ticks": ""
            },
            "type": "contourcarpet"
           }
          ],
          "heatmap": [
           {
            "colorbar": {
             "outlinewidth": 0,
             "ticks": ""
            },
            "colorscale": [
             [
              0,
              "#0d0887"
             ],
             [
              0.1111111111111111,
              "#46039f"
             ],
             [
              0.2222222222222222,
              "#7201a8"
             ],
             [
              0.3333333333333333,
              "#9c179e"
             ],
             [
              0.4444444444444444,
              "#bd3786"
             ],
             [
              0.5555555555555556,
              "#d8576b"
             ],
             [
              0.6666666666666666,
              "#ed7953"
             ],
             [
              0.7777777777777778,
              "#fb9f3a"
             ],
             [
              0.8888888888888888,
              "#fdca26"
             ],
             [
              1,
              "#f0f921"
             ]
            ],
            "type": "heatmap"
           }
          ],
          "heatmapgl": [
           {
            "colorbar": {
             "outlinewidth": 0,
             "ticks": ""
            },
            "colorscale": [
             [
              0,
              "#0d0887"
             ],
             [
              0.1111111111111111,
              "#46039f"
             ],
             [
              0.2222222222222222,
              "#7201a8"
             ],
             [
              0.3333333333333333,
              "#9c179e"
             ],
             [
              0.4444444444444444,
              "#bd3786"
             ],
             [
              0.5555555555555556,
              "#d8576b"
             ],
             [
              0.6666666666666666,
              "#ed7953"
             ],
             [
              0.7777777777777778,
              "#fb9f3a"
             ],
             [
              0.8888888888888888,
              "#fdca26"
             ],
             [
              1,
              "#f0f921"
             ]
            ],
            "type": "heatmapgl"
           }
          ],
          "histogram": [
           {
            "marker": {
             "pattern": {
              "fillmode": "overlay",
              "size": 10,
              "solidity": 0.2
             }
            },
            "type": "histogram"
           }
          ],
          "histogram2d": [
           {
            "colorbar": {
             "outlinewidth": 0,
             "ticks": ""
            },
            "colorscale": [
             [
              0,
              "#0d0887"
             ],
             [
              0.1111111111111111,
              "#46039f"
             ],
             [
              0.2222222222222222,
              "#7201a8"
             ],
             [
              0.3333333333333333,
              "#9c179e"
             ],
             [
              0.4444444444444444,
              "#bd3786"
             ],
             [
              0.5555555555555556,
              "#d8576b"
             ],
             [
              0.6666666666666666,
              "#ed7953"
             ],
             [
              0.7777777777777778,
              "#fb9f3a"
             ],
             [
              0.8888888888888888,
              "#fdca26"
             ],
             [
              1,
              "#f0f921"
             ]
            ],
            "type": "histogram2d"
           }
          ],
          "histogram2dcontour": [
           {
            "colorbar": {
             "outlinewidth": 0,
             "ticks": ""
            },
            "colorscale": [
             [
              0,
              "#0d0887"
             ],
             [
              0.1111111111111111,
              "#46039f"
             ],
             [
              0.2222222222222222,
              "#7201a8"
             ],
             [
              0.3333333333333333,
              "#9c179e"
             ],
             [
              0.4444444444444444,
              "#bd3786"
             ],
             [
              0.5555555555555556,
              "#d8576b"
             ],
             [
              0.6666666666666666,
              "#ed7953"
             ],
             [
              0.7777777777777778,
              "#fb9f3a"
             ],
             [
              0.8888888888888888,
              "#fdca26"
             ],
             [
              1,
              "#f0f921"
             ]
            ],
            "type": "histogram2dcontour"
           }
          ],
          "mesh3d": [
           {
            "colorbar": {
             "outlinewidth": 0,
             "ticks": ""
            },
            "type": "mesh3d"
           }
          ],
          "parcoords": [
           {
            "line": {
             "colorbar": {
              "outlinewidth": 0,
              "ticks": ""
             }
            },
            "type": "parcoords"
           }
          ],
          "pie": [
           {
            "automargin": true,
            "type": "pie"
           }
          ],
          "scatter": [
           {
            "fillpattern": {
             "fillmode": "overlay",
             "size": 10,
             "solidity": 0.2
            },
            "type": "scatter"
           }
          ],
          "scatter3d": [
           {
            "line": {
             "colorbar": {
              "outlinewidth": 0,
              "ticks": ""
             }
            },
            "marker": {
             "colorbar": {
              "outlinewidth": 0,
              "ticks": ""
             }
            },
            "type": "scatter3d"
           }
          ],
          "scattercarpet": [
           {
            "marker": {
             "colorbar": {
              "outlinewidth": 0,
              "ticks": ""
             }
            },
            "type": "scattercarpet"
           }
          ],
          "scattergeo": [
           {
            "marker": {
             "colorbar": {
              "outlinewidth": 0,
              "ticks": ""
             }
            },
            "type": "scattergeo"
           }
          ],
          "scattergl": [
           {
            "marker": {
             "colorbar": {
              "outlinewidth": 0,
              "ticks": ""
             }
            },
            "type": "scattergl"
           }
          ],
          "scattermapbox": [
           {
            "marker": {
             "colorbar": {
              "outlinewidth": 0,
              "ticks": ""
             }
            },
            "type": "scattermapbox"
           }
          ],
          "scatterpolar": [
           {
            "marker": {
             "colorbar": {
              "outlinewidth": 0,
              "ticks": ""
             }
            },
            "type": "scatterpolar"
           }
          ],
          "scatterpolargl": [
           {
            "marker": {
             "colorbar": {
              "outlinewidth": 0,
              "ticks": ""
             }
            },
            "type": "scatterpolargl"
           }
          ],
          "scatterternary": [
           {
            "marker": {
             "colorbar": {
              "outlinewidth": 0,
              "ticks": ""
             }
            },
            "type": "scatterternary"
           }
          ],
          "surface": [
           {
            "colorbar": {
             "outlinewidth": 0,
             "ticks": ""
            },
            "colorscale": [
             [
              0,
              "#0d0887"
             ],
             [
              0.1111111111111111,
              "#46039f"
             ],
             [
              0.2222222222222222,
              "#7201a8"
             ],
             [
              0.3333333333333333,
              "#9c179e"
             ],
             [
              0.4444444444444444,
              "#bd3786"
             ],
             [
              0.5555555555555556,
              "#d8576b"
             ],
             [
              0.6666666666666666,
              "#ed7953"
             ],
             [
              0.7777777777777778,
              "#fb9f3a"
             ],
             [
              0.8888888888888888,
              "#fdca26"
             ],
             [
              1,
              "#f0f921"
             ]
            ],
            "type": "surface"
           }
          ],
          "table": [
           {
            "cells": {
             "fill": {
              "color": "#EBF0F8"
             },
             "line": {
              "color": "white"
             }
            },
            "header": {
             "fill": {
              "color": "#C8D4E3"
             },
             "line": {
              "color": "white"
             }
            },
            "type": "table"
           }
          ]
         },
         "layout": {
          "annotationdefaults": {
           "arrowcolor": "#2a3f5f",
           "arrowhead": 0,
           "arrowwidth": 1
          },
          "autotypenumbers": "strict",
          "coloraxis": {
           "colorbar": {
            "outlinewidth": 0,
            "ticks": ""
           }
          },
          "colorscale": {
           "diverging": [
            [
             0,
             "#8e0152"
            ],
            [
             0.1,
             "#c51b7d"
            ],
            [
             0.2,
             "#de77ae"
            ],
            [
             0.3,
             "#f1b6da"
            ],
            [
             0.4,
             "#fde0ef"
            ],
            [
             0.5,
             "#f7f7f7"
            ],
            [
             0.6,
             "#e6f5d0"
            ],
            [
             0.7,
             "#b8e186"
            ],
            [
             0.8,
             "#7fbc41"
            ],
            [
             0.9,
             "#4d9221"
            ],
            [
             1,
             "#276419"
            ]
           ],
           "sequential": [
            [
             0,
             "#0d0887"
            ],
            [
             0.1111111111111111,
             "#46039f"
            ],
            [
             0.2222222222222222,
             "#7201a8"
            ],
            [
             0.3333333333333333,
             "#9c179e"
            ],
            [
             0.4444444444444444,
             "#bd3786"
            ],
            [
             0.5555555555555556,
             "#d8576b"
            ],
            [
             0.6666666666666666,
             "#ed7953"
            ],
            [
             0.7777777777777778,
             "#fb9f3a"
            ],
            [
             0.8888888888888888,
             "#fdca26"
            ],
            [
             1,
             "#f0f921"
            ]
           ],
           "sequentialminus": [
            [
             0,
             "#0d0887"
            ],
            [
             0.1111111111111111,
             "#46039f"
            ],
            [
             0.2222222222222222,
             "#7201a8"
            ],
            [
             0.3333333333333333,
             "#9c179e"
            ],
            [
             0.4444444444444444,
             "#bd3786"
            ],
            [
             0.5555555555555556,
             "#d8576b"
            ],
            [
             0.6666666666666666,
             "#ed7953"
            ],
            [
             0.7777777777777778,
             "#fb9f3a"
            ],
            [
             0.8888888888888888,
             "#fdca26"
            ],
            [
             1,
             "#f0f921"
            ]
           ]
          },
          "colorway": [
           "#636efa",
           "#EF553B",
           "#00cc96",
           "#ab63fa",
           "#FFA15A",
           "#19d3f3",
           "#FF6692",
           "#B6E880",
           "#FF97FF",
           "#FECB52"
          ],
          "font": {
           "color": "#2a3f5f"
          },
          "geo": {
           "bgcolor": "white",
           "lakecolor": "white",
           "landcolor": "#E5ECF6",
           "showlakes": true,
           "showland": true,
           "subunitcolor": "white"
          },
          "hoverlabel": {
           "align": "left"
          },
          "hovermode": "closest",
          "mapbox": {
           "style": "light"
          },
          "paper_bgcolor": "white",
          "plot_bgcolor": "#E5ECF6",
          "polar": {
           "angularaxis": {
            "gridcolor": "white",
            "linecolor": "white",
            "ticks": ""
           },
           "bgcolor": "#E5ECF6",
           "radialaxis": {
            "gridcolor": "white",
            "linecolor": "white",
            "ticks": ""
           }
          },
          "scene": {
           "xaxis": {
            "backgroundcolor": "#E5ECF6",
            "gridcolor": "white",
            "gridwidth": 2,
            "linecolor": "white",
            "showbackground": true,
            "ticks": "",
            "zerolinecolor": "white"
           },
           "yaxis": {
            "backgroundcolor": "#E5ECF6",
            "gridcolor": "white",
            "gridwidth": 2,
            "linecolor": "white",
            "showbackground": true,
            "ticks": "",
            "zerolinecolor": "white"
           },
           "zaxis": {
            "backgroundcolor": "#E5ECF6",
            "gridcolor": "white",
            "gridwidth": 2,
            "linecolor": "white",
            "showbackground": true,
            "ticks": "",
            "zerolinecolor": "white"
           }
          },
          "shapedefaults": {
           "line": {
            "color": "#2a3f5f"
           }
          },
          "ternary": {
           "aaxis": {
            "gridcolor": "white",
            "linecolor": "white",
            "ticks": ""
           },
           "baxis": {
            "gridcolor": "white",
            "linecolor": "white",
            "ticks": ""
           },
           "bgcolor": "#E5ECF6",
           "caxis": {
            "gridcolor": "white",
            "linecolor": "white",
            "ticks": ""
           }
          },
          "title": {
           "x": 0.05
          },
          "xaxis": {
           "automargin": true,
           "gridcolor": "white",
           "linecolor": "white",
           "ticks": "",
           "title": {
            "standoff": 15
           },
           "zerolinecolor": "white",
           "zerolinewidth": 2
          },
          "yaxis": {
           "automargin": true,
           "gridcolor": "white",
           "linecolor": "white",
           "ticks": "",
           "title": {
            "standoff": 15
           },
           "zerolinecolor": "white",
           "zerolinewidth": 2
          }
         }
        }
       }
      }
     },
     "metadata": {},
     "output_type": "display_data"
    }
   ],
   "source": [
    "fig = go.Figure()\n",
    "\n",
    "fig.add_trace(go.Funnel(name='A1',\n",
    "                        x=funnel_A1['count'],\n",
    "                        y=funnel_A1['event_name'],\n",
    "                        textinfo = \"value+percent initial\"))\n",
    "\n",
    "fig.add_trace(go.Funnel(name='A2',\n",
    "                        x=funnel_A2['count'],\n",
    "                        y=funnel_A2['event_name'],\n",
    "                        textinfo = \"value+percent initial\"))\n",
    "\n",
    "fig.add_trace(go.Funnel(name='B',\n",
    "                        x=funnel_B['count'],\n",
    "                        y=funnel_B['event_name'],\n",
    "                        textinfo = \"value+percent initial\"))\n",
    "fig.show()"
   ]
  },
  {
   "cell_type": "markdown",
   "id": "32cb624d",
   "metadata": {},
   "source": [
    "Из графика кажется, что группы и их конверсии практически не отличаются. Однако по одному только виду определить это невозможно.\n",
    "Напишем функцию для определения p-value разницы конверсий между группами и видами событий."
   ]
  },
  {
   "cell_type": "code",
   "execution_count": 228,
   "id": "ad669080",
   "metadata": {},
   "outputs": [],
   "source": [
    "def test_exp(funnel_1, funnel_2):\n",
    "    \n",
    "    res = pd.DataFrame(index = funnel_1['event_name'])\n",
    "    res['p_value_rel'] = np.nan\n",
    "    res['p_value_abs'] = np.nan\n",
    "    \n",
    "    for i in range(1,len(funnel_1)):\n",
    "        \n",
    "        # относительная и общая конверсия в первой группе:\n",
    "        p1_rel = funnel_1['step_conv'][i]\n",
    "        p1_abs = funnel_1['total_conv'][i]\n",
    "        # относительная и общая конверсия конверсия во второй группе:\n",
    "        p2_rel = funnel_2['step_conv'][i]\n",
    "        p2_abs = funnel_2['total_conv'][i]\n",
    "        # конверсия в комбинированном датасете:\n",
    "        p_combined_rel = (funnel_1['count'][i] + funnel_2['count'][i]) / (funnel_1['count'][i-1] + funnel_2['count'][i-1])\n",
    "        p_combined_abs = (funnel_1['count'][i] + funnel_2['count'][i]) / (funnel_1['count'][0] + funnel_2['count'][0])\n",
    "        #разница конверсий в датасетах\n",
    "        diff_rel = p1_rel - p2_rel\n",
    "        diff_abs = p1_abs - p2_abs\n",
    "        # считаем статистику в ст.отклонениях стандартного нормального распределения\n",
    "        z_value_rel = diff_rel/ mth.sqrt(p_combined_rel * (1-p_combined_rel) * (1/funnel_1['count'][i-1] + 1/funnel_2['count'][i-1]))\n",
    "        z_value_abs = diff_abs/ mth.sqrt(p_combined_abs * (1-p_combined_abs) * (1/funnel_1['count'][0] + 1/funnel_2['count'][0]))\n",
    "        # задаем стандартное нормальное распределение (среднее 0, ст.отклонение 1)\n",
    "        distr = st.norm(0, 1)\n",
    "        # считаем p-value\n",
    "        p_value_rel = (1 - distr.cdf(abs(z_value_rel))) * 2\n",
    "        p_value_abs = (1 - distr.cdf(abs(z_value_abs))) * 2                               \n",
    "        # добавляем данные о p-value в таблицу\n",
    "        res['p_value_rel'][i] = p_value_rel\n",
    "        res['p_value_abs'][i] = p_value_abs\n",
    "        # заполняем пропуск в первой строке\n",
    "        res = res.fillna(1)\n",
    "        \n",
    "\n",
    "    return res"
   ]
  },
  {
   "cell_type": "markdown",
   "id": "c7bffe17",
   "metadata": {},
   "source": [
    "<div class=\"alert alert-block alert-danger\">\n",
    "    \n",
    "### Комментарий от ревьюера v_2\n",
    "Критично\n",
    "\n",
    "Здесь у тебя все верно, но только для нахождения доли пользователей нужно делить на число пользователей в группе, а не на число пользователей, совершивших первое действие воронки\n",
    "</div>"
   ]
  },
  {
   "cell_type": "markdown",
   "id": "164f327a",
   "metadata": {},
   "source": [
    "<div class=\"alert alert-block alert-info\">\n",
    "\n",
    "**Комментарий студента:**<br>\n",
    "    Исправил, для этого пришлось немного переписать функцию calc_funnel.\n",
    "\n",
    "</div>"
   ]
  },
  {
   "cell_type": "markdown",
   "id": "b96542e0",
   "metadata": {},
   "source": [
    "### Проверка методики на основе A/A-теста"
   ]
  },
  {
   "cell_type": "markdown",
   "id": "b2511753",
   "metadata": {},
   "source": [
    "Нам предоставлены 2 контрольные группы (A1 и A2), чтобы проверить корректность всех механизмов и расчетов для проверки гипотез. Проверим написанную нами функцию на этих группах."
   ]
  },
  {
   "cell_type": "code",
   "execution_count": 229,
   "id": "b2797dea",
   "metadata": {},
   "outputs": [
    {
     "data": {
      "text/html": [
       "<div>\n",
       "<style scoped>\n",
       "    .dataframe tbody tr th:only-of-type {\n",
       "        vertical-align: middle;\n",
       "    }\n",
       "\n",
       "    .dataframe tbody tr th {\n",
       "        vertical-align: top;\n",
       "    }\n",
       "\n",
       "    .dataframe thead th {\n",
       "        text-align: right;\n",
       "    }\n",
       "</style>\n",
       "<table border=\"1\" class=\"dataframe\">\n",
       "  <thead>\n",
       "    <tr style=\"text-align: right;\">\n",
       "      <th></th>\n",
       "      <th>p_value_rel</th>\n",
       "      <th>p_value_abs</th>\n",
       "    </tr>\n",
       "    <tr>\n",
       "      <th>event_name</th>\n",
       "      <th></th>\n",
       "      <th></th>\n",
       "    </tr>\n",
       "  </thead>\n",
       "  <tbody>\n",
       "    <tr>\n",
       "      <th>AllUsers</th>\n",
       "      <td>1.000000</td>\n",
       "      <td>1.000000</td>\n",
       "    </tr>\n",
       "    <tr>\n",
       "      <th>MainScreenAppear</th>\n",
       "      <td>0.757060</td>\n",
       "      <td>0.757060</td>\n",
       "    </tr>\n",
       "    <tr>\n",
       "      <th>OffersScreenAppear</th>\n",
       "      <td>0.262234</td>\n",
       "      <td>0.248095</td>\n",
       "    </tr>\n",
       "    <tr>\n",
       "      <th>CartScreenAppear</th>\n",
       "      <td>0.639375</td>\n",
       "      <td>0.228834</td>\n",
       "    </tr>\n",
       "    <tr>\n",
       "      <th>PaymentScreenSuccessful</th>\n",
       "      <td>0.182434</td>\n",
       "      <td>0.114567</td>\n",
       "    </tr>\n",
       "    <tr>\n",
       "      <th>Tutorial</th>\n",
       "      <td>0.468332</td>\n",
       "      <td>0.937700</td>\n",
       "    </tr>\n",
       "  </tbody>\n",
       "</table>\n",
       "</div>"
      ],
      "text/plain": [
       "                         p_value_rel  p_value_abs\n",
       "event_name                                       \n",
       "AllUsers                    1.000000     1.000000\n",
       "MainScreenAppear            0.757060     0.757060\n",
       "OffersScreenAppear          0.262234     0.248095\n",
       "CartScreenAppear            0.639375     0.228834\n",
       "PaymentScreenSuccessful     0.182434     0.114567\n",
       "Tutorial                    0.468332     0.937700"
      ]
     },
     "execution_count": 229,
     "metadata": {},
     "output_type": "execute_result"
    }
   ],
   "source": [
    "test_res_A1_A2 = test_exp(funnel_A1, funnel_A2)\n",
    "test_res_A1_A2"
   ]
  },
  {
   "cell_type": "markdown",
   "id": "38acda9c",
   "metadata": {},
   "source": [
    "Напишем функцию, которая будет сравнивать результаты теста с определенным уровнем значимости, и визуализировать результаты сравнения."
   ]
  },
  {
   "cell_type": "code",
   "execution_count": 230,
   "id": "b8fba571",
   "metadata": {},
   "outputs": [],
   "source": [
    "def test_res_heatmap(df, alpha=0.05, test_name='A/B'):\n",
    "    my_color = [(0.7,0.1,0.1),(0.5,0.6,0.1),(0.1,0.5,0.1)]\n",
    "\n",
    "    ax = sns.heatmap(df[1:],\n",
    "                     annot=True,\n",
    "                     xticklabels=['Сравнение \\n относительной \\n конверсии','Сравнение \\n абсолютной \\n конверсии'],\n",
    "                     fmt='.3f',\n",
    "                     linewidth=1,\n",
    "                     linecolor='black',\n",
    "                     cmap=my_color,\n",
    "                     vmin=0, vmax=alpha*3)\n",
    "\n",
    "    ax.set_title(f'Результаты проверки гипотез теста {test_name}', fontsize=14)\n",
    "    ax.set_ylabel('Событие', fontsize=12)\n",
    "\n",
    "    colorbar = ax.collections[0].colorbar\n",
    "    colorbar.set_ticks([0,alpha,alpha*2])\n",
    "    colorbar.set_label('p-value', fontsize=12)\n",
    "\n",
    "    \n",
    "\n",
    "    return ax"
   ]
  },
  {
   "cell_type": "markdown",
   "id": "596cf6ed",
   "metadata": {},
   "source": [
    "Теперь применим функцию к результатам A/A теста, для того чтобы определить, корректно ли разделены данные."
   ]
  },
  {
   "cell_type": "code",
   "execution_count": 231,
   "id": "3493bd7c",
   "metadata": {},
   "outputs": [
    {
     "data": {
      "text/plain": [
       "<AxesSubplot:title={'center':'Результаты проверки гипотез теста A1/A2'}, ylabel='Событие'>"
      ]
     },
     "execution_count": 231,
     "metadata": {},
     "output_type": "execute_result"
    },
    {
     "data": {
      "image/png": "[encoded data removed]",
      "text/plain": [
       "<Figure size 432x288 with 2 Axes>"
      ]
     },
     "metadata": {},
     "output_type": "display_data"
    }
   ],
   "source": [
    "test_res_heatmap(test_res_A1_A2,alpha=0.05,test_name='A1/A2')"
   ]
  },
  {
   "cell_type": "markdown",
   "id": "638b9a5a",
   "metadata": {},
   "source": [
    "Проведенные тесты не показали статистически значимых различий между конверсиями групп A1 и A2. \n",
    "\n",
    "Следовательно, можно считать, что разбиение пользователей на группы проходит корректно."
   ]
  },
  {
   "cell_type": "markdown",
   "id": "9b95fa42",
   "metadata": {},
   "source": [
    "<div class=\"alert alert-block alert-success\">\n",
    "    \n",
    "### Комментарий от ревьюера v_2\n",
    "\n",
    "Здорово, что обращаешь внимание на корректность разделения контрольных групп 👍\n",
    "        \n",
    "</div>"
   ]
  },
  {
   "cell_type": "markdown",
   "id": "b260c004",
   "metadata": {},
   "source": [
    "### Проверка гипотез A/B-теста"
   ]
  },
  {
   "cell_type": "markdown",
   "id": "1fd52f70",
   "metadata": {},
   "source": [
    "После проверки методики проведения теста можно приступить к анализу результатов A/B теста. Поскольку нам предоставлены 2 контрольных группы, проверим гипотезы для трех пар:\n",
    "* A1/B\n",
    "* A2/B\n",
    "* (A1+A2)/B"
   ]
  },
  {
   "cell_type": "code",
   "execution_count": 232,
   "id": "77092866",
   "metadata": {},
   "outputs": [
    {
     "data": {
      "text/html": [
       "<div>\n",
       "<style scoped>\n",
       "    .dataframe tbody tr th:only-of-type {\n",
       "        vertical-align: middle;\n",
       "    }\n",
       "\n",
       "    .dataframe tbody tr th {\n",
       "        vertical-align: top;\n",
       "    }\n",
       "\n",
       "    .dataframe thead th {\n",
       "        text-align: right;\n",
       "    }\n",
       "</style>\n",
       "<table border=\"1\" class=\"dataframe\">\n",
       "  <thead>\n",
       "    <tr style=\"text-align: right;\">\n",
       "      <th></th>\n",
       "      <th>p_value_rel</th>\n",
       "      <th>p_value_abs</th>\n",
       "    </tr>\n",
       "    <tr>\n",
       "      <th>event_name</th>\n",
       "      <th></th>\n",
       "      <th></th>\n",
       "    </tr>\n",
       "  </thead>\n",
       "  <tbody>\n",
       "    <tr>\n",
       "      <th>AllUsers</th>\n",
       "      <td>1.000000</td>\n",
       "      <td>1.000000</td>\n",
       "    </tr>\n",
       "    <tr>\n",
       "      <th>MainScreenAppear</th>\n",
       "      <td>0.294972</td>\n",
       "      <td>0.294972</td>\n",
       "    </tr>\n",
       "    <tr>\n",
       "      <th>OffersScreenAppear</th>\n",
       "      <td>0.268428</td>\n",
       "      <td>0.208362</td>\n",
       "    </tr>\n",
       "    <tr>\n",
       "      <th>CartScreenAppear</th>\n",
       "      <td>0.211217</td>\n",
       "      <td>0.078429</td>\n",
       "    </tr>\n",
       "    <tr>\n",
       "      <th>PaymentScreenSuccessful</th>\n",
       "      <td>0.142953</td>\n",
       "      <td>0.212255</td>\n",
       "    </tr>\n",
       "    <tr>\n",
       "      <th>Tutorial</th>\n",
       "      <td>0.792094</td>\n",
       "      <td>0.826429</td>\n",
       "    </tr>\n",
       "  </tbody>\n",
       "</table>\n",
       "</div>"
      ],
      "text/plain": [
       "                         p_value_rel  p_value_abs\n",
       "event_name                                       \n",
       "AllUsers                    1.000000     1.000000\n",
       "MainScreenAppear            0.294972     0.294972\n",
       "OffersScreenAppear          0.268428     0.208362\n",
       "CartScreenAppear            0.211217     0.078429\n",
       "PaymentScreenSuccessful     0.142953     0.212255\n",
       "Tutorial                    0.792094     0.826429"
      ]
     },
     "execution_count": 232,
     "metadata": {},
     "output_type": "execute_result"
    }
   ],
   "source": [
    "test_res_A1_B = test_exp(funnel_A1, funnel_B)\n",
    "test_res_A1_B"
   ]
  },
  {
   "cell_type": "code",
   "execution_count": 233,
   "id": "9d48917f",
   "metadata": {},
   "outputs": [
    {
     "data": {
      "text/plain": [
       "<AxesSubplot:title={'center':'Результаты проверки гипотез теста A1/B'}, ylabel='Событие'>"
      ]
     },
     "execution_count": 233,
     "metadata": {},
     "output_type": "execute_result"
    },
    {
     "data": {
      "image/png": "[encoded data removed]",
      "text/plain": [
       "<Figure size 432x288 with 2 Axes>"
      ]
     },
     "metadata": {},
     "output_type": "display_data"
    }
   ],
   "source": [
    "test_res_heatmap(test_res_A1_B,alpha=0.1,test_name='A1/B')"
   ]
  },
  {
   "cell_type": "markdown",
   "id": "a43d3970",
   "metadata": {},
   "source": [
    "* По результатам  теста A1/B нельзя заявить о статистически значимом различии между конверсиями в двух группах.\n",
    "\n",
    "---"
   ]
  },
  {
   "cell_type": "code",
   "execution_count": 234,
   "id": "11a6aeac",
   "metadata": {},
   "outputs": [
    {
     "data": {
      "text/html": [
       "<div>\n",
       "<style scoped>\n",
       "    .dataframe tbody tr th:only-of-type {\n",
       "        vertical-align: middle;\n",
       "    }\n",
       "\n",
       "    .dataframe tbody tr th {\n",
       "        vertical-align: top;\n",
       "    }\n",
       "\n",
       "    .dataframe thead th {\n",
       "        text-align: right;\n",
       "    }\n",
       "</style>\n",
       "<table border=\"1\" class=\"dataframe\">\n",
       "  <thead>\n",
       "    <tr style=\"text-align: right;\">\n",
       "      <th></th>\n",
       "      <th>p_value_rel</th>\n",
       "      <th>p_value_abs</th>\n",
       "    </tr>\n",
       "    <tr>\n",
       "      <th>event_name</th>\n",
       "      <th></th>\n",
       "      <th></th>\n",
       "    </tr>\n",
       "  </thead>\n",
       "  <tbody>\n",
       "    <tr>\n",
       "      <th>AllUsers</th>\n",
       "      <td>1.000000</td>\n",
       "      <td>1.000000</td>\n",
       "    </tr>\n",
       "    <tr>\n",
       "      <th>MainScreenAppear</th>\n",
       "      <td>0.458705</td>\n",
       "      <td>0.458705</td>\n",
       "    </tr>\n",
       "    <tr>\n",
       "      <th>OffersScreenAppear</th>\n",
       "      <td>0.986937</td>\n",
       "      <td>0.919782</td>\n",
       "    </tr>\n",
       "    <tr>\n",
       "      <th>CartScreenAppear</th>\n",
       "      <td>0.436490</td>\n",
       "      <td>0.578620</td>\n",
       "    </tr>\n",
       "    <tr>\n",
       "      <th>PaymentScreenSuccessful</th>\n",
       "      <td>0.005677</td>\n",
       "      <td>0.737342</td>\n",
       "    </tr>\n",
       "    <tr>\n",
       "      <th>Tutorial</th>\n",
       "      <td>0.644763</td>\n",
       "      <td>0.765324</td>\n",
       "    </tr>\n",
       "  </tbody>\n",
       "</table>\n",
       "</div>"
      ],
      "text/plain": [
       "                         p_value_rel  p_value_abs\n",
       "event_name                                       \n",
       "AllUsers                    1.000000     1.000000\n",
       "MainScreenAppear            0.458705     0.458705\n",
       "OffersScreenAppear          0.986937     0.919782\n",
       "CartScreenAppear            0.436490     0.578620\n",
       "PaymentScreenSuccessful     0.005677     0.737342\n",
       "Tutorial                    0.644763     0.765324"
      ]
     },
     "execution_count": 234,
     "metadata": {},
     "output_type": "execute_result"
    }
   ],
   "source": [
    "test_res_A2_B = test_exp(funnel_A2, funnel_B)\n",
    "test_res_A2_B"
   ]
  },
  {
   "cell_type": "code",
   "execution_count": 235,
   "id": "80fd6905",
   "metadata": {},
   "outputs": [
    {
     "data": {
      "text/plain": [
       "<AxesSubplot:title={'center':'Результаты проверки гипотез теста A2/B'}, ylabel='Событие'>"
      ]
     },
     "execution_count": 235,
     "metadata": {},
     "output_type": "execute_result"
    },
    {
     "data": {
      "image/png": "[encoded data removed]",
      "text/plain": [
       "<Figure size 432x288 with 2 Axes>"
      ]
     },
     "metadata": {},
     "output_type": "display_data"
    }
   ],
   "source": [
    "test_res_heatmap(test_res_A2_B,alpha=0.1,test_name='A2/B')"
   ]
  },
  {
   "cell_type": "markdown",
   "id": "6d5813c1",
   "metadata": {},
   "source": [
    "* По результатам теста A2/B было обнаружено статистически значимое различие между относительными конверсиями групп для события - 'Успешная оплата заказа'\n",
    "* Для остальных событий статистически значимой разницы в конверсиях обнаружено не было.\n",
    "\n",
    "---"
   ]
  },
  {
   "cell_type": "code",
   "execution_count": 236,
   "id": "df850050",
   "metadata": {},
   "outputs": [
    {
     "data": {
      "text/plain": [
       "0.0029224024346922173"
      ]
     },
     "execution_count": 236,
     "metadata": {},
     "output_type": "execute_result"
    }
   ],
   "source": [
    "alpha = 0.1\n",
    "1-(1-alpha)**(1/36)"
   ]
  },
  {
   "cell_type": "code",
   "execution_count": 237,
   "id": "62a43267",
   "metadata": {},
   "outputs": [
    {
     "data": {
      "text/html": [
       "<div>\n",
       "<style scoped>\n",
       "    .dataframe tbody tr th:only-of-type {\n",
       "        vertical-align: middle;\n",
       "    }\n",
       "\n",
       "    .dataframe tbody tr th {\n",
       "        vertical-align: top;\n",
       "    }\n",
       "\n",
       "    .dataframe thead th {\n",
       "        text-align: right;\n",
       "    }\n",
       "</style>\n",
       "<table border=\"1\" class=\"dataframe\">\n",
       "  <thead>\n",
       "    <tr style=\"text-align: right;\">\n",
       "      <th></th>\n",
       "      <th>p_value_rel</th>\n",
       "      <th>p_value_abs</th>\n",
       "    </tr>\n",
       "    <tr>\n",
       "      <th>event_name</th>\n",
       "      <th></th>\n",
       "      <th></th>\n",
       "    </tr>\n",
       "  </thead>\n",
       "  <tbody>\n",
       "    <tr>\n",
       "      <th>AllUsers</th>\n",
       "      <td>1.000000</td>\n",
       "      <td>1.000000</td>\n",
       "    </tr>\n",
       "    <tr>\n",
       "      <th>MainScreenAppear</th>\n",
       "      <td>0.294245</td>\n",
       "      <td>0.294245</td>\n",
       "    </tr>\n",
       "    <tr>\n",
       "      <th>OffersScreenAppear</th>\n",
       "      <td>0.530859</td>\n",
       "      <td>0.434255</td>\n",
       "    </tr>\n",
       "    <tr>\n",
       "      <th>CartScreenAppear</th>\n",
       "      <td>0.239060</td>\n",
       "      <td>0.181759</td>\n",
       "    </tr>\n",
       "    <tr>\n",
       "      <th>PaymentScreenSuccessful</th>\n",
       "      <td>0.017114</td>\n",
       "      <td>0.600429</td>\n",
       "    </tr>\n",
       "    <tr>\n",
       "      <th>Tutorial</th>\n",
       "      <td>0.912168</td>\n",
       "      <td>0.764862</td>\n",
       "    </tr>\n",
       "  </tbody>\n",
       "</table>\n",
       "</div>"
      ],
      "text/plain": [
       "                         p_value_rel  p_value_abs\n",
       "event_name                                       \n",
       "AllUsers                    1.000000     1.000000\n",
       "MainScreenAppear            0.294245     0.294245\n",
       "OffersScreenAppear          0.530859     0.434255\n",
       "CartScreenAppear            0.239060     0.181759\n",
       "PaymentScreenSuccessful     0.017114     0.600429\n",
       "Tutorial                    0.912168     0.764862"
      ]
     },
     "execution_count": 237,
     "metadata": {},
     "output_type": "execute_result"
    }
   ],
   "source": [
    "test_res_A1_A2_B = test_exp(funnel_A1_A2, funnel_B)\n",
    "test_res_A1_A2_B "
   ]
  },
  {
   "cell_type": "code",
   "execution_count": 238,
   "id": "7f0fdf5b",
   "metadata": {},
   "outputs": [
    {
     "data": {
      "text/plain": [
       "<AxesSubplot:title={'center':'Результаты проверки гипотез теста A1+A2/B'}, ylabel='Событие'>"
      ]
     },
     "execution_count": 238,
     "metadata": {},
     "output_type": "execute_result"
    },
    {
     "data": {
      "image/png": "[encoded data removed]",
      "text/plain": [
       "<Figure size 432x288 with 2 Axes>"
      ]
     },
     "metadata": {},
     "output_type": "display_data"
    }
   ],
   "source": [
    "test_res_heatmap(test_res_A1_A2_B ,alpha=0.1,test_name='A1+A2/B')"
   ]
  },
  {
   "cell_type": "markdown",
   "id": "86ce5b6f",
   "metadata": {},
   "source": [
    "* По результатам теста A1+A2/B было обнаружено статистически значимое различие между относительными конверсиями групп для события - 'Успешная оплата заказа'\n",
    "* Для остальных событий статистически значимой разницы в конверсиях обнаружено не было.\n",
    "* Результаты проверок гипотез совпадают с результатами для A2/B теста\n",
    "---"
   ]
  },
  {
   "cell_type": "markdown",
   "id": "4ef420b8",
   "metadata": {},
   "source": [
    "### Множественная проверка гипотез"
   ]
  },
  {
   "cell_type": "markdown",
   "id": "766af231",
   "metadata": {},
   "source": [
    "Поскольку прямое сравнение с установленным уровнем значимости подходит только для одиночных гипотез, а мы провели 24 проверки, следует ввести поправку в уровень значимости для достижения ожидаемого результата.\n",
    "Иначе при установленном уровне значимости в 0.1 - один из десяти тестов покажет ложноположительный результат. Поскольку мы провели 24 теста, по статистике 2 из них будут ложноположительными и мы дважды отвергнем верную нулевую гипотезу."
   ]
  },
  {
   "cell_type": "markdown",
   "id": "38412ed0",
   "metadata": {},
   "source": [
    "Для введения поправки в уровень значимости для множественной проверки гипотез применим метод Шидака-Холма\n",
    "\n",
    "Метод Шидака-Холма корректирует α (уровни значимости для проверки единичных гипотез). Он также сохраняет вероятность ошибки первого рода ≤ α\n",
    "\n",
    "Для ее применения гипотезы сортируют в порядке возрастания p-value и сравнивают с αi, значение которого расчитывают по следующей формуле:\n",
    "\n",
    "$$α_1=1-(1−α)^\\frac{α}{m}$$\n",
    "$$α_i=1-(1−α)^\\frac{α}{m-i+1}$$\n",
    "\n"
   ]
  },
  {
   "cell_type": "markdown",
   "id": "73332296",
   "metadata": {},
   "source": [
    "Объединим все результаты проверки гипотез в одну таблицу."
   ]
  },
  {
   "cell_type": "code",
   "execution_count": 239,
   "id": "58c595da",
   "metadata": {},
   "outputs": [
    {
     "data": {
      "text/html": [
       "<div>\n",
       "<style scoped>\n",
       "    .dataframe tbody tr th:only-of-type {\n",
       "        vertical-align: middle;\n",
       "    }\n",
       "\n",
       "    .dataframe tbody tr th {\n",
       "        vertical-align: top;\n",
       "    }\n",
       "\n",
       "    .dataframe thead th {\n",
       "        text-align: right;\n",
       "    }\n",
       "</style>\n",
       "<table border=\"1\" class=\"dataframe\">\n",
       "  <thead>\n",
       "    <tr style=\"text-align: right;\">\n",
       "      <th></th>\n",
       "      <th>p_value_rel_A1_B</th>\n",
       "      <th>p_value_abs_A1_B</th>\n",
       "      <th>p_value_rel_A2_B</th>\n",
       "      <th>p_value_abs_A2_B</th>\n",
       "      <th>p_value_rel_A1_A2_B</th>\n",
       "      <th>p_value_abs_A1_A2_B</th>\n",
       "    </tr>\n",
       "    <tr>\n",
       "      <th>event_name</th>\n",
       "      <th></th>\n",
       "      <th></th>\n",
       "      <th></th>\n",
       "      <th></th>\n",
       "      <th></th>\n",
       "      <th></th>\n",
       "    </tr>\n",
       "  </thead>\n",
       "  <tbody>\n",
       "    <tr>\n",
       "      <th>MainScreenAppear</th>\n",
       "      <td>0.294972</td>\n",
       "      <td>0.294972</td>\n",
       "      <td>0.458705</td>\n",
       "      <td>0.458705</td>\n",
       "      <td>0.294245</td>\n",
       "      <td>0.294245</td>\n",
       "    </tr>\n",
       "    <tr>\n",
       "      <th>OffersScreenAppear</th>\n",
       "      <td>0.268428</td>\n",
       "      <td>0.208362</td>\n",
       "      <td>0.986937</td>\n",
       "      <td>0.919782</td>\n",
       "      <td>0.530859</td>\n",
       "      <td>0.434255</td>\n",
       "    </tr>\n",
       "    <tr>\n",
       "      <th>CartScreenAppear</th>\n",
       "      <td>0.211217</td>\n",
       "      <td>0.078429</td>\n",
       "      <td>0.436490</td>\n",
       "      <td>0.578620</td>\n",
       "      <td>0.239060</td>\n",
       "      <td>0.181759</td>\n",
       "    </tr>\n",
       "    <tr>\n",
       "      <th>PaymentScreenSuccessful</th>\n",
       "      <td>0.142953</td>\n",
       "      <td>0.212255</td>\n",
       "      <td>0.005677</td>\n",
       "      <td>0.737342</td>\n",
       "      <td>0.017114</td>\n",
       "      <td>0.600429</td>\n",
       "    </tr>\n",
       "    <tr>\n",
       "      <th>Tutorial</th>\n",
       "      <td>0.792094</td>\n",
       "      <td>0.826429</td>\n",
       "      <td>0.644763</td>\n",
       "      <td>0.765324</td>\n",
       "      <td>0.912168</td>\n",
       "      <td>0.764862</td>\n",
       "    </tr>\n",
       "  </tbody>\n",
       "</table>\n",
       "</div>"
      ],
      "text/plain": [
       "                         p_value_rel_A1_B  p_value_abs_A1_B  p_value_rel_A2_B  \\\n",
       "event_name                                                                      \n",
       "MainScreenAppear                 0.294972          0.294972          0.458705   \n",
       "OffersScreenAppear               0.268428          0.208362          0.986937   \n",
       "CartScreenAppear                 0.211217          0.078429          0.436490   \n",
       "PaymentScreenSuccessful          0.142953          0.212255          0.005677   \n",
       "Tutorial                         0.792094          0.826429          0.644763   \n",
       "\n",
       "                         p_value_abs_A2_B  p_value_rel_A1_A2_B  \\\n",
       "event_name                                                       \n",
       "MainScreenAppear                 0.458705             0.294245   \n",
       "OffersScreenAppear               0.919782             0.530859   \n",
       "CartScreenAppear                 0.578620             0.239060   \n",
       "PaymentScreenSuccessful          0.737342             0.017114   \n",
       "Tutorial                         0.765324             0.912168   \n",
       "\n",
       "                         p_value_abs_A1_A2_B  \n",
       "event_name                                    \n",
       "MainScreenAppear                    0.294245  \n",
       "OffersScreenAppear                  0.434255  \n",
       "CartScreenAppear                    0.181759  \n",
       "PaymentScreenSuccessful             0.600429  \n",
       "Tutorial                            0.764862  "
      ]
     },
     "execution_count": 239,
     "metadata": {},
     "output_type": "execute_result"
    }
   ],
   "source": [
    "test_res = test_res_A1_B.merge(test_res_A2_B, on='event_name', suffixes=['_A1_B','_A2_B'])\n",
    "test_res = test_res.merge(test_res_A1_A2_B.rename(columns={'p_value_rel':'p_value_rel_A1_A2_B','p_value_abs':'p_value_abs_A1_A2_B'}), on='event_name')\n",
    "test_res = test_res.drop('AllUsers')\n",
    "test_res\n"
   ]
  },
  {
   "cell_type": "markdown",
   "id": "c4b46cdf",
   "metadata": {},
   "source": [
    "Теперь развернем таблицу в список и отсортируем гипотезы по возрастанию p-value."
   ]
  },
  {
   "cell_type": "code",
   "execution_count": 240,
   "id": "d5aedcd1",
   "metadata": {},
   "outputs": [
    {
     "data": {
      "text/html": [
       "<div>\n",
       "<style scoped>\n",
       "    .dataframe tbody tr th:only-of-type {\n",
       "        vertical-align: middle;\n",
       "    }\n",
       "\n",
       "    .dataframe tbody tr th {\n",
       "        vertical-align: top;\n",
       "    }\n",
       "\n",
       "    .dataframe thead th {\n",
       "        text-align: right;\n",
       "    }\n",
       "</style>\n",
       "<table border=\"1\" class=\"dataframe\">\n",
       "  <thead>\n",
       "    <tr style=\"text-align: right;\">\n",
       "      <th></th>\n",
       "      <th>index</th>\n",
       "      <th>p-value</th>\n",
       "    </tr>\n",
       "  </thead>\n",
       "  <tbody>\n",
       "    <tr>\n",
       "      <th>0</th>\n",
       "      <td>20</td>\n",
       "      <td>0.005677</td>\n",
       "    </tr>\n",
       "    <tr>\n",
       "      <th>1</th>\n",
       "      <td>22</td>\n",
       "      <td>0.017114</td>\n",
       "    </tr>\n",
       "    <tr>\n",
       "      <th>2</th>\n",
       "      <td>13</td>\n",
       "      <td>0.078429</td>\n",
       "    </tr>\n",
       "    <tr>\n",
       "      <th>3</th>\n",
       "      <td>18</td>\n",
       "      <td>0.142953</td>\n",
       "    </tr>\n",
       "    <tr>\n",
       "      <th>4</th>\n",
       "      <td>17</td>\n",
       "      <td>0.181759</td>\n",
       "    </tr>\n",
       "    <tr>\n",
       "      <th>5</th>\n",
       "      <td>7</td>\n",
       "      <td>0.208362</td>\n",
       "    </tr>\n",
       "    <tr>\n",
       "      <th>6</th>\n",
       "      <td>12</td>\n",
       "      <td>0.211217</td>\n",
       "    </tr>\n",
       "    <tr>\n",
       "      <th>7</th>\n",
       "      <td>19</td>\n",
       "      <td>0.212255</td>\n",
       "    </tr>\n",
       "    <tr>\n",
       "      <th>8</th>\n",
       "      <td>16</td>\n",
       "      <td>0.239060</td>\n",
       "    </tr>\n",
       "    <tr>\n",
       "      <th>9</th>\n",
       "      <td>6</td>\n",
       "      <td>0.268428</td>\n",
       "    </tr>\n",
       "    <tr>\n",
       "      <th>10</th>\n",
       "      <td>4</td>\n",
       "      <td>0.294245</td>\n",
       "    </tr>\n",
       "    <tr>\n",
       "      <th>11</th>\n",
       "      <td>5</td>\n",
       "      <td>0.294245</td>\n",
       "    </tr>\n",
       "    <tr>\n",
       "      <th>12</th>\n",
       "      <td>0</td>\n",
       "      <td>0.294972</td>\n",
       "    </tr>\n",
       "    <tr>\n",
       "      <th>13</th>\n",
       "      <td>1</td>\n",
       "      <td>0.294972</td>\n",
       "    </tr>\n",
       "    <tr>\n",
       "      <th>14</th>\n",
       "      <td>11</td>\n",
       "      <td>0.434255</td>\n",
       "    </tr>\n",
       "    <tr>\n",
       "      <th>15</th>\n",
       "      <td>14</td>\n",
       "      <td>0.436490</td>\n",
       "    </tr>\n",
       "    <tr>\n",
       "      <th>16</th>\n",
       "      <td>3</td>\n",
       "      <td>0.458705</td>\n",
       "    </tr>\n",
       "    <tr>\n",
       "      <th>17</th>\n",
       "      <td>2</td>\n",
       "      <td>0.458705</td>\n",
       "    </tr>\n",
       "    <tr>\n",
       "      <th>18</th>\n",
       "      <td>10</td>\n",
       "      <td>0.530859</td>\n",
       "    </tr>\n",
       "    <tr>\n",
       "      <th>19</th>\n",
       "      <td>15</td>\n",
       "      <td>0.578620</td>\n",
       "    </tr>\n",
       "    <tr>\n",
       "      <th>20</th>\n",
       "      <td>23</td>\n",
       "      <td>0.600429</td>\n",
       "    </tr>\n",
       "    <tr>\n",
       "      <th>21</th>\n",
       "      <td>26</td>\n",
       "      <td>0.644763</td>\n",
       "    </tr>\n",
       "    <tr>\n",
       "      <th>22</th>\n",
       "      <td>21</td>\n",
       "      <td>0.737342</td>\n",
       "    </tr>\n",
       "    <tr>\n",
       "      <th>23</th>\n",
       "      <td>29</td>\n",
       "      <td>0.764862</td>\n",
       "    </tr>\n",
       "    <tr>\n",
       "      <th>24</th>\n",
       "      <td>27</td>\n",
       "      <td>0.765324</td>\n",
       "    </tr>\n",
       "    <tr>\n",
       "      <th>25</th>\n",
       "      <td>24</td>\n",
       "      <td>0.792094</td>\n",
       "    </tr>\n",
       "    <tr>\n",
       "      <th>26</th>\n",
       "      <td>25</td>\n",
       "      <td>0.826429</td>\n",
       "    </tr>\n",
       "    <tr>\n",
       "      <th>27</th>\n",
       "      <td>28</td>\n",
       "      <td>0.912168</td>\n",
       "    </tr>\n",
       "    <tr>\n",
       "      <th>28</th>\n",
       "      <td>9</td>\n",
       "      <td>0.919782</td>\n",
       "    </tr>\n",
       "    <tr>\n",
       "      <th>29</th>\n",
       "      <td>8</td>\n",
       "      <td>0.986937</td>\n",
       "    </tr>\n",
       "  </tbody>\n",
       "</table>\n",
       "</div>"
      ],
      "text/plain": [
       "    index   p-value\n",
       "0      20  0.005677\n",
       "1      22  0.017114\n",
       "2      13  0.078429\n",
       "3      18  0.142953\n",
       "4      17  0.181759\n",
       "5       7  0.208362\n",
       "6      12  0.211217\n",
       "7      19  0.212255\n",
       "8      16  0.239060\n",
       "9       6  0.268428\n",
       "10      4  0.294245\n",
       "11      5  0.294245\n",
       "12      0  0.294972\n",
       "13      1  0.294972\n",
       "14     11  0.434255\n",
       "15     14  0.436490\n",
       "16      3  0.458705\n",
       "17      2  0.458705\n",
       "18     10  0.530859\n",
       "19     15  0.578620\n",
       "20     23  0.600429\n",
       "21     26  0.644763\n",
       "22     21  0.737342\n",
       "23     29  0.764862\n",
       "24     27  0.765324\n",
       "25     24  0.792094\n",
       "26     25  0.826429\n",
       "27     28  0.912168\n",
       "28      9  0.919782\n",
       "29      8  0.986937"
      ]
     },
     "execution_count": 240,
     "metadata": {},
     "output_type": "execute_result"
    }
   ],
   "source": [
    "test_res_ravel = pd.Series(test_res.values.ravel()).sort_values().reset_index(name='p-value')\n",
    "alpha = 0.1\n",
    "\n",
    "test_res_ravel"
   ]
  },
  {
   "cell_type": "markdown",
   "id": "0dbf3ccf",
   "metadata": {},
   "source": [
    "Напишем функцию для расчета `αi` для каждой гипотезы."
   ]
  },
  {
   "cell_type": "code",
   "execution_count": 241,
   "id": "18ae7736",
   "metadata": {},
   "outputs": [],
   "source": [
    "def sidak_holm_alphas(m, alpha):\n",
    "\n",
    "    alphas = pd.Series(index=range(0,m-1))\n",
    "\n",
    "    for i in range(m):\n",
    "        alphas[i] = 1-(1-alpha)**(alpha/(m - i + 1))\n",
    "        \n",
    "    return alphas"
   ]
  },
  {
   "cell_type": "markdown",
   "id": "a14fdab3",
   "metadata": {},
   "source": [
    "Применим функцию, подставив значения кол-ва гипотез и ожидаемого значения статистической значимости.\n",
    "Также добавим столбец `reject`, в который добавим результат сравнения полученной `αi` и `p-value`"
   ]
  },
  {
   "cell_type": "code",
   "execution_count": 242,
   "id": "3eecd128",
   "metadata": {},
   "outputs": [
    {
     "data": {
      "text/html": [
       "<div>\n",
       "<style scoped>\n",
       "    .dataframe tbody tr th:only-of-type {\n",
       "        vertical-align: middle;\n",
       "    }\n",
       "\n",
       "    .dataframe tbody tr th {\n",
       "        vertical-align: top;\n",
       "    }\n",
       "\n",
       "    .dataframe thead th {\n",
       "        text-align: right;\n",
       "    }\n",
       "</style>\n",
       "<table border=\"1\" class=\"dataframe\">\n",
       "  <thead>\n",
       "    <tr style=\"text-align: right;\">\n",
       "      <th></th>\n",
       "      <th>index</th>\n",
       "      <th>p-value</th>\n",
       "      <th>alpha</th>\n",
       "      <th>reject</th>\n",
       "    </tr>\n",
       "  </thead>\n",
       "  <tbody>\n",
       "    <tr>\n",
       "      <th>0</th>\n",
       "      <td>20</td>\n",
       "      <td>0.005677</td>\n",
       "      <td>0.000340</td>\n",
       "      <td>False</td>\n",
       "    </tr>\n",
       "    <tr>\n",
       "      <th>1</th>\n",
       "      <td>22</td>\n",
       "      <td>0.017114</td>\n",
       "      <td>0.000351</td>\n",
       "      <td>False</td>\n",
       "    </tr>\n",
       "    <tr>\n",
       "      <th>2</th>\n",
       "      <td>13</td>\n",
       "      <td>0.078429</td>\n",
       "      <td>0.000363</td>\n",
       "      <td>False</td>\n",
       "    </tr>\n",
       "    <tr>\n",
       "      <th>3</th>\n",
       "      <td>18</td>\n",
       "      <td>0.142953</td>\n",
       "      <td>0.000376</td>\n",
       "      <td>False</td>\n",
       "    </tr>\n",
       "    <tr>\n",
       "      <th>4</th>\n",
       "      <td>17</td>\n",
       "      <td>0.181759</td>\n",
       "      <td>0.000390</td>\n",
       "      <td>False</td>\n",
       "    </tr>\n",
       "    <tr>\n",
       "      <th>5</th>\n",
       "      <td>7</td>\n",
       "      <td>0.208362</td>\n",
       "      <td>0.000405</td>\n",
       "      <td>False</td>\n",
       "    </tr>\n",
       "    <tr>\n",
       "      <th>6</th>\n",
       "      <td>12</td>\n",
       "      <td>0.211217</td>\n",
       "      <td>0.000421</td>\n",
       "      <td>False</td>\n",
       "    </tr>\n",
       "    <tr>\n",
       "      <th>7</th>\n",
       "      <td>19</td>\n",
       "      <td>0.212255</td>\n",
       "      <td>0.000439</td>\n",
       "      <td>False</td>\n",
       "    </tr>\n",
       "    <tr>\n",
       "      <th>8</th>\n",
       "      <td>16</td>\n",
       "      <td>0.239060</td>\n",
       "      <td>0.000458</td>\n",
       "      <td>False</td>\n",
       "    </tr>\n",
       "    <tr>\n",
       "      <th>9</th>\n",
       "      <td>6</td>\n",
       "      <td>0.268428</td>\n",
       "      <td>0.000479</td>\n",
       "      <td>False</td>\n",
       "    </tr>\n",
       "    <tr>\n",
       "      <th>10</th>\n",
       "      <td>4</td>\n",
       "      <td>0.294245</td>\n",
       "      <td>0.000502</td>\n",
       "      <td>False</td>\n",
       "    </tr>\n",
       "    <tr>\n",
       "      <th>11</th>\n",
       "      <td>5</td>\n",
       "      <td>0.294245</td>\n",
       "      <td>0.000527</td>\n",
       "      <td>False</td>\n",
       "    </tr>\n",
       "    <tr>\n",
       "      <th>12</th>\n",
       "      <td>0</td>\n",
       "      <td>0.294972</td>\n",
       "      <td>0.000554</td>\n",
       "      <td>False</td>\n",
       "    </tr>\n",
       "    <tr>\n",
       "      <th>13</th>\n",
       "      <td>1</td>\n",
       "      <td>0.294972</td>\n",
       "      <td>0.000585</td>\n",
       "      <td>False</td>\n",
       "    </tr>\n",
       "    <tr>\n",
       "      <th>14</th>\n",
       "      <td>11</td>\n",
       "      <td>0.434255</td>\n",
       "      <td>0.000620</td>\n",
       "      <td>False</td>\n",
       "    </tr>\n",
       "    <tr>\n",
       "      <th>15</th>\n",
       "      <td>14</td>\n",
       "      <td>0.436490</td>\n",
       "      <td>0.000658</td>\n",
       "      <td>False</td>\n",
       "    </tr>\n",
       "    <tr>\n",
       "      <th>16</th>\n",
       "      <td>3</td>\n",
       "      <td>0.458705</td>\n",
       "      <td>0.000702</td>\n",
       "      <td>False</td>\n",
       "    </tr>\n",
       "    <tr>\n",
       "      <th>17</th>\n",
       "      <td>2</td>\n",
       "      <td>0.458705</td>\n",
       "      <td>0.000752</td>\n",
       "      <td>False</td>\n",
       "    </tr>\n",
       "    <tr>\n",
       "      <th>18</th>\n",
       "      <td>10</td>\n",
       "      <td>0.530859</td>\n",
       "      <td>0.000810</td>\n",
       "      <td>False</td>\n",
       "    </tr>\n",
       "    <tr>\n",
       "      <th>19</th>\n",
       "      <td>15</td>\n",
       "      <td>0.578620</td>\n",
       "      <td>0.000878</td>\n",
       "      <td>False</td>\n",
       "    </tr>\n",
       "    <tr>\n",
       "      <th>20</th>\n",
       "      <td>23</td>\n",
       "      <td>0.600429</td>\n",
       "      <td>0.000957</td>\n",
       "      <td>False</td>\n",
       "    </tr>\n",
       "    <tr>\n",
       "      <th>21</th>\n",
       "      <td>26</td>\n",
       "      <td>0.644763</td>\n",
       "      <td>0.001053</td>\n",
       "      <td>False</td>\n",
       "    </tr>\n",
       "    <tr>\n",
       "      <th>22</th>\n",
       "      <td>21</td>\n",
       "      <td>0.737342</td>\n",
       "      <td>0.001170</td>\n",
       "      <td>False</td>\n",
       "    </tr>\n",
       "    <tr>\n",
       "      <th>23</th>\n",
       "      <td>29</td>\n",
       "      <td>0.764862</td>\n",
       "      <td>0.001316</td>\n",
       "      <td>False</td>\n",
       "    </tr>\n",
       "    <tr>\n",
       "      <th>24</th>\n",
       "      <td>27</td>\n",
       "      <td>0.765324</td>\n",
       "      <td>0.001504</td>\n",
       "      <td>False</td>\n",
       "    </tr>\n",
       "    <tr>\n",
       "      <th>25</th>\n",
       "      <td>24</td>\n",
       "      <td>0.792094</td>\n",
       "      <td>0.001754</td>\n",
       "      <td>False</td>\n",
       "    </tr>\n",
       "    <tr>\n",
       "      <th>26</th>\n",
       "      <td>25</td>\n",
       "      <td>0.826429</td>\n",
       "      <td>0.002105</td>\n",
       "      <td>False</td>\n",
       "    </tr>\n",
       "    <tr>\n",
       "      <th>27</th>\n",
       "      <td>28</td>\n",
       "      <td>0.912168</td>\n",
       "      <td>0.002631</td>\n",
       "      <td>False</td>\n",
       "    </tr>\n",
       "    <tr>\n",
       "      <th>28</th>\n",
       "      <td>9</td>\n",
       "      <td>0.919782</td>\n",
       "      <td>0.003506</td>\n",
       "      <td>False</td>\n",
       "    </tr>\n",
       "    <tr>\n",
       "      <th>29</th>\n",
       "      <td>8</td>\n",
       "      <td>0.986937</td>\n",
       "      <td>0.005254</td>\n",
       "      <td>False</td>\n",
       "    </tr>\n",
       "  </tbody>\n",
       "</table>\n",
       "</div>"
      ],
      "text/plain": [
       "    index   p-value     alpha  reject\n",
       "0      20  0.005677  0.000340   False\n",
       "1      22  0.017114  0.000351   False\n",
       "2      13  0.078429  0.000363   False\n",
       "3      18  0.142953  0.000376   False\n",
       "4      17  0.181759  0.000390   False\n",
       "5       7  0.208362  0.000405   False\n",
       "6      12  0.211217  0.000421   False\n",
       "7      19  0.212255  0.000439   False\n",
       "8      16  0.239060  0.000458   False\n",
       "9       6  0.268428  0.000479   False\n",
       "10      4  0.294245  0.000502   False\n",
       "11      5  0.294245  0.000527   False\n",
       "12      0  0.294972  0.000554   False\n",
       "13      1  0.294972  0.000585   False\n",
       "14     11  0.434255  0.000620   False\n",
       "15     14  0.436490  0.000658   False\n",
       "16      3  0.458705  0.000702   False\n",
       "17      2  0.458705  0.000752   False\n",
       "18     10  0.530859  0.000810   False\n",
       "19     15  0.578620  0.000878   False\n",
       "20     23  0.600429  0.000957   False\n",
       "21     26  0.644763  0.001053   False\n",
       "22     21  0.737342  0.001170   False\n",
       "23     29  0.764862  0.001316   False\n",
       "24     27  0.765324  0.001504   False\n",
       "25     24  0.792094  0.001754   False\n",
       "26     25  0.826429  0.002105   False\n",
       "27     28  0.912168  0.002631   False\n",
       "28      9  0.919782  0.003506   False\n",
       "29      8  0.986937  0.005254   False"
      ]
     },
     "execution_count": 242,
     "metadata": {},
     "output_type": "execute_result"
    }
   ],
   "source": [
    "test_res_ravel['alpha'] = sidak_holm_alphas(m=len(test_res_ravel), alpha=0.1)\n",
    "test_res_ravel['reject'] = test_res_ravel['p-value'] < test_res_ravel['alpha']\n",
    "test_res_ravel"
   ]
  },
  {
   "cell_type": "markdown",
   "id": "73c9cd35",
   "metadata": {},
   "source": [
    "* По результатам проверки гипотез с коррекцией уровня стат. значимости `α`, ни одну гипотезу о равенстве конверсий отвергнуть нельзя. \n",
    "* Это значит, что ожидаемого изменения конверсии вследствие изменения шрифтов обнаружено не было. Пользователи ведут себя так же как и со старыми шрифтами.\n",
    "---"
   ]
  },
  {
   "cell_type": "markdown",
   "id": "15d5738b",
   "metadata": {},
   "source": [
    "<div class=\"alert alert-block alert-success\">\n",
    "    \n",
    "### Комментарий от ревьюера v_2\n",
    "\n",
    "Круто, что рассуждаешь о множественной проверке гипотез, вот здесь отлично разбирается этот момент и в целом рекомендую данный курс\n",
    "    \n",
    "https://stepik.org/lesson/8085/step/3?unit=1364\n",
    "\n",
    "        \n",
    "</div>"
   ]
  },
  {
   "cell_type": "markdown",
   "id": "1e0ccb1a",
   "metadata": {},
   "source": [
    "## Вывод"
   ]
  },
  {
   "cell_type": "markdown",
   "id": "ad0e25bb",
   "metadata": {},
   "source": [
    "В процессе исследовательского анализа данных было определено:\n",
    "* Период проведения исследования - 7 дней (с 25 июля по 7 августа)\n",
    "* Пользовательский путь описывается 5 событиями:\n",
    "    * Tutorial (Прохождение обучения) - необязательное - скорее всего предлагается при старте приложения, но может быть пропущено. Из-за этого только 11% пользователей открыли его\n",
    "    * MainScreenAppear (Появление главного экрана) - Главный эран приложения, видит каждый пользователь при запуске. Доля - 98,5%\n",
    "    * OffersScreenAppear (Появление экрана предложений) - Переход пользователя на экран с товарами. Доля - 61%\n",
    "    * CartScreenAppear (Появление экрана корзины) - Переход пользователя в корзину с товарами. Доля - 49,6%\n",
    "    * PaymentScreenSuccessful (Экран успеха при обработке платежа) - Экран подтверждения покупки. Доля - 47%\n",
    "* Каждый пользователь в среднем за неделю совершает от 20 до 30 событий\n",
    "\n",
    "---\n",
    "* Из построенной воронки событий было определено, что наибольшая потеря пользователей происходит на этапе перехода с главного экрана на экран выбора товаров. Отпадает около 40% пользователей.\n",
    "* При этом, на следующих этапах конверсия остается достаточно высокой. 80% пользователей, открывших экран товаров, добавили товар и перешли в корзину.\n",
    "* 95% пользователей, перешедших в корзину, успешно оплатили заказ.\n",
    "* В сумме, почти 48% пользователей, открывших главный экран приложения, успешно оплатили покупку и приобрели товары.\n",
    "---\n",
    "После исследовательского анализа данных была проведена проверка гипотез о равенстве конверсий между событиями для 3 групп.\n",
    "* Сначала была проверена методика проверки гипотез на двух контрольных группах.\n",
    "Проверка показала отсутствие различий между группами и подтвердила корректность расчетов.\n",
    "* Затем были проверены гипотезы о равенстве конверсий групп A1/B, A2/B, A1+A2/B\n",
    "Из 24 гипотез - 2 были отвергнуты при уровне значимости 0.1, что может быть явлением ложноположительного результата. \n",
    "* Для коррекции результатов проверки множественных гипотез была введена поправка по методу Шидака-Холма\n",
    "* После введения поправки ни одна из 24 гипотез не была отвергнута. Это значит, что ожидаемого изменения конверсии вследствие изменения шрифтов обнаружено не было. Пользователи ведут себя так же как и со старыми шрифтами.\n",
    "---\n",
    ">**Результат теста:**\n",
    ">   **Смена шрифта не повлияла на поведение пользователей. Конверсия событий не изменилась**"
   ]
  },
  {
   "cell_type": "markdown",
   "id": "27c12e89",
   "metadata": {},
   "source": [
    "<div class=\"alert alert-block alert-success\">\n",
    "    \n",
    "\n",
    "### Комментарий от ревьюера v_2\n",
    "Отлично\n",
    "    \n",
    "Отличный структурированный вывод и ответ на основной вопрос задания 👍\n",
    "    \n",
    "Различий между группами не обнаружено\n",
    "    \n",
    "</div>"
   ]
  },
  {
   "cell_type": "code",
   "execution_count": null,
   "id": "b7c16f93",
   "metadata": {},
   "outputs": [],
   "source": []
  }
 ],
 "metadata": {
  "ExecuteTimeLog": [
   {
    "duration": 1343,
    "start_time": "2022-05-16T23:02:44.054Z"
   },
   {
    "duration": 141,
    "start_time": "2022-05-16T23:02:45.399Z"
   },
   {
    "duration": 12,
    "start_time": "2022-05-16T23:02:45.541Z"
   },
   {
    "duration": 20,
    "start_time": "2022-05-16T23:02:45.555Z"
   },
   {
    "duration": 12,
    "start_time": "2022-05-16T23:02:45.589Z"
   },
   {
    "duration": 14,
    "start_time": "2022-05-16T23:02:45.603Z"
   },
   {
    "duration": 8,
    "start_time": "2022-05-16T23:02:45.618Z"
   },
   {
    "duration": 80,
    "start_time": "2022-05-16T23:02:45.627Z"
   },
   {
    "duration": 8,
    "start_time": "2022-05-16T23:02:45.709Z"
   },
   {
    "duration": 88,
    "start_time": "2022-05-16T23:02:45.720Z"
   },
   {
    "duration": 123,
    "start_time": "2022-05-16T23:02:45.810Z"
   },
   {
    "duration": 68,
    "start_time": "2022-05-16T23:02:45.935Z"
   },
   {
    "duration": 15,
    "start_time": "2022-05-16T23:02:46.005Z"
   },
   {
    "duration": 6,
    "start_time": "2022-05-16T23:02:46.021Z"
   },
   {
    "duration": 106,
    "start_time": "2022-05-16T23:02:46.029Z"
   },
   {
    "duration": 858,
    "start_time": "2022-05-16T23:02:46.136Z"
   },
   {
    "duration": 28,
    "start_time": "2022-05-16T23:02:46.995Z"
   },
   {
    "duration": 1177,
    "start_time": "2022-05-16T23:02:47.025Z"
   },
   {
    "duration": 57,
    "start_time": "2022-05-16T23:02:48.204Z"
   },
   {
    "duration": 1070,
    "start_time": "2022-05-16T23:02:48.262Z"
   },
   {
    "duration": 56,
    "start_time": "2022-05-16T23:02:49.334Z"
   },
   {
    "duration": 268,
    "start_time": "2022-05-16T23:02:49.392Z"
   },
   {
    "duration": 0,
    "start_time": "2022-05-16T23:02:49.662Z"
   },
   {
    "duration": 0,
    "start_time": "2022-05-16T23:02:49.663Z"
   },
   {
    "duration": 0,
    "start_time": "2022-05-16T23:02:49.664Z"
   },
   {
    "duration": 0,
    "start_time": "2022-05-16T23:02:49.666Z"
   },
   {
    "duration": 0,
    "start_time": "2022-05-16T23:02:49.667Z"
   },
   {
    "duration": 0,
    "start_time": "2022-05-16T23:02:49.687Z"
   },
   {
    "duration": 0,
    "start_time": "2022-05-16T23:02:49.688Z"
   },
   {
    "duration": 0,
    "start_time": "2022-05-16T23:02:49.690Z"
   },
   {
    "duration": 0,
    "start_time": "2022-05-16T23:02:49.690Z"
   },
   {
    "duration": 0,
    "start_time": "2022-05-16T23:02:49.692Z"
   },
   {
    "duration": 0,
    "start_time": "2022-05-16T23:02:49.692Z"
   },
   {
    "duration": 0,
    "start_time": "2022-05-16T23:02:49.693Z"
   },
   {
    "duration": 0,
    "start_time": "2022-05-16T23:02:49.695Z"
   },
   {
    "duration": 0,
    "start_time": "2022-05-16T23:02:49.696Z"
   },
   {
    "duration": 0,
    "start_time": "2022-05-16T23:02:49.697Z"
   },
   {
    "duration": 0,
    "start_time": "2022-05-16T23:02:49.698Z"
   },
   {
    "duration": 0,
    "start_time": "2022-05-16T23:02:49.699Z"
   },
   {
    "duration": 0,
    "start_time": "2022-05-16T23:02:49.700Z"
   },
   {
    "duration": 0,
    "start_time": "2022-05-16T23:02:49.701Z"
   },
   {
    "duration": 1,
    "start_time": "2022-05-16T23:02:49.701Z"
   },
   {
    "duration": 0,
    "start_time": "2022-05-16T23:02:49.703Z"
   },
   {
    "duration": 0,
    "start_time": "2022-05-16T23:02:49.704Z"
   },
   {
    "duration": 0,
    "start_time": "2022-05-16T23:02:49.705Z"
   },
   {
    "duration": 0,
    "start_time": "2022-05-16T23:02:49.706Z"
   },
   {
    "duration": 0,
    "start_time": "2022-05-16T23:02:49.707Z"
   },
   {
    "duration": 0,
    "start_time": "2022-05-16T23:02:49.709Z"
   },
   {
    "duration": 0,
    "start_time": "2022-05-16T23:02:49.709Z"
   },
   {
    "duration": 162,
    "start_time": "2022-05-16T23:05:16.683Z"
   },
   {
    "duration": 66,
    "start_time": "2022-05-16T23:05:30.491Z"
   },
   {
    "duration": 59,
    "start_time": "2022-05-16T23:05:53.565Z"
   },
   {
    "duration": 146,
    "start_time": "2022-05-16T23:05:53.626Z"
   },
   {
    "duration": 0,
    "start_time": "2022-05-16T23:05:53.775Z"
   },
   {
    "duration": 0,
    "start_time": "2022-05-16T23:05:53.777Z"
   },
   {
    "duration": 0,
    "start_time": "2022-05-16T23:05:53.778Z"
   },
   {
    "duration": 0,
    "start_time": "2022-05-16T23:05:53.788Z"
   },
   {
    "duration": 0,
    "start_time": "2022-05-16T23:05:53.789Z"
   },
   {
    "duration": 0,
    "start_time": "2022-05-16T23:05:53.791Z"
   },
   {
    "duration": 0,
    "start_time": "2022-05-16T23:05:53.792Z"
   },
   {
    "duration": 0,
    "start_time": "2022-05-16T23:05:53.794Z"
   },
   {
    "duration": 0,
    "start_time": "2022-05-16T23:05:53.795Z"
   },
   {
    "duration": 0,
    "start_time": "2022-05-16T23:05:53.797Z"
   },
   {
    "duration": 0,
    "start_time": "2022-05-16T23:05:53.798Z"
   },
   {
    "duration": 0,
    "start_time": "2022-05-16T23:05:53.799Z"
   },
   {
    "duration": 0,
    "start_time": "2022-05-16T23:05:53.801Z"
   },
   {
    "duration": 0,
    "start_time": "2022-05-16T23:05:53.802Z"
   },
   {
    "duration": 0,
    "start_time": "2022-05-16T23:05:53.803Z"
   },
   {
    "duration": 0,
    "start_time": "2022-05-16T23:05:53.805Z"
   },
   {
    "duration": 0,
    "start_time": "2022-05-16T23:05:53.807Z"
   },
   {
    "duration": 0,
    "start_time": "2022-05-16T23:05:53.808Z"
   },
   {
    "duration": 0,
    "start_time": "2022-05-16T23:05:53.809Z"
   },
   {
    "duration": 0,
    "start_time": "2022-05-16T23:05:53.811Z"
   },
   {
    "duration": 0,
    "start_time": "2022-05-16T23:05:53.812Z"
   },
   {
    "duration": 0,
    "start_time": "2022-05-16T23:05:53.813Z"
   },
   {
    "duration": 0,
    "start_time": "2022-05-16T23:05:53.815Z"
   },
   {
    "duration": 0,
    "start_time": "2022-05-16T23:05:53.817Z"
   },
   {
    "duration": 1167,
    "start_time": "2022-05-16T23:06:35.914Z"
   },
   {
    "duration": 143,
    "start_time": "2022-05-16T23:06:37.082Z"
   },
   {
    "duration": 10,
    "start_time": "2022-05-16T23:06:37.227Z"
   },
   {
    "duration": 19,
    "start_time": "2022-05-16T23:06:37.239Z"
   },
   {
    "duration": 29,
    "start_time": "2022-05-16T23:06:37.260Z"
   },
   {
    "duration": 17,
    "start_time": "2022-05-16T23:06:37.291Z"
   },
   {
    "duration": 9,
    "start_time": "2022-05-16T23:06:37.309Z"
   },
   {
    "duration": 77,
    "start_time": "2022-05-16T23:06:37.320Z"
   },
   {
    "duration": 9,
    "start_time": "2022-05-16T23:06:37.399Z"
   },
   {
    "duration": 97,
    "start_time": "2022-05-16T23:06:37.412Z"
   },
   {
    "duration": 130,
    "start_time": "2022-05-16T23:06:37.512Z"
   },
   {
    "duration": 70,
    "start_time": "2022-05-16T23:06:37.644Z"
   },
   {
    "duration": 11,
    "start_time": "2022-05-16T23:06:37.716Z"
   },
   {
    "duration": 11,
    "start_time": "2022-05-16T23:06:37.728Z"
   },
   {
    "duration": 108,
    "start_time": "2022-05-16T23:06:37.740Z"
   },
   {
    "duration": 792,
    "start_time": "2022-05-16T23:06:37.850Z"
   },
   {
    "duration": 47,
    "start_time": "2022-05-16T23:06:38.644Z"
   },
   {
    "duration": 1246,
    "start_time": "2022-05-16T23:06:38.693Z"
   },
   {
    "duration": 60,
    "start_time": "2022-05-16T23:06:39.941Z"
   },
   {
    "duration": 1047,
    "start_time": "2022-05-16T23:06:40.003Z"
   },
   {
    "duration": 58,
    "start_time": "2022-05-16T23:06:41.052Z"
   },
   {
    "duration": 276,
    "start_time": "2022-05-16T23:06:41.112Z"
   },
   {
    "duration": 0,
    "start_time": "2022-05-16T23:06:41.390Z"
   },
   {
    "duration": 0,
    "start_time": "2022-05-16T23:06:41.391Z"
   },
   {
    "duration": 0,
    "start_time": "2022-05-16T23:06:41.393Z"
   },
   {
    "duration": 0,
    "start_time": "2022-05-16T23:06:41.394Z"
   },
   {
    "duration": 0,
    "start_time": "2022-05-16T23:06:41.395Z"
   },
   {
    "duration": 0,
    "start_time": "2022-05-16T23:06:41.396Z"
   },
   {
    "duration": 0,
    "start_time": "2022-05-16T23:06:41.397Z"
   },
   {
    "duration": 0,
    "start_time": "2022-05-16T23:06:41.398Z"
   },
   {
    "duration": 0,
    "start_time": "2022-05-16T23:06:41.399Z"
   },
   {
    "duration": 0,
    "start_time": "2022-05-16T23:06:41.400Z"
   },
   {
    "duration": 0,
    "start_time": "2022-05-16T23:06:41.401Z"
   },
   {
    "duration": 0,
    "start_time": "2022-05-16T23:06:41.402Z"
   },
   {
    "duration": 0,
    "start_time": "2022-05-16T23:06:41.403Z"
   },
   {
    "duration": 0,
    "start_time": "2022-05-16T23:06:41.403Z"
   },
   {
    "duration": 0,
    "start_time": "2022-05-16T23:06:41.404Z"
   },
   {
    "duration": 0,
    "start_time": "2022-05-16T23:06:41.405Z"
   },
   {
    "duration": 0,
    "start_time": "2022-05-16T23:06:41.406Z"
   },
   {
    "duration": 0,
    "start_time": "2022-05-16T23:06:41.407Z"
   },
   {
    "duration": 0,
    "start_time": "2022-05-16T23:06:41.408Z"
   },
   {
    "duration": 0,
    "start_time": "2022-05-16T23:06:41.409Z"
   },
   {
    "duration": 0,
    "start_time": "2022-05-16T23:06:41.410Z"
   },
   {
    "duration": 0,
    "start_time": "2022-05-16T23:06:41.411Z"
   },
   {
    "duration": 0,
    "start_time": "2022-05-16T23:06:41.412Z"
   },
   {
    "duration": 0,
    "start_time": "2022-05-16T23:06:41.413Z"
   },
   {
    "duration": 0,
    "start_time": "2022-05-16T23:06:41.414Z"
   },
   {
    "duration": 0,
    "start_time": "2022-05-16T23:06:41.415Z"
   },
   {
    "duration": 0,
    "start_time": "2022-05-16T23:06:41.416Z"
   },
   {
    "duration": 1353,
    "start_time": "2022-05-17T09:34:28.497Z"
   },
   {
    "duration": 154,
    "start_time": "2022-05-17T09:34:29.852Z"
   },
   {
    "duration": 13,
    "start_time": "2022-05-17T09:34:30.008Z"
   },
   {
    "duration": 38,
    "start_time": "2022-05-17T09:34:30.022Z"
   },
   {
    "duration": 13,
    "start_time": "2022-05-17T09:34:30.063Z"
   },
   {
    "duration": 14,
    "start_time": "2022-05-17T09:34:30.077Z"
   },
   {
    "duration": 17,
    "start_time": "2022-05-17T09:34:30.093Z"
   },
   {
    "duration": 87,
    "start_time": "2022-05-17T09:34:30.112Z"
   },
   {
    "duration": 8,
    "start_time": "2022-05-17T09:34:30.201Z"
   },
   {
    "duration": 89,
    "start_time": "2022-05-17T09:34:30.210Z"
   },
   {
    "duration": 122,
    "start_time": "2022-05-17T09:34:30.301Z"
   },
   {
    "duration": 80,
    "start_time": "2022-05-17T09:34:30.425Z"
   },
   {
    "duration": 18,
    "start_time": "2022-05-17T09:34:30.507Z"
   },
   {
    "duration": 12,
    "start_time": "2022-05-17T09:34:30.529Z"
   },
   {
    "duration": 112,
    "start_time": "2022-05-17T09:34:30.542Z"
   },
   {
    "duration": 798,
    "start_time": "2022-05-17T09:34:30.656Z"
   },
   {
    "duration": 31,
    "start_time": "2022-05-17T09:34:31.455Z"
   },
   {
    "duration": 1596,
    "start_time": "2022-05-17T09:34:31.487Z"
   },
   {
    "duration": 104,
    "start_time": "2022-05-17T09:34:33.085Z"
   },
   {
    "duration": 3060,
    "start_time": "2022-05-17T09:34:33.191Z"
   },
   {
    "duration": 60,
    "start_time": "2022-05-17T09:34:36.253Z"
   },
   {
    "duration": 328,
    "start_time": "2022-05-17T09:34:36.315Z"
   },
   {
    "duration": 0,
    "start_time": "2022-05-17T09:34:36.649Z"
   },
   {
    "duration": 0,
    "start_time": "2022-05-17T09:34:36.650Z"
   },
   {
    "duration": 0,
    "start_time": "2022-05-17T09:34:36.652Z"
   },
   {
    "duration": 0,
    "start_time": "2022-05-17T09:34:36.653Z"
   },
   {
    "duration": 0,
    "start_time": "2022-05-17T09:34:36.654Z"
   },
   {
    "duration": 0,
    "start_time": "2022-05-17T09:34:36.656Z"
   },
   {
    "duration": 0,
    "start_time": "2022-05-17T09:34:36.657Z"
   },
   {
    "duration": 0,
    "start_time": "2022-05-17T09:34:36.658Z"
   },
   {
    "duration": 0,
    "start_time": "2022-05-17T09:34:36.659Z"
   },
   {
    "duration": 0,
    "start_time": "2022-05-17T09:34:36.661Z"
   },
   {
    "duration": 0,
    "start_time": "2022-05-17T09:34:36.662Z"
   },
   {
    "duration": 1,
    "start_time": "2022-05-17T09:34:36.663Z"
   },
   {
    "duration": 0,
    "start_time": "2022-05-17T09:34:36.665Z"
   },
   {
    "duration": 0,
    "start_time": "2022-05-17T09:34:36.666Z"
   },
   {
    "duration": 0,
    "start_time": "2022-05-17T09:34:36.667Z"
   },
   {
    "duration": 0,
    "start_time": "2022-05-17T09:34:36.668Z"
   },
   {
    "duration": 0,
    "start_time": "2022-05-17T09:34:36.670Z"
   },
   {
    "duration": 0,
    "start_time": "2022-05-17T09:34:36.671Z"
   },
   {
    "duration": 0,
    "start_time": "2022-05-17T09:34:36.672Z"
   },
   {
    "duration": 0,
    "start_time": "2022-05-17T09:34:36.674Z"
   },
   {
    "duration": 0,
    "start_time": "2022-05-17T09:34:36.675Z"
   },
   {
    "duration": 0,
    "start_time": "2022-05-17T09:34:36.676Z"
   },
   {
    "duration": 0,
    "start_time": "2022-05-17T09:34:36.677Z"
   },
   {
    "duration": 0,
    "start_time": "2022-05-17T09:34:36.679Z"
   },
   {
    "duration": 0,
    "start_time": "2022-05-17T09:34:36.680Z"
   },
   {
    "duration": 0,
    "start_time": "2022-05-17T09:34:36.682Z"
   },
   {
    "duration": 0,
    "start_time": "2022-05-17T09:34:36.683Z"
   },
   {
    "duration": 7,
    "start_time": "2022-05-17T09:35:38.982Z"
   },
   {
    "duration": 8,
    "start_time": "2022-05-17T09:35:48.025Z"
   },
   {
    "duration": 12,
    "start_time": "2022-05-17T09:36:16.091Z"
   },
   {
    "duration": 15,
    "start_time": "2022-05-17T09:36:42.353Z"
   },
   {
    "duration": 21,
    "start_time": "2022-05-17T09:36:51.060Z"
   },
   {
    "duration": 21,
    "start_time": "2022-05-17T09:37:52.681Z"
   },
   {
    "duration": 386,
    "start_time": "2022-05-17T09:40:36.900Z"
   },
   {
    "duration": 1413,
    "start_time": "2022-05-18T07:23:05.115Z"
   },
   {
    "duration": 506,
    "start_time": "2022-05-18T07:23:06.533Z"
   },
   {
    "duration": 13,
    "start_time": "2022-05-18T07:23:07.041Z"
   },
   {
    "duration": 23,
    "start_time": "2022-05-18T07:23:07.056Z"
   },
   {
    "duration": 13,
    "start_time": "2022-05-18T07:23:07.081Z"
   },
   {
    "duration": 15,
    "start_time": "2022-05-18T07:23:07.096Z"
   },
   {
    "duration": 11,
    "start_time": "2022-05-18T07:23:07.113Z"
   },
   {
    "duration": 87,
    "start_time": "2022-05-18T07:23:07.126Z"
   },
   {
    "duration": 9,
    "start_time": "2022-05-18T07:23:07.216Z"
   },
   {
    "duration": 93,
    "start_time": "2022-05-18T07:23:07.227Z"
   },
   {
    "duration": 146,
    "start_time": "2022-05-18T07:23:07.323Z"
   },
   {
    "duration": 72,
    "start_time": "2022-05-18T07:23:07.472Z"
   },
   {
    "duration": 20,
    "start_time": "2022-05-18T07:23:07.546Z"
   },
   {
    "duration": 21,
    "start_time": "2022-05-18T07:23:07.568Z"
   },
   {
    "duration": 127,
    "start_time": "2022-05-18T07:23:07.591Z"
   },
   {
    "duration": 1020,
    "start_time": "2022-05-18T07:23:07.720Z"
   },
   {
    "duration": 39,
    "start_time": "2022-05-18T07:23:08.742Z"
   },
   {
    "duration": 1277,
    "start_time": "2022-05-18T07:23:08.784Z"
   },
   {
    "duration": 58,
    "start_time": "2022-05-18T07:23:10.065Z"
   },
   {
    "duration": 43,
    "start_time": "2022-05-18T07:23:10.124Z"
   },
   {
    "duration": 1096,
    "start_time": "2022-05-18T07:23:10.169Z"
   },
   {
    "duration": 52,
    "start_time": "2022-05-18T07:23:11.266Z"
   },
   {
    "duration": 363,
    "start_time": "2022-05-18T07:23:11.320Z"
   },
   {
    "duration": 0,
    "start_time": "2022-05-18T07:23:11.685Z"
   },
   {
    "duration": 0,
    "start_time": "2022-05-18T07:23:11.687Z"
   },
   {
    "duration": 0,
    "start_time": "2022-05-18T07:23:11.688Z"
   },
   {
    "duration": 0,
    "start_time": "2022-05-18T07:23:11.689Z"
   },
   {
    "duration": 0,
    "start_time": "2022-05-18T07:23:11.691Z"
   },
   {
    "duration": 0,
    "start_time": "2022-05-18T07:23:11.692Z"
   },
   {
    "duration": 0,
    "start_time": "2022-05-18T07:23:11.693Z"
   },
   {
    "duration": 0,
    "start_time": "2022-05-18T07:23:11.694Z"
   },
   {
    "duration": 0,
    "start_time": "2022-05-18T07:23:11.695Z"
   },
   {
    "duration": 0,
    "start_time": "2022-05-18T07:23:11.696Z"
   },
   {
    "duration": 0,
    "start_time": "2022-05-18T07:23:11.698Z"
   },
   {
    "duration": 0,
    "start_time": "2022-05-18T07:23:11.699Z"
   },
   {
    "duration": 0,
    "start_time": "2022-05-18T07:23:11.700Z"
   },
   {
    "duration": 0,
    "start_time": "2022-05-18T07:23:11.702Z"
   },
   {
    "duration": 0,
    "start_time": "2022-05-18T07:23:11.702Z"
   },
   {
    "duration": 0,
    "start_time": "2022-05-18T07:23:11.704Z"
   },
   {
    "duration": 0,
    "start_time": "2022-05-18T07:23:11.705Z"
   },
   {
    "duration": 0,
    "start_time": "2022-05-18T07:23:11.706Z"
   },
   {
    "duration": 0,
    "start_time": "2022-05-18T07:23:11.707Z"
   },
   {
    "duration": 0,
    "start_time": "2022-05-18T07:23:11.708Z"
   },
   {
    "duration": 0,
    "start_time": "2022-05-18T07:23:11.709Z"
   },
   {
    "duration": 0,
    "start_time": "2022-05-18T07:23:11.711Z"
   },
   {
    "duration": 0,
    "start_time": "2022-05-18T07:23:11.712Z"
   },
   {
    "duration": 0,
    "start_time": "2022-05-18T07:23:11.713Z"
   },
   {
    "duration": 0,
    "start_time": "2022-05-18T07:23:11.714Z"
   },
   {
    "duration": 0,
    "start_time": "2022-05-18T07:23:11.764Z"
   },
   {
    "duration": 0,
    "start_time": "2022-05-18T07:23:11.766Z"
   },
   {
    "duration": 6009,
    "start_time": "2022-05-18T07:27:45.448Z"
   },
   {
    "duration": 206,
    "start_time": "2022-05-18T07:28:10.643Z"
   },
   {
    "duration": 4132,
    "start_time": "2022-05-18T07:28:22.444Z"
   },
   {
    "duration": 205,
    "start_time": "2022-05-18T07:28:30.791Z"
   },
   {
    "duration": 1573,
    "start_time": "2022-05-18T07:28:44.650Z"
   },
   {
    "duration": 155,
    "start_time": "2022-05-18T07:28:46.226Z"
   },
   {
    "duration": 15,
    "start_time": "2022-05-18T07:28:46.383Z"
   },
   {
    "duration": 93,
    "start_time": "2022-05-18T07:28:46.400Z"
   },
   {
    "duration": 19,
    "start_time": "2022-05-18T07:28:46.496Z"
   },
   {
    "duration": 16,
    "start_time": "2022-05-18T07:28:46.517Z"
   },
   {
    "duration": 20,
    "start_time": "2022-05-18T07:28:46.535Z"
   },
   {
    "duration": 75,
    "start_time": "2022-05-18T07:28:46.556Z"
   },
   {
    "duration": 11,
    "start_time": "2022-05-18T07:28:46.633Z"
   },
   {
    "duration": 86,
    "start_time": "2022-05-18T07:28:46.648Z"
   },
   {
    "duration": 139,
    "start_time": "2022-05-18T07:28:46.736Z"
   },
   {
    "duration": 75,
    "start_time": "2022-05-18T07:28:46.877Z"
   },
   {
    "duration": 31,
    "start_time": "2022-05-18T07:28:46.954Z"
   },
   {
    "duration": 16,
    "start_time": "2022-05-18T07:28:46.987Z"
   },
   {
    "duration": 131,
    "start_time": "2022-05-18T07:28:47.005Z"
   },
   {
    "duration": 1174,
    "start_time": "2022-05-18T07:28:47.138Z"
   },
   {
    "duration": 31,
    "start_time": "2022-05-18T07:28:48.314Z"
   },
   {
    "duration": 1637,
    "start_time": "2022-05-18T07:28:48.347Z"
   },
   {
    "duration": 59,
    "start_time": "2022-05-18T07:28:49.986Z"
   },
   {
    "duration": 26,
    "start_time": "2022-05-18T07:28:50.065Z"
   },
   {
    "duration": 1297,
    "start_time": "2022-05-18T07:28:50.093Z"
   },
   {
    "duration": 51,
    "start_time": "2022-05-18T07:28:51.392Z"
   },
   {
    "duration": 368,
    "start_time": "2022-05-18T07:28:51.445Z"
   },
   {
    "duration": 339,
    "start_time": "2022-05-18T07:28:51.815Z"
   },
   {
    "duration": 71,
    "start_time": "2022-05-18T07:28:52.156Z"
   },
   {
    "duration": 348,
    "start_time": "2022-05-18T07:28:52.229Z"
   },
   {
    "duration": 6,
    "start_time": "2022-05-18T07:28:52.579Z"
   },
   {
    "duration": 83,
    "start_time": "2022-05-18T07:28:52.589Z"
   },
   {
    "duration": 212,
    "start_time": "2022-05-18T07:28:52.674Z"
   },
   {
    "duration": 443,
    "start_time": "2022-05-18T07:28:52.889Z"
   },
   {
    "duration": 51,
    "start_time": "2022-05-18T07:28:53.334Z"
   },
   {
    "duration": 41,
    "start_time": "2022-05-18T07:28:53.387Z"
   },
   {
    "duration": 85,
    "start_time": "2022-05-18T07:28:53.430Z"
   },
   {
    "duration": 49,
    "start_time": "2022-05-18T07:28:53.517Z"
   },
   {
    "duration": 14,
    "start_time": "2022-05-18T07:28:53.568Z"
   },
   {
    "duration": 8,
    "start_time": "2022-05-18T07:28:53.584Z"
   },
   {
    "duration": 30,
    "start_time": "2022-05-18T07:28:53.595Z"
   },
   {
    "duration": 13,
    "start_time": "2022-05-18T07:28:53.627Z"
   },
   {
    "duration": 325,
    "start_time": "2022-05-18T07:28:53.641Z"
   },
   {
    "duration": 19,
    "start_time": "2022-05-18T07:28:53.968Z"
   },
   {
    "duration": 292,
    "start_time": "2022-05-18T07:28:53.989Z"
   },
   {
    "duration": 19,
    "start_time": "2022-05-18T07:28:54.282Z"
   },
   {
    "duration": 305,
    "start_time": "2022-05-18T07:28:54.303Z"
   },
   {
    "duration": 4,
    "start_time": "2022-05-18T07:28:54.610Z"
   },
   {
    "duration": 27,
    "start_time": "2022-05-18T07:28:54.616Z"
   },
   {
    "duration": 322,
    "start_time": "2022-05-18T07:28:54.645Z"
   },
   {
    "duration": 19,
    "start_time": "2022-05-18T07:28:54.968Z"
   },
   {
    "duration": 12,
    "start_time": "2022-05-18T07:28:54.988Z"
   },
   {
    "duration": 6,
    "start_time": "2022-05-18T07:28:55.002Z"
   },
   {
    "duration": 139,
    "start_time": "2022-05-18T07:28:55.010Z"
   },
   {
    "duration": 8,
    "start_time": "2022-05-18T07:36:10.240Z"
   }
  ],
  "interpreter": {
   "hash": "ced987a247890006fadb174404bf884c2606133e9ca5a8bdda00b49ca7b4dc36"
  },
  "kernelspec": {
   "display_name": "Python 3",
   "language": "python",
   "name": "python3"
  },
  "language_info": {
   "codemirror_mode": {
    "name": "ipython",
    "version": 3
   },
   "file_extension": ".py",
   "mimetype": "text/x-python",
   "name": "python",
   "nbconvert_exporter": "python",
   "pygments_lexer": "ipython3",
   "version": "3.8.8"
  },
  "toc": {
   "base_numbering": 1,
   "nav_menu": {},
   "number_sections": false,
   "sideBar": true,
   "skip_h1_title": false,
   "title_cell": "Содержание",
   "title_sidebar": "Содержание",
   "toc_cell": true,
   "toc_position": {
    "height": "calc(100% - 180px)",
    "left": "10px",
    "top": "150px",
    "width": "348.395px"
   },
   "toc_section_display": true,
   "toc_window_display": true
  }
 },
 "nbformat": 4,
 "nbformat_minor": 5
}
